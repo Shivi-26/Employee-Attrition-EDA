{
 "cells": [
  {
   "cell_type": "code",
   "execution_count": 220,
   "id": "2611a1ea-01da-4cd9-a2cd-cbec2fd93af4",
   "metadata": {},
   "outputs": [],
   "source": [
    "import pandas as pd"
   ]
  },
  {
   "cell_type": "code",
   "execution_count": 221,
   "id": "5a145be1-29ec-48ff-915e-adb715663689",
   "metadata": {},
   "outputs": [],
   "source": [
    "emp_attrition=pd.read_csv(r\"C:\\Users\\Hp\\Desktop\\employee_attrition_data.csv\", header=0, sep=\",\")"
   ]
  },
  {
   "cell_type": "code",
   "execution_count": 222,
   "id": "81ed3008-b035-4791-b70b-0d25ec4e4d7d",
   "metadata": {},
   "outputs": [
    {
     "data": {
      "text/html": [
       "<div>\n",
       "<style scoped>\n",
       "    .dataframe tbody tr th:only-of-type {\n",
       "        vertical-align: middle;\n",
       "    }\n",
       "\n",
       "    .dataframe tbody tr th {\n",
       "        vertical-align: top;\n",
       "    }\n",
       "\n",
       "    .dataframe thead th {\n",
       "        text-align: right;\n",
       "    }\n",
       "</style>\n",
       "<table border=\"1\" class=\"dataframe\">\n",
       "  <thead>\n",
       "    <tr style=\"text-align: right;\">\n",
       "      <th></th>\n",
       "      <th>Employee_ID</th>\n",
       "      <th>Age</th>\n",
       "      <th>Gender</th>\n",
       "      <th>Department</th>\n",
       "      <th>Job_Title</th>\n",
       "      <th>Years_at_Company</th>\n",
       "      <th>Satisfaction_Level</th>\n",
       "      <th>Average_Monthly_Hours</th>\n",
       "      <th>Promotion_Last_5Years</th>\n",
       "      <th>Salary</th>\n",
       "      <th>Attrition</th>\n",
       "    </tr>\n",
       "  </thead>\n",
       "  <tbody>\n",
       "    <tr>\n",
       "      <th>0</th>\n",
       "      <td>0</td>\n",
       "      <td>27</td>\n",
       "      <td>Male</td>\n",
       "      <td>Marketing</td>\n",
       "      <td>Manager</td>\n",
       "      <td>9</td>\n",
       "      <td>0.586251</td>\n",
       "      <td>151</td>\n",
       "      <td>0</td>\n",
       "      <td>60132</td>\n",
       "      <td>0</td>\n",
       "    </tr>\n",
       "    <tr>\n",
       "      <th>1</th>\n",
       "      <td>1</td>\n",
       "      <td>53</td>\n",
       "      <td>Female</td>\n",
       "      <td>Sales</td>\n",
       "      <td>Engineer</td>\n",
       "      <td>10</td>\n",
       "      <td>0.261161</td>\n",
       "      <td>221</td>\n",
       "      <td>1</td>\n",
       "      <td>79947</td>\n",
       "      <td>0</td>\n",
       "    </tr>\n",
       "    <tr>\n",
       "      <th>2</th>\n",
       "      <td>2</td>\n",
       "      <td>59</td>\n",
       "      <td>Female</td>\n",
       "      <td>Marketing</td>\n",
       "      <td>Analyst</td>\n",
       "      <td>8</td>\n",
       "      <td>0.304382</td>\n",
       "      <td>184</td>\n",
       "      <td>0</td>\n",
       "      <td>46958</td>\n",
       "      <td>1</td>\n",
       "    </tr>\n",
       "    <tr>\n",
       "      <th>3</th>\n",
       "      <td>3</td>\n",
       "      <td>42</td>\n",
       "      <td>Female</td>\n",
       "      <td>Engineering</td>\n",
       "      <td>Manager</td>\n",
       "      <td>1</td>\n",
       "      <td>0.480779</td>\n",
       "      <td>242</td>\n",
       "      <td>0</td>\n",
       "      <td>40662</td>\n",
       "      <td>0</td>\n",
       "    </tr>\n",
       "    <tr>\n",
       "      <th>4</th>\n",
       "      <td>4</td>\n",
       "      <td>44</td>\n",
       "      <td>Female</td>\n",
       "      <td>Sales</td>\n",
       "      <td>Engineer</td>\n",
       "      <td>10</td>\n",
       "      <td>0.636244</td>\n",
       "      <td>229</td>\n",
       "      <td>1</td>\n",
       "      <td>74307</td>\n",
       "      <td>0</td>\n",
       "    </tr>\n",
       "  </tbody>\n",
       "</table>\n",
       "</div>"
      ],
      "text/plain": [
       "   Employee_ID  Age  Gender   Department Job_Title  Years_at_Company  \\\n",
       "0            0   27    Male    Marketing   Manager                 9   \n",
       "1            1   53  Female        Sales  Engineer                10   \n",
       "2            2   59  Female    Marketing   Analyst                 8   \n",
       "3            3   42  Female  Engineering   Manager                 1   \n",
       "4            4   44  Female        Sales  Engineer                10   \n",
       "\n",
       "   Satisfaction_Level  Average_Monthly_Hours  Promotion_Last_5Years  Salary  \\\n",
       "0            0.586251                    151                      0   60132   \n",
       "1            0.261161                    221                      1   79947   \n",
       "2            0.304382                    184                      0   46958   \n",
       "3            0.480779                    242                      0   40662   \n",
       "4            0.636244                    229                      1   74307   \n",
       "\n",
       "   Attrition  \n",
       "0          0  \n",
       "1          0  \n",
       "2          1  \n",
       "3          0  \n",
       "4          0  "
      ]
     },
     "execution_count": 222,
     "metadata": {},
     "output_type": "execute_result"
    }
   ],
   "source": [
    "emp_attrition.head()"
   ]
  },
  {
   "cell_type": "code",
   "execution_count": 223,
   "id": "75f83804-a769-4601-8172-40805fbbc7b0",
   "metadata": {},
   "outputs": [
    {
     "name": "stdout",
     "output_type": "stream",
     "text": [
      "<class 'pandas.core.frame.DataFrame'>\n",
      "RangeIndex: 1000 entries, 0 to 999\n",
      "Data columns (total 11 columns):\n",
      " #   Column                 Non-Null Count  Dtype  \n",
      "---  ------                 --------------  -----  \n",
      " 0   Employee_ID            1000 non-null   int64  \n",
      " 1   Age                    1000 non-null   int64  \n",
      " 2   Gender                 1000 non-null   object \n",
      " 3   Department             1000 non-null   object \n",
      " 4   Job_Title              1000 non-null   object \n",
      " 5   Years_at_Company       1000 non-null   int64  \n",
      " 6   Satisfaction_Level     1000 non-null   float64\n",
      " 7   Average_Monthly_Hours  1000 non-null   int64  \n",
      " 8   Promotion_Last_5Years  1000 non-null   int64  \n",
      " 9   Salary                 1000 non-null   int64  \n",
      " 10  Attrition              1000 non-null   int64  \n",
      "dtypes: float64(1), int64(7), object(3)\n",
      "memory usage: 86.1+ KB\n"
     ]
    }
   ],
   "source": [
    "emp_attrition.info()"
   ]
  },
  {
   "cell_type": "code",
   "execution_count": 224,
   "id": "f9ee0ca9-ae13-49f5-89d7-0fc213e405d4",
   "metadata": {},
   "outputs": [
    {
     "data": {
      "text/plain": [
       "Index(['Employee_ID', 'Age', 'Gender', 'Department', 'Job_Title',\n",
       "       'Years_at_Company', 'Satisfaction_Level', 'Average_Monthly_Hours',\n",
       "       'Promotion_Last_5Years', 'Salary', 'Attrition'],\n",
       "      dtype='object')"
      ]
     },
     "execution_count": 224,
     "metadata": {},
     "output_type": "execute_result"
    }
   ],
   "source": [
    "emp_attrition.columns"
   ]
  },
  {
   "cell_type": "markdown",
   "id": "d20e5b31-6510-40c1-9847-53e872e126e8",
   "metadata": {},
   "source": [
    "# What all thigs I will do here \n",
    " 1. Missing null values\n",
    " 2. Explore about numerical and categorical features\n",
    " 3. finding Relationship b/w features"
   ]
  },
  {
   "cell_type": "code",
   "execution_count": 225,
   "id": "e2059c76-5988-4381-8e6d-6713e47bfdbb",
   "metadata": {},
   "outputs": [
    {
     "data": {
      "text/plain": [
       "Employee_ID              0\n",
       "Age                      0\n",
       "Gender                   0\n",
       "Department               0\n",
       "Job_Title                0\n",
       "Years_at_Company         0\n",
       "Satisfaction_Level       0\n",
       "Average_Monthly_Hours    0\n",
       "Promotion_Last_5Years    0\n",
       "Salary                   0\n",
       "Attrition                0\n",
       "dtype: int64"
      ]
     },
     "execution_count": 225,
     "metadata": {},
     "output_type": "execute_result"
    }
   ],
   "source": [
    "emp_attrition.isnull().sum()"
   ]
  },
  {
   "cell_type": "code",
   "execution_count": 249,
   "id": "2f6ade44-fca0-4b18-8343-bde064c92426",
   "metadata": {},
   "outputs": [
    {
     "name": "stdout",
     "output_type": "stream",
     "text": [
      "0\n"
     ]
    }
   ],
   "source": [
    "print(emp_attrition.duplicated().sum())"
   ]
  },
  {
   "cell_type": "code",
   "execution_count": 226,
   "id": "83e30701-9d3b-4da2-afa3-5a9cac4b9927",
   "metadata": {},
   "outputs": [
    {
     "data": {
      "text/plain": [
       "[]"
      ]
     },
     "execution_count": 226,
     "metadata": {},
     "output_type": "execute_result"
    }
   ],
   "source": [
    "#No need of this method\n",
    "[features for features in emp_attrition.columns if emp_attrition[features].isnull().sum()>0]"
   ]
  },
  {
   "cell_type": "code",
   "execution_count": 227,
   "id": "c4a6ccfa-3ef3-4bd2-8bf9-714d719f4d61",
   "metadata": {},
   "outputs": [
    {
     "data": {
      "text/plain": [
       "Employee_ID                int64\n",
       "Age                        int64\n",
       "Gender                    object\n",
       "Department                object\n",
       "Job_Title                 object\n",
       "Years_at_Company           int64\n",
       "Satisfaction_Level       float64\n",
       "Average_Monthly_Hours      int64\n",
       "Promotion_Last_5Years      int64\n",
       "Salary                     int64\n",
       "Attrition                  int64\n",
       "dtype: object"
      ]
     },
     "execution_count": 227,
     "metadata": {},
     "output_type": "execute_result"
    }
   ],
   "source": [
    "#By this we can know numerical and categorical features , int64 and float64 are numerical features and object will be categorical features \n",
    "emp_attrition.dtypes  "
   ]
  },
  {
   "cell_type": "code",
   "execution_count": 251,
   "id": "b2033b38-8ca0-42be-8d0b-8b474a978994",
   "metadata": {},
   "outputs": [
    {
     "data": {
      "text/html": [
       "<div>\n",
       "<style scoped>\n",
       "    .dataframe tbody tr th:only-of-type {\n",
       "        vertical-align: middle;\n",
       "    }\n",
       "\n",
       "    .dataframe tbody tr th {\n",
       "        vertical-align: top;\n",
       "    }\n",
       "\n",
       "    .dataframe thead th {\n",
       "        text-align: right;\n",
       "    }\n",
       "</style>\n",
       "<table border=\"1\" class=\"dataframe\">\n",
       "  <thead>\n",
       "    <tr style=\"text-align: right;\">\n",
       "      <th></th>\n",
       "      <th>Employee_ID</th>\n",
       "      <th>Age</th>\n",
       "      <th>Years_at_Company</th>\n",
       "      <th>Satisfaction_Level</th>\n",
       "      <th>Average_Monthly_Hours</th>\n",
       "      <th>Promotion_Last_5Years</th>\n",
       "      <th>Salary</th>\n",
       "      <th>Attrition</th>\n",
       "    </tr>\n",
       "  </thead>\n",
       "  <tbody>\n",
       "    <tr>\n",
       "      <th>count</th>\n",
       "      <td>1000.000000</td>\n",
       "      <td>1000.000000</td>\n",
       "      <td>1000.000000</td>\n",
       "      <td>1000.000000</td>\n",
       "      <td>1000.000000</td>\n",
       "      <td>1000.000000</td>\n",
       "      <td>1000.000000</td>\n",
       "      <td>1000.000000</td>\n",
       "    </tr>\n",
       "    <tr>\n",
       "      <th>mean</th>\n",
       "      <td>499.500000</td>\n",
       "      <td>42.205000</td>\n",
       "      <td>5.605000</td>\n",
       "      <td>0.505995</td>\n",
       "      <td>199.493000</td>\n",
       "      <td>0.486000</td>\n",
       "      <td>64624.980000</td>\n",
       "      <td>0.495000</td>\n",
       "    </tr>\n",
       "    <tr>\n",
       "      <th>std</th>\n",
       "      <td>288.819436</td>\n",
       "      <td>10.016452</td>\n",
       "      <td>2.822223</td>\n",
       "      <td>0.289797</td>\n",
       "      <td>29.631908</td>\n",
       "      <td>0.500054</td>\n",
       "      <td>20262.984333</td>\n",
       "      <td>0.500225</td>\n",
       "    </tr>\n",
       "    <tr>\n",
       "      <th>min</th>\n",
       "      <td>0.000000</td>\n",
       "      <td>25.000000</td>\n",
       "      <td>1.000000</td>\n",
       "      <td>0.001376</td>\n",
       "      <td>150.000000</td>\n",
       "      <td>0.000000</td>\n",
       "      <td>30099.000000</td>\n",
       "      <td>0.000000</td>\n",
       "    </tr>\n",
       "    <tr>\n",
       "      <th>25%</th>\n",
       "      <td>249.750000</td>\n",
       "      <td>33.000000</td>\n",
       "      <td>3.000000</td>\n",
       "      <td>0.258866</td>\n",
       "      <td>173.000000</td>\n",
       "      <td>0.000000</td>\n",
       "      <td>47613.500000</td>\n",
       "      <td>0.000000</td>\n",
       "    </tr>\n",
       "    <tr>\n",
       "      <th>50%</th>\n",
       "      <td>499.500000</td>\n",
       "      <td>43.000000</td>\n",
       "      <td>6.000000</td>\n",
       "      <td>0.505675</td>\n",
       "      <td>201.000000</td>\n",
       "      <td>0.000000</td>\n",
       "      <td>64525.000000</td>\n",
       "      <td>0.000000</td>\n",
       "    </tr>\n",
       "    <tr>\n",
       "      <th>75%</th>\n",
       "      <td>749.250000</td>\n",
       "      <td>51.000000</td>\n",
       "      <td>8.000000</td>\n",
       "      <td>0.761135</td>\n",
       "      <td>225.000000</td>\n",
       "      <td>1.000000</td>\n",
       "      <td>81921.000000</td>\n",
       "      <td>1.000000</td>\n",
       "    </tr>\n",
       "    <tr>\n",
       "      <th>max</th>\n",
       "      <td>999.000000</td>\n",
       "      <td>59.000000</td>\n",
       "      <td>10.000000</td>\n",
       "      <td>0.999979</td>\n",
       "      <td>249.000000</td>\n",
       "      <td>1.000000</td>\n",
       "      <td>99991.000000</td>\n",
       "      <td>1.000000</td>\n",
       "    </tr>\n",
       "  </tbody>\n",
       "</table>\n",
       "</div>"
      ],
      "text/plain": [
       "       Employee_ID          Age  Years_at_Company  Satisfaction_Level  \\\n",
       "count  1000.000000  1000.000000       1000.000000         1000.000000   \n",
       "mean    499.500000    42.205000          5.605000            0.505995   \n",
       "std     288.819436    10.016452          2.822223            0.289797   \n",
       "min       0.000000    25.000000          1.000000            0.001376   \n",
       "25%     249.750000    33.000000          3.000000            0.258866   \n",
       "50%     499.500000    43.000000          6.000000            0.505675   \n",
       "75%     749.250000    51.000000          8.000000            0.761135   \n",
       "max     999.000000    59.000000         10.000000            0.999979   \n",
       "\n",
       "       Average_Monthly_Hours  Promotion_Last_5Years        Salary    Attrition  \n",
       "count            1000.000000            1000.000000   1000.000000  1000.000000  \n",
       "mean              199.493000               0.486000  64624.980000     0.495000  \n",
       "std                29.631908               0.500054  20262.984333     0.500225  \n",
       "min               150.000000               0.000000  30099.000000     0.000000  \n",
       "25%               173.000000               0.000000  47613.500000     0.000000  \n",
       "50%               201.000000               0.000000  64525.000000     0.000000  \n",
       "75%               225.000000               1.000000  81921.000000     1.000000  \n",
       "max               249.000000               1.000000  99991.000000     1.000000  "
      ]
     },
     "execution_count": 251,
     "metadata": {},
     "output_type": "execute_result"
    }
   ],
   "source": [
    "emp_attrition.describe()"
   ]
  },
  {
   "cell_type": "markdown",
   "id": "6f1e5d7d-3b58-48a0-a7ae-e66bd4e0aa92",
   "metadata": {},
   "source": [
    "#Promotion_Last_5Years & Attrition: Range: 0 to 1 (binary variable)"
   ]
  },
  {
   "cell_type": "code",
   "execution_count": 228,
   "id": "ee0b8369-ff7b-436c-84c1-c6a2bbebccc9",
   "metadata": {},
   "outputs": [
    {
     "name": "stdout",
     "output_type": "stream",
     "text": [
      "Numerical Features: ['Employee_ID', 'Age', 'Years_at_Company', 'Satisfaction_Level', 'Average_Monthly_Hours', 'Promotion_Last_5Years', 'Salary', 'Attrition']\n",
      "Categorical Features: ['Gender', 'Department', 'Job_Title']\n"
     ]
    }
   ],
   "source": [
    "#By this also we can find numerical and categorical features\n",
    "numerical_features=emp_attrition.select_dtypes(include=['int64','float64']).columns.tolist()\n",
    "categorical_features=emp_attrition.select_dtypes(include=['object']).columns.tolist()\n",
    "print(\"Numerical Features:\", numerical_features)\n",
    "print(\"Categorical Features:\", categorical_features)"
   ]
  },
  {
   "cell_type": "markdown",
   "id": "5414b389-29d4-44f9-96cd-49fd9d0f9c08",
   "metadata": {},
   "source": [
    "#Analyzing the Distribution of Numerical Variables"
   ]
  },
  {
   "cell_type": "code",
   "execution_count": 230,
   "id": "d780ed3b-337e-480a-a33b-eadf8011893e",
   "metadata": {},
   "outputs": [
    {
     "name": "stdout",
     "output_type": "stream",
     "text": [
      "       Employee_ID          Age  Years_at_Company  Satisfaction_Level  \\\n",
      "count  1000.000000  1000.000000       1000.000000         1000.000000   \n",
      "mean    499.500000    42.205000          5.605000            0.505995   \n",
      "std     288.819436    10.016452          2.822223            0.289797   \n",
      "min       0.000000    25.000000          1.000000            0.001376   \n",
      "25%     249.750000    33.000000          3.000000            0.258866   \n",
      "50%     499.500000    43.000000          6.000000            0.505675   \n",
      "75%     749.250000    51.000000          8.000000            0.761135   \n",
      "max     999.000000    59.000000         10.000000            0.999979   \n",
      "\n",
      "       Average_Monthly_Hours  Promotion_Last_5Years        Salary    Attrition  \n",
      "count            1000.000000            1000.000000   1000.000000  1000.000000  \n",
      "mean              199.493000               0.486000  64624.980000     0.495000  \n",
      "std                29.631908               0.500054  20262.984333     0.500225  \n",
      "min               150.000000               0.000000  30099.000000     0.000000  \n",
      "25%               173.000000               0.000000  47613.500000     0.000000  \n",
      "50%               201.000000               0.000000  64525.000000     0.000000  \n",
      "75%               225.000000               1.000000  81921.000000     1.000000  \n",
      "max               249.000000               1.000000  99991.000000     1.000000  \n"
     ]
    }
   ],
   "source": [
    "print(emp_attrition[numerical_features].describe())"
   ]
  },
  {
   "cell_type": "code",
   "execution_count": 253,
   "id": "ae53d410-6f13-41d8-b0b6-880fb02c6013",
   "metadata": {},
   "outputs": [
    {
     "data": {
      "application/vnd.plotly.v1+json": {
       "config": {
        "plotlyServerURL": "https://plot.ly"
       },
       "data": [
        {
         "coloraxis": "coloraxis",
         "hovertemplate": "x: %{x}<br>y: %{y}<br>color: %{z}<extra></extra>",
         "name": "0",
         "texttemplate": "%{z}",
         "type": "heatmap",
         "x": [
          "Employee_ID",
          "Age",
          "Years_at_Company",
          "Satisfaction_Level",
          "Average_Monthly_Hours",
          "Promotion_Last_5Years",
          "Salary",
          "Attrition"
         ],
         "xaxis": "x",
         "y": [
          "Employee_ID",
          "Age",
          "Years_at_Company",
          "Satisfaction_Level",
          "Average_Monthly_Hours",
          "Promotion_Last_5Years",
          "Salary",
          "Attrition"
         ],
         "yaxis": "y",
         "z": [
          [
           1,
           0.013710994319276115,
           -0.0013748044883247473,
           -0.004467640421038844,
           0.031244031851462663,
           -0.038501283649761055,
           -0.010353047874813344,
           0.00221367272525785
          ],
          [
           0.013710994319276115,
           1,
           0.018837383609089785,
           0.021263493684238,
           -0.03130441503753087,
           0.03944434988354042,
           -0.0186816601436519,
           -0.008685496660321134
          ],
          [
           -0.0013748044883247473,
           0.018837383609089785,
           1,
           -0.03246956957471465,
           -0.06072551174287308,
           -0.010660689384024048,
           0.03605279929845627,
           0.00320845755423907
          ],
          [
           -0.004467640421038844,
           0.021263493684238,
           -0.03246956957471465,
           1,
           -0.008913467556127331,
           0.00292650068056266,
           -0.027072742127327583,
           -0.009600875735368313
          ],
          [
           0.031244031851462663,
           -0.03130441503753087,
           -0.06072551174287308,
           -0.008913467556127331,
           1,
           -0.03131839458922183,
           -0.054562120397224745,
           -0.023706080974690333
          ],
          [
           -0.038501283649761055,
           0.03944434988354042,
           -0.010660689384024048,
           0.00292650068056266,
           -0.03131839458922183,
           1,
           0.017260409967074203,
           0.017727836741057358
          ],
          [
           -0.010353047874813344,
           -0.0186816601436519,
           0.03605279929845627,
           -0.027072742127327583,
           -0.054562120397224745,
           0.017260409967074203,
           1,
           -0.03781830635186605
          ],
          [
           0.00221367272525785,
           -0.008685496660321134,
           0.00320845755423907,
           -0.009600875735368313,
           -0.023706080974690333,
           0.017727836741057358,
           -0.03781830635186605,
           1
          ]
         ]
        }
       ],
       "layout": {
        "autosize": true,
        "coloraxis": {
         "colorscale": [
          [
           0,
           "rgb(5,48,97)"
          ],
          [
           0.1,
           "rgb(33,102,172)"
          ],
          [
           0.2,
           "rgb(67,147,195)"
          ],
          [
           0.3,
           "rgb(146,197,222)"
          ],
          [
           0.4,
           "rgb(209,229,240)"
          ],
          [
           0.5,
           "rgb(247,247,247)"
          ],
          [
           0.6,
           "rgb(253,219,199)"
          ],
          [
           0.7,
           "rgb(244,165,130)"
          ],
          [
           0.8,
           "rgb(214,96,77)"
          ],
          [
           0.9,
           "rgb(178,24,43)"
          ],
          [
           1,
           "rgb(103,0,31)"
          ]
         ]
        },
        "template": {
         "data": {
          "bar": [
           {
            "error_x": {
             "color": "#2a3f5f"
            },
            "error_y": {
             "color": "#2a3f5f"
            },
            "marker": {
             "line": {
              "color": "#E5ECF6",
              "width": 0.5
             },
             "pattern": {
              "fillmode": "overlay",
              "size": 10,
              "solidity": 0.2
             }
            },
            "type": "bar"
           }
          ],
          "barpolar": [
           {
            "marker": {
             "line": {
              "color": "#E5ECF6",
              "width": 0.5
             },
             "pattern": {
              "fillmode": "overlay",
              "size": 10,
              "solidity": 0.2
             }
            },
            "type": "barpolar"
           }
          ],
          "carpet": [
           {
            "aaxis": {
             "endlinecolor": "#2a3f5f",
             "gridcolor": "white",
             "linecolor": "white",
             "minorgridcolor": "white",
             "startlinecolor": "#2a3f5f"
            },
            "baxis": {
             "endlinecolor": "#2a3f5f",
             "gridcolor": "white",
             "linecolor": "white",
             "minorgridcolor": "white",
             "startlinecolor": "#2a3f5f"
            },
            "type": "carpet"
           }
          ],
          "choropleth": [
           {
            "colorbar": {
             "outlinewidth": 0,
             "ticks": ""
            },
            "type": "choropleth"
           }
          ],
          "contour": [
           {
            "colorbar": {
             "outlinewidth": 0,
             "ticks": ""
            },
            "colorscale": [
             [
              0,
              "#0d0887"
             ],
             [
              0.1111111111111111,
              "#46039f"
             ],
             [
              0.2222222222222222,
              "#7201a8"
             ],
             [
              0.3333333333333333,
              "#9c179e"
             ],
             [
              0.4444444444444444,
              "#bd3786"
             ],
             [
              0.5555555555555556,
              "#d8576b"
             ],
             [
              0.6666666666666666,
              "#ed7953"
             ],
             [
              0.7777777777777778,
              "#fb9f3a"
             ],
             [
              0.8888888888888888,
              "#fdca26"
             ],
             [
              1,
              "#f0f921"
             ]
            ],
            "type": "contour"
           }
          ],
          "contourcarpet": [
           {
            "colorbar": {
             "outlinewidth": 0,
             "ticks": ""
            },
            "type": "contourcarpet"
           }
          ],
          "heatmap": [
           {
            "colorbar": {
             "outlinewidth": 0,
             "ticks": ""
            },
            "colorscale": [
             [
              0,
              "#0d0887"
             ],
             [
              0.1111111111111111,
              "#46039f"
             ],
             [
              0.2222222222222222,
              "#7201a8"
             ],
             [
              0.3333333333333333,
              "#9c179e"
             ],
             [
              0.4444444444444444,
              "#bd3786"
             ],
             [
              0.5555555555555556,
              "#d8576b"
             ],
             [
              0.6666666666666666,
              "#ed7953"
             ],
             [
              0.7777777777777778,
              "#fb9f3a"
             ],
             [
              0.8888888888888888,
              "#fdca26"
             ],
             [
              1,
              "#f0f921"
             ]
            ],
            "type": "heatmap"
           }
          ],
          "heatmapgl": [
           {
            "colorbar": {
             "outlinewidth": 0,
             "ticks": ""
            },
            "colorscale": [
             [
              0,
              "#0d0887"
             ],
             [
              0.1111111111111111,
              "#46039f"
             ],
             [
              0.2222222222222222,
              "#7201a8"
             ],
             [
              0.3333333333333333,
              "#9c179e"
             ],
             [
              0.4444444444444444,
              "#bd3786"
             ],
             [
              0.5555555555555556,
              "#d8576b"
             ],
             [
              0.6666666666666666,
              "#ed7953"
             ],
             [
              0.7777777777777778,
              "#fb9f3a"
             ],
             [
              0.8888888888888888,
              "#fdca26"
             ],
             [
              1,
              "#f0f921"
             ]
            ],
            "type": "heatmapgl"
           }
          ],
          "histogram": [
           {
            "marker": {
             "pattern": {
              "fillmode": "overlay",
              "size": 10,
              "solidity": 0.2
             }
            },
            "type": "histogram"
           }
          ],
          "histogram2d": [
           {
            "colorbar": {
             "outlinewidth": 0,
             "ticks": ""
            },
            "colorscale": [
             [
              0,
              "#0d0887"
             ],
             [
              0.1111111111111111,
              "#46039f"
             ],
             [
              0.2222222222222222,
              "#7201a8"
             ],
             [
              0.3333333333333333,
              "#9c179e"
             ],
             [
              0.4444444444444444,
              "#bd3786"
             ],
             [
              0.5555555555555556,
              "#d8576b"
             ],
             [
              0.6666666666666666,
              "#ed7953"
             ],
             [
              0.7777777777777778,
              "#fb9f3a"
             ],
             [
              0.8888888888888888,
              "#fdca26"
             ],
             [
              1,
              "#f0f921"
             ]
            ],
            "type": "histogram2d"
           }
          ],
          "histogram2dcontour": [
           {
            "colorbar": {
             "outlinewidth": 0,
             "ticks": ""
            },
            "colorscale": [
             [
              0,
              "#0d0887"
             ],
             [
              0.1111111111111111,
              "#46039f"
             ],
             [
              0.2222222222222222,
              "#7201a8"
             ],
             [
              0.3333333333333333,
              "#9c179e"
             ],
             [
              0.4444444444444444,
              "#bd3786"
             ],
             [
              0.5555555555555556,
              "#d8576b"
             ],
             [
              0.6666666666666666,
              "#ed7953"
             ],
             [
              0.7777777777777778,
              "#fb9f3a"
             ],
             [
              0.8888888888888888,
              "#fdca26"
             ],
             [
              1,
              "#f0f921"
             ]
            ],
            "type": "histogram2dcontour"
           }
          ],
          "mesh3d": [
           {
            "colorbar": {
             "outlinewidth": 0,
             "ticks": ""
            },
            "type": "mesh3d"
           }
          ],
          "parcoords": [
           {
            "line": {
             "colorbar": {
              "outlinewidth": 0,
              "ticks": ""
             }
            },
            "type": "parcoords"
           }
          ],
          "pie": [
           {
            "automargin": true,
            "type": "pie"
           }
          ],
          "scatter": [
           {
            "fillpattern": {
             "fillmode": "overlay",
             "size": 10,
             "solidity": 0.2
            },
            "type": "scatter"
           }
          ],
          "scatter3d": [
           {
            "line": {
             "colorbar": {
              "outlinewidth": 0,
              "ticks": ""
             }
            },
            "marker": {
             "colorbar": {
              "outlinewidth": 0,
              "ticks": ""
             }
            },
            "type": "scatter3d"
           }
          ],
          "scattercarpet": [
           {
            "marker": {
             "colorbar": {
              "outlinewidth": 0,
              "ticks": ""
             }
            },
            "type": "scattercarpet"
           }
          ],
          "scattergeo": [
           {
            "marker": {
             "colorbar": {
              "outlinewidth": 0,
              "ticks": ""
             }
            },
            "type": "scattergeo"
           }
          ],
          "scattergl": [
           {
            "marker": {
             "colorbar": {
              "outlinewidth": 0,
              "ticks": ""
             }
            },
            "type": "scattergl"
           }
          ],
          "scattermapbox": [
           {
            "marker": {
             "colorbar": {
              "outlinewidth": 0,
              "ticks": ""
             }
            },
            "type": "scattermapbox"
           }
          ],
          "scatterpolar": [
           {
            "marker": {
             "colorbar": {
              "outlinewidth": 0,
              "ticks": ""
             }
            },
            "type": "scatterpolar"
           }
          ],
          "scatterpolargl": [
           {
            "marker": {
             "colorbar": {
              "outlinewidth": 0,
              "ticks": ""
             }
            },
            "type": "scatterpolargl"
           }
          ],
          "scatterternary": [
           {
            "marker": {
             "colorbar": {
              "outlinewidth": 0,
              "ticks": ""
             }
            },
            "type": "scatterternary"
           }
          ],
          "surface": [
           {
            "colorbar": {
             "outlinewidth": 0,
             "ticks": ""
            },
            "colorscale": [
             [
              0,
              "#0d0887"
             ],
             [
              0.1111111111111111,
              "#46039f"
             ],
             [
              0.2222222222222222,
              "#7201a8"
             ],
             [
              0.3333333333333333,
              "#9c179e"
             ],
             [
              0.4444444444444444,
              "#bd3786"
             ],
             [
              0.5555555555555556,
              "#d8576b"
             ],
             [
              0.6666666666666666,
              "#ed7953"
             ],
             [
              0.7777777777777778,
              "#fb9f3a"
             ],
             [
              0.8888888888888888,
              "#fdca26"
             ],
             [
              1,
              "#f0f921"
             ]
            ],
            "type": "surface"
           }
          ],
          "table": [
           {
            "cells": {
             "fill": {
              "color": "#EBF0F8"
             },
             "line": {
              "color": "white"
             }
            },
            "header": {
             "fill": {
              "color": "#C8D4E3"
             },
             "line": {
              "color": "white"
             }
            },
            "type": "table"
           }
          ]
         },
         "layout": {
          "annotationdefaults": {
           "arrowcolor": "#2a3f5f",
           "arrowhead": 0,
           "arrowwidth": 1
          },
          "autotypenumbers": "strict",
          "coloraxis": {
           "colorbar": {
            "outlinewidth": 0,
            "ticks": ""
           }
          },
          "colorscale": {
           "diverging": [
            [
             0,
             "#8e0152"
            ],
            [
             0.1,
             "#c51b7d"
            ],
            [
             0.2,
             "#de77ae"
            ],
            [
             0.3,
             "#f1b6da"
            ],
            [
             0.4,
             "#fde0ef"
            ],
            [
             0.5,
             "#f7f7f7"
            ],
            [
             0.6,
             "#e6f5d0"
            ],
            [
             0.7,
             "#b8e186"
            ],
            [
             0.8,
             "#7fbc41"
            ],
            [
             0.9,
             "#4d9221"
            ],
            [
             1,
             "#276419"
            ]
           ],
           "sequential": [
            [
             0,
             "#0d0887"
            ],
            [
             0.1111111111111111,
             "#46039f"
            ],
            [
             0.2222222222222222,
             "#7201a8"
            ],
            [
             0.3333333333333333,
             "#9c179e"
            ],
            [
             0.4444444444444444,
             "#bd3786"
            ],
            [
             0.5555555555555556,
             "#d8576b"
            ],
            [
             0.6666666666666666,
             "#ed7953"
            ],
            [
             0.7777777777777778,
             "#fb9f3a"
            ],
            [
             0.8888888888888888,
             "#fdca26"
            ],
            [
             1,
             "#f0f921"
            ]
           ],
           "sequentialminus": [
            [
             0,
             "#0d0887"
            ],
            [
             0.1111111111111111,
             "#46039f"
            ],
            [
             0.2222222222222222,
             "#7201a8"
            ],
            [
             0.3333333333333333,
             "#9c179e"
            ],
            [
             0.4444444444444444,
             "#bd3786"
            ],
            [
             0.5555555555555556,
             "#d8576b"
            ],
            [
             0.6666666666666666,
             "#ed7953"
            ],
            [
             0.7777777777777778,
             "#fb9f3a"
            ],
            [
             0.8888888888888888,
             "#fdca26"
            ],
            [
             1,
             "#f0f921"
            ]
           ]
          },
          "colorway": [
           "#636efa",
           "#EF553B",
           "#00cc96",
           "#ab63fa",
           "#FFA15A",
           "#19d3f3",
           "#FF6692",
           "#B6E880",
           "#FF97FF",
           "#FECB52"
          ],
          "font": {
           "color": "#2a3f5f"
          },
          "geo": {
           "bgcolor": "white",
           "lakecolor": "white",
           "landcolor": "#E5ECF6",
           "showlakes": true,
           "showland": true,
           "subunitcolor": "white"
          },
          "hoverlabel": {
           "align": "left"
          },
          "hovermode": "closest",
          "mapbox": {
           "style": "light"
          },
          "paper_bgcolor": "white",
          "plot_bgcolor": "#E5ECF6",
          "polar": {
           "angularaxis": {
            "gridcolor": "white",
            "linecolor": "white",
            "ticks": ""
           },
           "bgcolor": "#E5ECF6",
           "radialaxis": {
            "gridcolor": "white",
            "linecolor": "white",
            "ticks": ""
           }
          },
          "scene": {
           "xaxis": {
            "backgroundcolor": "#E5ECF6",
            "gridcolor": "white",
            "gridwidth": 2,
            "linecolor": "white",
            "showbackground": true,
            "ticks": "",
            "zerolinecolor": "white"
           },
           "yaxis": {
            "backgroundcolor": "#E5ECF6",
            "gridcolor": "white",
            "gridwidth": 2,
            "linecolor": "white",
            "showbackground": true,
            "ticks": "",
            "zerolinecolor": "white"
           },
           "zaxis": {
            "backgroundcolor": "#E5ECF6",
            "gridcolor": "white",
            "gridwidth": 2,
            "linecolor": "white",
            "showbackground": true,
            "ticks": "",
            "zerolinecolor": "white"
           }
          },
          "shapedefaults": {
           "line": {
            "color": "#2a3f5f"
           }
          },
          "ternary": {
           "aaxis": {
            "gridcolor": "white",
            "linecolor": "white",
            "ticks": ""
           },
           "baxis": {
            "gridcolor": "white",
            "linecolor": "white",
            "ticks": ""
           },
           "bgcolor": "#E5ECF6",
           "caxis": {
            "gridcolor": "white",
            "linecolor": "white",
            "ticks": ""
           }
          },
          "title": {
           "x": 0.05
          },
          "xaxis": {
           "automargin": true,
           "gridcolor": "white",
           "linecolor": "white",
           "ticks": "",
           "title": {
            "standoff": 15
           },
           "zerolinecolor": "white",
           "zerolinewidth": 2
          },
          "yaxis": {
           "automargin": true,
           "gridcolor": "white",
           "linecolor": "white",
           "ticks": "",
           "title": {
            "standoff": 15
           },
           "zerolinecolor": "white",
           "zerolinewidth": 2
          }
         }
        },
        "title": {
         "text": "Correlation Matrix"
        },
        "xaxis": {
         "anchor": "y",
         "autorange": false,
         "domain": [
          0,
          1
         ],
         "range": [
          -0.284891661973018,
          5.702140309155767
         ],
         "type": "category"
        },
        "yaxis": {
         "anchor": "x",
         "autorange": false,
         "domain": [
          0,
          1
         ],
         "range": [
          6.997641509433962,
          0.8684638393816702
         ],
         "type": "category"
        }
       }
      },
      "image/png": "[encoded data removed]",
      "text/html": [
       "<div>                            <div id=\"bcdcbb28-098d-45cd-9574-c5f69d8bde43\" class=\"plotly-graph-div\" style=\"height:525px; width:100%;\"></div>            <script type=\"text/javascript\">                require([\"plotly\"], function(Plotly) {                    window.PLOTLYENV=window.PLOTLYENV || {};                                    if (document.getElementById(\"bcdcbb28-098d-45cd-9574-c5f69d8bde43\")) {                    Plotly.newPlot(                        \"bcdcbb28-098d-45cd-9574-c5f69d8bde43\",                        [{\"coloraxis\":\"coloraxis\",\"name\":\"0\",\"texttemplate\":\"%{z}\",\"x\":[\"Employee_ID\",\"Age\",\"Years_at_Company\",\"Satisfaction_Level\",\"Average_Monthly_Hours\",\"Promotion_Last_5Years\",\"Salary\",\"Attrition\"],\"y\":[\"Employee_ID\",\"Age\",\"Years_at_Company\",\"Satisfaction_Level\",\"Average_Monthly_Hours\",\"Promotion_Last_5Years\",\"Salary\",\"Attrition\"],\"z\":[[1.0,0.013710994319276115,-0.0013748044883247473,-0.004467640421038844,0.031244031851462663,-0.038501283649761055,-0.010353047874813344,0.00221367272525785],[0.013710994319276115,1.0,0.018837383609089785,0.021263493684238,-0.03130441503753087,0.03944434988354042,-0.0186816601436519,-0.008685496660321134],[-0.0013748044883247473,0.018837383609089785,1.0,-0.03246956957471465,-0.06072551174287308,-0.010660689384024048,0.03605279929845627,0.00320845755423907],[-0.004467640421038844,0.021263493684238,-0.03246956957471465,1.0,-0.008913467556127331,0.00292650068056266,-0.027072742127327583,-0.009600875735368313],[0.031244031851462663,-0.03130441503753087,-0.06072551174287308,-0.008913467556127331,1.0,-0.03131839458922183,-0.054562120397224745,-0.023706080974690333],[-0.038501283649761055,0.03944434988354042,-0.010660689384024048,0.00292650068056266,-0.03131839458922183,1.0,0.017260409967074203,0.017727836741057358],[-0.010353047874813344,-0.0186816601436519,0.03605279929845627,-0.027072742127327583,-0.054562120397224745,0.017260409967074203,1.0,-0.03781830635186605],[0.00221367272525785,-0.008685496660321134,0.00320845755423907,-0.009600875735368313,-0.023706080974690333,0.017727836741057358,-0.03781830635186605,1.0]],\"type\":\"heatmap\",\"xaxis\":\"x\",\"yaxis\":\"y\",\"hovertemplate\":\"x: %{x}<br>y: %{y}<br>color: %{z}<extra></extra>\"}],                        {\"template\":{\"data\":{\"histogram2dcontour\":[{\"type\":\"histogram2dcontour\",\"colorbar\":{\"outlinewidth\":0,\"ticks\":\"\"},\"colorscale\":[[0.0,\"#0d0887\"],[0.1111111111111111,\"#46039f\"],[0.2222222222222222,\"#7201a8\"],[0.3333333333333333,\"#9c179e\"],[0.4444444444444444,\"#bd3786\"],[0.5555555555555556,\"#d8576b\"],[0.6666666666666666,\"#ed7953\"],[0.7777777777777778,\"#fb9f3a\"],[0.8888888888888888,\"#fdca26\"],[1.0,\"#f0f921\"]]}],\"choropleth\":[{\"type\":\"choropleth\",\"colorbar\":{\"outlinewidth\":0,\"ticks\":\"\"}}],\"histogram2d\":[{\"type\":\"histogram2d\",\"colorbar\":{\"outlinewidth\":0,\"ticks\":\"\"},\"colorscale\":[[0.0,\"#0d0887\"],[0.1111111111111111,\"#46039f\"],[0.2222222222222222,\"#7201a8\"],[0.3333333333333333,\"#9c179e\"],[0.4444444444444444,\"#bd3786\"],[0.5555555555555556,\"#d8576b\"],[0.6666666666666666,\"#ed7953\"],[0.7777777777777778,\"#fb9f3a\"],[0.8888888888888888,\"#fdca26\"],[1.0,\"#f0f921\"]]}],\"heatmap\":[{\"type\":\"heatmap\",\"colorbar\":{\"outlinewidth\":0,\"ticks\":\"\"},\"colorscale\":[[0.0,\"#0d0887\"],[0.1111111111111111,\"#46039f\"],[0.2222222222222222,\"#7201a8\"],[0.3333333333333333,\"#9c179e\"],[0.4444444444444444,\"#bd3786\"],[0.5555555555555556,\"#d8576b\"],[0.6666666666666666,\"#ed7953\"],[0.7777777777777778,\"#fb9f3a\"],[0.8888888888888888,\"#fdca26\"],[1.0,\"#f0f921\"]]}],\"heatmapgl\":[{\"type\":\"heatmapgl\",\"colorbar\":{\"outlinewidth\":0,\"ticks\":\"\"},\"colorscale\":[[0.0,\"#0d0887\"],[0.1111111111111111,\"#46039f\"],[0.2222222222222222,\"#7201a8\"],[0.3333333333333333,\"#9c179e\"],[0.4444444444444444,\"#bd3786\"],[0.5555555555555556,\"#d8576b\"],[0.6666666666666666,\"#ed7953\"],[0.7777777777777778,\"#fb9f3a\"],[0.8888888888888888,\"#fdca26\"],[1.0,\"#f0f921\"]]}],\"contourcarpet\":[{\"type\":\"contourcarpet\",\"colorbar\":{\"outlinewidth\":0,\"ticks\":\"\"}}],\"contour\":[{\"type\":\"contour\",\"colorbar\":{\"outlinewidth\":0,\"ticks\":\"\"},\"colorscale\":[[0.0,\"#0d0887\"],[0.1111111111111111,\"#46039f\"],[0.2222222222222222,\"#7201a8\"],[0.3333333333333333,\"#9c179e\"],[0.4444444444444444,\"#bd3786\"],[0.5555555555555556,\"#d8576b\"],[0.6666666666666666,\"#ed7953\"],[0.7777777777777778,\"#fb9f3a\"],[0.8888888888888888,\"#fdca26\"],[1.0,\"#f0f921\"]]}],\"surface\":[{\"type\":\"surface\",\"colorbar\":{\"outlinewidth\":0,\"ticks\":\"\"},\"colorscale\":[[0.0,\"#0d0887\"],[0.1111111111111111,\"#46039f\"],[0.2222222222222222,\"#7201a8\"],[0.3333333333333333,\"#9c179e\"],[0.4444444444444444,\"#bd3786\"],[0.5555555555555556,\"#d8576b\"],[0.6666666666666666,\"#ed7953\"],[0.7777777777777778,\"#fb9f3a\"],[0.8888888888888888,\"#fdca26\"],[1.0,\"#f0f921\"]]}],\"mesh3d\":[{\"type\":\"mesh3d\",\"colorbar\":{\"outlinewidth\":0,\"ticks\":\"\"}}],\"scatter\":[{\"fillpattern\":{\"fillmode\":\"overlay\",\"size\":10,\"solidity\":0.2},\"type\":\"scatter\"}],\"parcoords\":[{\"type\":\"parcoords\",\"line\":{\"colorbar\":{\"outlinewidth\":0,\"ticks\":\"\"}}}],\"scatterpolargl\":[{\"type\":\"scatterpolargl\",\"marker\":{\"colorbar\":{\"outlinewidth\":0,\"ticks\":\"\"}}}],\"bar\":[{\"error_x\":{\"color\":\"#2a3f5f\"},\"error_y\":{\"color\":\"#2a3f5f\"},\"marker\":{\"line\":{\"color\":\"#E5ECF6\",\"width\":0.5},\"pattern\":{\"fillmode\":\"overlay\",\"size\":10,\"solidity\":0.2}},\"type\":\"bar\"}],\"scattergeo\":[{\"type\":\"scattergeo\",\"marker\":{\"colorbar\":{\"outlinewidth\":0,\"ticks\":\"\"}}}],\"scatterpolar\":[{\"type\":\"scatterpolar\",\"marker\":{\"colorbar\":{\"outlinewidth\":0,\"ticks\":\"\"}}}],\"histogram\":[{\"marker\":{\"pattern\":{\"fillmode\":\"overlay\",\"size\":10,\"solidity\":0.2}},\"type\":\"histogram\"}],\"scattergl\":[{\"type\":\"scattergl\",\"marker\":{\"colorbar\":{\"outlinewidth\":0,\"ticks\":\"\"}}}],\"scatter3d\":[{\"type\":\"scatter3d\",\"line\":{\"colorbar\":{\"outlinewidth\":0,\"ticks\":\"\"}},\"marker\":{\"colorbar\":{\"outlinewidth\":0,\"ticks\":\"\"}}}],\"scattermapbox\":[{\"type\":\"scattermapbox\",\"marker\":{\"colorbar\":{\"outlinewidth\":0,\"ticks\":\"\"}}}],\"scatterternary\":[{\"type\":\"scatterternary\",\"marker\":{\"colorbar\":{\"outlinewidth\":0,\"ticks\":\"\"}}}],\"scattercarpet\":[{\"type\":\"scattercarpet\",\"marker\":{\"colorbar\":{\"outlinewidth\":0,\"ticks\":\"\"}}}],\"carpet\":[{\"aaxis\":{\"endlinecolor\":\"#2a3f5f\",\"gridcolor\":\"white\",\"linecolor\":\"white\",\"minorgridcolor\":\"white\",\"startlinecolor\":\"#2a3f5f\"},\"baxis\":{\"endlinecolor\":\"#2a3f5f\",\"gridcolor\":\"white\",\"linecolor\":\"white\",\"minorgridcolor\":\"white\",\"startlinecolor\":\"#2a3f5f\"},\"type\":\"carpet\"}],\"table\":[{\"cells\":{\"fill\":{\"color\":\"#EBF0F8\"},\"line\":{\"color\":\"white\"}},\"header\":{\"fill\":{\"color\":\"#C8D4E3\"},\"line\":{\"color\":\"white\"}},\"type\":\"table\"}],\"barpolar\":[{\"marker\":{\"line\":{\"color\":\"#E5ECF6\",\"width\":0.5},\"pattern\":{\"fillmode\":\"overlay\",\"size\":10,\"solidity\":0.2}},\"type\":\"barpolar\"}],\"pie\":[{\"automargin\":true,\"type\":\"pie\"}]},\"layout\":{\"autotypenumbers\":\"strict\",\"colorway\":[\"#636efa\",\"#EF553B\",\"#00cc96\",\"#ab63fa\",\"#FFA15A\",\"#19d3f3\",\"#FF6692\",\"#B6E880\",\"#FF97FF\",\"#FECB52\"],\"font\":{\"color\":\"#2a3f5f\"},\"hovermode\":\"closest\",\"hoverlabel\":{\"align\":\"left\"},\"paper_bgcolor\":\"white\",\"plot_bgcolor\":\"#E5ECF6\",\"polar\":{\"bgcolor\":\"#E5ECF6\",\"angularaxis\":{\"gridcolor\":\"white\",\"linecolor\":\"white\",\"ticks\":\"\"},\"radialaxis\":{\"gridcolor\":\"white\",\"linecolor\":\"white\",\"ticks\":\"\"}},\"ternary\":{\"bgcolor\":\"#E5ECF6\",\"aaxis\":{\"gridcolor\":\"white\",\"linecolor\":\"white\",\"ticks\":\"\"},\"baxis\":{\"gridcolor\":\"white\",\"linecolor\":\"white\",\"ticks\":\"\"},\"caxis\":{\"gridcolor\":\"white\",\"linecolor\":\"white\",\"ticks\":\"\"}},\"coloraxis\":{\"colorbar\":{\"outlinewidth\":0,\"ticks\":\"\"}},\"colorscale\":{\"sequential\":[[0.0,\"#0d0887\"],[0.1111111111111111,\"#46039f\"],[0.2222222222222222,\"#7201a8\"],[0.3333333333333333,\"#9c179e\"],[0.4444444444444444,\"#bd3786\"],[0.5555555555555556,\"#d8576b\"],[0.6666666666666666,\"#ed7953\"],[0.7777777777777778,\"#fb9f3a\"],[0.8888888888888888,\"#fdca26\"],[1.0,\"#f0f921\"]],\"sequentialminus\":[[0.0,\"#0d0887\"],[0.1111111111111111,\"#46039f\"],[0.2222222222222222,\"#7201a8\"],[0.3333333333333333,\"#9c179e\"],[0.4444444444444444,\"#bd3786\"],[0.5555555555555556,\"#d8576b\"],[0.6666666666666666,\"#ed7953\"],[0.7777777777777778,\"#fb9f3a\"],[0.8888888888888888,\"#fdca26\"],[1.0,\"#f0f921\"]],\"diverging\":[[0,\"#8e0152\"],[0.1,\"#c51b7d\"],[0.2,\"#de77ae\"],[0.3,\"#f1b6da\"],[0.4,\"#fde0ef\"],[0.5,\"#f7f7f7\"],[0.6,\"#e6f5d0\"],[0.7,\"#b8e186\"],[0.8,\"#7fbc41\"],[0.9,\"#4d9221\"],[1,\"#276419\"]]},\"xaxis\":{\"gridcolor\":\"white\",\"linecolor\":\"white\",\"ticks\":\"\",\"title\":{\"standoff\":15},\"zerolinecolor\":\"white\",\"automargin\":true,\"zerolinewidth\":2},\"yaxis\":{\"gridcolor\":\"white\",\"linecolor\":\"white\",\"ticks\":\"\",\"title\":{\"standoff\":15},\"zerolinecolor\":\"white\",\"automargin\":true,\"zerolinewidth\":2},\"scene\":{\"xaxis\":{\"backgroundcolor\":\"#E5ECF6\",\"gridcolor\":\"white\",\"linecolor\":\"white\",\"showbackground\":true,\"ticks\":\"\",\"zerolinecolor\":\"white\",\"gridwidth\":2},\"yaxis\":{\"backgroundcolor\":\"#E5ECF6\",\"gridcolor\":\"white\",\"linecolor\":\"white\",\"showbackground\":true,\"ticks\":\"\",\"zerolinecolor\":\"white\",\"gridwidth\":2},\"zaxis\":{\"backgroundcolor\":\"#E5ECF6\",\"gridcolor\":\"white\",\"linecolor\":\"white\",\"showbackground\":true,\"ticks\":\"\",\"zerolinecolor\":\"white\",\"gridwidth\":2}},\"shapedefaults\":{\"line\":{\"color\":\"#2a3f5f\"}},\"annotationdefaults\":{\"arrowcolor\":\"#2a3f5f\",\"arrowhead\":0,\"arrowwidth\":1},\"geo\":{\"bgcolor\":\"white\",\"landcolor\":\"#E5ECF6\",\"subunitcolor\":\"white\",\"showland\":true,\"showlakes\":true,\"lakecolor\":\"white\"},\"title\":{\"x\":0.05},\"mapbox\":{\"style\":\"light\"}}},\"xaxis\":{\"anchor\":\"y\",\"domain\":[0.0,1.0]},\"yaxis\":{\"anchor\":\"x\",\"domain\":[0.0,1.0],\"autorange\":\"reversed\"},\"coloraxis\":{\"colorscale\":[[0.0,\"rgb(5,48,97)\"],[0.1,\"rgb(33,102,172)\"],[0.2,\"rgb(67,147,195)\"],[0.3,\"rgb(146,197,222)\"],[0.4,\"rgb(209,229,240)\"],[0.5,\"rgb(247,247,247)\"],[0.6,\"rgb(253,219,199)\"],[0.7,\"rgb(244,165,130)\"],[0.8,\"rgb(214,96,77)\"],[0.9,\"rgb(178,24,43)\"],[1.0,\"rgb(103,0,31)\"]]},\"title\":{\"text\":\"Correlation Matrix\"}},                        {\"responsive\": true}                    ).then(function(){\n",
       "                            \n",
       "var gd = document.getElementById('bcdcbb28-098d-45cd-9574-c5f69d8bde43');\n",
       "var x = new MutationObserver(function (mutations, observer) {{\n",
       "        var display = window.getComputedStyle(gd).display;\n",
       "        if (!display || display === 'none') {{\n",
       "            console.log([gd, 'removed!']);\n",
       "            Plotly.purge(gd);\n",
       "            observer.disconnect();\n",
       "        }}\n",
       "}});\n",
       "\n",
       "// Listen for the removal of the full notebook cells\n",
       "var notebookContainer = gd.closest('#notebook-container');\n",
       "if (notebookContainer) {{\n",
       "    x.observe(notebookContainer, {childList: true});\n",
       "}}\n",
       "\n",
       "// Listen for the clearing of the current output cell\n",
       "var outputEl = gd.closest('.output');\n",
       "if (outputEl) {{\n",
       "    x.observe(outputEl, {childList: true});\n",
       "}}\n",
       "\n",
       "                        })                };                });            </script>        </div>"
      ]
     },
     "metadata": {},
     "output_type": "display_data"
    }
   ],
   "source": [
    "numerical_corr=emp_attrition[numerical_features].corr()\n",
    "\n",
    "#Create heatmap\n",
    "fig_corr=px.imshow(numerical_corr, text_auto=True, #automatically adds text annotations to the heatmap cells.\n",
    "                aspect=\"auto\",  #this will automatically adjusted to make the heatmap cells square.\n",
    "                color_continuous_scale='RdBu_r', \n",
    "                title='Correlation Matrix')\n",
    "\n",
    "fig_corr.show()"
   ]
  },
  {
   "cell_type": "markdown",
   "id": "16708506-2af3-4c82-bb42-edb98e3fbf57",
   "metadata": {},
   "source": [
    "The diagonal values of the correlation matrix are all 1 because each variable is perfectly correlated with itself. The values in the correlation matrix range from -1 to 1.\n",
    "1 indicates a perfect positive correlation: As one variable increases, the other variable also increases.\n",
    "-1 indicates a perfect negative correlation: As one variable increases, the other variable decreases.\n",
    "0 indicates no correlation: There is no linear relationship between the variables.\n",
    "\n",
    "Years_at_Company vs. Salary: 0.03 (strong positive correlation)"
   ]
  },
  {
   "cell_type": "code",
   "execution_count": 231,
   "id": "646ce5e7-603b-4e5d-b7da-f60505c9c8e4",
   "metadata": {},
   "outputs": [
    {
     "name": "stdout",
     "output_type": "stream",
     "text": [
      "Defaulting to user installation because normal site-packages is not writeable\n",
      "Requirement already satisfied: plotly in c:\\programdata\\anaconda3\\lib\\site-packages (5.9.0)\n",
      "Requirement already satisfied: tenacity>=6.2.0 in c:\\programdata\\anaconda3\\lib\\site-packages (from plotly) (8.2.2)\n"
     ]
    }
   ],
   "source": [
    "!pip install plotly"
   ]
  },
  {
   "cell_type": "code",
   "execution_count": 232,
   "id": "e73b8051-cfc6-4b46-8588-1e4899ebbfe0",
   "metadata": {},
   "outputs": [],
   "source": [
    "import plotly.express as px"
   ]
  },
  {
   "cell_type": "code",
   "execution_count": 233,
   "id": "a6ad29d3-089a-49cd-b062-6e0ca831f10f",
   "metadata": {},
   "outputs": [
    {
     "name": "stdout",
     "output_type": "stream",
     "text": [
      "   Gender  Attrition  Attrition_Rate\n",
      "0  Female   0.512146       51.214575\n",
      "1    Male   0.478261       47.826087\n"
     ]
    },
    {
     "data": {
      "application/vnd.plotly.v1+json": {
       "config": {
        "plotlyServerURL": "https://plot.ly"
       },
       "data": [
        {
         "customdata": [
          [
           "#FCC981"
          ],
          [
           "#A7FCEF"
          ]
         ],
         "domain": {
          "x": [
           0,
           1
          ],
          "y": [
           0,
           1
          ]
         },
         "hovertemplate": "Gender=%{label}<br>Attrition Rate (%)=%{value}<br>color=%{customdata[0]}<extra></extra>",
         "labels": [
          "Female",
          "Male"
         ],
         "legendgroup": "",
         "marker": {
          "colors": [
           "#636efa",
           "#EF553B"
          ]
         },
         "name": "",
         "showlegend": true,
         "type": "pie",
         "values": [
          51.21457489878543,
          47.82608695652174
         ]
        }
       ],
       "layout": {
        "autosize": true,
        "legend": {
         "tracegroupgap": 0
        },
        "template": {
         "data": {
          "bar": [
           {
            "error_x": {
             "color": "#2a3f5f"
            },
            "error_y": {
             "color": "#2a3f5f"
            },
            "marker": {
             "line": {
              "color": "#E5ECF6",
              "width": 0.5
             },
             "pattern": {
              "fillmode": "overlay",
              "size": 10,
              "solidity": 0.2
             }
            },
            "type": "bar"
           }
          ],
          "barpolar": [
           {
            "marker": {
             "line": {
              "color": "#E5ECF6",
              "width": 0.5
             },
             "pattern": {
              "fillmode": "overlay",
              "size": 10,
              "solidity": 0.2
             }
            },
            "type": "barpolar"
           }
          ],
          "carpet": [
           {
            "aaxis": {
             "endlinecolor": "#2a3f5f",
             "gridcolor": "white",
             "linecolor": "white",
             "minorgridcolor": "white",
             "startlinecolor": "#2a3f5f"
            },
            "baxis": {
             "endlinecolor": "#2a3f5f",
             "gridcolor": "white",
             "linecolor": "white",
             "minorgridcolor": "white",
             "startlinecolor": "#2a3f5f"
            },
            "type": "carpet"
           }
          ],
          "choropleth": [
           {
            "colorbar": {
             "outlinewidth": 0,
             "ticks": ""
            },
            "type": "choropleth"
           }
          ],
          "contour": [
           {
            "colorbar": {
             "outlinewidth": 0,
             "ticks": ""
            },
            "colorscale": [
             [
              0,
              "#0d0887"
             ],
             [
              0.1111111111111111,
              "#46039f"
             ],
             [
              0.2222222222222222,
              "#7201a8"
             ],
             [
              0.3333333333333333,
              "#9c179e"
             ],
             [
              0.4444444444444444,
              "#bd3786"
             ],
             [
              0.5555555555555556,
              "#d8576b"
             ],
             [
              0.6666666666666666,
              "#ed7953"
             ],
             [
              0.7777777777777778,
              "#fb9f3a"
             ],
             [
              0.8888888888888888,
              "#fdca26"
             ],
             [
              1,
              "#f0f921"
             ]
            ],
            "type": "contour"
           }
          ],
          "contourcarpet": [
           {
            "colorbar": {
             "outlinewidth": 0,
             "ticks": ""
            },
            "type": "contourcarpet"
           }
          ],
          "heatmap": [
           {
            "colorbar": {
             "outlinewidth": 0,
             "ticks": ""
            },
            "colorscale": [
             [
              0,
              "#0d0887"
             ],
             [
              0.1111111111111111,
              "#46039f"
             ],
             [
              0.2222222222222222,
              "#7201a8"
             ],
             [
              0.3333333333333333,
              "#9c179e"
             ],
             [
              0.4444444444444444,
              "#bd3786"
             ],
             [
              0.5555555555555556,
              "#d8576b"
             ],
             [
              0.6666666666666666,
              "#ed7953"
             ],
             [
              0.7777777777777778,
              "#fb9f3a"
             ],
             [
              0.8888888888888888,
              "#fdca26"
             ],
             [
              1,
              "#f0f921"
             ]
            ],
            "type": "heatmap"
           }
          ],
          "heatmapgl": [
           {
            "colorbar": {
             "outlinewidth": 0,
             "ticks": ""
            },
            "colorscale": [
             [
              0,
              "#0d0887"
             ],
             [
              0.1111111111111111,
              "#46039f"
             ],
             [
              0.2222222222222222,
              "#7201a8"
             ],
             [
              0.3333333333333333,
              "#9c179e"
             ],
             [
              0.4444444444444444,
              "#bd3786"
             ],
             [
              0.5555555555555556,
              "#d8576b"
             ],
             [
              0.6666666666666666,
              "#ed7953"
             ],
             [
              0.7777777777777778,
              "#fb9f3a"
             ],
             [
              0.8888888888888888,
              "#fdca26"
             ],
             [
              1,
              "#f0f921"
             ]
            ],
            "type": "heatmapgl"
           }
          ],
          "histogram": [
           {
            "marker": {
             "pattern": {
              "fillmode": "overlay",
              "size": 10,
              "solidity": 0.2
             }
            },
            "type": "histogram"
           }
          ],
          "histogram2d": [
           {
            "colorbar": {
             "outlinewidth": 0,
             "ticks": ""
            },
            "colorscale": [
             [
              0,
              "#0d0887"
             ],
             [
              0.1111111111111111,
              "#46039f"
             ],
             [
              0.2222222222222222,
              "#7201a8"
             ],
             [
              0.3333333333333333,
              "#9c179e"
             ],
             [
              0.4444444444444444,
              "#bd3786"
             ],
             [
              0.5555555555555556,
              "#d8576b"
             ],
             [
              0.6666666666666666,
              "#ed7953"
             ],
             [
              0.7777777777777778,
              "#fb9f3a"
             ],
             [
              0.8888888888888888,
              "#fdca26"
             ],
             [
              1,
              "#f0f921"
             ]
            ],
            "type": "histogram2d"
           }
          ],
          "histogram2dcontour": [
           {
            "colorbar": {
             "outlinewidth": 0,
             "ticks": ""
            },
            "colorscale": [
             [
              0,
              "#0d0887"
             ],
             [
              0.1111111111111111,
              "#46039f"
             ],
             [
              0.2222222222222222,
              "#7201a8"
             ],
             [
              0.3333333333333333,
              "#9c179e"
             ],
             [
              0.4444444444444444,
              "#bd3786"
             ],
             [
              0.5555555555555556,
              "#d8576b"
             ],
             [
              0.6666666666666666,
              "#ed7953"
             ],
             [
              0.7777777777777778,
              "#fb9f3a"
             ],
             [
              0.8888888888888888,
              "#fdca26"
             ],
             [
              1,
              "#f0f921"
             ]
            ],
            "type": "histogram2dcontour"
           }
          ],
          "mesh3d": [
           {
            "colorbar": {
             "outlinewidth": 0,
             "ticks": ""
            },
            "type": "mesh3d"
           }
          ],
          "parcoords": [
           {
            "line": {
             "colorbar": {
              "outlinewidth": 0,
              "ticks": ""
             }
            },
            "type": "parcoords"
           }
          ],
          "pie": [
           {
            "automargin": true,
            "type": "pie"
           }
          ],
          "scatter": [
           {
            "fillpattern": {
             "fillmode": "overlay",
             "size": 10,
             "solidity": 0.2
            },
            "type": "scatter"
           }
          ],
          "scatter3d": [
           {
            "line": {
             "colorbar": {
              "outlinewidth": 0,
              "ticks": ""
             }
            },
            "marker": {
             "colorbar": {
              "outlinewidth": 0,
              "ticks": ""
             }
            },
            "type": "scatter3d"
           }
          ],
          "scattercarpet": [
           {
            "marker": {
             "colorbar": {
              "outlinewidth": 0,
              "ticks": ""
             }
            },
            "type": "scattercarpet"
           }
          ],
          "scattergeo": [
           {
            "marker": {
             "colorbar": {
              "outlinewidth": 0,
              "ticks": ""
             }
            },
            "type": "scattergeo"
           }
          ],
          "scattergl": [
           {
            "marker": {
             "colorbar": {
              "outlinewidth": 0,
              "ticks": ""
             }
            },
            "type": "scattergl"
           }
          ],
          "scattermapbox": [
           {
            "marker": {
             "colorbar": {
              "outlinewidth": 0,
              "ticks": ""
             }
            },
            "type": "scattermapbox"
           }
          ],
          "scatterpolar": [
           {
            "marker": {
             "colorbar": {
              "outlinewidth": 0,
              "ticks": ""
             }
            },
            "type": "scatterpolar"
           }
          ],
          "scatterpolargl": [
           {
            "marker": {
             "colorbar": {
              "outlinewidth": 0,
              "ticks": ""
             }
            },
            "type": "scatterpolargl"
           }
          ],
          "scatterternary": [
           {
            "marker": {
             "colorbar": {
              "outlinewidth": 0,
              "ticks": ""
             }
            },
            "type": "scatterternary"
           }
          ],
          "surface": [
           {
            "colorbar": {
             "outlinewidth": 0,
             "ticks": ""
            },
            "colorscale": [
             [
              0,
              "#0d0887"
             ],
             [
              0.1111111111111111,
              "#46039f"
             ],
             [
              0.2222222222222222,
              "#7201a8"
             ],
             [
              0.3333333333333333,
              "#9c179e"
             ],
             [
              0.4444444444444444,
              "#bd3786"
             ],
             [
              0.5555555555555556,
              "#d8576b"
             ],
             [
              0.6666666666666666,
              "#ed7953"
             ],
             [
              0.7777777777777778,
              "#fb9f3a"
             ],
             [
              0.8888888888888888,
              "#fdca26"
             ],
             [
              1,
              "#f0f921"
             ]
            ],
            "type": "surface"
           }
          ],
          "table": [
           {
            "cells": {
             "fill": {
              "color": "#EBF0F8"
             },
             "line": {
              "color": "white"
             }
            },
            "header": {
             "fill": {
              "color": "#C8D4E3"
             },
             "line": {
              "color": "white"
             }
            },
            "type": "table"
           }
          ]
         },
         "layout": {
          "annotationdefaults": {
           "arrowcolor": "#2a3f5f",
           "arrowhead": 0,
           "arrowwidth": 1
          },
          "autotypenumbers": "strict",
          "coloraxis": {
           "colorbar": {
            "outlinewidth": 0,
            "ticks": ""
           }
          },
          "colorscale": {
           "diverging": [
            [
             0,
             "#8e0152"
            ],
            [
             0.1,
             "#c51b7d"
            ],
            [
             0.2,
             "#de77ae"
            ],
            [
             0.3,
             "#f1b6da"
            ],
            [
             0.4,
             "#fde0ef"
            ],
            [
             0.5,
             "#f7f7f7"
            ],
            [
             0.6,
             "#e6f5d0"
            ],
            [
             0.7,
             "#b8e186"
            ],
            [
             0.8,
             "#7fbc41"
            ],
            [
             0.9,
             "#4d9221"
            ],
            [
             1,
             "#276419"
            ]
           ],
           "sequential": [
            [
             0,
             "#0d0887"
            ],
            [
             0.1111111111111111,
             "#46039f"
            ],
            [
             0.2222222222222222,
             "#7201a8"
            ],
            [
             0.3333333333333333,
             "#9c179e"
            ],
            [
             0.4444444444444444,
             "#bd3786"
            ],
            [
             0.5555555555555556,
             "#d8576b"
            ],
            [
             0.6666666666666666,
             "#ed7953"
            ],
            [
             0.7777777777777778,
             "#fb9f3a"
            ],
            [
             0.8888888888888888,
             "#fdca26"
            ],
            [
             1,
             "#f0f921"
            ]
           ],
           "sequentialminus": [
            [
             0,
             "#0d0887"
            ],
            [
             0.1111111111111111,
             "#46039f"
            ],
            [
             0.2222222222222222,
             "#7201a8"
            ],
            [
             0.3333333333333333,
             "#9c179e"
            ],
            [
             0.4444444444444444,
             "#bd3786"
            ],
            [
             0.5555555555555556,
             "#d8576b"
            ],
            [
             0.6666666666666666,
             "#ed7953"
            ],
            [
             0.7777777777777778,
             "#fb9f3a"
            ],
            [
             0.8888888888888888,
             "#fdca26"
            ],
            [
             1,
             "#f0f921"
            ]
           ]
          },
          "colorway": [
           "#636efa",
           "#EF553B",
           "#00cc96",
           "#ab63fa",
           "#FFA15A",
           "#19d3f3",
           "#FF6692",
           "#B6E880",
           "#FF97FF",
           "#FECB52"
          ],
          "font": {
           "color": "#2a3f5f"
          },
          "geo": {
           "bgcolor": "white",
           "lakecolor": "white",
           "landcolor": "#E5ECF6",
           "showlakes": true,
           "showland": true,
           "subunitcolor": "white"
          },
          "hoverlabel": {
           "align": "left"
          },
          "hovermode": "closest",
          "mapbox": {
           "style": "light"
          },
          "paper_bgcolor": "white",
          "plot_bgcolor": "#E5ECF6",
          "polar": {
           "angularaxis": {
            "gridcolor": "white",
            "linecolor": "white",
            "ticks": ""
           },
           "bgcolor": "#E5ECF6",
           "radialaxis": {
            "gridcolor": "white",
            "linecolor": "white",
            "ticks": ""
           }
          },
          "scene": {
           "xaxis": {
            "backgroundcolor": "#E5ECF6",
            "gridcolor": "white",
            "gridwidth": 2,
            "linecolor": "white",
            "showbackground": true,
            "ticks": "",
            "zerolinecolor": "white"
           },
           "yaxis": {
            "backgroundcolor": "#E5ECF6",
            "gridcolor": "white",
            "gridwidth": 2,
            "linecolor": "white",
            "showbackground": true,
            "ticks": "",
            "zerolinecolor": "white"
           },
           "zaxis": {
            "backgroundcolor": "#E5ECF6",
            "gridcolor": "white",
            "gridwidth": 2,
            "linecolor": "white",
            "showbackground": true,
            "ticks": "",
            "zerolinecolor": "white"
           }
          },
          "shapedefaults": {
           "line": {
            "color": "#2a3f5f"
           }
          },
          "ternary": {
           "aaxis": {
            "gridcolor": "white",
            "linecolor": "white",
            "ticks": ""
           },
           "baxis": {
            "gridcolor": "white",
            "linecolor": "white",
            "ticks": ""
           },
           "bgcolor": "#E5ECF6",
           "caxis": {
            "gridcolor": "white",
            "linecolor": "white",
            "ticks": ""
           }
          },
          "title": {
           "x": 0.05
          },
          "xaxis": {
           "automargin": true,
           "gridcolor": "white",
           "linecolor": "white",
           "ticks": "",
           "title": {
            "standoff": 15
           },
           "zerolinecolor": "white",
           "zerolinewidth": 2
          },
          "yaxis": {
           "automargin": true,
           "gridcolor": "white",
           "linecolor": "white",
           "ticks": "",
           "title": {
            "standoff": 15
           },
           "zerolinecolor": "white",
           "zerolinewidth": 2
          }
         }
        },
        "title": {
         "text": "Attrition Rate by Gender"
        }
       }
      },
      "image/png": "[encoded data removed]",
      "text/html": [
       "<div>                            <div id=\"44360001-f807-4505-8249-f6079522b164\" class=\"plotly-graph-div\" style=\"height:525px; width:100%;\"></div>            <script type=\"text/javascript\">                require([\"plotly\"], function(Plotly) {                    window.PLOTLYENV=window.PLOTLYENV || {};                                    if (document.getElementById(\"44360001-f807-4505-8249-f6079522b164\")) {                    Plotly.newPlot(                        \"44360001-f807-4505-8249-f6079522b164\",                        [{\"customdata\":[[\"#FCC981\"],[\"#A7FCEF\"]],\"domain\":{\"x\":[0.0,1.0],\"y\":[0.0,1.0]},\"hovertemplate\":\"Gender=%{label}<br>Attrition Rate (%)=%{value}<br>color=%{customdata[0]}<extra></extra>\",\"labels\":[\"Female\",\"Male\"],\"legendgroup\":\"\",\"marker\":{\"colors\":[\"#636efa\",\"#EF553B\"]},\"name\":\"\",\"showlegend\":true,\"values\":[51.21457489878543,47.82608695652174],\"type\":\"pie\"}],                        {\"template\":{\"data\":{\"histogram2dcontour\":[{\"type\":\"histogram2dcontour\",\"colorbar\":{\"outlinewidth\":0,\"ticks\":\"\"},\"colorscale\":[[0.0,\"#0d0887\"],[0.1111111111111111,\"#46039f\"],[0.2222222222222222,\"#7201a8\"],[0.3333333333333333,\"#9c179e\"],[0.4444444444444444,\"#bd3786\"],[0.5555555555555556,\"#d8576b\"],[0.6666666666666666,\"#ed7953\"],[0.7777777777777778,\"#fb9f3a\"],[0.8888888888888888,\"#fdca26\"],[1.0,\"#f0f921\"]]}],\"choropleth\":[{\"type\":\"choropleth\",\"colorbar\":{\"outlinewidth\":0,\"ticks\":\"\"}}],\"histogram2d\":[{\"type\":\"histogram2d\",\"colorbar\":{\"outlinewidth\":0,\"ticks\":\"\"},\"colorscale\":[[0.0,\"#0d0887\"],[0.1111111111111111,\"#46039f\"],[0.2222222222222222,\"#7201a8\"],[0.3333333333333333,\"#9c179e\"],[0.4444444444444444,\"#bd3786\"],[0.5555555555555556,\"#d8576b\"],[0.6666666666666666,\"#ed7953\"],[0.7777777777777778,\"#fb9f3a\"],[0.8888888888888888,\"#fdca26\"],[1.0,\"#f0f921\"]]}],\"heatmap\":[{\"type\":\"heatmap\",\"colorbar\":{\"outlinewidth\":0,\"ticks\":\"\"},\"colorscale\":[[0.0,\"#0d0887\"],[0.1111111111111111,\"#46039f\"],[0.2222222222222222,\"#7201a8\"],[0.3333333333333333,\"#9c179e\"],[0.4444444444444444,\"#bd3786\"],[0.5555555555555556,\"#d8576b\"],[0.6666666666666666,\"#ed7953\"],[0.7777777777777778,\"#fb9f3a\"],[0.8888888888888888,\"#fdca26\"],[1.0,\"#f0f921\"]]}],\"heatmapgl\":[{\"type\":\"heatmapgl\",\"colorbar\":{\"outlinewidth\":0,\"ticks\":\"\"},\"colorscale\":[[0.0,\"#0d0887\"],[0.1111111111111111,\"#46039f\"],[0.2222222222222222,\"#7201a8\"],[0.3333333333333333,\"#9c179e\"],[0.4444444444444444,\"#bd3786\"],[0.5555555555555556,\"#d8576b\"],[0.6666666666666666,\"#ed7953\"],[0.7777777777777778,\"#fb9f3a\"],[0.8888888888888888,\"#fdca26\"],[1.0,\"#f0f921\"]]}],\"contourcarpet\":[{\"type\":\"contourcarpet\",\"colorbar\":{\"outlinewidth\":0,\"ticks\":\"\"}}],\"contour\":[{\"type\":\"contour\",\"colorbar\":{\"outlinewidth\":0,\"ticks\":\"\"},\"colorscale\":[[0.0,\"#0d0887\"],[0.1111111111111111,\"#46039f\"],[0.2222222222222222,\"#7201a8\"],[0.3333333333333333,\"#9c179e\"],[0.4444444444444444,\"#bd3786\"],[0.5555555555555556,\"#d8576b\"],[0.6666666666666666,\"#ed7953\"],[0.7777777777777778,\"#fb9f3a\"],[0.8888888888888888,\"#fdca26\"],[1.0,\"#f0f921\"]]}],\"surface\":[{\"type\":\"surface\",\"colorbar\":{\"outlinewidth\":0,\"ticks\":\"\"},\"colorscale\":[[0.0,\"#0d0887\"],[0.1111111111111111,\"#46039f\"],[0.2222222222222222,\"#7201a8\"],[0.3333333333333333,\"#9c179e\"],[0.4444444444444444,\"#bd3786\"],[0.5555555555555556,\"#d8576b\"],[0.6666666666666666,\"#ed7953\"],[0.7777777777777778,\"#fb9f3a\"],[0.8888888888888888,\"#fdca26\"],[1.0,\"#f0f921\"]]}],\"mesh3d\":[{\"type\":\"mesh3d\",\"colorbar\":{\"outlinewidth\":0,\"ticks\":\"\"}}],\"scatter\":[{\"fillpattern\":{\"fillmode\":\"overlay\",\"size\":10,\"solidity\":0.2},\"type\":\"scatter\"}],\"parcoords\":[{\"type\":\"parcoords\",\"line\":{\"colorbar\":{\"outlinewidth\":0,\"ticks\":\"\"}}}],\"scatterpolargl\":[{\"type\":\"scatterpolargl\",\"marker\":{\"colorbar\":{\"outlinewidth\":0,\"ticks\":\"\"}}}],\"bar\":[{\"error_x\":{\"color\":\"#2a3f5f\"},\"error_y\":{\"color\":\"#2a3f5f\"},\"marker\":{\"line\":{\"color\":\"#E5ECF6\",\"width\":0.5},\"pattern\":{\"fillmode\":\"overlay\",\"size\":10,\"solidity\":0.2}},\"type\":\"bar\"}],\"scattergeo\":[{\"type\":\"scattergeo\",\"marker\":{\"colorbar\":{\"outlinewidth\":0,\"ticks\":\"\"}}}],\"scatterpolar\":[{\"type\":\"scatterpolar\",\"marker\":{\"colorbar\":{\"outlinewidth\":0,\"ticks\":\"\"}}}],\"histogram\":[{\"marker\":{\"pattern\":{\"fillmode\":\"overlay\",\"size\":10,\"solidity\":0.2}},\"type\":\"histogram\"}],\"scattergl\":[{\"type\":\"scattergl\",\"marker\":{\"colorbar\":{\"outlinewidth\":0,\"ticks\":\"\"}}}],\"scatter3d\":[{\"type\":\"scatter3d\",\"line\":{\"colorbar\":{\"outlinewidth\":0,\"ticks\":\"\"}},\"marker\":{\"colorbar\":{\"outlinewidth\":0,\"ticks\":\"\"}}}],\"scattermapbox\":[{\"type\":\"scattermapbox\",\"marker\":{\"colorbar\":{\"outlinewidth\":0,\"ticks\":\"\"}}}],\"scatterternary\":[{\"type\":\"scatterternary\",\"marker\":{\"colorbar\":{\"outlinewidth\":0,\"ticks\":\"\"}}}],\"scattercarpet\":[{\"type\":\"scattercarpet\",\"marker\":{\"colorbar\":{\"outlinewidth\":0,\"ticks\":\"\"}}}],\"carpet\":[{\"aaxis\":{\"endlinecolor\":\"#2a3f5f\",\"gridcolor\":\"white\",\"linecolor\":\"white\",\"minorgridcolor\":\"white\",\"startlinecolor\":\"#2a3f5f\"},\"baxis\":{\"endlinecolor\":\"#2a3f5f\",\"gridcolor\":\"white\",\"linecolor\":\"white\",\"minorgridcolor\":\"white\",\"startlinecolor\":\"#2a3f5f\"},\"type\":\"carpet\"}],\"table\":[{\"cells\":{\"fill\":{\"color\":\"#EBF0F8\"},\"line\":{\"color\":\"white\"}},\"header\":{\"fill\":{\"color\":\"#C8D4E3\"},\"line\":{\"color\":\"white\"}},\"type\":\"table\"}],\"barpolar\":[{\"marker\":{\"line\":{\"color\":\"#E5ECF6\",\"width\":0.5},\"pattern\":{\"fillmode\":\"overlay\",\"size\":10,\"solidity\":0.2}},\"type\":\"barpolar\"}],\"pie\":[{\"automargin\":true,\"type\":\"pie\"}]},\"layout\":{\"autotypenumbers\":\"strict\",\"colorway\":[\"#636efa\",\"#EF553B\",\"#00cc96\",\"#ab63fa\",\"#FFA15A\",\"#19d3f3\",\"#FF6692\",\"#B6E880\",\"#FF97FF\",\"#FECB52\"],\"font\":{\"color\":\"#2a3f5f\"},\"hovermode\":\"closest\",\"hoverlabel\":{\"align\":\"left\"},\"paper_bgcolor\":\"white\",\"plot_bgcolor\":\"#E5ECF6\",\"polar\":{\"bgcolor\":\"#E5ECF6\",\"angularaxis\":{\"gridcolor\":\"white\",\"linecolor\":\"white\",\"ticks\":\"\"},\"radialaxis\":{\"gridcolor\":\"white\",\"linecolor\":\"white\",\"ticks\":\"\"}},\"ternary\":{\"bgcolor\":\"#E5ECF6\",\"aaxis\":{\"gridcolor\":\"white\",\"linecolor\":\"white\",\"ticks\":\"\"},\"baxis\":{\"gridcolor\":\"white\",\"linecolor\":\"white\",\"ticks\":\"\"},\"caxis\":{\"gridcolor\":\"white\",\"linecolor\":\"white\",\"ticks\":\"\"}},\"coloraxis\":{\"colorbar\":{\"outlinewidth\":0,\"ticks\":\"\"}},\"colorscale\":{\"sequential\":[[0.0,\"#0d0887\"],[0.1111111111111111,\"#46039f\"],[0.2222222222222222,\"#7201a8\"],[0.3333333333333333,\"#9c179e\"],[0.4444444444444444,\"#bd3786\"],[0.5555555555555556,\"#d8576b\"],[0.6666666666666666,\"#ed7953\"],[0.7777777777777778,\"#fb9f3a\"],[0.8888888888888888,\"#fdca26\"],[1.0,\"#f0f921\"]],\"sequentialminus\":[[0.0,\"#0d0887\"],[0.1111111111111111,\"#46039f\"],[0.2222222222222222,\"#7201a8\"],[0.3333333333333333,\"#9c179e\"],[0.4444444444444444,\"#bd3786\"],[0.5555555555555556,\"#d8576b\"],[0.6666666666666666,\"#ed7953\"],[0.7777777777777778,\"#fb9f3a\"],[0.8888888888888888,\"#fdca26\"],[1.0,\"#f0f921\"]],\"diverging\":[[0,\"#8e0152\"],[0.1,\"#c51b7d\"],[0.2,\"#de77ae\"],[0.3,\"#f1b6da\"],[0.4,\"#fde0ef\"],[0.5,\"#f7f7f7\"],[0.6,\"#e6f5d0\"],[0.7,\"#b8e186\"],[0.8,\"#7fbc41\"],[0.9,\"#4d9221\"],[1,\"#276419\"]]},\"xaxis\":{\"gridcolor\":\"white\",\"linecolor\":\"white\",\"ticks\":\"\",\"title\":{\"standoff\":15},\"zerolinecolor\":\"white\",\"automargin\":true,\"zerolinewidth\":2},\"yaxis\":{\"gridcolor\":\"white\",\"linecolor\":\"white\",\"ticks\":\"\",\"title\":{\"standoff\":15},\"zerolinecolor\":\"white\",\"automargin\":true,\"zerolinewidth\":2},\"scene\":{\"xaxis\":{\"backgroundcolor\":\"#E5ECF6\",\"gridcolor\":\"white\",\"linecolor\":\"white\",\"showbackground\":true,\"ticks\":\"\",\"zerolinecolor\":\"white\",\"gridwidth\":2},\"yaxis\":{\"backgroundcolor\":\"#E5ECF6\",\"gridcolor\":\"white\",\"linecolor\":\"white\",\"showbackground\":true,\"ticks\":\"\",\"zerolinecolor\":\"white\",\"gridwidth\":2},\"zaxis\":{\"backgroundcolor\":\"#E5ECF6\",\"gridcolor\":\"white\",\"linecolor\":\"white\",\"showbackground\":true,\"ticks\":\"\",\"zerolinecolor\":\"white\",\"gridwidth\":2}},\"shapedefaults\":{\"line\":{\"color\":\"#2a3f5f\"}},\"annotationdefaults\":{\"arrowcolor\":\"#2a3f5f\",\"arrowhead\":0,\"arrowwidth\":1},\"geo\":{\"bgcolor\":\"white\",\"landcolor\":\"#E5ECF6\",\"subunitcolor\":\"white\",\"showland\":true,\"showlakes\":true,\"lakecolor\":\"white\"},\"title\":{\"x\":0.05},\"mapbox\":{\"style\":\"light\"}}},\"legend\":{\"tracegroupgap\":0},\"title\":{\"text\":\"Attrition Rate by Gender\"}},                        {\"responsive\": true}                    ).then(function(){\n",
       "                            \n",
       "var gd = document.getElementById('44360001-f807-4505-8249-f6079522b164');\n",
       "var x = new MutationObserver(function (mutations, observer) {{\n",
       "        var display = window.getComputedStyle(gd).display;\n",
       "        if (!display || display === 'none') {{\n",
       "            console.log([gd, 'removed!']);\n",
       "            Plotly.purge(gd);\n",
       "            observer.disconnect();\n",
       "        }}\n",
       "}});\n",
       "\n",
       "// Listen for the removal of the full notebook cells\n",
       "var notebookContainer = gd.closest('#notebook-container');\n",
       "if (notebookContainer) {{\n",
       "    x.observe(notebookContainer, {childList: true});\n",
       "}}\n",
       "\n",
       "// Listen for the clearing of the current output cell\n",
       "var outputEl = gd.closest('.output');\n",
       "if (outputEl) {{\n",
       "    x.observe(outputEl, {childList: true});\n",
       "}}\n",
       "\n",
       "                        })                };                });            </script>        </div>"
      ]
     },
     "metadata": {},
     "output_type": "display_data"
    }
   ],
   "source": [
    "#Attrition rate by gender\n",
    "gender_attrition = emp_attrition.groupby('Gender')['Attrition'].mean().reset_index()\n",
    "gender_attrition['Attrition_Rate'] = gender_attrition['Attrition'] * 100\n",
    "print(gender_attrition)\n",
    "# Plot the data\n",
    "fig = px.pie(gender_attrition, names='Gender', values='Attrition_Rate',\n",
    "             title='Attrition Rate by Gender',\n",
    "             labels={'Attrition_Rate': 'Attrition Rate (%)'},\n",
    "             color=['#FCC981','#A7FCEF'])\n",
    "fig.show()"
   ]
  },
  {
   "cell_type": "markdown",
   "id": "26115b08-1113-4828-bb0f-56affc1a5b24",
   "metadata": {},
   "source": [
    "#Female attrition is more as compared to male i.e 51%"
   ]
  },
  {
   "cell_type": "code",
   "execution_count": 234,
   "id": "7c37f602-a2b5-4f13-8ea5-65442b765559",
   "metadata": {},
   "outputs": [
    {
     "name": "stdout",
     "output_type": "stream",
     "text": [
      "    Department  Attrition\n",
      "0  Engineering   0.534314\n",
      "1      Finance   0.519417\n",
      "2           HR   0.502618\n",
      "3    Marketing   0.421053\n",
      "4        Sales   0.492823\n"
     ]
    },
    {
     "data": {
      "application/vnd.plotly.v1+json": {
       "config": {
        "plotlyServerURL": "https://plot.ly"
       },
       "data": [
        {
         "alignmentgroup": "True",
         "hovertemplate": "Department=%{x}<br>Attrition=%{y}<extra></extra>",
         "legendgroup": "",
         "marker": {
          "color": "#E3BE8A",
          "pattern": {
           "shape": ""
          }
         },
         "name": "",
         "offsetgroup": "",
         "orientation": "v",
         "showlegend": false,
         "textposition": "auto",
         "type": "bar",
         "x": [
          "Engineering",
          "Finance",
          "HR",
          "Marketing",
          "Sales"
         ],
         "xaxis": "x",
         "y": [
          53.431372549019606,
          51.94174757281553,
          50.26178010471204,
          42.10526315789473,
          49.282296650717704
         ],
         "yaxis": "y"
        }
       ],
       "layout": {
        "autosize": true,
        "barmode": "relative",
        "legend": {
         "tracegroupgap": 0
        },
        "template": {
         "data": {
          "bar": [
           {
            "error_x": {
             "color": "#2a3f5f"
            },
            "error_y": {
             "color": "#2a3f5f"
            },
            "marker": {
             "line": {
              "color": "#E5ECF6",
              "width": 0.5
             },
             "pattern": {
              "fillmode": "overlay",
              "size": 10,
              "solidity": 0.2
             }
            },
            "type": "bar"
           }
          ],
          "barpolar": [
           {
            "marker": {
             "line": {
              "color": "#E5ECF6",
              "width": 0.5
             },
             "pattern": {
              "fillmode": "overlay",
              "size": 10,
              "solidity": 0.2
             }
            },
            "type": "barpolar"
           }
          ],
          "carpet": [
           {
            "aaxis": {
             "endlinecolor": "#2a3f5f",
             "gridcolor": "white",
             "linecolor": "white",
             "minorgridcolor": "white",
             "startlinecolor": "#2a3f5f"
            },
            "baxis": {
             "endlinecolor": "#2a3f5f",
             "gridcolor": "white",
             "linecolor": "white",
             "minorgridcolor": "white",
             "startlinecolor": "#2a3f5f"
            },
            "type": "carpet"
           }
          ],
          "choropleth": [
           {
            "colorbar": {
             "outlinewidth": 0,
             "ticks": ""
            },
            "type": "choropleth"
           }
          ],
          "contour": [
           {
            "colorbar": {
             "outlinewidth": 0,
             "ticks": ""
            },
            "colorscale": [
             [
              0,
              "#0d0887"
             ],
             [
              0.1111111111111111,
              "#46039f"
             ],
             [
              0.2222222222222222,
              "#7201a8"
             ],
             [
              0.3333333333333333,
              "#9c179e"
             ],
             [
              0.4444444444444444,
              "#bd3786"
             ],
             [
              0.5555555555555556,
              "#d8576b"
             ],
             [
              0.6666666666666666,
              "#ed7953"
             ],
             [
              0.7777777777777778,
              "#fb9f3a"
             ],
             [
              0.8888888888888888,
              "#fdca26"
             ],
             [
              1,
              "#f0f921"
             ]
            ],
            "type": "contour"
           }
          ],
          "contourcarpet": [
           {
            "colorbar": {
             "outlinewidth": 0,
             "ticks": ""
            },
            "type": "contourcarpet"
           }
          ],
          "heatmap": [
           {
            "colorbar": {
             "outlinewidth": 0,
             "ticks": ""
            },
            "colorscale": [
             [
              0,
              "#0d0887"
             ],
             [
              0.1111111111111111,
              "#46039f"
             ],
             [
              0.2222222222222222,
              "#7201a8"
             ],
             [
              0.3333333333333333,
              "#9c179e"
             ],
             [
              0.4444444444444444,
              "#bd3786"
             ],
             [
              0.5555555555555556,
              "#d8576b"
             ],
             [
              0.6666666666666666,
              "#ed7953"
             ],
             [
              0.7777777777777778,
              "#fb9f3a"
             ],
             [
              0.8888888888888888,
              "#fdca26"
             ],
             [
              1,
              "#f0f921"
             ]
            ],
            "type": "heatmap"
           }
          ],
          "heatmapgl": [
           {
            "colorbar": {
             "outlinewidth": 0,
             "ticks": ""
            },
            "colorscale": [
             [
              0,
              "#0d0887"
             ],
             [
              0.1111111111111111,
              "#46039f"
             ],
             [
              0.2222222222222222,
              "#7201a8"
             ],
             [
              0.3333333333333333,
              "#9c179e"
             ],
             [
              0.4444444444444444,
              "#bd3786"
             ],
             [
              0.5555555555555556,
              "#d8576b"
             ],
             [
              0.6666666666666666,
              "#ed7953"
             ],
             [
              0.7777777777777778,
              "#fb9f3a"
             ],
             [
              0.8888888888888888,
              "#fdca26"
             ],
             [
              1,
              "#f0f921"
             ]
            ],
            "type": "heatmapgl"
           }
          ],
          "histogram": [
           {
            "marker": {
             "pattern": {
              "fillmode": "overlay",
              "size": 10,
              "solidity": 0.2
             }
            },
            "type": "histogram"
           }
          ],
          "histogram2d": [
           {
            "colorbar": {
             "outlinewidth": 0,
             "ticks": ""
            },
            "colorscale": [
             [
              0,
              "#0d0887"
             ],
             [
              0.1111111111111111,
              "#46039f"
             ],
             [
              0.2222222222222222,
              "#7201a8"
             ],
             [
              0.3333333333333333,
              "#9c179e"
             ],
             [
              0.4444444444444444,
              "#bd3786"
             ],
             [
              0.5555555555555556,
              "#d8576b"
             ],
             [
              0.6666666666666666,
              "#ed7953"
             ],
             [
              0.7777777777777778,
              "#fb9f3a"
             ],
             [
              0.8888888888888888,
              "#fdca26"
             ],
             [
              1,
              "#f0f921"
             ]
            ],
            "type": "histogram2d"
           }
          ],
          "histogram2dcontour": [
           {
            "colorbar": {
             "outlinewidth": 0,
             "ticks": ""
            },
            "colorscale": [
             [
              0,
              "#0d0887"
             ],
             [
              0.1111111111111111,
              "#46039f"
             ],
             [
              0.2222222222222222,
              "#7201a8"
             ],
             [
              0.3333333333333333,
              "#9c179e"
             ],
             [
              0.4444444444444444,
              "#bd3786"
             ],
             [
              0.5555555555555556,
              "#d8576b"
             ],
             [
              0.6666666666666666,
              "#ed7953"
             ],
             [
              0.7777777777777778,
              "#fb9f3a"
             ],
             [
              0.8888888888888888,
              "#fdca26"
             ],
             [
              1,
              "#f0f921"
             ]
            ],
            "type": "histogram2dcontour"
           }
          ],
          "mesh3d": [
           {
            "colorbar": {
             "outlinewidth": 0,
             "ticks": ""
            },
            "type": "mesh3d"
           }
          ],
          "parcoords": [
           {
            "line": {
             "colorbar": {
              "outlinewidth": 0,
              "ticks": ""
             }
            },
            "type": "parcoords"
           }
          ],
          "pie": [
           {
            "automargin": true,
            "type": "pie"
           }
          ],
          "scatter": [
           {
            "fillpattern": {
             "fillmode": "overlay",
             "size": 10,
             "solidity": 0.2
            },
            "type": "scatter"
           }
          ],
          "scatter3d": [
           {
            "line": {
             "colorbar": {
              "outlinewidth": 0,
              "ticks": ""
             }
            },
            "marker": {
             "colorbar": {
              "outlinewidth": 0,
              "ticks": ""
             }
            },
            "type": "scatter3d"
           }
          ],
          "scattercarpet": [
           {
            "marker": {
             "colorbar": {
              "outlinewidth": 0,
              "ticks": ""
             }
            },
            "type": "scattercarpet"
           }
          ],
          "scattergeo": [
           {
            "marker": {
             "colorbar": {
              "outlinewidth": 0,
              "ticks": ""
             }
            },
            "type": "scattergeo"
           }
          ],
          "scattergl": [
           {
            "marker": {
             "colorbar": {
              "outlinewidth": 0,
              "ticks": ""
             }
            },
            "type": "scattergl"
           }
          ],
          "scattermapbox": [
           {
            "marker": {
             "colorbar": {
              "outlinewidth": 0,
              "ticks": ""
             }
            },
            "type": "scattermapbox"
           }
          ],
          "scatterpolar": [
           {
            "marker": {
             "colorbar": {
              "outlinewidth": 0,
              "ticks": ""
             }
            },
            "type": "scatterpolar"
           }
          ],
          "scatterpolargl": [
           {
            "marker": {
             "colorbar": {
              "outlinewidth": 0,
              "ticks": ""
             }
            },
            "type": "scatterpolargl"
           }
          ],
          "scatterternary": [
           {
            "marker": {
             "colorbar": {
              "outlinewidth": 0,
              "ticks": ""
             }
            },
            "type": "scatterternary"
           }
          ],
          "surface": [
           {
            "colorbar": {
             "outlinewidth": 0,
             "ticks": ""
            },
            "colorscale": [
             [
              0,
              "#0d0887"
             ],
             [
              0.1111111111111111,
              "#46039f"
             ],
             [
              0.2222222222222222,
              "#7201a8"
             ],
             [
              0.3333333333333333,
              "#9c179e"
             ],
             [
              0.4444444444444444,
              "#bd3786"
             ],
             [
              0.5555555555555556,
              "#d8576b"
             ],
             [
              0.6666666666666666,
              "#ed7953"
             ],
             [
              0.7777777777777778,
              "#fb9f3a"
             ],
             [
              0.8888888888888888,
              "#fdca26"
             ],
             [
              1,
              "#f0f921"
             ]
            ],
            "type": "surface"
           }
          ],
          "table": [
           {
            "cells": {
             "fill": {
              "color": "#EBF0F8"
             },
             "line": {
              "color": "white"
             }
            },
            "header": {
             "fill": {
              "color": "#C8D4E3"
             },
             "line": {
              "color": "white"
             }
            },
            "type": "table"
           }
          ]
         },
         "layout": {
          "annotationdefaults": {
           "arrowcolor": "#2a3f5f",
           "arrowhead": 0,
           "arrowwidth": 1
          },
          "autotypenumbers": "strict",
          "coloraxis": {
           "colorbar": {
            "outlinewidth": 0,
            "ticks": ""
           }
          },
          "colorscale": {
           "diverging": [
            [
             0,
             "#8e0152"
            ],
            [
             0.1,
             "#c51b7d"
            ],
            [
             0.2,
             "#de77ae"
            ],
            [
             0.3,
             "#f1b6da"
            ],
            [
             0.4,
             "#fde0ef"
            ],
            [
             0.5,
             "#f7f7f7"
            ],
            [
             0.6,
             "#e6f5d0"
            ],
            [
             0.7,
             "#b8e186"
            ],
            [
             0.8,
             "#7fbc41"
            ],
            [
             0.9,
             "#4d9221"
            ],
            [
             1,
             "#276419"
            ]
           ],
           "sequential": [
            [
             0,
             "#0d0887"
            ],
            [
             0.1111111111111111,
             "#46039f"
            ],
            [
             0.2222222222222222,
             "#7201a8"
            ],
            [
             0.3333333333333333,
             "#9c179e"
            ],
            [
             0.4444444444444444,
             "#bd3786"
            ],
            [
             0.5555555555555556,
             "#d8576b"
            ],
            [
             0.6666666666666666,
             "#ed7953"
            ],
            [
             0.7777777777777778,
             "#fb9f3a"
            ],
            [
             0.8888888888888888,
             "#fdca26"
            ],
            [
             1,
             "#f0f921"
            ]
           ],
           "sequentialminus": [
            [
             0,
             "#0d0887"
            ],
            [
             0.1111111111111111,
             "#46039f"
            ],
            [
             0.2222222222222222,
             "#7201a8"
            ],
            [
             0.3333333333333333,
             "#9c179e"
            ],
            [
             0.4444444444444444,
             "#bd3786"
            ],
            [
             0.5555555555555556,
             "#d8576b"
            ],
            [
             0.6666666666666666,
             "#ed7953"
            ],
            [
             0.7777777777777778,
             "#fb9f3a"
            ],
            [
             0.8888888888888888,
             "#fdca26"
            ],
            [
             1,
             "#f0f921"
            ]
           ]
          },
          "colorway": [
           "#636efa",
           "#EF553B",
           "#00cc96",
           "#ab63fa",
           "#FFA15A",
           "#19d3f3",
           "#FF6692",
           "#B6E880",
           "#FF97FF",
           "#FECB52"
          ],
          "font": {
           "color": "#2a3f5f"
          },
          "geo": {
           "bgcolor": "white",
           "lakecolor": "white",
           "landcolor": "#E5ECF6",
           "showlakes": true,
           "showland": true,
           "subunitcolor": "white"
          },
          "hoverlabel": {
           "align": "left"
          },
          "hovermode": "closest",
          "mapbox": {
           "style": "light"
          },
          "paper_bgcolor": "white",
          "plot_bgcolor": "#E5ECF6",
          "polar": {
           "angularaxis": {
            "gridcolor": "white",
            "linecolor": "white",
            "ticks": ""
           },
           "bgcolor": "#E5ECF6",
           "radialaxis": {
            "gridcolor": "white",
            "linecolor": "white",
            "ticks": ""
           }
          },
          "scene": {
           "xaxis": {
            "backgroundcolor": "#E5ECF6",
            "gridcolor": "white",
            "gridwidth": 2,
            "linecolor": "white",
            "showbackground": true,
            "ticks": "",
            "zerolinecolor": "white"
           },
           "yaxis": {
            "backgroundcolor": "#E5ECF6",
            "gridcolor": "white",
            "gridwidth": 2,
            "linecolor": "white",
            "showbackground": true,
            "ticks": "",
            "zerolinecolor": "white"
           },
           "zaxis": {
            "backgroundcolor": "#E5ECF6",
            "gridcolor": "white",
            "gridwidth": 2,
            "linecolor": "white",
            "showbackground": true,
            "ticks": "",
            "zerolinecolor": "white"
           }
          },
          "shapedefaults": {
           "line": {
            "color": "#2a3f5f"
           }
          },
          "ternary": {
           "aaxis": {
            "gridcolor": "white",
            "linecolor": "white",
            "ticks": ""
           },
           "baxis": {
            "gridcolor": "white",
            "linecolor": "white",
            "ticks": ""
           },
           "bgcolor": "#E5ECF6",
           "caxis": {
            "gridcolor": "white",
            "linecolor": "white",
            "ticks": ""
           }
          },
          "title": {
           "x": 0.05
          },
          "xaxis": {
           "automargin": true,
           "gridcolor": "white",
           "linecolor": "white",
           "ticks": "",
           "title": {
            "standoff": 15
           },
           "zerolinecolor": "white",
           "zerolinewidth": 2
          },
          "yaxis": {
           "automargin": true,
           "gridcolor": "white",
           "linecolor": "white",
           "ticks": "",
           "title": {
            "standoff": 15
           },
           "zerolinecolor": "white",
           "zerolinewidth": 2
          }
         }
        },
        "title": {
         "text": "Attrition Rate by Gender"
        },
        "xaxis": {
         "anchor": "y",
         "autorange": true,
         "domain": [
          0,
          1
         ],
         "range": [
          -0.5,
          4.5
         ],
         "title": {
          "text": "Department"
         },
         "type": "category"
        },
        "yaxis": {
         "anchor": "x",
         "autorange": true,
         "domain": [
          0,
          1
         ],
         "range": [
          0,
          56.243550051599584
         ],
         "title": {
          "text": "Attrition"
         },
         "type": "linear"
        }
       }
      },
      "image/png": "[encoded data removed]",
      "text/html": [
       "<div>                            <div id=\"3db01e5d-c4ee-4086-82bf-17f7a3188925\" class=\"plotly-graph-div\" style=\"height:525px; width:100%;\"></div>            <script type=\"text/javascript\">                require([\"plotly\"], function(Plotly) {                    window.PLOTLYENV=window.PLOTLYENV || {};                                    if (document.getElementById(\"3db01e5d-c4ee-4086-82bf-17f7a3188925\")) {                    Plotly.newPlot(                        \"3db01e5d-c4ee-4086-82bf-17f7a3188925\",                        [{\"alignmentgroup\":\"True\",\"hovertemplate\":\"Department=%{x}<br>Attrition=%{y}<extra></extra>\",\"legendgroup\":\"\",\"marker\":{\"color\":\"#E3BE8A\",\"pattern\":{\"shape\":\"\"}},\"name\":\"\",\"offsetgroup\":\"\",\"orientation\":\"v\",\"showlegend\":false,\"textposition\":\"auto\",\"x\":[\"Engineering\",\"Finance\",\"HR\",\"Marketing\",\"Sales\"],\"xaxis\":\"x\",\"y\":[53.431372549019606,51.94174757281553,50.26178010471204,42.10526315789473,49.282296650717704],\"yaxis\":\"y\",\"type\":\"bar\"}],                        {\"template\":{\"data\":{\"histogram2dcontour\":[{\"type\":\"histogram2dcontour\",\"colorbar\":{\"outlinewidth\":0,\"ticks\":\"\"},\"colorscale\":[[0.0,\"#0d0887\"],[0.1111111111111111,\"#46039f\"],[0.2222222222222222,\"#7201a8\"],[0.3333333333333333,\"#9c179e\"],[0.4444444444444444,\"#bd3786\"],[0.5555555555555556,\"#d8576b\"],[0.6666666666666666,\"#ed7953\"],[0.7777777777777778,\"#fb9f3a\"],[0.8888888888888888,\"#fdca26\"],[1.0,\"#f0f921\"]]}],\"choropleth\":[{\"type\":\"choropleth\",\"colorbar\":{\"outlinewidth\":0,\"ticks\":\"\"}}],\"histogram2d\":[{\"type\":\"histogram2d\",\"colorbar\":{\"outlinewidth\":0,\"ticks\":\"\"},\"colorscale\":[[0.0,\"#0d0887\"],[0.1111111111111111,\"#46039f\"],[0.2222222222222222,\"#7201a8\"],[0.3333333333333333,\"#9c179e\"],[0.4444444444444444,\"#bd3786\"],[0.5555555555555556,\"#d8576b\"],[0.6666666666666666,\"#ed7953\"],[0.7777777777777778,\"#fb9f3a\"],[0.8888888888888888,\"#fdca26\"],[1.0,\"#f0f921\"]]}],\"heatmap\":[{\"type\":\"heatmap\",\"colorbar\":{\"outlinewidth\":0,\"ticks\":\"\"},\"colorscale\":[[0.0,\"#0d0887\"],[0.1111111111111111,\"#46039f\"],[0.2222222222222222,\"#7201a8\"],[0.3333333333333333,\"#9c179e\"],[0.4444444444444444,\"#bd3786\"],[0.5555555555555556,\"#d8576b\"],[0.6666666666666666,\"#ed7953\"],[0.7777777777777778,\"#fb9f3a\"],[0.8888888888888888,\"#fdca26\"],[1.0,\"#f0f921\"]]}],\"heatmapgl\":[{\"type\":\"heatmapgl\",\"colorbar\":{\"outlinewidth\":0,\"ticks\":\"\"},\"colorscale\":[[0.0,\"#0d0887\"],[0.1111111111111111,\"#46039f\"],[0.2222222222222222,\"#7201a8\"],[0.3333333333333333,\"#9c179e\"],[0.4444444444444444,\"#bd3786\"],[0.5555555555555556,\"#d8576b\"],[0.6666666666666666,\"#ed7953\"],[0.7777777777777778,\"#fb9f3a\"],[0.8888888888888888,\"#fdca26\"],[1.0,\"#f0f921\"]]}],\"contourcarpet\":[{\"type\":\"contourcarpet\",\"colorbar\":{\"outlinewidth\":0,\"ticks\":\"\"}}],\"contour\":[{\"type\":\"contour\",\"colorbar\":{\"outlinewidth\":0,\"ticks\":\"\"},\"colorscale\":[[0.0,\"#0d0887\"],[0.1111111111111111,\"#46039f\"],[0.2222222222222222,\"#7201a8\"],[0.3333333333333333,\"#9c179e\"],[0.4444444444444444,\"#bd3786\"],[0.5555555555555556,\"#d8576b\"],[0.6666666666666666,\"#ed7953\"],[0.7777777777777778,\"#fb9f3a\"],[0.8888888888888888,\"#fdca26\"],[1.0,\"#f0f921\"]]}],\"surface\":[{\"type\":\"surface\",\"colorbar\":{\"outlinewidth\":0,\"ticks\":\"\"},\"colorscale\":[[0.0,\"#0d0887\"],[0.1111111111111111,\"#46039f\"],[0.2222222222222222,\"#7201a8\"],[0.3333333333333333,\"#9c179e\"],[0.4444444444444444,\"#bd3786\"],[0.5555555555555556,\"#d8576b\"],[0.6666666666666666,\"#ed7953\"],[0.7777777777777778,\"#fb9f3a\"],[0.8888888888888888,\"#fdca26\"],[1.0,\"#f0f921\"]]}],\"mesh3d\":[{\"type\":\"mesh3d\",\"colorbar\":{\"outlinewidth\":0,\"ticks\":\"\"}}],\"scatter\":[{\"fillpattern\":{\"fillmode\":\"overlay\",\"size\":10,\"solidity\":0.2},\"type\":\"scatter\"}],\"parcoords\":[{\"type\":\"parcoords\",\"line\":{\"colorbar\":{\"outlinewidth\":0,\"ticks\":\"\"}}}],\"scatterpolargl\":[{\"type\":\"scatterpolargl\",\"marker\":{\"colorbar\":{\"outlinewidth\":0,\"ticks\":\"\"}}}],\"bar\":[{\"error_x\":{\"color\":\"#2a3f5f\"},\"error_y\":{\"color\":\"#2a3f5f\"},\"marker\":{\"line\":{\"color\":\"#E5ECF6\",\"width\":0.5},\"pattern\":{\"fillmode\":\"overlay\",\"size\":10,\"solidity\":0.2}},\"type\":\"bar\"}],\"scattergeo\":[{\"type\":\"scattergeo\",\"marker\":{\"colorbar\":{\"outlinewidth\":0,\"ticks\":\"\"}}}],\"scatterpolar\":[{\"type\":\"scatterpolar\",\"marker\":{\"colorbar\":{\"outlinewidth\":0,\"ticks\":\"\"}}}],\"histogram\":[{\"marker\":{\"pattern\":{\"fillmode\":\"overlay\",\"size\":10,\"solidity\":0.2}},\"type\":\"histogram\"}],\"scattergl\":[{\"type\":\"scattergl\",\"marker\":{\"colorbar\":{\"outlinewidth\":0,\"ticks\":\"\"}}}],\"scatter3d\":[{\"type\":\"scatter3d\",\"line\":{\"colorbar\":{\"outlinewidth\":0,\"ticks\":\"\"}},\"marker\":{\"colorbar\":{\"outlinewidth\":0,\"ticks\":\"\"}}}],\"scattermapbox\":[{\"type\":\"scattermapbox\",\"marker\":{\"colorbar\":{\"outlinewidth\":0,\"ticks\":\"\"}}}],\"scatterternary\":[{\"type\":\"scatterternary\",\"marker\":{\"colorbar\":{\"outlinewidth\":0,\"ticks\":\"\"}}}],\"scattercarpet\":[{\"type\":\"scattercarpet\",\"marker\":{\"colorbar\":{\"outlinewidth\":0,\"ticks\":\"\"}}}],\"carpet\":[{\"aaxis\":{\"endlinecolor\":\"#2a3f5f\",\"gridcolor\":\"white\",\"linecolor\":\"white\",\"minorgridcolor\":\"white\",\"startlinecolor\":\"#2a3f5f\"},\"baxis\":{\"endlinecolor\":\"#2a3f5f\",\"gridcolor\":\"white\",\"linecolor\":\"white\",\"minorgridcolor\":\"white\",\"startlinecolor\":\"#2a3f5f\"},\"type\":\"carpet\"}],\"table\":[{\"cells\":{\"fill\":{\"color\":\"#EBF0F8\"},\"line\":{\"color\":\"white\"}},\"header\":{\"fill\":{\"color\":\"#C8D4E3\"},\"line\":{\"color\":\"white\"}},\"type\":\"table\"}],\"barpolar\":[{\"marker\":{\"line\":{\"color\":\"#E5ECF6\",\"width\":0.5},\"pattern\":{\"fillmode\":\"overlay\",\"size\":10,\"solidity\":0.2}},\"type\":\"barpolar\"}],\"pie\":[{\"automargin\":true,\"type\":\"pie\"}]},\"layout\":{\"autotypenumbers\":\"strict\",\"colorway\":[\"#636efa\",\"#EF553B\",\"#00cc96\",\"#ab63fa\",\"#FFA15A\",\"#19d3f3\",\"#FF6692\",\"#B6E880\",\"#FF97FF\",\"#FECB52\"],\"font\":{\"color\":\"#2a3f5f\"},\"hovermode\":\"closest\",\"hoverlabel\":{\"align\":\"left\"},\"paper_bgcolor\":\"white\",\"plot_bgcolor\":\"#E5ECF6\",\"polar\":{\"bgcolor\":\"#E5ECF6\",\"angularaxis\":{\"gridcolor\":\"white\",\"linecolor\":\"white\",\"ticks\":\"\"},\"radialaxis\":{\"gridcolor\":\"white\",\"linecolor\":\"white\",\"ticks\":\"\"}},\"ternary\":{\"bgcolor\":\"#E5ECF6\",\"aaxis\":{\"gridcolor\":\"white\",\"linecolor\":\"white\",\"ticks\":\"\"},\"baxis\":{\"gridcolor\":\"white\",\"linecolor\":\"white\",\"ticks\":\"\"},\"caxis\":{\"gridcolor\":\"white\",\"linecolor\":\"white\",\"ticks\":\"\"}},\"coloraxis\":{\"colorbar\":{\"outlinewidth\":0,\"ticks\":\"\"}},\"colorscale\":{\"sequential\":[[0.0,\"#0d0887\"],[0.1111111111111111,\"#46039f\"],[0.2222222222222222,\"#7201a8\"],[0.3333333333333333,\"#9c179e\"],[0.4444444444444444,\"#bd3786\"],[0.5555555555555556,\"#d8576b\"],[0.6666666666666666,\"#ed7953\"],[0.7777777777777778,\"#fb9f3a\"],[0.8888888888888888,\"#fdca26\"],[1.0,\"#f0f921\"]],\"sequentialminus\":[[0.0,\"#0d0887\"],[0.1111111111111111,\"#46039f\"],[0.2222222222222222,\"#7201a8\"],[0.3333333333333333,\"#9c179e\"],[0.4444444444444444,\"#bd3786\"],[0.5555555555555556,\"#d8576b\"],[0.6666666666666666,\"#ed7953\"],[0.7777777777777778,\"#fb9f3a\"],[0.8888888888888888,\"#fdca26\"],[1.0,\"#f0f921\"]],\"diverging\":[[0,\"#8e0152\"],[0.1,\"#c51b7d\"],[0.2,\"#de77ae\"],[0.3,\"#f1b6da\"],[0.4,\"#fde0ef\"],[0.5,\"#f7f7f7\"],[0.6,\"#e6f5d0\"],[0.7,\"#b8e186\"],[0.8,\"#7fbc41\"],[0.9,\"#4d9221\"],[1,\"#276419\"]]},\"xaxis\":{\"gridcolor\":\"white\",\"linecolor\":\"white\",\"ticks\":\"\",\"title\":{\"standoff\":15},\"zerolinecolor\":\"white\",\"automargin\":true,\"zerolinewidth\":2},\"yaxis\":{\"gridcolor\":\"white\",\"linecolor\":\"white\",\"ticks\":\"\",\"title\":{\"standoff\":15},\"zerolinecolor\":\"white\",\"automargin\":true,\"zerolinewidth\":2},\"scene\":{\"xaxis\":{\"backgroundcolor\":\"#E5ECF6\",\"gridcolor\":\"white\",\"linecolor\":\"white\",\"showbackground\":true,\"ticks\":\"\",\"zerolinecolor\":\"white\",\"gridwidth\":2},\"yaxis\":{\"backgroundcolor\":\"#E5ECF6\",\"gridcolor\":\"white\",\"linecolor\":\"white\",\"showbackground\":true,\"ticks\":\"\",\"zerolinecolor\":\"white\",\"gridwidth\":2},\"zaxis\":{\"backgroundcolor\":\"#E5ECF6\",\"gridcolor\":\"white\",\"linecolor\":\"white\",\"showbackground\":true,\"ticks\":\"\",\"zerolinecolor\":\"white\",\"gridwidth\":2}},\"shapedefaults\":{\"line\":{\"color\":\"#2a3f5f\"}},\"annotationdefaults\":{\"arrowcolor\":\"#2a3f5f\",\"arrowhead\":0,\"arrowwidth\":1},\"geo\":{\"bgcolor\":\"white\",\"landcolor\":\"#E5ECF6\",\"subunitcolor\":\"white\",\"showland\":true,\"showlakes\":true,\"lakecolor\":\"white\"},\"title\":{\"x\":0.05},\"mapbox\":{\"style\":\"light\"}}},\"xaxis\":{\"anchor\":\"y\",\"domain\":[0.0,1.0],\"title\":{\"text\":\"Department\"}},\"yaxis\":{\"anchor\":\"x\",\"domain\":[0.0,1.0],\"title\":{\"text\":\"Attrition\"}},\"legend\":{\"tracegroupgap\":0},\"title\":{\"text\":\"Attrition Rate by Gender\"},\"barmode\":\"relative\"},                        {\"responsive\": true}                    ).then(function(){\n",
       "                            \n",
       "var gd = document.getElementById('3db01e5d-c4ee-4086-82bf-17f7a3188925');\n",
       "var x = new MutationObserver(function (mutations, observer) {{\n",
       "        var display = window.getComputedStyle(gd).display;\n",
       "        if (!display || display === 'none') {{\n",
       "            console.log([gd, 'removed!']);\n",
       "            Plotly.purge(gd);\n",
       "            observer.disconnect();\n",
       "        }}\n",
       "}});\n",
       "\n",
       "// Listen for the removal of the full notebook cells\n",
       "var notebookContainer = gd.closest('#notebook-container');\n",
       "if (notebookContainer) {{\n",
       "    x.observe(notebookContainer, {childList: true});\n",
       "}}\n",
       "\n",
       "// Listen for the clearing of the current output cell\n",
       "var outputEl = gd.closest('.output');\n",
       "if (outputEl) {{\n",
       "    x.observe(outputEl, {childList: true});\n",
       "}}\n",
       "\n",
       "                        })                };                });            </script>        </div>"
      ]
     },
     "metadata": {},
     "output_type": "display_data"
    }
   ],
   "source": [
    "# Department feature by attrition feature\n",
    "depart_attrition = emp_attrition.groupby('Department')['Attrition'].mean().reset_index()\n",
    "print(depart_attrition)\n",
    "depart_attrition['Attrition'] = depart_attrition['Attrition'] * 100  # Convert to percentage\n",
    "# Plot the data\n",
    "fig1 = px.bar(depart_attrition, x='Department', y='Attrition',\n",
    "             title='Attrition Rate by Gender')\n",
    "fig1.update_traces(marker_color='#E3BE8A')\n",
    "fig1.show()"
   ]
  },
  {
   "cell_type": "markdown",
   "id": "ae277fa0-81fa-46b4-9357-b72f2a7de0ac",
   "metadata": {},
   "source": [
    "#Engineering department has more attrition i.e. 53%"
   ]
  },
  {
   "cell_type": "code",
   "execution_count": 235,
   "id": "bcfc330d-53ae-44bf-93c2-adb852fc70eb",
   "metadata": {},
   "outputs": [
    {
     "name": "stdout",
     "output_type": "stream",
     "text": [
      "   Attrition  count          mean           std      min      25%      50%  \\\n",
      "0          0  505.0  65383.287129  19896.212746  30532.0  48520.0  65708.0   \n",
      "1          1  495.0  63851.353535  20621.822347  30099.0  46217.0  63425.0   \n",
      "\n",
      "       75%      max  \n",
      "0  82067.0  99991.0  \n",
      "1  81563.5  99851.0  \n"
     ]
    },
    {
     "data": {
      "application/vnd.plotly.v1+json": {
       "config": {
        "plotlyServerURL": "https://plot.ly"
       },
       "data": [
        {
         "alignmentgroup": "True",
         "hovertemplate": "Attrition Status=%{x}<br>Salary=%{y}<extra></extra>",
         "legendgroup": "",
         "marker": {
          "color": "#636efa"
         },
         "name": "",
         "notched": false,
         "offsetgroup": "",
         "orientation": "v",
         "showlegend": false,
         "type": "box",
         "x": [
          0,
          0,
          1,
          0,
          0,
          0,
          0,
          0,
          1,
          0,
          1,
          0,
          1,
          1,
          1,
          0,
          1,
          0,
          0,
          1,
          1,
          0,
          1,
          0,
          0,
          1,
          0,
          0,
          0,
          1,
          1,
          1,
          0,
          1,
          1,
          0,
          0,
          0,
          1,
          0,
          0,
          0,
          1,
          1,
          1,
          1,
          0,
          0,
          0,
          1,
          0,
          0,
          1,
          1,
          1,
          1,
          1,
          0,
          0,
          1,
          1,
          0,
          0,
          1,
          0,
          0,
          1,
          1,
          0,
          0,
          1,
          0,
          0,
          0,
          1,
          0,
          1,
          0,
          1,
          0,
          0,
          1,
          1,
          1,
          0,
          0,
          0,
          0,
          1,
          0,
          1,
          0,
          1,
          0,
          0,
          1,
          0,
          0,
          0,
          1,
          1,
          0,
          0,
          1,
          1,
          0,
          0,
          1,
          0,
          1,
          0,
          1,
          1,
          1,
          0,
          0,
          1,
          0,
          0,
          1,
          1,
          0,
          1,
          0,
          0,
          0,
          0,
          0,
          0,
          0,
          1,
          1,
          1,
          1,
          0,
          1,
          0,
          1,
          0,
          0,
          0,
          1,
          0,
          1,
          1,
          0,
          1,
          0,
          0,
          1,
          0,
          0,
          1,
          1,
          1,
          1,
          1,
          0,
          1,
          1,
          0,
          1,
          1,
          0,
          1,
          1,
          0,
          1,
          0,
          1,
          1,
          1,
          0,
          0,
          1,
          1,
          0,
          1,
          1,
          0,
          1,
          1,
          1,
          1,
          0,
          0,
          1,
          1,
          1,
          0,
          0,
          0,
          0,
          0,
          1,
          0,
          0,
          0,
          0,
          1,
          1,
          1,
          1,
          1,
          0,
          0,
          0,
          0,
          0,
          0,
          0,
          0,
          0,
          0,
          1,
          0,
          0,
          1,
          0,
          0,
          1,
          0,
          1,
          0,
          1,
          1,
          0,
          0,
          1,
          1,
          0,
          1,
          1,
          0,
          0,
          1,
          1,
          1,
          0,
          1,
          0,
          1,
          1,
          1,
          1,
          1,
          0,
          1,
          1,
          0,
          0,
          0,
          0,
          0,
          0,
          1,
          0,
          1,
          0,
          1,
          0,
          1,
          1,
          1,
          0,
          0,
          1,
          0,
          0,
          1,
          0,
          0,
          1,
          1,
          0,
          0,
          0,
          1,
          0,
          1,
          1,
          0,
          0,
          1,
          1,
          1,
          0,
          0,
          0,
          0,
          1,
          0,
          1,
          0,
          0,
          0,
          0,
          1,
          0,
          1,
          1,
          1,
          1,
          0,
          0,
          0,
          0,
          1,
          0,
          1,
          1,
          1,
          1,
          0,
          0,
          0,
          1,
          1,
          1,
          1,
          1,
          1,
          1,
          1,
          0,
          1,
          1,
          0,
          0,
          0,
          1,
          1,
          0,
          0,
          1,
          1,
          1,
          1,
          1,
          0,
          1,
          0,
          1,
          0,
          0,
          1,
          0,
          1,
          1,
          1,
          1,
          0,
          1,
          0,
          0,
          0,
          1,
          0,
          1,
          1,
          1,
          0,
          0,
          1,
          0,
          1,
          1,
          1,
          1,
          0,
          0,
          0,
          1,
          1,
          0,
          1,
          0,
          1,
          1,
          1,
          1,
          0,
          0,
          1,
          0,
          1,
          1,
          0,
          0,
          0,
          1,
          0,
          1,
          0,
          1,
          1,
          0,
          0,
          1,
          1,
          1,
          1,
          0,
          1,
          0,
          1,
          1,
          1,
          0,
          0,
          0,
          0,
          0,
          1,
          1,
          1,
          1,
          1,
          1,
          1,
          0,
          1,
          0,
          0,
          0,
          0,
          0,
          1,
          1,
          0,
          1,
          1,
          1,
          0,
          1,
          0,
          1,
          0,
          1,
          1,
          0,
          1,
          0,
          0,
          0,
          0,
          1,
          1,
          1,
          1,
          0,
          0,
          0,
          1,
          1,
          0,
          1,
          1,
          0,
          0,
          1,
          1,
          0,
          1,
          0,
          0,
          0,
          0,
          1,
          0,
          1,
          1,
          1,
          1,
          1,
          1,
          1,
          1,
          0,
          1,
          1,
          1,
          0,
          0,
          0,
          0,
          1,
          1,
          1,
          1,
          1,
          0,
          1,
          0,
          0,
          0,
          1,
          0,
          0,
          1,
          0,
          1,
          1,
          1,
          1,
          0,
          0,
          1,
          1,
          1,
          0,
          0,
          0,
          0,
          1,
          0,
          0,
          0,
          1,
          0,
          0,
          1,
          0,
          0,
          0,
          0,
          1,
          0,
          1,
          1,
          1,
          1,
          0,
          1,
          0,
          1,
          1,
          0,
          0,
          0,
          1,
          0,
          0,
          1,
          1,
          1,
          1,
          0,
          0,
          0,
          0,
          1,
          1,
          0,
          0,
          0,
          1,
          0,
          0,
          1,
          0,
          0,
          1,
          1,
          1,
          0,
          1,
          0,
          0,
          1,
          1,
          1,
          0,
          0,
          0,
          1,
          0,
          0,
          1,
          0,
          1,
          1,
          1,
          1,
          0,
          1,
          1,
          1,
          0,
          0,
          1,
          0,
          0,
          0,
          1,
          0,
          1,
          0,
          1,
          1,
          0,
          0,
          1,
          0,
          1,
          0,
          1,
          1,
          0,
          0,
          0,
          1,
          1,
          1,
          0,
          1,
          1,
          1,
          0,
          1,
          1,
          1,
          0,
          1,
          1,
          1,
          1,
          0,
          0,
          0,
          0,
          0,
          1,
          0,
          1,
          1,
          1,
          1,
          1,
          0,
          1,
          1,
          0,
          1,
          1,
          1,
          1,
          1,
          0,
          0,
          1,
          0,
          0,
          0,
          1,
          0,
          0,
          0,
          1,
          1,
          0,
          1,
          0,
          0,
          0,
          0,
          1,
          0,
          0,
          0,
          0,
          1,
          1,
          1,
          1,
          1,
          1,
          0,
          1,
          1,
          0,
          1,
          0,
          0,
          1,
          0,
          0,
          1,
          1,
          0,
          1,
          1,
          0,
          0,
          1,
          0,
          1,
          0,
          1,
          1,
          1,
          0,
          0,
          0,
          0,
          0,
          0,
          1,
          0,
          1,
          1,
          0,
          0,
          0,
          0,
          0,
          1,
          0,
          0,
          1,
          1,
          0,
          1,
          1,
          0,
          0,
          0,
          1,
          0,
          0,
          0,
          0,
          0,
          1,
          0,
          1,
          0,
          0,
          1,
          0,
          0,
          0,
          0,
          1,
          1,
          0,
          0,
          0,
          1,
          0,
          0,
          0,
          0,
          1,
          1,
          0,
          1,
          1,
          0,
          1,
          0,
          0,
          0,
          0,
          1,
          1,
          0,
          1,
          1,
          1,
          0,
          1,
          1,
          0,
          1,
          1,
          1,
          1,
          0,
          0,
          0,
          0,
          1,
          0,
          0,
          1,
          1,
          0,
          1,
          0,
          1,
          0,
          0,
          0,
          0,
          0,
          1,
          1,
          0,
          1,
          0,
          0,
          1,
          0,
          1,
          0,
          0,
          0,
          0,
          0,
          1,
          0,
          0,
          1,
          1,
          1,
          0,
          0,
          1,
          1,
          1,
          0,
          1,
          0,
          1,
          0,
          0,
          1,
          1,
          1,
          0,
          0,
          1,
          0,
          1,
          1,
          1,
          1,
          1,
          1,
          0,
          1,
          1,
          1,
          0,
          1,
          0,
          0,
          1,
          0,
          1,
          1,
          1,
          1,
          0,
          0,
          0,
          0,
          1,
          0,
          1,
          1,
          0,
          0,
          0,
          1,
          0,
          1,
          1,
          0,
          0,
          1,
          0,
          0,
          1,
          0,
          0,
          1,
          1,
          0,
          1,
          1,
          0,
          0,
          0,
          1,
          1,
          0,
          1,
          0,
          1,
          1,
          1,
          1,
          0,
          1,
          0,
          1,
          1,
          1,
          0,
          1,
          1,
          0,
          0,
          0,
          1,
          1,
          0,
          0,
          1,
          1,
          1,
          1,
          1,
          0,
          0,
          1,
          0,
          0,
          1,
          0,
          1,
          0,
          0,
          0,
          1,
          1,
          1,
          0,
          0,
          0,
          0,
          0,
          0,
          0,
          0,
          0,
          1,
          1,
          0,
          0,
          0,
          0,
          1,
          1,
          0,
          0,
          0,
          0,
          0,
          1,
          0,
          1,
          1,
          1,
          0,
          0,
          0,
          0,
          1,
          1,
          0,
          1,
          1,
          1,
          0,
          0,
          1,
          1,
          0,
          1,
          0,
          0,
          1,
          0,
          0,
          0,
          1,
          1,
          1,
          1,
          0,
          1,
          0,
          1,
          1,
          1,
          0,
          1,
          1,
          1,
          1,
          0,
          0,
          0,
          1,
          0,
          1,
          1
         ],
         "x0": " ",
         "xaxis": "x",
         "y": [
          60132,
          79947,
          46958,
          40662,
          74307,
          97212,
          97865,
          50113,
          88747,
          43283,
          82510,
          55665,
          57951,
          31886,
          40548,
          39979,
          31340,
          79639,
          50307,
          99568,
          89409,
          94005,
          63445,
          99093,
          95910,
          80913,
          59231,
          68979,
          65901,
          85496,
          91627,
          91703,
          51252,
          63757,
          84288,
          86371,
          59546,
          80887,
          52658,
          70977,
          40055,
          99265,
          33670,
          85764,
          87567,
          44786,
          69612,
          45124,
          38871,
          34599,
          61224,
          31506,
          57428,
          34834,
          56938,
          62841,
          56230,
          98061,
          34647,
          30269,
          41737,
          71087,
          50921,
          89560,
          59060,
          46658,
          82313,
          91589,
          48184,
          58575,
          80456,
          72928,
          74105,
          43038,
          50000,
          49824,
          67588,
          30821,
          99801,
          48520,
          69674,
          66952,
          97606,
          59532,
          97663,
          71807,
          90011,
          91398,
          64897,
          78600,
          74424,
          40798,
          63948,
          52415,
          38085,
          32082,
          58364,
          40742,
          84407,
          76806,
          81919,
          70060,
          99321,
          93226,
          81389,
          38495,
          70941,
          99476,
          49523,
          60676,
          73359,
          51013,
          31553,
          65356,
          99328,
          47802,
          45532,
          97181,
          35521,
          98429,
          93166,
          54477,
          40012,
          37543,
          87607,
          97217,
          52961,
          38532,
          80112,
          74736,
          35031,
          61668,
          58508,
          62378,
          73980,
          78603,
          45278,
          50064,
          92394,
          40991,
          76164,
          37833,
          90927,
          86897,
          85229,
          35793,
          57650,
          70990,
          79792,
          81499,
          81233,
          39563,
          36755,
          81470,
          40127,
          78348,
          94455,
          83240,
          54977,
          54598,
          81682,
          58653,
          53838,
          79759,
          34808,
          88563,
          83237,
          31256,
          83418,
          43951,
          63891,
          94226,
          89030,
          57604,
          63395,
          65494,
          82445,
          75352,
          78972,
          62533,
          33221,
          73460,
          42799,
          44626,
          50467,
          62104,
          33232,
          60624,
          39672,
          80067,
          46544,
          69385,
          56338,
          51112,
          40223,
          32762,
          48449,
          65708,
          55484,
          95558,
          81643,
          79587,
          83416,
          87098,
          46780,
          71794,
          30773,
          43764,
          88219,
          72592,
          85608,
          65583,
          91789,
          99859,
          60286,
          53324,
          76479,
          80791,
          83385,
          76642,
          91402,
          85225,
          54559,
          99113,
          32849,
          78975,
          77459,
          88083,
          66740,
          73275,
          50184,
          80830,
          53625,
          55262,
          30935,
          54878,
          56322,
          99851,
          75106,
          88135,
          71466,
          43102,
          61580,
          96349,
          84618,
          68773,
          39162,
          66915,
          34112,
          97161,
          91779,
          87771,
          94728,
          45405,
          64406,
          55075,
          69509,
          31850,
          47534,
          85996,
          64345,
          32954,
          64213,
          88666,
          71088,
          43095,
          61200,
          96615,
          69501,
          38068,
          30859,
          54641,
          98610,
          86372,
          92828,
          97244,
          88353,
          54636,
          73863,
          35833,
          70714,
          42371,
          70764,
          48165,
          84159,
          64584,
          46116,
          47944,
          73713,
          69641,
          75176,
          67394,
          57381,
          37001,
          93742,
          36843,
          55467,
          95571,
          32747,
          46185,
          38604,
          85832,
          56461,
          59075,
          76410,
          71557,
          85613,
          81026,
          81995,
          55051,
          46767,
          43261,
          93469,
          93274,
          52963,
          71482,
          58220,
          92876,
          46434,
          39049,
          93674,
          87053,
          34512,
          59522,
          88569,
          94735,
          58062,
          52300,
          89623,
          77841,
          89157,
          79253,
          49834,
          42699,
          66868,
          42015,
          35610,
          31053,
          90843,
          65174,
          51874,
          50329,
          60973,
          69286,
          73505,
          92988,
          91629,
          73737,
          34192,
          37243,
          78476,
          72188,
          71440,
          72062,
          77656,
          78975,
          46454,
          82219,
          49610,
          41420,
          50645,
          44412,
          50656,
          45102,
          96293,
          34447,
          70513,
          63571,
          44560,
          56613,
          38562,
          49301,
          48784,
          31815,
          46467,
          37004,
          49158,
          81385,
          75317,
          69252,
          60839,
          33966,
          72481,
          58506,
          84131,
          57200,
          69582,
          86091,
          72604,
          38056,
          89766,
          83069,
          59173,
          62295,
          32272,
          40220,
          65922,
          45758,
          37334,
          57260,
          83920,
          98845,
          34669,
          81252,
          72256,
          77244,
          58627,
          35798,
          51421,
          93822,
          73509,
          98405,
          45758,
          47841,
          35265,
          99071,
          55071,
          31472,
          52874,
          91705,
          97650,
          54467,
          63124,
          76234,
          33931,
          51668,
          80690,
          66229,
          64140,
          50970,
          60858,
          48447,
          34152,
          32182,
          83201,
          64659,
          47406,
          39887,
          52122,
          96167,
          79419,
          34983,
          41908,
          68137,
          52386,
          60907,
          67919,
          90686,
          69158,
          38395,
          43501,
          38228,
          56690,
          80428,
          35568,
          99206,
          63229,
          61098,
          63277,
          47899,
          32252,
          83793,
          45710,
          93376,
          62429,
          46051,
          98551,
          98112,
          70785,
          83328,
          44251,
          42122,
          32476,
          37819,
          93647,
          84642,
          81179,
          60684,
          78586,
          36342,
          87748,
          52281,
          31475,
          50116,
          60563,
          63836,
          70312,
          87579,
          35273,
          53055,
          63425,
          91437,
          67147,
          85742,
          68187,
          90525,
          81642,
          42539,
          97250,
          33311,
          74148,
          38735,
          43794,
          73721,
          68051,
          87804,
          83172,
          69512,
          37456,
          66268,
          66239,
          44727,
          48599,
          61890,
          85073,
          34633,
          99566,
          31347,
          44704,
          99991,
          82078,
          94130,
          72752,
          99584,
          34172,
          66406,
          66024,
          41439,
          91504,
          94294,
          89725,
          31435,
          56769,
          93028,
          43791,
          48251,
          77213,
          94306,
          93791,
          51349,
          83381,
          31015,
          64407,
          42945,
          75542,
          67058,
          53211,
          35667,
          54380,
          99002,
          53633,
          96208,
          68372,
          75599,
          54308,
          65562,
          62728,
          85262,
          68662,
          59461,
          90263,
          57042,
          38343,
          94611,
          67607,
          48220,
          46446,
          58523,
          42706,
          38896,
          92936,
          46249,
          55141,
          89082,
          92977,
          35813,
          85800,
          94151,
          97101,
          64691,
          90009,
          45968,
          32193,
          96568,
          82011,
          80787,
          47600,
          35529,
          38691,
          92597,
          51575,
          60435,
          78199,
          82555,
          71559,
          55788,
          87535,
          56368,
          67056,
          35721,
          64692,
          35293,
          51316,
          75657,
          35963,
          72722,
          37800,
          32960,
          67201,
          97170,
          82856,
          65864,
          38981,
          87741,
          81235,
          75531,
          46324,
          48196,
          82067,
          50262,
          76960,
          90788,
          55180,
          68415,
          37796,
          37291,
          52160,
          86198,
          56794,
          48121,
          40747,
          75386,
          53097,
          91913,
          58666,
          93766,
          55216,
          52385,
          53084,
          31326,
          58556,
          64696,
          75754,
          97670,
          78446,
          69135,
          35597,
          52845,
          44713,
          64259,
          96848,
          77108,
          33619,
          42027,
          98956,
          91590,
          30957,
          37912,
          42217,
          64197,
          39839,
          86167,
          44302,
          99586,
          93970,
          35486,
          50319,
          69506,
          65409,
          76601,
          55574,
          98703,
          87689,
          63365,
          39883,
          81628,
          72043,
          69001,
          37113,
          74360,
          79792,
          48258,
          34471,
          99672,
          78851,
          44046,
          47473,
          49134,
          88384,
          37817,
          65839,
          66024,
          57216,
          47618,
          61327,
          70487,
          76520,
          51860,
          59104,
          94861,
          99361,
          39963,
          30706,
          39629,
          99241,
          45288,
          36830,
          52248,
          30532,
          66677,
          42179,
          81516,
          60560,
          72294,
          89446,
          80763,
          40362,
          56859,
          66066,
          38104,
          46263,
          66121,
          85641,
          54831,
          69001,
          76668,
          65587,
          50096,
          74143,
          56843,
          93351,
          77976,
          60095,
          86012,
          71174,
          42585,
          54532,
          56872,
          60146,
          42438,
          32573,
          87104,
          58453,
          72136,
          85195,
          93571,
          96110,
          38584,
          68549,
          91069,
          86923,
          56124,
          88048,
          37574,
          57209,
          83180,
          84814,
          63416,
          62614,
          80189,
          58015,
          68402,
          42938,
          43063,
          67793,
          60017,
          56633,
          97497,
          80647,
          36566,
          53466,
          74675,
          33757,
          51376,
          30394,
          51522,
          80031,
          59666,
          69170,
          53799,
          79181,
          49292,
          96750,
          39132,
          66661,
          38406,
          63301,
          39619,
          75992,
          68411,
          59859,
          51776,
          69246,
          37525,
          70411,
          88770,
          75826,
          73092,
          43496,
          41009,
          73232,
          90300,
          30194,
          92026,
          41972,
          64574,
          83462,
          56022,
          96098,
          85546,
          84317,
          43922,
          94820,
          98646,
          41035,
          50803,
          81927,
          96499,
          80233,
          76158,
          97965,
          88567,
          79354,
          70579,
          80344,
          48580,
          31035,
          60002,
          48501,
          30335,
          74975,
          56303,
          67747,
          58783,
          30099,
          50875,
          94871,
          54704,
          89084,
          50516,
          62501,
          95026,
          87852,
          82478,
          48533,
          83804,
          49259,
          81226,
          76223,
          88625,
          85150,
          75319,
          43997,
          48786,
          34457,
          68525,
          55540,
          81006,
          59352,
          42453,
          37246,
          98348,
          49977,
          93085,
          55399,
          43525,
          31816,
          64524,
          99501,
          52063,
          45784,
          92350,
          87016,
          56757,
          95104,
          52164,
          68280,
          35209,
          75131,
          74810,
          65682,
          65730,
          48299,
          80805,
          48126,
          45592,
          60283,
          80586,
          70805,
          63040,
          55096,
          88532,
          49746,
          32574,
          84212,
          86674,
          61487,
          30359,
          42829,
          85323,
          39711,
          57770,
          94407,
          67074,
          62861,
          62320,
          70299,
          72993,
          31774,
          58386,
          88638,
          55651,
          74369,
          69749,
          76417,
          96779,
          49699,
          57893,
          37520,
          92364,
          77127,
          60355,
          30262,
          88814,
          77259,
          87516,
          69919,
          99423,
          81306,
          57712,
          86404,
          69350,
          86611,
          94636,
          63884,
          84994,
          55417,
          66339,
          90845,
          44648,
          95332,
          83449,
          45156,
          32741,
          57973,
          85023,
          87163,
          66440,
          33042,
          67199,
          65798,
          33648,
          51468,
          64526,
          90433,
          46499,
          95529,
          53608,
          68459,
          35430,
          57886,
          30382,
          34234,
          57795,
          82983,
          39382,
          47576,
          48379,
          67033,
          86929,
          90878,
          79455,
          95330,
          92100,
          34442,
          78569,
          81636,
          76669,
          59042,
          39553,
          53320,
          33077,
          59110,
          32770,
          93794,
          96585,
          85864,
          68139,
          39036,
          32327,
          65638,
          78726,
          79044,
          47301,
          31507,
          71403,
          30181,
          64143,
          74383,
          73220
         ],
         "y0": " ",
         "yaxis": "y"
        }
       ],
       "layout": {
        "autosize": true,
        "boxmode": "group",
        "legend": {
         "tracegroupgap": 0
        },
        "template": {
         "data": {
          "bar": [
           {
            "error_x": {
             "color": "#2a3f5f"
            },
            "error_y": {
             "color": "#2a3f5f"
            },
            "marker": {
             "line": {
              "color": "#E5ECF6",
              "width": 0.5
             },
             "pattern": {
              "fillmode": "overlay",
              "size": 10,
              "solidity": 0.2
             }
            },
            "type": "bar"
           }
          ],
          "barpolar": [
           {
            "marker": {
             "line": {
              "color": "#E5ECF6",
              "width": 0.5
             },
             "pattern": {
              "fillmode": "overlay",
              "size": 10,
              "solidity": 0.2
             }
            },
            "type": "barpolar"
           }
          ],
          "carpet": [
           {
            "aaxis": {
             "endlinecolor": "#2a3f5f",
             "gridcolor": "white",
             "linecolor": "white",
             "minorgridcolor": "white",
             "startlinecolor": "#2a3f5f"
            },
            "baxis": {
             "endlinecolor": "#2a3f5f",
             "gridcolor": "white",
             "linecolor": "white",
             "minorgridcolor": "white",
             "startlinecolor": "#2a3f5f"
            },
            "type": "carpet"
           }
          ],
          "choropleth": [
           {
            "colorbar": {
             "outlinewidth": 0,
             "ticks": ""
            },
            "type": "choropleth"
           }
          ],
          "contour": [
           {
            "colorbar": {
             "outlinewidth": 0,
             "ticks": ""
            },
            "colorscale": [
             [
              0,
              "#0d0887"
             ],
             [
              0.1111111111111111,
              "#46039f"
             ],
             [
              0.2222222222222222,
              "#7201a8"
             ],
             [
              0.3333333333333333,
              "#9c179e"
             ],
             [
              0.4444444444444444,
              "#bd3786"
             ],
             [
              0.5555555555555556,
              "#d8576b"
             ],
             [
              0.6666666666666666,
              "#ed7953"
             ],
             [
              0.7777777777777778,
              "#fb9f3a"
             ],
             [
              0.8888888888888888,
              "#fdca26"
             ],
             [
              1,
              "#f0f921"
             ]
            ],
            "type": "contour"
           }
          ],
          "contourcarpet": [
           {
            "colorbar": {
             "outlinewidth": 0,
             "ticks": ""
            },
            "type": "contourcarpet"
           }
          ],
          "heatmap": [
           {
            "colorbar": {
             "outlinewidth": 0,
             "ticks": ""
            },
            "colorscale": [
             [
              0,
              "#0d0887"
             ],
             [
              0.1111111111111111,
              "#46039f"
             ],
             [
              0.2222222222222222,
              "#7201a8"
             ],
             [
              0.3333333333333333,
              "#9c179e"
             ],
             [
              0.4444444444444444,
              "#bd3786"
             ],
             [
              0.5555555555555556,
              "#d8576b"
             ],
             [
              0.6666666666666666,
              "#ed7953"
             ],
             [
              0.7777777777777778,
              "#fb9f3a"
             ],
             [
              0.8888888888888888,
              "#fdca26"
             ],
             [
              1,
              "#f0f921"
             ]
            ],
            "type": "heatmap"
           }
          ],
          "heatmapgl": [
           {
            "colorbar": {
             "outlinewidth": 0,
             "ticks": ""
            },
            "colorscale": [
             [
              0,
              "#0d0887"
             ],
             [
              0.1111111111111111,
              "#46039f"
             ],
             [
              0.2222222222222222,
              "#7201a8"
             ],
             [
              0.3333333333333333,
              "#9c179e"
             ],
             [
              0.4444444444444444,
              "#bd3786"
             ],
             [
              0.5555555555555556,
              "#d8576b"
             ],
             [
              0.6666666666666666,
              "#ed7953"
             ],
             [
              0.7777777777777778,
              "#fb9f3a"
             ],
             [
              0.8888888888888888,
              "#fdca26"
             ],
             [
              1,
              "#f0f921"
             ]
            ],
            "type": "heatmapgl"
           }
          ],
          "histogram": [
           {
            "marker": {
             "pattern": {
              "fillmode": "overlay",
              "size": 10,
              "solidity": 0.2
             }
            },
            "type": "histogram"
           }
          ],
          "histogram2d": [
           {
            "colorbar": {
             "outlinewidth": 0,
             "ticks": ""
            },
            "colorscale": [
             [
              0,
              "#0d0887"
             ],
             [
              0.1111111111111111,
              "#46039f"
             ],
             [
              0.2222222222222222,
              "#7201a8"
             ],
             [
              0.3333333333333333,
              "#9c179e"
             ],
             [
              0.4444444444444444,
              "#bd3786"
             ],
             [
              0.5555555555555556,
              "#d8576b"
             ],
             [
              0.6666666666666666,
              "#ed7953"
             ],
             [
              0.7777777777777778,
              "#fb9f3a"
             ],
             [
              0.8888888888888888,
              "#fdca26"
             ],
             [
              1,
              "#f0f921"
             ]
            ],
            "type": "histogram2d"
           }
          ],
          "histogram2dcontour": [
           {
            "colorbar": {
             "outlinewidth": 0,
             "ticks": ""
            },
            "colorscale": [
             [
              0,
              "#0d0887"
             ],
             [
              0.1111111111111111,
              "#46039f"
             ],
             [
              0.2222222222222222,
              "#7201a8"
             ],
             [
              0.3333333333333333,
              "#9c179e"
             ],
             [
              0.4444444444444444,
              "#bd3786"
             ],
             [
              0.5555555555555556,
              "#d8576b"
             ],
             [
              0.6666666666666666,
              "#ed7953"
             ],
             [
              0.7777777777777778,
              "#fb9f3a"
             ],
             [
              0.8888888888888888,
              "#fdca26"
             ],
             [
              1,
              "#f0f921"
             ]
            ],
            "type": "histogram2dcontour"
           }
          ],
          "mesh3d": [
           {
            "colorbar": {
             "outlinewidth": 0,
             "ticks": ""
            },
            "type": "mesh3d"
           }
          ],
          "parcoords": [
           {
            "line": {
             "colorbar": {
              "outlinewidth": 0,
              "ticks": ""
             }
            },
            "type": "parcoords"
           }
          ],
          "pie": [
           {
            "automargin": true,
            "type": "pie"
           }
          ],
          "scatter": [
           {
            "fillpattern": {
             "fillmode": "overlay",
             "size": 10,
             "solidity": 0.2
            },
            "type": "scatter"
           }
          ],
          "scatter3d": [
           {
            "line": {
             "colorbar": {
              "outlinewidth": 0,
              "ticks": ""
             }
            },
            "marker": {
             "colorbar": {
              "outlinewidth": 0,
              "ticks": ""
             }
            },
            "type": "scatter3d"
           }
          ],
          "scattercarpet": [
           {
            "marker": {
             "colorbar": {
              "outlinewidth": 0,
              "ticks": ""
             }
            },
            "type": "scattercarpet"
           }
          ],
          "scattergeo": [
           {
            "marker": {
             "colorbar": {
              "outlinewidth": 0,
              "ticks": ""
             }
            },
            "type": "scattergeo"
           }
          ],
          "scattergl": [
           {
            "marker": {
             "colorbar": {
              "outlinewidth": 0,
              "ticks": ""
             }
            },
            "type": "scattergl"
           }
          ],
          "scattermapbox": [
           {
            "marker": {
             "colorbar": {
              "outlinewidth": 0,
              "ticks": ""
             }
            },
            "type": "scattermapbox"
           }
          ],
          "scatterpolar": [
           {
            "marker": {
             "colorbar": {
              "outlinewidth": 0,
              "ticks": ""
             }
            },
            "type": "scatterpolar"
           }
          ],
          "scatterpolargl": [
           {
            "marker": {
             "colorbar": {
              "outlinewidth": 0,
              "ticks": ""
             }
            },
            "type": "scatterpolargl"
           }
          ],
          "scatterternary": [
           {
            "marker": {
             "colorbar": {
              "outlinewidth": 0,
              "ticks": ""
             }
            },
            "type": "scatterternary"
           }
          ],
          "surface": [
           {
            "colorbar": {
             "outlinewidth": 0,
             "ticks": ""
            },
            "colorscale": [
             [
              0,
              "#0d0887"
             ],
             [
              0.1111111111111111,
              "#46039f"
             ],
             [
              0.2222222222222222,
              "#7201a8"
             ],
             [
              0.3333333333333333,
              "#9c179e"
             ],
             [
              0.4444444444444444,
              "#bd3786"
             ],
             [
              0.5555555555555556,
              "#d8576b"
             ],
             [
              0.6666666666666666,
              "#ed7953"
             ],
             [
              0.7777777777777778,
              "#fb9f3a"
             ],
             [
              0.8888888888888888,
              "#fdca26"
             ],
             [
              1,
              "#f0f921"
             ]
            ],
            "type": "surface"
           }
          ],
          "table": [
           {
            "cells": {
             "fill": {
              "color": "#EBF0F8"
             },
             "line": {
              "color": "white"
             }
            },
            "header": {
             "fill": {
              "color": "#C8D4E3"
             },
             "line": {
              "color": "white"
             }
            },
            "type": "table"
           }
          ]
         },
         "layout": {
          "annotationdefaults": {
           "arrowcolor": "#2a3f5f",
           "arrowhead": 0,
           "arrowwidth": 1
          },
          "autotypenumbers": "strict",
          "coloraxis": {
           "colorbar": {
            "outlinewidth": 0,
            "ticks": ""
           }
          },
          "colorscale": {
           "diverging": [
            [
             0,
             "#8e0152"
            ],
            [
             0.1,
             "#c51b7d"
            ],
            [
             0.2,
             "#de77ae"
            ],
            [
             0.3,
             "#f1b6da"
            ],
            [
             0.4,
             "#fde0ef"
            ],
            [
             0.5,
             "#f7f7f7"
            ],
            [
             0.6,
             "#e6f5d0"
            ],
            [
             0.7,
             "#b8e186"
            ],
            [
             0.8,
             "#7fbc41"
            ],
            [
             0.9,
             "#4d9221"
            ],
            [
             1,
             "#276419"
            ]
           ],
           "sequential": [
            [
             0,
             "#0d0887"
            ],
            [
             0.1111111111111111,
             "#46039f"
            ],
            [
             0.2222222222222222,
             "#7201a8"
            ],
            [
             0.3333333333333333,
             "#9c179e"
            ],
            [
             0.4444444444444444,
             "#bd3786"
            ],
            [
             0.5555555555555556,
             "#d8576b"
            ],
            [
             0.6666666666666666,
             "#ed7953"
            ],
            [
             0.7777777777777778,
             "#fb9f3a"
            ],
            [
             0.8888888888888888,
             "#fdca26"
            ],
            [
             1,
             "#f0f921"
            ]
           ],
           "sequentialminus": [
            [
             0,
             "#0d0887"
            ],
            [
             0.1111111111111111,
             "#46039f"
            ],
            [
             0.2222222222222222,
             "#7201a8"
            ],
            [
             0.3333333333333333,
             "#9c179e"
            ],
            [
             0.4444444444444444,
             "#bd3786"
            ],
            [
             0.5555555555555556,
             "#d8576b"
            ],
            [
             0.6666666666666666,
             "#ed7953"
            ],
            [
             0.7777777777777778,
             "#fb9f3a"
            ],
            [
             0.8888888888888888,
             "#fdca26"
            ],
            [
             1,
             "#f0f921"
            ]
           ]
          },
          "colorway": [
           "#636efa",
           "#EF553B",
           "#00cc96",
           "#ab63fa",
           "#FFA15A",
           "#19d3f3",
           "#FF6692",
           "#B6E880",
           "#FF97FF",
           "#FECB52"
          ],
          "font": {
           "color": "#2a3f5f"
          },
          "geo": {
           "bgcolor": "white",
           "lakecolor": "white",
           "landcolor": "#E5ECF6",
           "showlakes": true,
           "showland": true,
           "subunitcolor": "white"
          },
          "hoverlabel": {
           "align": "left"
          },
          "hovermode": "closest",
          "mapbox": {
           "style": "light"
          },
          "paper_bgcolor": "white",
          "plot_bgcolor": "#E5ECF6",
          "polar": {
           "angularaxis": {
            "gridcolor": "white",
            "linecolor": "white",
            "ticks": ""
           },
           "bgcolor": "#E5ECF6",
           "radialaxis": {
            "gridcolor": "white",
            "linecolor": "white",
            "ticks": ""
           }
          },
          "scene": {
           "xaxis": {
            "backgroundcolor": "#E5ECF6",
            "gridcolor": "white",
            "gridwidth": 2,
            "linecolor": "white",
            "showbackground": true,
            "ticks": "",
            "zerolinecolor": "white"
           },
           "yaxis": {
            "backgroundcolor": "#E5ECF6",
            "gridcolor": "white",
            "gridwidth": 2,
            "linecolor": "white",
            "showbackground": true,
            "ticks": "",
            "zerolinecolor": "white"
           },
           "zaxis": {
            "backgroundcolor": "#E5ECF6",
            "gridcolor": "white",
            "gridwidth": 2,
            "linecolor": "white",
            "showbackground": true,
            "ticks": "",
            "zerolinecolor": "white"
           }
          },
          "shapedefaults": {
           "line": {
            "color": "#2a3f5f"
           }
          },
          "ternary": {
           "aaxis": {
            "gridcolor": "white",
            "linecolor": "white",
            "ticks": ""
           },
           "baxis": {
            "gridcolor": "white",
            "linecolor": "white",
            "ticks": ""
           },
           "bgcolor": "#E5ECF6",
           "caxis": {
            "gridcolor": "white",
            "linecolor": "white",
            "ticks": ""
           }
          },
          "title": {
           "x": 0.05
          },
          "xaxis": {
           "automargin": true,
           "gridcolor": "white",
           "linecolor": "white",
           "ticks": "",
           "title": {
            "standoff": 15
           },
           "zerolinecolor": "white",
           "zerolinewidth": 2
          },
          "yaxis": {
           "automargin": true,
           "gridcolor": "white",
           "linecolor": "white",
           "ticks": "",
           "title": {
            "standoff": 15
           },
           "zerolinecolor": "white",
           "zerolinewidth": 2
          }
         }
        },
        "title": {
         "text": "Salary Distribution by Attrition Status"
        },
        "xaxis": {
         "anchor": "y",
         "autorange": true,
         "domain": [
          0,
          1
         ],
         "range": [
          -0.5,
          1.5
         ],
         "title": {
          "text": "Attrition Status"
         },
         "type": "linear"
        },
        "yaxis": {
         "anchor": "x",
         "autorange": true,
         "domain": [
          0,
          1
         ],
         "range": [
          26216.11111111111,
          103873.88888888889
         ],
         "title": {
          "text": "Salary"
         },
         "type": "linear"
        }
       }
      },
      "image/png": "[encoded data removed]",
      "text/html": [
       "<div>                            <div id=\"2c15fc9f-e6a0-45b2-b3a1-9880006b7c1f\" class=\"plotly-graph-div\" style=\"height:525px; width:100%;\"></div>            <script type=\"text/javascript\">                require([\"plotly\"], function(Plotly) {                    window.PLOTLYENV=window.PLOTLYENV || {};                                    if (document.getElementById(\"2c15fc9f-e6a0-45b2-b3a1-9880006b7c1f\")) {                    Plotly.newPlot(                        \"2c15fc9f-e6a0-45b2-b3a1-9880006b7c1f\",                        [{\"alignmentgroup\":\"True\",\"hovertemplate\":\"Attrition Status=%{x}<br>Salary=%{y}<extra></extra>\",\"legendgroup\":\"\",\"marker\":{\"color\":\"#636efa\"},\"name\":\"\",\"notched\":false,\"offsetgroup\":\"\",\"orientation\":\"v\",\"showlegend\":false,\"x\":[0,0,1,0,0,0,0,0,1,0,1,0,1,1,1,0,1,0,0,1,1,0,1,0,0,1,0,0,0,1,1,1,0,1,1,0,0,0,1,0,0,0,1,1,1,1,0,0,0,1,0,0,1,1,1,1,1,0,0,1,1,0,0,1,0,0,1,1,0,0,1,0,0,0,1,0,1,0,1,0,0,1,1,1,0,0,0,0,1,0,1,0,1,0,0,1,0,0,0,1,1,0,0,1,1,0,0,1,0,1,0,1,1,1,0,0,1,0,0,1,1,0,1,0,0,0,0,0,0,0,1,1,1,1,0,1,0,1,0,0,0,1,0,1,1,0,1,0,0,1,0,0,1,1,1,1,1,0,1,1,0,1,1,0,1,1,0,1,0,1,1,1,0,0,1,1,0,1,1,0,1,1,1,1,0,0,1,1,1,0,0,0,0,0,1,0,0,0,0,1,1,1,1,1,0,0,0,0,0,0,0,0,0,0,1,0,0,1,0,0,1,0,1,0,1,1,0,0,1,1,0,1,1,0,0,1,1,1,0,1,0,1,1,1,1,1,0,1,1,0,0,0,0,0,0,1,0,1,0,1,0,1,1,1,0,0,1,0,0,1,0,0,1,1,0,0,0,1,0,1,1,0,0,1,1,1,0,0,0,0,1,0,1,0,0,0,0,1,0,1,1,1,1,0,0,0,0,1,0,1,1,1,1,0,0,0,1,1,1,1,1,1,1,1,0,1,1,0,0,0,1,1,0,0,1,1,1,1,1,0,1,0,1,0,0,1,0,1,1,1,1,0,1,0,0,0,1,0,1,1,1,0,0,1,0,1,1,1,1,0,0,0,1,1,0,1,0,1,1,1,1,0,0,1,0,1,1,0,0,0,1,0,1,0,1,1,0,0,1,1,1,1,0,1,0,1,1,1,0,0,0,0,0,1,1,1,1,1,1,1,0,1,0,0,0,0,0,1,1,0,1,1,1,0,1,0,1,0,1,1,0,1,0,0,0,0,1,1,1,1,0,0,0,1,1,0,1,1,0,0,1,1,0,1,0,0,0,0,1,0,1,1,1,1,1,1,1,1,0,1,1,1,0,0,0,0,1,1,1,1,1,0,1,0,0,0,1,0,0,1,0,1,1,1,1,0,0,1,1,1,0,0,0,0,1,0,0,0,1,0,0,1,0,0,0,0,1,0,1,1,1,1,0,1,0,1,1,0,0,0,1,0,0,1,1,1,1,0,0,0,0,1,1,0,0,0,1,0,0,1,0,0,1,1,1,0,1,0,0,1,1,1,0,0,0,1,0,0,1,0,1,1,1,1,0,1,1,1,0,0,1,0,0,0,1,0,1,0,1,1,0,0,1,0,1,0,1,1,0,0,0,1,1,1,0,1,1,1,0,1,1,1,0,1,1,1,1,0,0,0,0,0,1,0,1,1,1,1,1,0,1,1,0,1,1,1,1,1,0,0,1,0,0,0,1,0,0,0,1,1,0,1,0,0,0,0,1,0,0,0,0,1,1,1,1,1,1,0,1,1,0,1,0,0,1,0,0,1,1,0,1,1,0,0,1,0,1,0,1,1,1,0,0,0,0,0,0,1,0,1,1,0,0,0,0,0,1,0,0,1,1,0,1,1,0,0,0,1,0,0,0,0,0,1,0,1,0,0,1,0,0,0,0,1,1,0,0,0,1,0,0,0,0,1,1,0,1,1,0,1,0,0,0,0,1,1,0,1,1,1,0,1,1,0,1,1,1,1,0,0,0,0,1,0,0,1,1,0,1,0,1,0,0,0,0,0,1,1,0,1,0,0,1,0,1,0,0,0,0,0,1,0,0,1,1,1,0,0,1,1,1,0,1,0,1,0,0,1,1,1,0,0,1,0,1,1,1,1,1,1,0,1,1,1,0,1,0,0,1,0,1,1,1,1,0,0,0,0,1,0,1,1,0,0,0,1,0,1,1,0,0,1,0,0,1,0,0,1,1,0,1,1,0,0,0,1,1,0,1,0,1,1,1,1,0,1,0,1,1,1,0,1,1,0,0,0,1,1,0,0,1,1,1,1,1,0,0,1,0,0,1,0,1,0,0,0,1,1,1,0,0,0,0,0,0,0,0,0,1,1,0,0,0,0,1,1,0,0,0,0,0,1,0,1,1,1,0,0,0,0,1,1,0,1,1,1,0,0,1,1,0,1,0,0,1,0,0,0,1,1,1,1,0,1,0,1,1,1,0,1,1,1,1,0,0,0,1,0,1,1],\"x0\":\" \",\"xaxis\":\"x\",\"y\":[60132,79947,46958,40662,74307,97212,97865,50113,88747,43283,82510,55665,57951,31886,40548,39979,31340,79639,50307,99568,89409,94005,63445,99093,95910,80913,59231,68979,65901,85496,91627,91703,51252,63757,84288,86371,59546,80887,52658,70977,40055,99265,33670,85764,87567,44786,69612,45124,38871,34599,61224,31506,57428,34834,56938,62841,56230,98061,34647,30269,41737,71087,50921,89560,59060,46658,82313,91589,48184,58575,80456,72928,74105,43038,50000,49824,67588,30821,99801,48520,69674,66952,97606,59532,97663,71807,90011,91398,64897,78600,74424,40798,63948,52415,38085,32082,58364,40742,84407,76806,81919,70060,99321,93226,81389,38495,70941,99476,49523,60676,73359,51013,31553,65356,99328,47802,45532,97181,35521,98429,93166,54477,40012,37543,87607,97217,52961,38532,80112,74736,35031,61668,58508,62378,73980,78603,45278,50064,92394,40991,76164,37833,90927,86897,85229,35793,57650,70990,79792,81499,81233,39563,36755,81470,40127,78348,94455,83240,54977,54598,81682,58653,53838,79759,34808,88563,83237,31256,83418,43951,63891,94226,89030,57604,63395,65494,82445,75352,78972,62533,33221,73460,42799,44626,50467,62104,33232,60624,39672,80067,46544,69385,56338,51112,40223,32762,48449,65708,55484,95558,81643,79587,83416,87098,46780,71794,30773,43764,88219,72592,85608,65583,91789,99859,60286,53324,76479,80791,83385,76642,91402,85225,54559,99113,32849,78975,77459,88083,66740,73275,50184,80830,53625,55262,30935,54878,56322,99851,75106,88135,71466,43102,61580,96349,84618,68773,39162,66915,34112,97161,91779,87771,94728,45405,64406,55075,69509,31850,47534,85996,64345,32954,64213,88666,71088,43095,61200,96615,69501,38068,30859,54641,98610,86372,92828,97244,88353,54636,73863,35833,70714,42371,70764,48165,84159,64584,46116,47944,73713,69641,75176,67394,57381,37001,93742,36843,55467,95571,32747,46185,38604,85832,56461,59075,76410,71557,85613,81026,81995,55051,46767,43261,93469,93274,52963,71482,58220,92876,46434,39049,93674,87053,34512,59522,88569,94735,58062,52300,89623,77841,89157,79253,49834,42699,66868,42015,35610,31053,90843,65174,51874,50329,60973,69286,73505,92988,91629,73737,34192,37243,78476,72188,71440,72062,77656,78975,46454,82219,49610,41420,50645,44412,50656,45102,96293,34447,70513,63571,44560,56613,38562,49301,48784,31815,46467,37004,49158,81385,75317,69252,60839,33966,72481,58506,84131,57200,69582,86091,72604,38056,89766,83069,59173,62295,32272,40220,65922,45758,37334,57260,83920,98845,34669,81252,72256,77244,58627,35798,51421,93822,73509,98405,45758,47841,35265,99071,55071,31472,52874,91705,97650,54467,63124,76234,33931,51668,80690,66229,64140,50970,60858,48447,34152,32182,83201,64659,47406,39887,52122,96167,79419,34983,41908,68137,52386,60907,67919,90686,69158,38395,43501,38228,56690,80428,35568,99206,63229,61098,63277,47899,32252,83793,45710,93376,62429,46051,98551,98112,70785,83328,44251,42122,32476,37819,93647,84642,81179,60684,78586,36342,87748,52281,31475,50116,60563,63836,70312,87579,35273,53055,63425,91437,67147,85742,68187,90525,81642,42539,97250,33311,74148,38735,43794,73721,68051,87804,83172,69512,37456,66268,66239,44727,48599,61890,85073,34633,99566,31347,44704,99991,82078,94130,72752,99584,34172,66406,66024,41439,91504,94294,89725,31435,56769,93028,43791,48251,77213,94306,93791,51349,83381,31015,64407,42945,75542,67058,53211,35667,54380,99002,53633,96208,68372,75599,54308,65562,62728,85262,68662,59461,90263,57042,38343,94611,67607,48220,46446,58523,42706,38896,92936,46249,55141,89082,92977,35813,85800,94151,97101,64691,90009,45968,32193,96568,82011,80787,47600,35529,38691,92597,51575,60435,78199,82555,71559,55788,87535,56368,67056,35721,64692,35293,51316,75657,35963,72722,37800,32960,67201,97170,82856,65864,38981,87741,81235,75531,46324,48196,82067,50262,76960,90788,55180,68415,37796,37291,52160,86198,56794,48121,40747,75386,53097,91913,58666,93766,55216,52385,53084,31326,58556,64696,75754,97670,78446,69135,35597,52845,44713,64259,96848,77108,33619,42027,98956,91590,30957,37912,42217,64197,39839,86167,44302,99586,93970,35486,50319,69506,65409,76601,55574,98703,87689,63365,39883,81628,72043,69001,37113,74360,79792,48258,34471,99672,78851,44046,47473,49134,88384,37817,65839,66024,57216,47618,61327,70487,76520,51860,59104,94861,99361,39963,30706,39629,99241,45288,36830,52248,30532,66677,42179,81516,60560,72294,89446,80763,40362,56859,66066,38104,46263,66121,85641,54831,69001,76668,65587,50096,74143,56843,93351,77976,60095,86012,71174,42585,54532,56872,60146,42438,32573,87104,58453,72136,85195,93571,96110,38584,68549,91069,86923,56124,88048,37574,57209,83180,84814,63416,62614,80189,58015,68402,42938,43063,67793,60017,56633,97497,80647,36566,53466,74675,33757,51376,30394,51522,80031,59666,69170,53799,79181,49292,96750,39132,66661,38406,63301,39619,75992,68411,59859,51776,69246,37525,70411,88770,75826,73092,43496,41009,73232,90300,30194,92026,41972,64574,83462,56022,96098,85546,84317,43922,94820,98646,41035,50803,81927,96499,80233,76158,97965,88567,79354,70579,80344,48580,31035,60002,48501,30335,74975,56303,67747,58783,30099,50875,94871,54704,89084,50516,62501,95026,87852,82478,48533,83804,49259,81226,76223,88625,85150,75319,43997,48786,34457,68525,55540,81006,59352,42453,37246,98348,49977,93085,55399,43525,31816,64524,99501,52063,45784,92350,87016,56757,95104,52164,68280,35209,75131,74810,65682,65730,48299,80805,48126,45592,60283,80586,70805,63040,55096,88532,49746,32574,84212,86674,61487,30359,42829,85323,39711,57770,94407,67074,62861,62320,70299,72993,31774,58386,88638,55651,74369,69749,76417,96779,49699,57893,37520,92364,77127,60355,30262,88814,77259,87516,69919,99423,81306,57712,86404,69350,86611,94636,63884,84994,55417,66339,90845,44648,95332,83449,45156,32741,57973,85023,87163,66440,33042,67199,65798,33648,51468,64526,90433,46499,95529,53608,68459,35430,57886,30382,34234,57795,82983,39382,47576,48379,67033,86929,90878,79455,95330,92100,34442,78569,81636,76669,59042,39553,53320,33077,59110,32770,93794,96585,85864,68139,39036,32327,65638,78726,79044,47301,31507,71403,30181,64143,74383,73220],\"y0\":\" \",\"yaxis\":\"y\",\"type\":\"box\"}],                        {\"template\":{\"data\":{\"histogram2dcontour\":[{\"type\":\"histogram2dcontour\",\"colorbar\":{\"outlinewidth\":0,\"ticks\":\"\"},\"colorscale\":[[0.0,\"#0d0887\"],[0.1111111111111111,\"#46039f\"],[0.2222222222222222,\"#7201a8\"],[0.3333333333333333,\"#9c179e\"],[0.4444444444444444,\"#bd3786\"],[0.5555555555555556,\"#d8576b\"],[0.6666666666666666,\"#ed7953\"],[0.7777777777777778,\"#fb9f3a\"],[0.8888888888888888,\"#fdca26\"],[1.0,\"#f0f921\"]]}],\"choropleth\":[{\"type\":\"choropleth\",\"colorbar\":{\"outlinewidth\":0,\"ticks\":\"\"}}],\"histogram2d\":[{\"type\":\"histogram2d\",\"colorbar\":{\"outlinewidth\":0,\"ticks\":\"\"},\"colorscale\":[[0.0,\"#0d0887\"],[0.1111111111111111,\"#46039f\"],[0.2222222222222222,\"#7201a8\"],[0.3333333333333333,\"#9c179e\"],[0.4444444444444444,\"#bd3786\"],[0.5555555555555556,\"#d8576b\"],[0.6666666666666666,\"#ed7953\"],[0.7777777777777778,\"#fb9f3a\"],[0.8888888888888888,\"#fdca26\"],[1.0,\"#f0f921\"]]}],\"heatmap\":[{\"type\":\"heatmap\",\"colorbar\":{\"outlinewidth\":0,\"ticks\":\"\"},\"colorscale\":[[0.0,\"#0d0887\"],[0.1111111111111111,\"#46039f\"],[0.2222222222222222,\"#7201a8\"],[0.3333333333333333,\"#9c179e\"],[0.4444444444444444,\"#bd3786\"],[0.5555555555555556,\"#d8576b\"],[0.6666666666666666,\"#ed7953\"],[0.7777777777777778,\"#fb9f3a\"],[0.8888888888888888,\"#fdca26\"],[1.0,\"#f0f921\"]]}],\"heatmapgl\":[{\"type\":\"heatmapgl\",\"colorbar\":{\"outlinewidth\":0,\"ticks\":\"\"},\"colorscale\":[[0.0,\"#0d0887\"],[0.1111111111111111,\"#46039f\"],[0.2222222222222222,\"#7201a8\"],[0.3333333333333333,\"#9c179e\"],[0.4444444444444444,\"#bd3786\"],[0.5555555555555556,\"#d8576b\"],[0.6666666666666666,\"#ed7953\"],[0.7777777777777778,\"#fb9f3a\"],[0.8888888888888888,\"#fdca26\"],[1.0,\"#f0f921\"]]}],\"contourcarpet\":[{\"type\":\"contourcarpet\",\"colorbar\":{\"outlinewidth\":0,\"ticks\":\"\"}}],\"contour\":[{\"type\":\"contour\",\"colorbar\":{\"outlinewidth\":0,\"ticks\":\"\"},\"colorscale\":[[0.0,\"#0d0887\"],[0.1111111111111111,\"#46039f\"],[0.2222222222222222,\"#7201a8\"],[0.3333333333333333,\"#9c179e\"],[0.4444444444444444,\"#bd3786\"],[0.5555555555555556,\"#d8576b\"],[0.6666666666666666,\"#ed7953\"],[0.7777777777777778,\"#fb9f3a\"],[0.8888888888888888,\"#fdca26\"],[1.0,\"#f0f921\"]]}],\"surface\":[{\"type\":\"surface\",\"colorbar\":{\"outlinewidth\":0,\"ticks\":\"\"},\"colorscale\":[[0.0,\"#0d0887\"],[0.1111111111111111,\"#46039f\"],[0.2222222222222222,\"#7201a8\"],[0.3333333333333333,\"#9c179e\"],[0.4444444444444444,\"#bd3786\"],[0.5555555555555556,\"#d8576b\"],[0.6666666666666666,\"#ed7953\"],[0.7777777777777778,\"#fb9f3a\"],[0.8888888888888888,\"#fdca26\"],[1.0,\"#f0f921\"]]}],\"mesh3d\":[{\"type\":\"mesh3d\",\"colorbar\":{\"outlinewidth\":0,\"ticks\":\"\"}}],\"scatter\":[{\"fillpattern\":{\"fillmode\":\"overlay\",\"size\":10,\"solidity\":0.2},\"type\":\"scatter\"}],\"parcoords\":[{\"type\":\"parcoords\",\"line\":{\"colorbar\":{\"outlinewidth\":0,\"ticks\":\"\"}}}],\"scatterpolargl\":[{\"type\":\"scatterpolargl\",\"marker\":{\"colorbar\":{\"outlinewidth\":0,\"ticks\":\"\"}}}],\"bar\":[{\"error_x\":{\"color\":\"#2a3f5f\"},\"error_y\":{\"color\":\"#2a3f5f\"},\"marker\":{\"line\":{\"color\":\"#E5ECF6\",\"width\":0.5},\"pattern\":{\"fillmode\":\"overlay\",\"size\":10,\"solidity\":0.2}},\"type\":\"bar\"}],\"scattergeo\":[{\"type\":\"scattergeo\",\"marker\":{\"colorbar\":{\"outlinewidth\":0,\"ticks\":\"\"}}}],\"scatterpolar\":[{\"type\":\"scatterpolar\",\"marker\":{\"colorbar\":{\"outlinewidth\":0,\"ticks\":\"\"}}}],\"histogram\":[{\"marker\":{\"pattern\":{\"fillmode\":\"overlay\",\"size\":10,\"solidity\":0.2}},\"type\":\"histogram\"}],\"scattergl\":[{\"type\":\"scattergl\",\"marker\":{\"colorbar\":{\"outlinewidth\":0,\"ticks\":\"\"}}}],\"scatter3d\":[{\"type\":\"scatter3d\",\"line\":{\"colorbar\":{\"outlinewidth\":0,\"ticks\":\"\"}},\"marker\":{\"colorbar\":{\"outlinewidth\":0,\"ticks\":\"\"}}}],\"scattermapbox\":[{\"type\":\"scattermapbox\",\"marker\":{\"colorbar\":{\"outlinewidth\":0,\"ticks\":\"\"}}}],\"scatterternary\":[{\"type\":\"scatterternary\",\"marker\":{\"colorbar\":{\"outlinewidth\":0,\"ticks\":\"\"}}}],\"scattercarpet\":[{\"type\":\"scattercarpet\",\"marker\":{\"colorbar\":{\"outlinewidth\":0,\"ticks\":\"\"}}}],\"carpet\":[{\"aaxis\":{\"endlinecolor\":\"#2a3f5f\",\"gridcolor\":\"white\",\"linecolor\":\"white\",\"minorgridcolor\":\"white\",\"startlinecolor\":\"#2a3f5f\"},\"baxis\":{\"endlinecolor\":\"#2a3f5f\",\"gridcolor\":\"white\",\"linecolor\":\"white\",\"minorgridcolor\":\"white\",\"startlinecolor\":\"#2a3f5f\"},\"type\":\"carpet\"}],\"table\":[{\"cells\":{\"fill\":{\"color\":\"#EBF0F8\"},\"line\":{\"color\":\"white\"}},\"header\":{\"fill\":{\"color\":\"#C8D4E3\"},\"line\":{\"color\":\"white\"}},\"type\":\"table\"}],\"barpolar\":[{\"marker\":{\"line\":{\"color\":\"#E5ECF6\",\"width\":0.5},\"pattern\":{\"fillmode\":\"overlay\",\"size\":10,\"solidity\":0.2}},\"type\":\"barpolar\"}],\"pie\":[{\"automargin\":true,\"type\":\"pie\"}]},\"layout\":{\"autotypenumbers\":\"strict\",\"colorway\":[\"#636efa\",\"#EF553B\",\"#00cc96\",\"#ab63fa\",\"#FFA15A\",\"#19d3f3\",\"#FF6692\",\"#B6E880\",\"#FF97FF\",\"#FECB52\"],\"font\":{\"color\":\"#2a3f5f\"},\"hovermode\":\"closest\",\"hoverlabel\":{\"align\":\"left\"},\"paper_bgcolor\":\"white\",\"plot_bgcolor\":\"#E5ECF6\",\"polar\":{\"bgcolor\":\"#E5ECF6\",\"angularaxis\":{\"gridcolor\":\"white\",\"linecolor\":\"white\",\"ticks\":\"\"},\"radialaxis\":{\"gridcolor\":\"white\",\"linecolor\":\"white\",\"ticks\":\"\"}},\"ternary\":{\"bgcolor\":\"#E5ECF6\",\"aaxis\":{\"gridcolor\":\"white\",\"linecolor\":\"white\",\"ticks\":\"\"},\"baxis\":{\"gridcolor\":\"white\",\"linecolor\":\"white\",\"ticks\":\"\"},\"caxis\":{\"gridcolor\":\"white\",\"linecolor\":\"white\",\"ticks\":\"\"}},\"coloraxis\":{\"colorbar\":{\"outlinewidth\":0,\"ticks\":\"\"}},\"colorscale\":{\"sequential\":[[0.0,\"#0d0887\"],[0.1111111111111111,\"#46039f\"],[0.2222222222222222,\"#7201a8\"],[0.3333333333333333,\"#9c179e\"],[0.4444444444444444,\"#bd3786\"],[0.5555555555555556,\"#d8576b\"],[0.6666666666666666,\"#ed7953\"],[0.7777777777777778,\"#fb9f3a\"],[0.8888888888888888,\"#fdca26\"],[1.0,\"#f0f921\"]],\"sequentialminus\":[[0.0,\"#0d0887\"],[0.1111111111111111,\"#46039f\"],[0.2222222222222222,\"#7201a8\"],[0.3333333333333333,\"#9c179e\"],[0.4444444444444444,\"#bd3786\"],[0.5555555555555556,\"#d8576b\"],[0.6666666666666666,\"#ed7953\"],[0.7777777777777778,\"#fb9f3a\"],[0.8888888888888888,\"#fdca26\"],[1.0,\"#f0f921\"]],\"diverging\":[[0,\"#8e0152\"],[0.1,\"#c51b7d\"],[0.2,\"#de77ae\"],[0.3,\"#f1b6da\"],[0.4,\"#fde0ef\"],[0.5,\"#f7f7f7\"],[0.6,\"#e6f5d0\"],[0.7,\"#b8e186\"],[0.8,\"#7fbc41\"],[0.9,\"#4d9221\"],[1,\"#276419\"]]},\"xaxis\":{\"gridcolor\":\"white\",\"linecolor\":\"white\",\"ticks\":\"\",\"title\":{\"standoff\":15},\"zerolinecolor\":\"white\",\"automargin\":true,\"zerolinewidth\":2},\"yaxis\":{\"gridcolor\":\"white\",\"linecolor\":\"white\",\"ticks\":\"\",\"title\":{\"standoff\":15},\"zerolinecolor\":\"white\",\"automargin\":true,\"zerolinewidth\":2},\"scene\":{\"xaxis\":{\"backgroundcolor\":\"#E5ECF6\",\"gridcolor\":\"white\",\"linecolor\":\"white\",\"showbackground\":true,\"ticks\":\"\",\"zerolinecolor\":\"white\",\"gridwidth\":2},\"yaxis\":{\"backgroundcolor\":\"#E5ECF6\",\"gridcolor\":\"white\",\"linecolor\":\"white\",\"showbackground\":true,\"ticks\":\"\",\"zerolinecolor\":\"white\",\"gridwidth\":2},\"zaxis\":{\"backgroundcolor\":\"#E5ECF6\",\"gridcolor\":\"white\",\"linecolor\":\"white\",\"showbackground\":true,\"ticks\":\"\",\"zerolinecolor\":\"white\",\"gridwidth\":2}},\"shapedefaults\":{\"line\":{\"color\":\"#2a3f5f\"}},\"annotationdefaults\":{\"arrowcolor\":\"#2a3f5f\",\"arrowhead\":0,\"arrowwidth\":1},\"geo\":{\"bgcolor\":\"white\",\"landcolor\":\"#E5ECF6\",\"subunitcolor\":\"white\",\"showland\":true,\"showlakes\":true,\"lakecolor\":\"white\"},\"title\":{\"x\":0.05},\"mapbox\":{\"style\":\"light\"}}},\"xaxis\":{\"anchor\":\"y\",\"domain\":[0.0,1.0],\"title\":{\"text\":\"Attrition Status\"}},\"yaxis\":{\"anchor\":\"x\",\"domain\":[0.0,1.0],\"title\":{\"text\":\"Salary\"}},\"legend\":{\"tracegroupgap\":0},\"title\":{\"text\":\"Salary Distribution by Attrition Status\"},\"boxmode\":\"group\"},                        {\"responsive\": true}                    ).then(function(){\n",
       "                            \n",
       "var gd = document.getElementById('2c15fc9f-e6a0-45b2-b3a1-9880006b7c1f');\n",
       "var x = new MutationObserver(function (mutations, observer) {{\n",
       "        var display = window.getComputedStyle(gd).display;\n",
       "        if (!display || display === 'none') {{\n",
       "            console.log([gd, 'removed!']);\n",
       "            Plotly.purge(gd);\n",
       "            observer.disconnect();\n",
       "        }}\n",
       "}});\n",
       "\n",
       "// Listen for the removal of the full notebook cells\n",
       "var notebookContainer = gd.closest('#notebook-container');\n",
       "if (notebookContainer) {{\n",
       "    x.observe(notebookContainer, {childList: true});\n",
       "}}\n",
       "\n",
       "// Listen for the clearing of the current output cell\n",
       "var outputEl = gd.closest('.output');\n",
       "if (outputEl) {{\n",
       "    x.observe(outputEl, {childList: true});\n",
       "}}\n",
       "\n",
       "                        })                };                });            </script>        </div>"
      ]
     },
     "metadata": {},
     "output_type": "display_data"
    }
   ],
   "source": [
    "#Salary distribution by attrition feature\n",
    "salary_attr=emp_attrition.groupby('Attrition')['Salary'].describe().reset_index()\n",
    "print(salary_attr)\n",
    "\n",
    "fig_box=px.box(emp_attrition, x='Attrition', y='Salary',title='Salary Distribution by Attrition Status', labels={'Attrition': 'Attrition Status', 'Salary': 'Salary'})\n",
    "fig_box.show()"
   ]
  },
  {
   "cell_type": "markdown",
   "id": "002873fb-e01e-4869-89ff-9ba67159623f",
   "metadata": {},
   "source": [
    "count: Number of employees in each attrition category. For attrition = 0: 505 employees For attrition = 1: 495 employees.\n",
    "    \n",
    "min: The minimum salary for each attrition status. For attrition = 0: Minimum salary is 30,532. For attrition = 1: Minimum salary is 30,099."
   ]
  },
  {
   "cell_type": "code",
   "execution_count": 236,
   "id": "143ff4c1-0178-4af2-bafb-1daed8119668",
   "metadata": {},
   "outputs": [
    {
     "name": "stdout",
     "output_type": "stream",
     "text": [
      "\n",
      "Correlation between Promotion_Last_5Years and Attrition: 0.02\n"
     ]
    }
   ],
   "source": [
    "years_stats = emp_attrition['Promotion_Last_5Years'].describe()\n",
    "satisfaction_stats = emp_attrition['Attrition'].describe()\n",
    "# Correlation Analysis\n",
    "correlation = emp_attrition[['Promotion_Last_5Years', 'Attrition']].corr().iloc[0, 1]\n",
    "print(f\"\\nCorrelation between Promotion_Last_5Years and Attrition: {correlation:.2f}\")\n"
   ]
  },
  {
   "cell_type": "markdown",
   "id": "2284bf6e-6476-48ef-be18-cbce51572ea8",
   "metadata": {},
   "source": [
    "The correlation coefficient (0.02) measures the linear relationship between Promotion_Last_5Years and Attrition.\n",
    "A correlation of 0.02 indicates a very weak positive linear relationship between these two variables. \n",
    "In other words, promotions in the last 5 years have almost no linear impact on whether an employee leaves the company or not."
   ]
  },
  {
   "cell_type": "code",
   "execution_count": 237,
   "id": "61a25383-a211-4b42-abf7-57dcf54368ad",
   "metadata": {},
   "outputs": [
    {
     "name": "stdout",
     "output_type": "stream",
     "text": [
      "   Attrition  Employee_ID\n",
      "0          0          505\n",
      "1          1          495\n"
     ]
    },
    {
     "data": {
      "application/vnd.plotly.v1+json": {
       "config": {
        "plotlyServerURL": "https://plot.ly"
       },
       "data": [
        {
         "alignmentgroup": "True",
         "hovertemplate": "Attrition Status=%{x}<br>Employee_ID=%{y}<extra></extra>",
         "legendgroup": "",
         "marker": {
          "color": "#7DB0A8",
          "pattern": {
           "shape": ""
          }
         },
         "name": "",
         "offsetgroup": "",
         "orientation": "v",
         "showlegend": false,
         "textposition": "auto",
         "type": "bar",
         "x": [
          0,
          1
         ],
         "xaxis": "x",
         "y": [
          505,
          495
         ],
         "yaxis": "y"
        }
       ],
       "layout": {
        "autosize": true,
        "barmode": "relative",
        "legend": {
         "tracegroupgap": 0
        },
        "template": {
         "data": {
          "bar": [
           {
            "error_x": {
             "color": "#2a3f5f"
            },
            "error_y": {
             "color": "#2a3f5f"
            },
            "marker": {
             "line": {
              "color": "#E5ECF6",
              "width": 0.5
             },
             "pattern": {
              "fillmode": "overlay",
              "size": 10,
              "solidity": 0.2
             }
            },
            "type": "bar"
           }
          ],
          "barpolar": [
           {
            "marker": {
             "line": {
              "color": "#E5ECF6",
              "width": 0.5
             },
             "pattern": {
              "fillmode": "overlay",
              "size": 10,
              "solidity": 0.2
             }
            },
            "type": "barpolar"
           }
          ],
          "carpet": [
           {
            "aaxis": {
             "endlinecolor": "#2a3f5f",
             "gridcolor": "white",
             "linecolor": "white",
             "minorgridcolor": "white",
             "startlinecolor": "#2a3f5f"
            },
            "baxis": {
             "endlinecolor": "#2a3f5f",
             "gridcolor": "white",
             "linecolor": "white",
             "minorgridcolor": "white",
             "startlinecolor": "#2a3f5f"
            },
            "type": "carpet"
           }
          ],
          "choropleth": [
           {
            "colorbar": {
             "outlinewidth": 0,
             "ticks": ""
            },
            "type": "choropleth"
           }
          ],
          "contour": [
           {
            "colorbar": {
             "outlinewidth": 0,
             "ticks": ""
            },
            "colorscale": [
             [
              0,
              "#0d0887"
             ],
             [
              0.1111111111111111,
              "#46039f"
             ],
             [
              0.2222222222222222,
              "#7201a8"
             ],
             [
              0.3333333333333333,
              "#9c179e"
             ],
             [
              0.4444444444444444,
              "#bd3786"
             ],
             [
              0.5555555555555556,
              "#d8576b"
             ],
             [
              0.6666666666666666,
              "#ed7953"
             ],
             [
              0.7777777777777778,
              "#fb9f3a"
             ],
             [
              0.8888888888888888,
              "#fdca26"
             ],
             [
              1,
              "#f0f921"
             ]
            ],
            "type": "contour"
           }
          ],
          "contourcarpet": [
           {
            "colorbar": {
             "outlinewidth": 0,
             "ticks": ""
            },
            "type": "contourcarpet"
           }
          ],
          "heatmap": [
           {
            "colorbar": {
             "outlinewidth": 0,
             "ticks": ""
            },
            "colorscale": [
             [
              0,
              "#0d0887"
             ],
             [
              0.1111111111111111,
              "#46039f"
             ],
             [
              0.2222222222222222,
              "#7201a8"
             ],
             [
              0.3333333333333333,
              "#9c179e"
             ],
             [
              0.4444444444444444,
              "#bd3786"
             ],
             [
              0.5555555555555556,
              "#d8576b"
             ],
             [
              0.6666666666666666,
              "#ed7953"
             ],
             [
              0.7777777777777778,
              "#fb9f3a"
             ],
             [
              0.8888888888888888,
              "#fdca26"
             ],
             [
              1,
              "#f0f921"
             ]
            ],
            "type": "heatmap"
           }
          ],
          "heatmapgl": [
           {
            "colorbar": {
             "outlinewidth": 0,
             "ticks": ""
            },
            "colorscale": [
             [
              0,
              "#0d0887"
             ],
             [
              0.1111111111111111,
              "#46039f"
             ],
             [
              0.2222222222222222,
              "#7201a8"
             ],
             [
              0.3333333333333333,
              "#9c179e"
             ],
             [
              0.4444444444444444,
              "#bd3786"
             ],
             [
              0.5555555555555556,
              "#d8576b"
             ],
             [
              0.6666666666666666,
              "#ed7953"
             ],
             [
              0.7777777777777778,
              "#fb9f3a"
             ],
             [
              0.8888888888888888,
              "#fdca26"
             ],
             [
              1,
              "#f0f921"
             ]
            ],
            "type": "heatmapgl"
           }
          ],
          "histogram": [
           {
            "marker": {
             "pattern": {
              "fillmode": "overlay",
              "size": 10,
              "solidity": 0.2
             }
            },
            "type": "histogram"
           }
          ],
          "histogram2d": [
           {
            "colorbar": {
             "outlinewidth": 0,
             "ticks": ""
            },
            "colorscale": [
             [
              0,
              "#0d0887"
             ],
             [
              0.1111111111111111,
              "#46039f"
             ],
             [
              0.2222222222222222,
              "#7201a8"
             ],
             [
              0.3333333333333333,
              "#9c179e"
             ],
             [
              0.4444444444444444,
              "#bd3786"
             ],
             [
              0.5555555555555556,
              "#d8576b"
             ],
             [
              0.6666666666666666,
              "#ed7953"
             ],
             [
              0.7777777777777778,
              "#fb9f3a"
             ],
             [
              0.8888888888888888,
              "#fdca26"
             ],
             [
              1,
              "#f0f921"
             ]
            ],
            "type": "histogram2d"
           }
          ],
          "histogram2dcontour": [
           {
            "colorbar": {
             "outlinewidth": 0,
             "ticks": ""
            },
            "colorscale": [
             [
              0,
              "#0d0887"
             ],
             [
              0.1111111111111111,
              "#46039f"
             ],
             [
              0.2222222222222222,
              "#7201a8"
             ],
             [
              0.3333333333333333,
              "#9c179e"
             ],
             [
              0.4444444444444444,
              "#bd3786"
             ],
             [
              0.5555555555555556,
              "#d8576b"
             ],
             [
              0.6666666666666666,
              "#ed7953"
             ],
             [
              0.7777777777777778,
              "#fb9f3a"
             ],
             [
              0.8888888888888888,
              "#fdca26"
             ],
             [
              1,
              "#f0f921"
             ]
            ],
            "type": "histogram2dcontour"
           }
          ],
          "mesh3d": [
           {
            "colorbar": {
             "outlinewidth": 0,
             "ticks": ""
            },
            "type": "mesh3d"
           }
          ],
          "parcoords": [
           {
            "line": {
             "colorbar": {
              "outlinewidth": 0,
              "ticks": ""
             }
            },
            "type": "parcoords"
           }
          ],
          "pie": [
           {
            "automargin": true,
            "type": "pie"
           }
          ],
          "scatter": [
           {
            "fillpattern": {
             "fillmode": "overlay",
             "size": 10,
             "solidity": 0.2
            },
            "type": "scatter"
           }
          ],
          "scatter3d": [
           {
            "line": {
             "colorbar": {
              "outlinewidth": 0,
              "ticks": ""
             }
            },
            "marker": {
             "colorbar": {
              "outlinewidth": 0,
              "ticks": ""
             }
            },
            "type": "scatter3d"
           }
          ],
          "scattercarpet": [
           {
            "marker": {
             "colorbar": {
              "outlinewidth": 0,
              "ticks": ""
             }
            },
            "type": "scattercarpet"
           }
          ],
          "scattergeo": [
           {
            "marker": {
             "colorbar": {
              "outlinewidth": 0,
              "ticks": ""
             }
            },
            "type": "scattergeo"
           }
          ],
          "scattergl": [
           {
            "marker": {
             "colorbar": {
              "outlinewidth": 0,
              "ticks": ""
             }
            },
            "type": "scattergl"
           }
          ],
          "scattermapbox": [
           {
            "marker": {
             "colorbar": {
              "outlinewidth": 0,
              "ticks": ""
             }
            },
            "type": "scattermapbox"
           }
          ],
          "scatterpolar": [
           {
            "marker": {
             "colorbar": {
              "outlinewidth": 0,
              "ticks": ""
             }
            },
            "type": "scatterpolar"
           }
          ],
          "scatterpolargl": [
           {
            "marker": {
             "colorbar": {
              "outlinewidth": 0,
              "ticks": ""
             }
            },
            "type": "scatterpolargl"
           }
          ],
          "scatterternary": [
           {
            "marker": {
             "colorbar": {
              "outlinewidth": 0,
              "ticks": ""
             }
            },
            "type": "scatterternary"
           }
          ],
          "surface": [
           {
            "colorbar": {
             "outlinewidth": 0,
             "ticks": ""
            },
            "colorscale": [
             [
              0,
              "#0d0887"
             ],
             [
              0.1111111111111111,
              "#46039f"
             ],
             [
              0.2222222222222222,
              "#7201a8"
             ],
             [
              0.3333333333333333,
              "#9c179e"
             ],
             [
              0.4444444444444444,
              "#bd3786"
             ],
             [
              0.5555555555555556,
              "#d8576b"
             ],
             [
              0.6666666666666666,
              "#ed7953"
             ],
             [
              0.7777777777777778,
              "#fb9f3a"
             ],
             [
              0.8888888888888888,
              "#fdca26"
             ],
             [
              1,
              "#f0f921"
             ]
            ],
            "type": "surface"
           }
          ],
          "table": [
           {
            "cells": {
             "fill": {
              "color": "#EBF0F8"
             },
             "line": {
              "color": "white"
             }
            },
            "header": {
             "fill": {
              "color": "#C8D4E3"
             },
             "line": {
              "color": "white"
             }
            },
            "type": "table"
           }
          ]
         },
         "layout": {
          "annotationdefaults": {
           "arrowcolor": "#2a3f5f",
           "arrowhead": 0,
           "arrowwidth": 1
          },
          "autotypenumbers": "strict",
          "coloraxis": {
           "colorbar": {
            "outlinewidth": 0,
            "ticks": ""
           }
          },
          "colorscale": {
           "diverging": [
            [
             0,
             "#8e0152"
            ],
            [
             0.1,
             "#c51b7d"
            ],
            [
             0.2,
             "#de77ae"
            ],
            [
             0.3,
             "#f1b6da"
            ],
            [
             0.4,
             "#fde0ef"
            ],
            [
             0.5,
             "#f7f7f7"
            ],
            [
             0.6,
             "#e6f5d0"
            ],
            [
             0.7,
             "#b8e186"
            ],
            [
             0.8,
             "#7fbc41"
            ],
            [
             0.9,
             "#4d9221"
            ],
            [
             1,
             "#276419"
            ]
           ],
           "sequential": [
            [
             0,
             "#0d0887"
            ],
            [
             0.1111111111111111,
             "#46039f"
            ],
            [
             0.2222222222222222,
             "#7201a8"
            ],
            [
             0.3333333333333333,
             "#9c179e"
            ],
            [
             0.4444444444444444,
             "#bd3786"
            ],
            [
             0.5555555555555556,
             "#d8576b"
            ],
            [
             0.6666666666666666,
             "#ed7953"
            ],
            [
             0.7777777777777778,
             "#fb9f3a"
            ],
            [
             0.8888888888888888,
             "#fdca26"
            ],
            [
             1,
             "#f0f921"
            ]
           ],
           "sequentialminus": [
            [
             0,
             "#0d0887"
            ],
            [
             0.1111111111111111,
             "#46039f"
            ],
            [
             0.2222222222222222,
             "#7201a8"
            ],
            [
             0.3333333333333333,
             "#9c179e"
            ],
            [
             0.4444444444444444,
             "#bd3786"
            ],
            [
             0.5555555555555556,
             "#d8576b"
            ],
            [
             0.6666666666666666,
             "#ed7953"
            ],
            [
             0.7777777777777778,
             "#fb9f3a"
            ],
            [
             0.8888888888888888,
             "#fdca26"
            ],
            [
             1,
             "#f0f921"
            ]
           ]
          },
          "colorway": [
           "#636efa",
           "#EF553B",
           "#00cc96",
           "#ab63fa",
           "#FFA15A",
           "#19d3f3",
           "#FF6692",
           "#B6E880",
           "#FF97FF",
           "#FECB52"
          ],
          "font": {
           "color": "#2a3f5f"
          },
          "geo": {
           "bgcolor": "white",
           "lakecolor": "white",
           "landcolor": "#E5ECF6",
           "showlakes": true,
           "showland": true,
           "subunitcolor": "white"
          },
          "hoverlabel": {
           "align": "left"
          },
          "hovermode": "closest",
          "mapbox": {
           "style": "light"
          },
          "paper_bgcolor": "white",
          "plot_bgcolor": "#E5ECF6",
          "polar": {
           "angularaxis": {
            "gridcolor": "white",
            "linecolor": "white",
            "ticks": ""
           },
           "bgcolor": "#E5ECF6",
           "radialaxis": {
            "gridcolor": "white",
            "linecolor": "white",
            "ticks": ""
           }
          },
          "scene": {
           "xaxis": {
            "backgroundcolor": "#E5ECF6",
            "gridcolor": "white",
            "gridwidth": 2,
            "linecolor": "white",
            "showbackground": true,
            "ticks": "",
            "zerolinecolor": "white"
           },
           "yaxis": {
            "backgroundcolor": "#E5ECF6",
            "gridcolor": "white",
            "gridwidth": 2,
            "linecolor": "white",
            "showbackground": true,
            "ticks": "",
            "zerolinecolor": "white"
           },
           "zaxis": {
            "backgroundcolor": "#E5ECF6",
            "gridcolor": "white",
            "gridwidth": 2,
            "linecolor": "white",
            "showbackground": true,
            "ticks": "",
            "zerolinecolor": "white"
           }
          },
          "shapedefaults": {
           "line": {
            "color": "#2a3f5f"
           }
          },
          "ternary": {
           "aaxis": {
            "gridcolor": "white",
            "linecolor": "white",
            "ticks": ""
           },
           "baxis": {
            "gridcolor": "white",
            "linecolor": "white",
            "ticks": ""
           },
           "bgcolor": "#E5ECF6",
           "caxis": {
            "gridcolor": "white",
            "linecolor": "white",
            "ticks": ""
           }
          },
          "title": {
           "x": 0.05
          },
          "xaxis": {
           "automargin": true,
           "gridcolor": "white",
           "linecolor": "white",
           "ticks": "",
           "title": {
            "standoff": 15
           },
           "zerolinecolor": "white",
           "zerolinewidth": 2
          },
          "yaxis": {
           "automargin": true,
           "gridcolor": "white",
           "linecolor": "white",
           "ticks": "",
           "title": {
            "standoff": 15
           },
           "zerolinecolor": "white",
           "zerolinewidth": 2
          }
         }
        },
        "title": {
         "text": "Number of Employees by Attrition Status"
        },
        "xaxis": {
         "anchor": "y",
         "autorange": true,
         "domain": [
          0,
          1
         ],
         "range": [
          -0.5,
          1.5
         ],
         "title": {
          "text": "Attrition Status"
         },
         "type": "linear"
        },
        "yaxis": {
         "anchor": "x",
         "autorange": true,
         "domain": [
          0,
          1
         ],
         "range": [
          0,
          531.578947368421
         ],
         "title": {
          "text": "Employee_ID"
         },
         "type": "linear"
        }
       }
      },
      "image/png": "[encoded data removed]",
      "text/html": [
       "<div>                            <div id=\"d1fcee14-8087-4dab-beec-2c30b9a4c910\" class=\"plotly-graph-div\" style=\"height:525px; width:100%;\"></div>            <script type=\"text/javascript\">                require([\"plotly\"], function(Plotly) {                    window.PLOTLYENV=window.PLOTLYENV || {};                                    if (document.getElementById(\"d1fcee14-8087-4dab-beec-2c30b9a4c910\")) {                    Plotly.newPlot(                        \"d1fcee14-8087-4dab-beec-2c30b9a4c910\",                        [{\"alignmentgroup\":\"True\",\"hovertemplate\":\"Attrition Status=%{x}<br>Employee_ID=%{y}<extra></extra>\",\"legendgroup\":\"\",\"marker\":{\"color\":\"#7DB0A8\",\"pattern\":{\"shape\":\"\"}},\"name\":\"\",\"offsetgroup\":\"\",\"orientation\":\"v\",\"showlegend\":false,\"textposition\":\"auto\",\"x\":[0,1],\"xaxis\":\"x\",\"y\":[505,495],\"yaxis\":\"y\",\"type\":\"bar\"}],                        {\"template\":{\"data\":{\"histogram2dcontour\":[{\"type\":\"histogram2dcontour\",\"colorbar\":{\"outlinewidth\":0,\"ticks\":\"\"},\"colorscale\":[[0.0,\"#0d0887\"],[0.1111111111111111,\"#46039f\"],[0.2222222222222222,\"#7201a8\"],[0.3333333333333333,\"#9c179e\"],[0.4444444444444444,\"#bd3786\"],[0.5555555555555556,\"#d8576b\"],[0.6666666666666666,\"#ed7953\"],[0.7777777777777778,\"#fb9f3a\"],[0.8888888888888888,\"#fdca26\"],[1.0,\"#f0f921\"]]}],\"choropleth\":[{\"type\":\"choropleth\",\"colorbar\":{\"outlinewidth\":0,\"ticks\":\"\"}}],\"histogram2d\":[{\"type\":\"histogram2d\",\"colorbar\":{\"outlinewidth\":0,\"ticks\":\"\"},\"colorscale\":[[0.0,\"#0d0887\"],[0.1111111111111111,\"#46039f\"],[0.2222222222222222,\"#7201a8\"],[0.3333333333333333,\"#9c179e\"],[0.4444444444444444,\"#bd3786\"],[0.5555555555555556,\"#d8576b\"],[0.6666666666666666,\"#ed7953\"],[0.7777777777777778,\"#fb9f3a\"],[0.8888888888888888,\"#fdca26\"],[1.0,\"#f0f921\"]]}],\"heatmap\":[{\"type\":\"heatmap\",\"colorbar\":{\"outlinewidth\":0,\"ticks\":\"\"},\"colorscale\":[[0.0,\"#0d0887\"],[0.1111111111111111,\"#46039f\"],[0.2222222222222222,\"#7201a8\"],[0.3333333333333333,\"#9c179e\"],[0.4444444444444444,\"#bd3786\"],[0.5555555555555556,\"#d8576b\"],[0.6666666666666666,\"#ed7953\"],[0.7777777777777778,\"#fb9f3a\"],[0.8888888888888888,\"#fdca26\"],[1.0,\"#f0f921\"]]}],\"heatmapgl\":[{\"type\":\"heatmapgl\",\"colorbar\":{\"outlinewidth\":0,\"ticks\":\"\"},\"colorscale\":[[0.0,\"#0d0887\"],[0.1111111111111111,\"#46039f\"],[0.2222222222222222,\"#7201a8\"],[0.3333333333333333,\"#9c179e\"],[0.4444444444444444,\"#bd3786\"],[0.5555555555555556,\"#d8576b\"],[0.6666666666666666,\"#ed7953\"],[0.7777777777777778,\"#fb9f3a\"],[0.8888888888888888,\"#fdca26\"],[1.0,\"#f0f921\"]]}],\"contourcarpet\":[{\"type\":\"contourcarpet\",\"colorbar\":{\"outlinewidth\":0,\"ticks\":\"\"}}],\"contour\":[{\"type\":\"contour\",\"colorbar\":{\"outlinewidth\":0,\"ticks\":\"\"},\"colorscale\":[[0.0,\"#0d0887\"],[0.1111111111111111,\"#46039f\"],[0.2222222222222222,\"#7201a8\"],[0.3333333333333333,\"#9c179e\"],[0.4444444444444444,\"#bd3786\"],[0.5555555555555556,\"#d8576b\"],[0.6666666666666666,\"#ed7953\"],[0.7777777777777778,\"#fb9f3a\"],[0.8888888888888888,\"#fdca26\"],[1.0,\"#f0f921\"]]}],\"surface\":[{\"type\":\"surface\",\"colorbar\":{\"outlinewidth\":0,\"ticks\":\"\"},\"colorscale\":[[0.0,\"#0d0887\"],[0.1111111111111111,\"#46039f\"],[0.2222222222222222,\"#7201a8\"],[0.3333333333333333,\"#9c179e\"],[0.4444444444444444,\"#bd3786\"],[0.5555555555555556,\"#d8576b\"],[0.6666666666666666,\"#ed7953\"],[0.7777777777777778,\"#fb9f3a\"],[0.8888888888888888,\"#fdca26\"],[1.0,\"#f0f921\"]]}],\"mesh3d\":[{\"type\":\"mesh3d\",\"colorbar\":{\"outlinewidth\":0,\"ticks\":\"\"}}],\"scatter\":[{\"fillpattern\":{\"fillmode\":\"overlay\",\"size\":10,\"solidity\":0.2},\"type\":\"scatter\"}],\"parcoords\":[{\"type\":\"parcoords\",\"line\":{\"colorbar\":{\"outlinewidth\":0,\"ticks\":\"\"}}}],\"scatterpolargl\":[{\"type\":\"scatterpolargl\",\"marker\":{\"colorbar\":{\"outlinewidth\":0,\"ticks\":\"\"}}}],\"bar\":[{\"error_x\":{\"color\":\"#2a3f5f\"},\"error_y\":{\"color\":\"#2a3f5f\"},\"marker\":{\"line\":{\"color\":\"#E5ECF6\",\"width\":0.5},\"pattern\":{\"fillmode\":\"overlay\",\"size\":10,\"solidity\":0.2}},\"type\":\"bar\"}],\"scattergeo\":[{\"type\":\"scattergeo\",\"marker\":{\"colorbar\":{\"outlinewidth\":0,\"ticks\":\"\"}}}],\"scatterpolar\":[{\"type\":\"scatterpolar\",\"marker\":{\"colorbar\":{\"outlinewidth\":0,\"ticks\":\"\"}}}],\"histogram\":[{\"marker\":{\"pattern\":{\"fillmode\":\"overlay\",\"size\":10,\"solidity\":0.2}},\"type\":\"histogram\"}],\"scattergl\":[{\"type\":\"scattergl\",\"marker\":{\"colorbar\":{\"outlinewidth\":0,\"ticks\":\"\"}}}],\"scatter3d\":[{\"type\":\"scatter3d\",\"line\":{\"colorbar\":{\"outlinewidth\":0,\"ticks\":\"\"}},\"marker\":{\"colorbar\":{\"outlinewidth\":0,\"ticks\":\"\"}}}],\"scattermapbox\":[{\"type\":\"scattermapbox\",\"marker\":{\"colorbar\":{\"outlinewidth\":0,\"ticks\":\"\"}}}],\"scatterternary\":[{\"type\":\"scatterternary\",\"marker\":{\"colorbar\":{\"outlinewidth\":0,\"ticks\":\"\"}}}],\"scattercarpet\":[{\"type\":\"scattercarpet\",\"marker\":{\"colorbar\":{\"outlinewidth\":0,\"ticks\":\"\"}}}],\"carpet\":[{\"aaxis\":{\"endlinecolor\":\"#2a3f5f\",\"gridcolor\":\"white\",\"linecolor\":\"white\",\"minorgridcolor\":\"white\",\"startlinecolor\":\"#2a3f5f\"},\"baxis\":{\"endlinecolor\":\"#2a3f5f\",\"gridcolor\":\"white\",\"linecolor\":\"white\",\"minorgridcolor\":\"white\",\"startlinecolor\":\"#2a3f5f\"},\"type\":\"carpet\"}],\"table\":[{\"cells\":{\"fill\":{\"color\":\"#EBF0F8\"},\"line\":{\"color\":\"white\"}},\"header\":{\"fill\":{\"color\":\"#C8D4E3\"},\"line\":{\"color\":\"white\"}},\"type\":\"table\"}],\"barpolar\":[{\"marker\":{\"line\":{\"color\":\"#E5ECF6\",\"width\":0.5},\"pattern\":{\"fillmode\":\"overlay\",\"size\":10,\"solidity\":0.2}},\"type\":\"barpolar\"}],\"pie\":[{\"automargin\":true,\"type\":\"pie\"}]},\"layout\":{\"autotypenumbers\":\"strict\",\"colorway\":[\"#636efa\",\"#EF553B\",\"#00cc96\",\"#ab63fa\",\"#FFA15A\",\"#19d3f3\",\"#FF6692\",\"#B6E880\",\"#FF97FF\",\"#FECB52\"],\"font\":{\"color\":\"#2a3f5f\"},\"hovermode\":\"closest\",\"hoverlabel\":{\"align\":\"left\"},\"paper_bgcolor\":\"white\",\"plot_bgcolor\":\"#E5ECF6\",\"polar\":{\"bgcolor\":\"#E5ECF6\",\"angularaxis\":{\"gridcolor\":\"white\",\"linecolor\":\"white\",\"ticks\":\"\"},\"radialaxis\":{\"gridcolor\":\"white\",\"linecolor\":\"white\",\"ticks\":\"\"}},\"ternary\":{\"bgcolor\":\"#E5ECF6\",\"aaxis\":{\"gridcolor\":\"white\",\"linecolor\":\"white\",\"ticks\":\"\"},\"baxis\":{\"gridcolor\":\"white\",\"linecolor\":\"white\",\"ticks\":\"\"},\"caxis\":{\"gridcolor\":\"white\",\"linecolor\":\"white\",\"ticks\":\"\"}},\"coloraxis\":{\"colorbar\":{\"outlinewidth\":0,\"ticks\":\"\"}},\"colorscale\":{\"sequential\":[[0.0,\"#0d0887\"],[0.1111111111111111,\"#46039f\"],[0.2222222222222222,\"#7201a8\"],[0.3333333333333333,\"#9c179e\"],[0.4444444444444444,\"#bd3786\"],[0.5555555555555556,\"#d8576b\"],[0.6666666666666666,\"#ed7953\"],[0.7777777777777778,\"#fb9f3a\"],[0.8888888888888888,\"#fdca26\"],[1.0,\"#f0f921\"]],\"sequentialminus\":[[0.0,\"#0d0887\"],[0.1111111111111111,\"#46039f\"],[0.2222222222222222,\"#7201a8\"],[0.3333333333333333,\"#9c179e\"],[0.4444444444444444,\"#bd3786\"],[0.5555555555555556,\"#d8576b\"],[0.6666666666666666,\"#ed7953\"],[0.7777777777777778,\"#fb9f3a\"],[0.8888888888888888,\"#fdca26\"],[1.0,\"#f0f921\"]],\"diverging\":[[0,\"#8e0152\"],[0.1,\"#c51b7d\"],[0.2,\"#de77ae\"],[0.3,\"#f1b6da\"],[0.4,\"#fde0ef\"],[0.5,\"#f7f7f7\"],[0.6,\"#e6f5d0\"],[0.7,\"#b8e186\"],[0.8,\"#7fbc41\"],[0.9,\"#4d9221\"],[1,\"#276419\"]]},\"xaxis\":{\"gridcolor\":\"white\",\"linecolor\":\"white\",\"ticks\":\"\",\"title\":{\"standoff\":15},\"zerolinecolor\":\"white\",\"automargin\":true,\"zerolinewidth\":2},\"yaxis\":{\"gridcolor\":\"white\",\"linecolor\":\"white\",\"ticks\":\"\",\"title\":{\"standoff\":15},\"zerolinecolor\":\"white\",\"automargin\":true,\"zerolinewidth\":2},\"scene\":{\"xaxis\":{\"backgroundcolor\":\"#E5ECF6\",\"gridcolor\":\"white\",\"linecolor\":\"white\",\"showbackground\":true,\"ticks\":\"\",\"zerolinecolor\":\"white\",\"gridwidth\":2},\"yaxis\":{\"backgroundcolor\":\"#E5ECF6\",\"gridcolor\":\"white\",\"linecolor\":\"white\",\"showbackground\":true,\"ticks\":\"\",\"zerolinecolor\":\"white\",\"gridwidth\":2},\"zaxis\":{\"backgroundcolor\":\"#E5ECF6\",\"gridcolor\":\"white\",\"linecolor\":\"white\",\"showbackground\":true,\"ticks\":\"\",\"zerolinecolor\":\"white\",\"gridwidth\":2}},\"shapedefaults\":{\"line\":{\"color\":\"#2a3f5f\"}},\"annotationdefaults\":{\"arrowcolor\":\"#2a3f5f\",\"arrowhead\":0,\"arrowwidth\":1},\"geo\":{\"bgcolor\":\"white\",\"landcolor\":\"#E5ECF6\",\"subunitcolor\":\"white\",\"showland\":true,\"showlakes\":true,\"lakecolor\":\"white\"},\"title\":{\"x\":0.05},\"mapbox\":{\"style\":\"light\"}}},\"xaxis\":{\"anchor\":\"y\",\"domain\":[0.0,1.0],\"title\":{\"text\":\"Attrition Status\"}},\"yaxis\":{\"anchor\":\"x\",\"domain\":[0.0,1.0],\"title\":{\"text\":\"Employee_ID\"}},\"legend\":{\"tracegroupgap\":0},\"title\":{\"text\":\"Number of Employees by Attrition Status\"},\"barmode\":\"relative\"},                        {\"responsive\": true}                    ).then(function(){\n",
       "                            \n",
       "var gd = document.getElementById('d1fcee14-8087-4dab-beec-2c30b9a4c910');\n",
       "var x = new MutationObserver(function (mutations, observer) {{\n",
       "        var display = window.getComputedStyle(gd).display;\n",
       "        if (!display || display === 'none') {{\n",
       "            console.log([gd, 'removed!']);\n",
       "            Plotly.purge(gd);\n",
       "            observer.disconnect();\n",
       "        }}\n",
       "}});\n",
       "\n",
       "// Listen for the removal of the full notebook cells\n",
       "var notebookContainer = gd.closest('#notebook-container');\n",
       "if (notebookContainer) {{\n",
       "    x.observe(notebookContainer, {childList: true});\n",
       "}}\n",
       "\n",
       "// Listen for the clearing of the current output cell\n",
       "var outputEl = gd.closest('.output');\n",
       "if (outputEl) {{\n",
       "    x.observe(outputEl, {childList: true});\n",
       "}}\n",
       "\n",
       "                        })                };                });            </script>        </div>"
      ]
     },
     "metadata": {},
     "output_type": "display_data"
    }
   ],
   "source": [
    "#Number of employee by attrition\n",
    "promotion_attrition_count = emp_attrition.groupby('Attrition')['Employee_ID'].count().reset_index()\n",
    "print(promotion_attrition_count)\n",
    "# Bar plot\n",
    "fig = px.bar(promotion_attrition_count, x='Attrition', y='Employee_ID', \n",
    "             title='Number of Employees by Attrition Status',\n",
    "             labels={'Attrition': 'Attrition Status', 'Employee_Count': 'Number of Employees'})\n",
    "fig.update_traces(marker_color='#7DB0A8')\n",
    "fig.show()"
   ]
  },
  {
   "cell_type": "markdown",
   "id": "b6f12442-18aa-4c42-b348-862d4c8a0a01",
   "metadata": {},
   "source": [
    "The attrition rate is the proportion of employees who have left the organization. In this case, the attrition rate is approximately 49.5%."
   ]
  },
  {
   "cell_type": "code",
   "execution_count": 238,
   "id": "8f1c3342-fab4-48ca-a755-aa07f4735ab9",
   "metadata": {},
   "outputs": [
    {
     "name": "stdout",
     "output_type": "stream",
     "text": [
      "    Department  Employee_ID\n",
      "0  Engineering          204\n",
      "1      Finance          206\n",
      "2           HR          191\n",
      "3    Marketing          190\n",
      "4        Sales          209\n"
     ]
    },
    {
     "data": {
      "application/vnd.plotly.v1+json": {
       "config": {
        "plotlyServerURL": "https://plot.ly"
       },
       "data": [
        {
         "alignmentgroup": "True",
         "hovertemplate": "Department=%{x}<br>Employee_ID=%{y}<extra></extra>",
         "legendgroup": "",
         "marker": {
          "color": "#FCD299",
          "pattern": {
           "shape": ""
          }
         },
         "name": "",
         "offsetgroup": "",
         "orientation": "v",
         "showlegend": false,
         "textposition": "auto",
         "type": "bar",
         "x": [
          "Engineering",
          "Finance",
          "HR",
          "Marketing",
          "Sales"
         ],
         "xaxis": "x",
         "y": [
          204,
          206,
          191,
          190,
          209
         ],
         "yaxis": "y"
        }
       ],
       "layout": {
        "autosize": true,
        "barmode": "relative",
        "legend": {
         "tracegroupgap": 0
        },
        "template": {
         "data": {
          "bar": [
           {
            "error_x": {
             "color": "#2a3f5f"
            },
            "error_y": {
             "color": "#2a3f5f"
            },
            "marker": {
             "line": {
              "color": "#E5ECF6",
              "width": 0.5
             },
             "pattern": {
              "fillmode": "overlay",
              "size": 10,
              "solidity": 0.2
             }
            },
            "type": "bar"
           }
          ],
          "barpolar": [
           {
            "marker": {
             "line": {
              "color": "#E5ECF6",
              "width": 0.5
             },
             "pattern": {
              "fillmode": "overlay",
              "size": 10,
              "solidity": 0.2
             }
            },
            "type": "barpolar"
           }
          ],
          "carpet": [
           {
            "aaxis": {
             "endlinecolor": "#2a3f5f",
             "gridcolor": "white",
             "linecolor": "white",
             "minorgridcolor": "white",
             "startlinecolor": "#2a3f5f"
            },
            "baxis": {
             "endlinecolor": "#2a3f5f",
             "gridcolor": "white",
             "linecolor": "white",
             "minorgridcolor": "white",
             "startlinecolor": "#2a3f5f"
            },
            "type": "carpet"
           }
          ],
          "choropleth": [
           {
            "colorbar": {
             "outlinewidth": 0,
             "ticks": ""
            },
            "type": "choropleth"
           }
          ],
          "contour": [
           {
            "colorbar": {
             "outlinewidth": 0,
             "ticks": ""
            },
            "colorscale": [
             [
              0,
              "#0d0887"
             ],
             [
              0.1111111111111111,
              "#46039f"
             ],
             [
              0.2222222222222222,
              "#7201a8"
             ],
             [
              0.3333333333333333,
              "#9c179e"
             ],
             [
              0.4444444444444444,
              "#bd3786"
             ],
             [
              0.5555555555555556,
              "#d8576b"
             ],
             [
              0.6666666666666666,
              "#ed7953"
             ],
             [
              0.7777777777777778,
              "#fb9f3a"
             ],
             [
              0.8888888888888888,
              "#fdca26"
             ],
             [
              1,
              "#f0f921"
             ]
            ],
            "type": "contour"
           }
          ],
          "contourcarpet": [
           {
            "colorbar": {
             "outlinewidth": 0,
             "ticks": ""
            },
            "type": "contourcarpet"
           }
          ],
          "heatmap": [
           {
            "colorbar": {
             "outlinewidth": 0,
             "ticks": ""
            },
            "colorscale": [
             [
              0,
              "#0d0887"
             ],
             [
              0.1111111111111111,
              "#46039f"
             ],
             [
              0.2222222222222222,
              "#7201a8"
             ],
             [
              0.3333333333333333,
              "#9c179e"
             ],
             [
              0.4444444444444444,
              "#bd3786"
             ],
             [
              0.5555555555555556,
              "#d8576b"
             ],
             [
              0.6666666666666666,
              "#ed7953"
             ],
             [
              0.7777777777777778,
              "#fb9f3a"
             ],
             [
              0.8888888888888888,
              "#fdca26"
             ],
             [
              1,
              "#f0f921"
             ]
            ],
            "type": "heatmap"
           }
          ],
          "heatmapgl": [
           {
            "colorbar": {
             "outlinewidth": 0,
             "ticks": ""
            },
            "colorscale": [
             [
              0,
              "#0d0887"
             ],
             [
              0.1111111111111111,
              "#46039f"
             ],
             [
              0.2222222222222222,
              "#7201a8"
             ],
             [
              0.3333333333333333,
              "#9c179e"
             ],
             [
              0.4444444444444444,
              "#bd3786"
             ],
             [
              0.5555555555555556,
              "#d8576b"
             ],
             [
              0.6666666666666666,
              "#ed7953"
             ],
             [
              0.7777777777777778,
              "#fb9f3a"
             ],
             [
              0.8888888888888888,
              "#fdca26"
             ],
             [
              1,
              "#f0f921"
             ]
            ],
            "type": "heatmapgl"
           }
          ],
          "histogram": [
           {
            "marker": {
             "pattern": {
              "fillmode": "overlay",
              "size": 10,
              "solidity": 0.2
             }
            },
            "type": "histogram"
           }
          ],
          "histogram2d": [
           {
            "colorbar": {
             "outlinewidth": 0,
             "ticks": ""
            },
            "colorscale": [
             [
              0,
              "#0d0887"
             ],
             [
              0.1111111111111111,
              "#46039f"
             ],
             [
              0.2222222222222222,
              "#7201a8"
             ],
             [
              0.3333333333333333,
              "#9c179e"
             ],
             [
              0.4444444444444444,
              "#bd3786"
             ],
             [
              0.5555555555555556,
              "#d8576b"
             ],
             [
              0.6666666666666666,
              "#ed7953"
             ],
             [
              0.7777777777777778,
              "#fb9f3a"
             ],
             [
              0.8888888888888888,
              "#fdca26"
             ],
             [
              1,
              "#f0f921"
             ]
            ],
            "type": "histogram2d"
           }
          ],
          "histogram2dcontour": [
           {
            "colorbar": {
             "outlinewidth": 0,
             "ticks": ""
            },
            "colorscale": [
             [
              0,
              "#0d0887"
             ],
             [
              0.1111111111111111,
              "#46039f"
             ],
             [
              0.2222222222222222,
              "#7201a8"
             ],
             [
              0.3333333333333333,
              "#9c179e"
             ],
             [
              0.4444444444444444,
              "#bd3786"
             ],
             [
              0.5555555555555556,
              "#d8576b"
             ],
             [
              0.6666666666666666,
              "#ed7953"
             ],
             [
              0.7777777777777778,
              "#fb9f3a"
             ],
             [
              0.8888888888888888,
              "#fdca26"
             ],
             [
              1,
              "#f0f921"
             ]
            ],
            "type": "histogram2dcontour"
           }
          ],
          "mesh3d": [
           {
            "colorbar": {
             "outlinewidth": 0,
             "ticks": ""
            },
            "type": "mesh3d"
           }
          ],
          "parcoords": [
           {
            "line": {
             "colorbar": {
              "outlinewidth": 0,
              "ticks": ""
             }
            },
            "type": "parcoords"
           }
          ],
          "pie": [
           {
            "automargin": true,
            "type": "pie"
           }
          ],
          "scatter": [
           {
            "fillpattern": {
             "fillmode": "overlay",
             "size": 10,
             "solidity": 0.2
            },
            "type": "scatter"
           }
          ],
          "scatter3d": [
           {
            "line": {
             "colorbar": {
              "outlinewidth": 0,
              "ticks": ""
             }
            },
            "marker": {
             "colorbar": {
              "outlinewidth": 0,
              "ticks": ""
             }
            },
            "type": "scatter3d"
           }
          ],
          "scattercarpet": [
           {
            "marker": {
             "colorbar": {
              "outlinewidth": 0,
              "ticks": ""
             }
            },
            "type": "scattercarpet"
           }
          ],
          "scattergeo": [
           {
            "marker": {
             "colorbar": {
              "outlinewidth": 0,
              "ticks": ""
             }
            },
            "type": "scattergeo"
           }
          ],
          "scattergl": [
           {
            "marker": {
             "colorbar": {
              "outlinewidth": 0,
              "ticks": ""
             }
            },
            "type": "scattergl"
           }
          ],
          "scattermapbox": [
           {
            "marker": {
             "colorbar": {
              "outlinewidth": 0,
              "ticks": ""
             }
            },
            "type": "scattermapbox"
           }
          ],
          "scatterpolar": [
           {
            "marker": {
             "colorbar": {
              "outlinewidth": 0,
              "ticks": ""
             }
            },
            "type": "scatterpolar"
           }
          ],
          "scatterpolargl": [
           {
            "marker": {
             "colorbar": {
              "outlinewidth": 0,
              "ticks": ""
             }
            },
            "type": "scatterpolargl"
           }
          ],
          "scatterternary": [
           {
            "marker": {
             "colorbar": {
              "outlinewidth": 0,
              "ticks": ""
             }
            },
            "type": "scatterternary"
           }
          ],
          "surface": [
           {
            "colorbar": {
             "outlinewidth": 0,
             "ticks": ""
            },
            "colorscale": [
             [
              0,
              "#0d0887"
             ],
             [
              0.1111111111111111,
              "#46039f"
             ],
             [
              0.2222222222222222,
              "#7201a8"
             ],
             [
              0.3333333333333333,
              "#9c179e"
             ],
             [
              0.4444444444444444,
              "#bd3786"
             ],
             [
              0.5555555555555556,
              "#d8576b"
             ],
             [
              0.6666666666666666,
              "#ed7953"
             ],
             [
              0.7777777777777778,
              "#fb9f3a"
             ],
             [
              0.8888888888888888,
              "#fdca26"
             ],
             [
              1,
              "#f0f921"
             ]
            ],
            "type": "surface"
           }
          ],
          "table": [
           {
            "cells": {
             "fill": {
              "color": "#EBF0F8"
             },
             "line": {
              "color": "white"
             }
            },
            "header": {
             "fill": {
              "color": "#C8D4E3"
             },
             "line": {
              "color": "white"
             }
            },
            "type": "table"
           }
          ]
         },
         "layout": {
          "annotationdefaults": {
           "arrowcolor": "#2a3f5f",
           "arrowhead": 0,
           "arrowwidth": 1
          },
          "autotypenumbers": "strict",
          "coloraxis": {
           "colorbar": {
            "outlinewidth": 0,
            "ticks": ""
           }
          },
          "colorscale": {
           "diverging": [
            [
             0,
             "#8e0152"
            ],
            [
             0.1,
             "#c51b7d"
            ],
            [
             0.2,
             "#de77ae"
            ],
            [
             0.3,
             "#f1b6da"
            ],
            [
             0.4,
             "#fde0ef"
            ],
            [
             0.5,
             "#f7f7f7"
            ],
            [
             0.6,
             "#e6f5d0"
            ],
            [
             0.7,
             "#b8e186"
            ],
            [
             0.8,
             "#7fbc41"
            ],
            [
             0.9,
             "#4d9221"
            ],
            [
             1,
             "#276419"
            ]
           ],
           "sequential": [
            [
             0,
             "#0d0887"
            ],
            [
             0.1111111111111111,
             "#46039f"
            ],
            [
             0.2222222222222222,
             "#7201a8"
            ],
            [
             0.3333333333333333,
             "#9c179e"
            ],
            [
             0.4444444444444444,
             "#bd3786"
            ],
            [
             0.5555555555555556,
             "#d8576b"
            ],
            [
             0.6666666666666666,
             "#ed7953"
            ],
            [
             0.7777777777777778,
             "#fb9f3a"
            ],
            [
             0.8888888888888888,
             "#fdca26"
            ],
            [
             1,
             "#f0f921"
            ]
           ],
           "sequentialminus": [
            [
             0,
             "#0d0887"
            ],
            [
             0.1111111111111111,
             "#46039f"
            ],
            [
             0.2222222222222222,
             "#7201a8"
            ],
            [
             0.3333333333333333,
             "#9c179e"
            ],
            [
             0.4444444444444444,
             "#bd3786"
            ],
            [
             0.5555555555555556,
             "#d8576b"
            ],
            [
             0.6666666666666666,
             "#ed7953"
            ],
            [
             0.7777777777777778,
             "#fb9f3a"
            ],
            [
             0.8888888888888888,
             "#fdca26"
            ],
            [
             1,
             "#f0f921"
            ]
           ]
          },
          "colorway": [
           "#636efa",
           "#EF553B",
           "#00cc96",
           "#ab63fa",
           "#FFA15A",
           "#19d3f3",
           "#FF6692",
           "#B6E880",
           "#FF97FF",
           "#FECB52"
          ],
          "font": {
           "color": "#2a3f5f"
          },
          "geo": {
           "bgcolor": "white",
           "lakecolor": "white",
           "landcolor": "#E5ECF6",
           "showlakes": true,
           "showland": true,
           "subunitcolor": "white"
          },
          "hoverlabel": {
           "align": "left"
          },
          "hovermode": "closest",
          "mapbox": {
           "style": "light"
          },
          "paper_bgcolor": "white",
          "plot_bgcolor": "#E5ECF6",
          "polar": {
           "angularaxis": {
            "gridcolor": "white",
            "linecolor": "white",
            "ticks": ""
           },
           "bgcolor": "#E5ECF6",
           "radialaxis": {
            "gridcolor": "white",
            "linecolor": "white",
            "ticks": ""
           }
          },
          "scene": {
           "xaxis": {
            "backgroundcolor": "#E5ECF6",
            "gridcolor": "white",
            "gridwidth": 2,
            "linecolor": "white",
            "showbackground": true,
            "ticks": "",
            "zerolinecolor": "white"
           },
           "yaxis": {
            "backgroundcolor": "#E5ECF6",
            "gridcolor": "white",
            "gridwidth": 2,
            "linecolor": "white",
            "showbackground": true,
            "ticks": "",
            "zerolinecolor": "white"
           },
           "zaxis": {
            "backgroundcolor": "#E5ECF6",
            "gridcolor": "white",
            "gridwidth": 2,
            "linecolor": "white",
            "showbackground": true,
            "ticks": "",
            "zerolinecolor": "white"
           }
          },
          "shapedefaults": {
           "line": {
            "color": "#2a3f5f"
           }
          },
          "ternary": {
           "aaxis": {
            "gridcolor": "white",
            "linecolor": "white",
            "ticks": ""
           },
           "baxis": {
            "gridcolor": "white",
            "linecolor": "white",
            "ticks": ""
           },
           "bgcolor": "#E5ECF6",
           "caxis": {
            "gridcolor": "white",
            "linecolor": "white",
            "ticks": ""
           }
          },
          "title": {
           "x": 0.05
          },
          "xaxis": {
           "automargin": true,
           "gridcolor": "white",
           "linecolor": "white",
           "ticks": "",
           "title": {
            "standoff": 15
           },
           "zerolinecolor": "white",
           "zerolinewidth": 2
          },
          "yaxis": {
           "automargin": true,
           "gridcolor": "white",
           "linecolor": "white",
           "ticks": "",
           "title": {
            "standoff": 15
           },
           "zerolinecolor": "white",
           "zerolinewidth": 2
          }
         }
        },
        "title": {
         "text": "Number of Employees by Department"
        },
        "xaxis": {
         "anchor": "y",
         "autorange": true,
         "domain": [
          0,
          1
         ],
         "range": [
          -0.5,
          4.5
         ],
         "title": {
          "text": "Department"
         },
         "type": "category"
        },
        "yaxis": {
         "anchor": "x",
         "autorange": true,
         "domain": [
          0,
          1
         ],
         "range": [
          0,
          220
         ],
         "title": {
          "text": "Employee_ID"
         },
         "type": "linear"
        }
       }
      },
      "image/png": "[encoded data removed]",
      "text/html": [
       "<div>                            <div id=\"71323ddb-780a-436c-98a1-9e2dc1735f8b\" class=\"plotly-graph-div\" style=\"height:525px; width:100%;\"></div>            <script type=\"text/javascript\">                require([\"plotly\"], function(Plotly) {                    window.PLOTLYENV=window.PLOTLYENV || {};                                    if (document.getElementById(\"71323ddb-780a-436c-98a1-9e2dc1735f8b\")) {                    Plotly.newPlot(                        \"71323ddb-780a-436c-98a1-9e2dc1735f8b\",                        [{\"alignmentgroup\":\"True\",\"hovertemplate\":\"Department=%{x}<br>Employee_ID=%{y}<extra></extra>\",\"legendgroup\":\"\",\"marker\":{\"color\":\"#FCD299\",\"pattern\":{\"shape\":\"\"}},\"name\":\"\",\"offsetgroup\":\"\",\"orientation\":\"v\",\"showlegend\":false,\"textposition\":\"auto\",\"x\":[\"Engineering\",\"Finance\",\"HR\",\"Marketing\",\"Sales\"],\"xaxis\":\"x\",\"y\":[204,206,191,190,209],\"yaxis\":\"y\",\"type\":\"bar\"}],                        {\"template\":{\"data\":{\"histogram2dcontour\":[{\"type\":\"histogram2dcontour\",\"colorbar\":{\"outlinewidth\":0,\"ticks\":\"\"},\"colorscale\":[[0.0,\"#0d0887\"],[0.1111111111111111,\"#46039f\"],[0.2222222222222222,\"#7201a8\"],[0.3333333333333333,\"#9c179e\"],[0.4444444444444444,\"#bd3786\"],[0.5555555555555556,\"#d8576b\"],[0.6666666666666666,\"#ed7953\"],[0.7777777777777778,\"#fb9f3a\"],[0.8888888888888888,\"#fdca26\"],[1.0,\"#f0f921\"]]}],\"choropleth\":[{\"type\":\"choropleth\",\"colorbar\":{\"outlinewidth\":0,\"ticks\":\"\"}}],\"histogram2d\":[{\"type\":\"histogram2d\",\"colorbar\":{\"outlinewidth\":0,\"ticks\":\"\"},\"colorscale\":[[0.0,\"#0d0887\"],[0.1111111111111111,\"#46039f\"],[0.2222222222222222,\"#7201a8\"],[0.3333333333333333,\"#9c179e\"],[0.4444444444444444,\"#bd3786\"],[0.5555555555555556,\"#d8576b\"],[0.6666666666666666,\"#ed7953\"],[0.7777777777777778,\"#fb9f3a\"],[0.8888888888888888,\"#fdca26\"],[1.0,\"#f0f921\"]]}],\"heatmap\":[{\"type\":\"heatmap\",\"colorbar\":{\"outlinewidth\":0,\"ticks\":\"\"},\"colorscale\":[[0.0,\"#0d0887\"],[0.1111111111111111,\"#46039f\"],[0.2222222222222222,\"#7201a8\"],[0.3333333333333333,\"#9c179e\"],[0.4444444444444444,\"#bd3786\"],[0.5555555555555556,\"#d8576b\"],[0.6666666666666666,\"#ed7953\"],[0.7777777777777778,\"#fb9f3a\"],[0.8888888888888888,\"#fdca26\"],[1.0,\"#f0f921\"]]}],\"heatmapgl\":[{\"type\":\"heatmapgl\",\"colorbar\":{\"outlinewidth\":0,\"ticks\":\"\"},\"colorscale\":[[0.0,\"#0d0887\"],[0.1111111111111111,\"#46039f\"],[0.2222222222222222,\"#7201a8\"],[0.3333333333333333,\"#9c179e\"],[0.4444444444444444,\"#bd3786\"],[0.5555555555555556,\"#d8576b\"],[0.6666666666666666,\"#ed7953\"],[0.7777777777777778,\"#fb9f3a\"],[0.8888888888888888,\"#fdca26\"],[1.0,\"#f0f921\"]]}],\"contourcarpet\":[{\"type\":\"contourcarpet\",\"colorbar\":{\"outlinewidth\":0,\"ticks\":\"\"}}],\"contour\":[{\"type\":\"contour\",\"colorbar\":{\"outlinewidth\":0,\"ticks\":\"\"},\"colorscale\":[[0.0,\"#0d0887\"],[0.1111111111111111,\"#46039f\"],[0.2222222222222222,\"#7201a8\"],[0.3333333333333333,\"#9c179e\"],[0.4444444444444444,\"#bd3786\"],[0.5555555555555556,\"#d8576b\"],[0.6666666666666666,\"#ed7953\"],[0.7777777777777778,\"#fb9f3a\"],[0.8888888888888888,\"#fdca26\"],[1.0,\"#f0f921\"]]}],\"surface\":[{\"type\":\"surface\",\"colorbar\":{\"outlinewidth\":0,\"ticks\":\"\"},\"colorscale\":[[0.0,\"#0d0887\"],[0.1111111111111111,\"#46039f\"],[0.2222222222222222,\"#7201a8\"],[0.3333333333333333,\"#9c179e\"],[0.4444444444444444,\"#bd3786\"],[0.5555555555555556,\"#d8576b\"],[0.6666666666666666,\"#ed7953\"],[0.7777777777777778,\"#fb9f3a\"],[0.8888888888888888,\"#fdca26\"],[1.0,\"#f0f921\"]]}],\"mesh3d\":[{\"type\":\"mesh3d\",\"colorbar\":{\"outlinewidth\":0,\"ticks\":\"\"}}],\"scatter\":[{\"fillpattern\":{\"fillmode\":\"overlay\",\"size\":10,\"solidity\":0.2},\"type\":\"scatter\"}],\"parcoords\":[{\"type\":\"parcoords\",\"line\":{\"colorbar\":{\"outlinewidth\":0,\"ticks\":\"\"}}}],\"scatterpolargl\":[{\"type\":\"scatterpolargl\",\"marker\":{\"colorbar\":{\"outlinewidth\":0,\"ticks\":\"\"}}}],\"bar\":[{\"error_x\":{\"color\":\"#2a3f5f\"},\"error_y\":{\"color\":\"#2a3f5f\"},\"marker\":{\"line\":{\"color\":\"#E5ECF6\",\"width\":0.5},\"pattern\":{\"fillmode\":\"overlay\",\"size\":10,\"solidity\":0.2}},\"type\":\"bar\"}],\"scattergeo\":[{\"type\":\"scattergeo\",\"marker\":{\"colorbar\":{\"outlinewidth\":0,\"ticks\":\"\"}}}],\"scatterpolar\":[{\"type\":\"scatterpolar\",\"marker\":{\"colorbar\":{\"outlinewidth\":0,\"ticks\":\"\"}}}],\"histogram\":[{\"marker\":{\"pattern\":{\"fillmode\":\"overlay\",\"size\":10,\"solidity\":0.2}},\"type\":\"histogram\"}],\"scattergl\":[{\"type\":\"scattergl\",\"marker\":{\"colorbar\":{\"outlinewidth\":0,\"ticks\":\"\"}}}],\"scatter3d\":[{\"type\":\"scatter3d\",\"line\":{\"colorbar\":{\"outlinewidth\":0,\"ticks\":\"\"}},\"marker\":{\"colorbar\":{\"outlinewidth\":0,\"ticks\":\"\"}}}],\"scattermapbox\":[{\"type\":\"scattermapbox\",\"marker\":{\"colorbar\":{\"outlinewidth\":0,\"ticks\":\"\"}}}],\"scatterternary\":[{\"type\":\"scatterternary\",\"marker\":{\"colorbar\":{\"outlinewidth\":0,\"ticks\":\"\"}}}],\"scattercarpet\":[{\"type\":\"scattercarpet\",\"marker\":{\"colorbar\":{\"outlinewidth\":0,\"ticks\":\"\"}}}],\"carpet\":[{\"aaxis\":{\"endlinecolor\":\"#2a3f5f\",\"gridcolor\":\"white\",\"linecolor\":\"white\",\"minorgridcolor\":\"white\",\"startlinecolor\":\"#2a3f5f\"},\"baxis\":{\"endlinecolor\":\"#2a3f5f\",\"gridcolor\":\"white\",\"linecolor\":\"white\",\"minorgridcolor\":\"white\",\"startlinecolor\":\"#2a3f5f\"},\"type\":\"carpet\"}],\"table\":[{\"cells\":{\"fill\":{\"color\":\"#EBF0F8\"},\"line\":{\"color\":\"white\"}},\"header\":{\"fill\":{\"color\":\"#C8D4E3\"},\"line\":{\"color\":\"white\"}},\"type\":\"table\"}],\"barpolar\":[{\"marker\":{\"line\":{\"color\":\"#E5ECF6\",\"width\":0.5},\"pattern\":{\"fillmode\":\"overlay\",\"size\":10,\"solidity\":0.2}},\"type\":\"barpolar\"}],\"pie\":[{\"automargin\":true,\"type\":\"pie\"}]},\"layout\":{\"autotypenumbers\":\"strict\",\"colorway\":[\"#636efa\",\"#EF553B\",\"#00cc96\",\"#ab63fa\",\"#FFA15A\",\"#19d3f3\",\"#FF6692\",\"#B6E880\",\"#FF97FF\",\"#FECB52\"],\"font\":{\"color\":\"#2a3f5f\"},\"hovermode\":\"closest\",\"hoverlabel\":{\"align\":\"left\"},\"paper_bgcolor\":\"white\",\"plot_bgcolor\":\"#E5ECF6\",\"polar\":{\"bgcolor\":\"#E5ECF6\",\"angularaxis\":{\"gridcolor\":\"white\",\"linecolor\":\"white\",\"ticks\":\"\"},\"radialaxis\":{\"gridcolor\":\"white\",\"linecolor\":\"white\",\"ticks\":\"\"}},\"ternary\":{\"bgcolor\":\"#E5ECF6\",\"aaxis\":{\"gridcolor\":\"white\",\"linecolor\":\"white\",\"ticks\":\"\"},\"baxis\":{\"gridcolor\":\"white\",\"linecolor\":\"white\",\"ticks\":\"\"},\"caxis\":{\"gridcolor\":\"white\",\"linecolor\":\"white\",\"ticks\":\"\"}},\"coloraxis\":{\"colorbar\":{\"outlinewidth\":0,\"ticks\":\"\"}},\"colorscale\":{\"sequential\":[[0.0,\"#0d0887\"],[0.1111111111111111,\"#46039f\"],[0.2222222222222222,\"#7201a8\"],[0.3333333333333333,\"#9c179e\"],[0.4444444444444444,\"#bd3786\"],[0.5555555555555556,\"#d8576b\"],[0.6666666666666666,\"#ed7953\"],[0.7777777777777778,\"#fb9f3a\"],[0.8888888888888888,\"#fdca26\"],[1.0,\"#f0f921\"]],\"sequentialminus\":[[0.0,\"#0d0887\"],[0.1111111111111111,\"#46039f\"],[0.2222222222222222,\"#7201a8\"],[0.3333333333333333,\"#9c179e\"],[0.4444444444444444,\"#bd3786\"],[0.5555555555555556,\"#d8576b\"],[0.6666666666666666,\"#ed7953\"],[0.7777777777777778,\"#fb9f3a\"],[0.8888888888888888,\"#fdca26\"],[1.0,\"#f0f921\"]],\"diverging\":[[0,\"#8e0152\"],[0.1,\"#c51b7d\"],[0.2,\"#de77ae\"],[0.3,\"#f1b6da\"],[0.4,\"#fde0ef\"],[0.5,\"#f7f7f7\"],[0.6,\"#e6f5d0\"],[0.7,\"#b8e186\"],[0.8,\"#7fbc41\"],[0.9,\"#4d9221\"],[1,\"#276419\"]]},\"xaxis\":{\"gridcolor\":\"white\",\"linecolor\":\"white\",\"ticks\":\"\",\"title\":{\"standoff\":15},\"zerolinecolor\":\"white\",\"automargin\":true,\"zerolinewidth\":2},\"yaxis\":{\"gridcolor\":\"white\",\"linecolor\":\"white\",\"ticks\":\"\",\"title\":{\"standoff\":15},\"zerolinecolor\":\"white\",\"automargin\":true,\"zerolinewidth\":2},\"scene\":{\"xaxis\":{\"backgroundcolor\":\"#E5ECF6\",\"gridcolor\":\"white\",\"linecolor\":\"white\",\"showbackground\":true,\"ticks\":\"\",\"zerolinecolor\":\"white\",\"gridwidth\":2},\"yaxis\":{\"backgroundcolor\":\"#E5ECF6\",\"gridcolor\":\"white\",\"linecolor\":\"white\",\"showbackground\":true,\"ticks\":\"\",\"zerolinecolor\":\"white\",\"gridwidth\":2},\"zaxis\":{\"backgroundcolor\":\"#E5ECF6\",\"gridcolor\":\"white\",\"linecolor\":\"white\",\"showbackground\":true,\"ticks\":\"\",\"zerolinecolor\":\"white\",\"gridwidth\":2}},\"shapedefaults\":{\"line\":{\"color\":\"#2a3f5f\"}},\"annotationdefaults\":{\"arrowcolor\":\"#2a3f5f\",\"arrowhead\":0,\"arrowwidth\":1},\"geo\":{\"bgcolor\":\"white\",\"landcolor\":\"#E5ECF6\",\"subunitcolor\":\"white\",\"showland\":true,\"showlakes\":true,\"lakecolor\":\"white\"},\"title\":{\"x\":0.05},\"mapbox\":{\"style\":\"light\"}}},\"xaxis\":{\"anchor\":\"y\",\"domain\":[0.0,1.0],\"title\":{\"text\":\"Department\"}},\"yaxis\":{\"anchor\":\"x\",\"domain\":[0.0,1.0],\"title\":{\"text\":\"Employee_ID\"}},\"legend\":{\"tracegroupgap\":0},\"title\":{\"text\":\"Number of Employees by Department\"},\"barmode\":\"relative\"},                        {\"responsive\": true}                    ).then(function(){\n",
       "                            \n",
       "var gd = document.getElementById('71323ddb-780a-436c-98a1-9e2dc1735f8b');\n",
       "var x = new MutationObserver(function (mutations, observer) {{\n",
       "        var display = window.getComputedStyle(gd).display;\n",
       "        if (!display || display === 'none') {{\n",
       "            console.log([gd, 'removed!']);\n",
       "            Plotly.purge(gd);\n",
       "            observer.disconnect();\n",
       "        }}\n",
       "}});\n",
       "\n",
       "// Listen for the removal of the full notebook cells\n",
       "var notebookContainer = gd.closest('#notebook-container');\n",
       "if (notebookContainer) {{\n",
       "    x.observe(notebookContainer, {childList: true});\n",
       "}}\n",
       "\n",
       "// Listen for the clearing of the current output cell\n",
       "var outputEl = gd.closest('.output');\n",
       "if (outputEl) {{\n",
       "    x.observe(outputEl, {childList: true});\n",
       "}}\n",
       "\n",
       "                        })                };                });            </script>        </div>"
      ]
     },
     "metadata": {},
     "output_type": "display_data"
    }
   ],
   "source": [
    "#Number of employees by department\n",
    "emp_department=emp_attrition.groupby('Department')['Employee_ID'].count().reset_index()\n",
    "print(emp_department)\n",
    "fig=px.bar(emp_department,x='Department', y='Employee_ID', title='Number of Employees by Department',\n",
    "             labels={'Department': 'Department', 'Employee_Count': 'Number of Employees'})\n",
    "fig.update_traces(marker_color='#FCD299')\n",
    "fig.show()"
   ]
  },
  {
   "cell_type": "markdown",
   "id": "dfdfff69-dca9-4c22-bc58-cff8be256e55",
   "metadata": {},
   "source": [
    "Sales department have higher number of employees "
   ]
  },
  {
   "cell_type": "code",
   "execution_count": 243,
   "id": "f5460573-5ccb-44cd-84d2-0aaec2798753",
   "metadata": {},
   "outputs": [
    {
     "name": "stdout",
     "output_type": "stream",
     "text": [
      "       Job_Title  Employee_Count\n",
      "0     Accountant             206\n",
      "1        Analyst             195\n",
      "2       Engineer             214\n",
      "3  HR Specialist             179\n",
      "4        Manager             206\n"
     ]
    },
    {
     "data": {
      "application/vnd.plotly.v1+json": {
       "config": {
        "plotlyServerURL": "https://plot.ly"
       },
       "data": [
        {
         "alignmentgroup": "True",
         "hovertemplate": "Job Title=%{x}<br>Number of Employees=%{y}<extra></extra>",
         "legendgroup": "",
         "marker": {
          "color": "#ADD8E6",
          "pattern": {
           "shape": ""
          }
         },
         "name": "",
         "offsetgroup": "",
         "orientation": "v",
         "showlegend": false,
         "textposition": "auto",
         "type": "bar",
         "x": [
          "Accountant",
          "Analyst",
          "Engineer",
          "HR Specialist",
          "Manager"
         ],
         "xaxis": "x",
         "y": [
          206,
          195,
          214,
          179,
          206
         ],
         "yaxis": "y"
        }
       ],
       "layout": {
        "autosize": true,
        "barmode": "relative",
        "legend": {
         "tracegroupgap": 0
        },
        "template": {
         "data": {
          "bar": [
           {
            "error_x": {
             "color": "#2a3f5f"
            },
            "error_y": {
             "color": "#2a3f5f"
            },
            "marker": {
             "line": {
              "color": "#E5ECF6",
              "width": 0.5
             },
             "pattern": {
              "fillmode": "overlay",
              "size": 10,
              "solidity": 0.2
             }
            },
            "type": "bar"
           }
          ],
          "barpolar": [
           {
            "marker": {
             "line": {
              "color": "#E5ECF6",
              "width": 0.5
             },
             "pattern": {
              "fillmode": "overlay",
              "size": 10,
              "solidity": 0.2
             }
            },
            "type": "barpolar"
           }
          ],
          "carpet": [
           {
            "aaxis": {
             "endlinecolor": "#2a3f5f",
             "gridcolor": "white",
             "linecolor": "white",
             "minorgridcolor": "white",
             "startlinecolor": "#2a3f5f"
            },
            "baxis": {
             "endlinecolor": "#2a3f5f",
             "gridcolor": "white",
             "linecolor": "white",
             "minorgridcolor": "white",
             "startlinecolor": "#2a3f5f"
            },
            "type": "carpet"
           }
          ],
          "choropleth": [
           {
            "colorbar": {
             "outlinewidth": 0,
             "ticks": ""
            },
            "type": "choropleth"
           }
          ],
          "contour": [
           {
            "colorbar": {
             "outlinewidth": 0,
             "ticks": ""
            },
            "colorscale": [
             [
              0,
              "#0d0887"
             ],
             [
              0.1111111111111111,
              "#46039f"
             ],
             [
              0.2222222222222222,
              "#7201a8"
             ],
             [
              0.3333333333333333,
              "#9c179e"
             ],
             [
              0.4444444444444444,
              "#bd3786"
             ],
             [
              0.5555555555555556,
              "#d8576b"
             ],
             [
              0.6666666666666666,
              "#ed7953"
             ],
             [
              0.7777777777777778,
              "#fb9f3a"
             ],
             [
              0.8888888888888888,
              "#fdca26"
             ],
             [
              1,
              "#f0f921"
             ]
            ],
            "type": "contour"
           }
          ],
          "contourcarpet": [
           {
            "colorbar": {
             "outlinewidth": 0,
             "ticks": ""
            },
            "type": "contourcarpet"
           }
          ],
          "heatmap": [
           {
            "colorbar": {
             "outlinewidth": 0,
             "ticks": ""
            },
            "colorscale": [
             [
              0,
              "#0d0887"
             ],
             [
              0.1111111111111111,
              "#46039f"
             ],
             [
              0.2222222222222222,
              "#7201a8"
             ],
             [
              0.3333333333333333,
              "#9c179e"
             ],
             [
              0.4444444444444444,
              "#bd3786"
             ],
             [
              0.5555555555555556,
              "#d8576b"
             ],
             [
              0.6666666666666666,
              "#ed7953"
             ],
             [
              0.7777777777777778,
              "#fb9f3a"
             ],
             [
              0.8888888888888888,
              "#fdca26"
             ],
             [
              1,
              "#f0f921"
             ]
            ],
            "type": "heatmap"
           }
          ],
          "heatmapgl": [
           {
            "colorbar": {
             "outlinewidth": 0,
             "ticks": ""
            },
            "colorscale": [
             [
              0,
              "#0d0887"
             ],
             [
              0.1111111111111111,
              "#46039f"
             ],
             [
              0.2222222222222222,
              "#7201a8"
             ],
             [
              0.3333333333333333,
              "#9c179e"
             ],
             [
              0.4444444444444444,
              "#bd3786"
             ],
             [
              0.5555555555555556,
              "#d8576b"
             ],
             [
              0.6666666666666666,
              "#ed7953"
             ],
             [
              0.7777777777777778,
              "#fb9f3a"
             ],
             [
              0.8888888888888888,
              "#fdca26"
             ],
             [
              1,
              "#f0f921"
             ]
            ],
            "type": "heatmapgl"
           }
          ],
          "histogram": [
           {
            "marker": {
             "pattern": {
              "fillmode": "overlay",
              "size": 10,
              "solidity": 0.2
             }
            },
            "type": "histogram"
           }
          ],
          "histogram2d": [
           {
            "colorbar": {
             "outlinewidth": 0,
             "ticks": ""
            },
            "colorscale": [
             [
              0,
              "#0d0887"
             ],
             [
              0.1111111111111111,
              "#46039f"
             ],
             [
              0.2222222222222222,
              "#7201a8"
             ],
             [
              0.3333333333333333,
              "#9c179e"
             ],
             [
              0.4444444444444444,
              "#bd3786"
             ],
             [
              0.5555555555555556,
              "#d8576b"
             ],
             [
              0.6666666666666666,
              "#ed7953"
             ],
             [
              0.7777777777777778,
              "#fb9f3a"
             ],
             [
              0.8888888888888888,
              "#fdca26"
             ],
             [
              1,
              "#f0f921"
             ]
            ],
            "type": "histogram2d"
           }
          ],
          "histogram2dcontour": [
           {
            "colorbar": {
             "outlinewidth": 0,
             "ticks": ""
            },
            "colorscale": [
             [
              0,
              "#0d0887"
             ],
             [
              0.1111111111111111,
              "#46039f"
             ],
             [
              0.2222222222222222,
              "#7201a8"
             ],
             [
              0.3333333333333333,
              "#9c179e"
             ],
             [
              0.4444444444444444,
              "#bd3786"
             ],
             [
              0.5555555555555556,
              "#d8576b"
             ],
             [
              0.6666666666666666,
              "#ed7953"
             ],
             [
              0.7777777777777778,
              "#fb9f3a"
             ],
             [
              0.8888888888888888,
              "#fdca26"
             ],
             [
              1,
              "#f0f921"
             ]
            ],
            "type": "histogram2dcontour"
           }
          ],
          "mesh3d": [
           {
            "colorbar": {
             "outlinewidth": 0,
             "ticks": ""
            },
            "type": "mesh3d"
           }
          ],
          "parcoords": [
           {
            "line": {
             "colorbar": {
              "outlinewidth": 0,
              "ticks": ""
             }
            },
            "type": "parcoords"
           }
          ],
          "pie": [
           {
            "automargin": true,
            "type": "pie"
           }
          ],
          "scatter": [
           {
            "fillpattern": {
             "fillmode": "overlay",
             "size": 10,
             "solidity": 0.2
            },
            "type": "scatter"
           }
          ],
          "scatter3d": [
           {
            "line": {
             "colorbar": {
              "outlinewidth": 0,
              "ticks": ""
             }
            },
            "marker": {
             "colorbar": {
              "outlinewidth": 0,
              "ticks": ""
             }
            },
            "type": "scatter3d"
           }
          ],
          "scattercarpet": [
           {
            "marker": {
             "colorbar": {
              "outlinewidth": 0,
              "ticks": ""
             }
            },
            "type": "scattercarpet"
           }
          ],
          "scattergeo": [
           {
            "marker": {
             "colorbar": {
              "outlinewidth": 0,
              "ticks": ""
             }
            },
            "type": "scattergeo"
           }
          ],
          "scattergl": [
           {
            "marker": {
             "colorbar": {
              "outlinewidth": 0,
              "ticks": ""
             }
            },
            "type": "scattergl"
           }
          ],
          "scattermapbox": [
           {
            "marker": {
             "colorbar": {
              "outlinewidth": 0,
              "ticks": ""
             }
            },
            "type": "scattermapbox"
           }
          ],
          "scatterpolar": [
           {
            "marker": {
             "colorbar": {
              "outlinewidth": 0,
              "ticks": ""
             }
            },
            "type": "scatterpolar"
           }
          ],
          "scatterpolargl": [
           {
            "marker": {
             "colorbar": {
              "outlinewidth": 0,
              "ticks": ""
             }
            },
            "type": "scatterpolargl"
           }
          ],
          "scatterternary": [
           {
            "marker": {
             "colorbar": {
              "outlinewidth": 0,
              "ticks": ""
             }
            },
            "type": "scatterternary"
           }
          ],
          "surface": [
           {
            "colorbar": {
             "outlinewidth": 0,
             "ticks": ""
            },
            "colorscale": [
             [
              0,
              "#0d0887"
             ],
             [
              0.1111111111111111,
              "#46039f"
             ],
             [
              0.2222222222222222,
              "#7201a8"
             ],
             [
              0.3333333333333333,
              "#9c179e"
             ],
             [
              0.4444444444444444,
              "#bd3786"
             ],
             [
              0.5555555555555556,
              "#d8576b"
             ],
             [
              0.6666666666666666,
              "#ed7953"
             ],
             [
              0.7777777777777778,
              "#fb9f3a"
             ],
             [
              0.8888888888888888,
              "#fdca26"
             ],
             [
              1,
              "#f0f921"
             ]
            ],
            "type": "surface"
           }
          ],
          "table": [
           {
            "cells": {
             "fill": {
              "color": "#EBF0F8"
             },
             "line": {
              "color": "white"
             }
            },
            "header": {
             "fill": {
              "color": "#C8D4E3"
             },
             "line": {
              "color": "white"
             }
            },
            "type": "table"
           }
          ]
         },
         "layout": {
          "annotationdefaults": {
           "arrowcolor": "#2a3f5f",
           "arrowhead": 0,
           "arrowwidth": 1
          },
          "autotypenumbers": "strict",
          "coloraxis": {
           "colorbar": {
            "outlinewidth": 0,
            "ticks": ""
           }
          },
          "colorscale": {
           "diverging": [
            [
             0,
             "#8e0152"
            ],
            [
             0.1,
             "#c51b7d"
            ],
            [
             0.2,
             "#de77ae"
            ],
            [
             0.3,
             "#f1b6da"
            ],
            [
             0.4,
             "#fde0ef"
            ],
            [
             0.5,
             "#f7f7f7"
            ],
            [
             0.6,
             "#e6f5d0"
            ],
            [
             0.7,
             "#b8e186"
            ],
            [
             0.8,
             "#7fbc41"
            ],
            [
             0.9,
             "#4d9221"
            ],
            [
             1,
             "#276419"
            ]
           ],
           "sequential": [
            [
             0,
             "#0d0887"
            ],
            [
             0.1111111111111111,
             "#46039f"
            ],
            [
             0.2222222222222222,
             "#7201a8"
            ],
            [
             0.3333333333333333,
             "#9c179e"
            ],
            [
             0.4444444444444444,
             "#bd3786"
            ],
            [
             0.5555555555555556,
             "#d8576b"
            ],
            [
             0.6666666666666666,
             "#ed7953"
            ],
            [
             0.7777777777777778,
             "#fb9f3a"
            ],
            [
             0.8888888888888888,
             "#fdca26"
            ],
            [
             1,
             "#f0f921"
            ]
           ],
           "sequentialminus": [
            [
             0,
             "#0d0887"
            ],
            [
             0.1111111111111111,
             "#46039f"
            ],
            [
             0.2222222222222222,
             "#7201a8"
            ],
            [
             0.3333333333333333,
             "#9c179e"
            ],
            [
             0.4444444444444444,
             "#bd3786"
            ],
            [
             0.5555555555555556,
             "#d8576b"
            ],
            [
             0.6666666666666666,
             "#ed7953"
            ],
            [
             0.7777777777777778,
             "#fb9f3a"
            ],
            [
             0.8888888888888888,
             "#fdca26"
            ],
            [
             1,
             "#f0f921"
            ]
           ]
          },
          "colorway": [
           "#636efa",
           "#EF553B",
           "#00cc96",
           "#ab63fa",
           "#FFA15A",
           "#19d3f3",
           "#FF6692",
           "#B6E880",
           "#FF97FF",
           "#FECB52"
          ],
          "font": {
           "color": "#2a3f5f"
          },
          "geo": {
           "bgcolor": "white",
           "lakecolor": "white",
           "landcolor": "#E5ECF6",
           "showlakes": true,
           "showland": true,
           "subunitcolor": "white"
          },
          "hoverlabel": {
           "align": "left"
          },
          "hovermode": "closest",
          "mapbox": {
           "style": "light"
          },
          "paper_bgcolor": "white",
          "plot_bgcolor": "#E5ECF6",
          "polar": {
           "angularaxis": {
            "gridcolor": "white",
            "linecolor": "white",
            "ticks": ""
           },
           "bgcolor": "#E5ECF6",
           "radialaxis": {
            "gridcolor": "white",
            "linecolor": "white",
            "ticks": ""
           }
          },
          "scene": {
           "xaxis": {
            "backgroundcolor": "#E5ECF6",
            "gridcolor": "white",
            "gridwidth": 2,
            "linecolor": "white",
            "showbackground": true,
            "ticks": "",
            "zerolinecolor": "white"
           },
           "yaxis": {
            "backgroundcolor": "#E5ECF6",
            "gridcolor": "white",
            "gridwidth": 2,
            "linecolor": "white",
            "showbackground": true,
            "ticks": "",
            "zerolinecolor": "white"
           },
           "zaxis": {
            "backgroundcolor": "#E5ECF6",
            "gridcolor": "white",
            "gridwidth": 2,
            "linecolor": "white",
            "showbackground": true,
            "ticks": "",
            "zerolinecolor": "white"
           }
          },
          "shapedefaults": {
           "line": {
            "color": "#2a3f5f"
           }
          },
          "ternary": {
           "aaxis": {
            "gridcolor": "white",
            "linecolor": "white",
            "ticks": ""
           },
           "baxis": {
            "gridcolor": "white",
            "linecolor": "white",
            "ticks": ""
           },
           "bgcolor": "#E5ECF6",
           "caxis": {
            "gridcolor": "white",
            "linecolor": "white",
            "ticks": ""
           }
          },
          "title": {
           "x": 0.05
          },
          "xaxis": {
           "automargin": true,
           "gridcolor": "white",
           "linecolor": "white",
           "ticks": "",
           "title": {
            "standoff": 15
           },
           "zerolinecolor": "white",
           "zerolinewidth": 2
          },
          "yaxis": {
           "automargin": true,
           "gridcolor": "white",
           "linecolor": "white",
           "ticks": "",
           "title": {
            "standoff": 15
           },
           "zerolinecolor": "white",
           "zerolinewidth": 2
          }
         }
        },
        "title": {
         "text": "Number of Employees by Job Title"
        },
        "xaxis": {
         "anchor": "y",
         "autorange": true,
         "domain": [
          0,
          1
         ],
         "range": [
          -0.5,
          4.5
         ],
         "title": {
          "text": "Job Title"
         },
         "type": "category"
        },
        "yaxis": {
         "anchor": "x",
         "autorange": true,
         "domain": [
          0,
          1
         ],
         "range": [
          0,
          225.26315789473685
         ],
         "title": {
          "text": "Number of Employees"
         },
         "type": "linear"
        }
       }
      },
      "image/png": "[encoded data removed]",
      "text/html": [
       "<div>                            <div id=\"45e3af37-b714-45b1-9dae-18e4f50a7f2d\" class=\"plotly-graph-div\" style=\"height:525px; width:100%;\"></div>            <script type=\"text/javascript\">                require([\"plotly\"], function(Plotly) {                    window.PLOTLYENV=window.PLOTLYENV || {};                                    if (document.getElementById(\"45e3af37-b714-45b1-9dae-18e4f50a7f2d\")) {                    Plotly.newPlot(                        \"45e3af37-b714-45b1-9dae-18e4f50a7f2d\",                        [{\"alignmentgroup\":\"True\",\"hovertemplate\":\"Job Title=%{x}<br>Number of Employees=%{y}<extra></extra>\",\"legendgroup\":\"\",\"marker\":{\"color\":\"#ADD8E6\",\"pattern\":{\"shape\":\"\"}},\"name\":\"\",\"offsetgroup\":\"\",\"orientation\":\"v\",\"showlegend\":false,\"textposition\":\"auto\",\"x\":[\"Accountant\",\"Analyst\",\"Engineer\",\"HR Specialist\",\"Manager\"],\"xaxis\":\"x\",\"y\":[206,195,214,179,206],\"yaxis\":\"y\",\"type\":\"bar\"}],                        {\"template\":{\"data\":{\"histogram2dcontour\":[{\"type\":\"histogram2dcontour\",\"colorbar\":{\"outlinewidth\":0,\"ticks\":\"\"},\"colorscale\":[[0.0,\"#0d0887\"],[0.1111111111111111,\"#46039f\"],[0.2222222222222222,\"#7201a8\"],[0.3333333333333333,\"#9c179e\"],[0.4444444444444444,\"#bd3786\"],[0.5555555555555556,\"#d8576b\"],[0.6666666666666666,\"#ed7953\"],[0.7777777777777778,\"#fb9f3a\"],[0.8888888888888888,\"#fdca26\"],[1.0,\"#f0f921\"]]}],\"choropleth\":[{\"type\":\"choropleth\",\"colorbar\":{\"outlinewidth\":0,\"ticks\":\"\"}}],\"histogram2d\":[{\"type\":\"histogram2d\",\"colorbar\":{\"outlinewidth\":0,\"ticks\":\"\"},\"colorscale\":[[0.0,\"#0d0887\"],[0.1111111111111111,\"#46039f\"],[0.2222222222222222,\"#7201a8\"],[0.3333333333333333,\"#9c179e\"],[0.4444444444444444,\"#bd3786\"],[0.5555555555555556,\"#d8576b\"],[0.6666666666666666,\"#ed7953\"],[0.7777777777777778,\"#fb9f3a\"],[0.8888888888888888,\"#fdca26\"],[1.0,\"#f0f921\"]]}],\"heatmap\":[{\"type\":\"heatmap\",\"colorbar\":{\"outlinewidth\":0,\"ticks\":\"\"},\"colorscale\":[[0.0,\"#0d0887\"],[0.1111111111111111,\"#46039f\"],[0.2222222222222222,\"#7201a8\"],[0.3333333333333333,\"#9c179e\"],[0.4444444444444444,\"#bd3786\"],[0.5555555555555556,\"#d8576b\"],[0.6666666666666666,\"#ed7953\"],[0.7777777777777778,\"#fb9f3a\"],[0.8888888888888888,\"#fdca26\"],[1.0,\"#f0f921\"]]}],\"heatmapgl\":[{\"type\":\"heatmapgl\",\"colorbar\":{\"outlinewidth\":0,\"ticks\":\"\"},\"colorscale\":[[0.0,\"#0d0887\"],[0.1111111111111111,\"#46039f\"],[0.2222222222222222,\"#7201a8\"],[0.3333333333333333,\"#9c179e\"],[0.4444444444444444,\"#bd3786\"],[0.5555555555555556,\"#d8576b\"],[0.6666666666666666,\"#ed7953\"],[0.7777777777777778,\"#fb9f3a\"],[0.8888888888888888,\"#fdca26\"],[1.0,\"#f0f921\"]]}],\"contourcarpet\":[{\"type\":\"contourcarpet\",\"colorbar\":{\"outlinewidth\":0,\"ticks\":\"\"}}],\"contour\":[{\"type\":\"contour\",\"colorbar\":{\"outlinewidth\":0,\"ticks\":\"\"},\"colorscale\":[[0.0,\"#0d0887\"],[0.1111111111111111,\"#46039f\"],[0.2222222222222222,\"#7201a8\"],[0.3333333333333333,\"#9c179e\"],[0.4444444444444444,\"#bd3786\"],[0.5555555555555556,\"#d8576b\"],[0.6666666666666666,\"#ed7953\"],[0.7777777777777778,\"#fb9f3a\"],[0.8888888888888888,\"#fdca26\"],[1.0,\"#f0f921\"]]}],\"surface\":[{\"type\":\"surface\",\"colorbar\":{\"outlinewidth\":0,\"ticks\":\"\"},\"colorscale\":[[0.0,\"#0d0887\"],[0.1111111111111111,\"#46039f\"],[0.2222222222222222,\"#7201a8\"],[0.3333333333333333,\"#9c179e\"],[0.4444444444444444,\"#bd3786\"],[0.5555555555555556,\"#d8576b\"],[0.6666666666666666,\"#ed7953\"],[0.7777777777777778,\"#fb9f3a\"],[0.8888888888888888,\"#fdca26\"],[1.0,\"#f0f921\"]]}],\"mesh3d\":[{\"type\":\"mesh3d\",\"colorbar\":{\"outlinewidth\":0,\"ticks\":\"\"}}],\"scatter\":[{\"fillpattern\":{\"fillmode\":\"overlay\",\"size\":10,\"solidity\":0.2},\"type\":\"scatter\"}],\"parcoords\":[{\"type\":\"parcoords\",\"line\":{\"colorbar\":{\"outlinewidth\":0,\"ticks\":\"\"}}}],\"scatterpolargl\":[{\"type\":\"scatterpolargl\",\"marker\":{\"colorbar\":{\"outlinewidth\":0,\"ticks\":\"\"}}}],\"bar\":[{\"error_x\":{\"color\":\"#2a3f5f\"},\"error_y\":{\"color\":\"#2a3f5f\"},\"marker\":{\"line\":{\"color\":\"#E5ECF6\",\"width\":0.5},\"pattern\":{\"fillmode\":\"overlay\",\"size\":10,\"solidity\":0.2}},\"type\":\"bar\"}],\"scattergeo\":[{\"type\":\"scattergeo\",\"marker\":{\"colorbar\":{\"outlinewidth\":0,\"ticks\":\"\"}}}],\"scatterpolar\":[{\"type\":\"scatterpolar\",\"marker\":{\"colorbar\":{\"outlinewidth\":0,\"ticks\":\"\"}}}],\"histogram\":[{\"marker\":{\"pattern\":{\"fillmode\":\"overlay\",\"size\":10,\"solidity\":0.2}},\"type\":\"histogram\"}],\"scattergl\":[{\"type\":\"scattergl\",\"marker\":{\"colorbar\":{\"outlinewidth\":0,\"ticks\":\"\"}}}],\"scatter3d\":[{\"type\":\"scatter3d\",\"line\":{\"colorbar\":{\"outlinewidth\":0,\"ticks\":\"\"}},\"marker\":{\"colorbar\":{\"outlinewidth\":0,\"ticks\":\"\"}}}],\"scattermapbox\":[{\"type\":\"scattermapbox\",\"marker\":{\"colorbar\":{\"outlinewidth\":0,\"ticks\":\"\"}}}],\"scatterternary\":[{\"type\":\"scatterternary\",\"marker\":{\"colorbar\":{\"outlinewidth\":0,\"ticks\":\"\"}}}],\"scattercarpet\":[{\"type\":\"scattercarpet\",\"marker\":{\"colorbar\":{\"outlinewidth\":0,\"ticks\":\"\"}}}],\"carpet\":[{\"aaxis\":{\"endlinecolor\":\"#2a3f5f\",\"gridcolor\":\"white\",\"linecolor\":\"white\",\"minorgridcolor\":\"white\",\"startlinecolor\":\"#2a3f5f\"},\"baxis\":{\"endlinecolor\":\"#2a3f5f\",\"gridcolor\":\"white\",\"linecolor\":\"white\",\"minorgridcolor\":\"white\",\"startlinecolor\":\"#2a3f5f\"},\"type\":\"carpet\"}],\"table\":[{\"cells\":{\"fill\":{\"color\":\"#EBF0F8\"},\"line\":{\"color\":\"white\"}},\"header\":{\"fill\":{\"color\":\"#C8D4E3\"},\"line\":{\"color\":\"white\"}},\"type\":\"table\"}],\"barpolar\":[{\"marker\":{\"line\":{\"color\":\"#E5ECF6\",\"width\":0.5},\"pattern\":{\"fillmode\":\"overlay\",\"size\":10,\"solidity\":0.2}},\"type\":\"barpolar\"}],\"pie\":[{\"automargin\":true,\"type\":\"pie\"}]},\"layout\":{\"autotypenumbers\":\"strict\",\"colorway\":[\"#636efa\",\"#EF553B\",\"#00cc96\",\"#ab63fa\",\"#FFA15A\",\"#19d3f3\",\"#FF6692\",\"#B6E880\",\"#FF97FF\",\"#FECB52\"],\"font\":{\"color\":\"#2a3f5f\"},\"hovermode\":\"closest\",\"hoverlabel\":{\"align\":\"left\"},\"paper_bgcolor\":\"white\",\"plot_bgcolor\":\"#E5ECF6\",\"polar\":{\"bgcolor\":\"#E5ECF6\",\"angularaxis\":{\"gridcolor\":\"white\",\"linecolor\":\"white\",\"ticks\":\"\"},\"radialaxis\":{\"gridcolor\":\"white\",\"linecolor\":\"white\",\"ticks\":\"\"}},\"ternary\":{\"bgcolor\":\"#E5ECF6\",\"aaxis\":{\"gridcolor\":\"white\",\"linecolor\":\"white\",\"ticks\":\"\"},\"baxis\":{\"gridcolor\":\"white\",\"linecolor\":\"white\",\"ticks\":\"\"},\"caxis\":{\"gridcolor\":\"white\",\"linecolor\":\"white\",\"ticks\":\"\"}},\"coloraxis\":{\"colorbar\":{\"outlinewidth\":0,\"ticks\":\"\"}},\"colorscale\":{\"sequential\":[[0.0,\"#0d0887\"],[0.1111111111111111,\"#46039f\"],[0.2222222222222222,\"#7201a8\"],[0.3333333333333333,\"#9c179e\"],[0.4444444444444444,\"#bd3786\"],[0.5555555555555556,\"#d8576b\"],[0.6666666666666666,\"#ed7953\"],[0.7777777777777778,\"#fb9f3a\"],[0.8888888888888888,\"#fdca26\"],[1.0,\"#f0f921\"]],\"sequentialminus\":[[0.0,\"#0d0887\"],[0.1111111111111111,\"#46039f\"],[0.2222222222222222,\"#7201a8\"],[0.3333333333333333,\"#9c179e\"],[0.4444444444444444,\"#bd3786\"],[0.5555555555555556,\"#d8576b\"],[0.6666666666666666,\"#ed7953\"],[0.7777777777777778,\"#fb9f3a\"],[0.8888888888888888,\"#fdca26\"],[1.0,\"#f0f921\"]],\"diverging\":[[0,\"#8e0152\"],[0.1,\"#c51b7d\"],[0.2,\"#de77ae\"],[0.3,\"#f1b6da\"],[0.4,\"#fde0ef\"],[0.5,\"#f7f7f7\"],[0.6,\"#e6f5d0\"],[0.7,\"#b8e186\"],[0.8,\"#7fbc41\"],[0.9,\"#4d9221\"],[1,\"#276419\"]]},\"xaxis\":{\"gridcolor\":\"white\",\"linecolor\":\"white\",\"ticks\":\"\",\"title\":{\"standoff\":15},\"zerolinecolor\":\"white\",\"automargin\":true,\"zerolinewidth\":2},\"yaxis\":{\"gridcolor\":\"white\",\"linecolor\":\"white\",\"ticks\":\"\",\"title\":{\"standoff\":15},\"zerolinecolor\":\"white\",\"automargin\":true,\"zerolinewidth\":2},\"scene\":{\"xaxis\":{\"backgroundcolor\":\"#E5ECF6\",\"gridcolor\":\"white\",\"linecolor\":\"white\",\"showbackground\":true,\"ticks\":\"\",\"zerolinecolor\":\"white\",\"gridwidth\":2},\"yaxis\":{\"backgroundcolor\":\"#E5ECF6\",\"gridcolor\":\"white\",\"linecolor\":\"white\",\"showbackground\":true,\"ticks\":\"\",\"zerolinecolor\":\"white\",\"gridwidth\":2},\"zaxis\":{\"backgroundcolor\":\"#E5ECF6\",\"gridcolor\":\"white\",\"linecolor\":\"white\",\"showbackground\":true,\"ticks\":\"\",\"zerolinecolor\":\"white\",\"gridwidth\":2}},\"shapedefaults\":{\"line\":{\"color\":\"#2a3f5f\"}},\"annotationdefaults\":{\"arrowcolor\":\"#2a3f5f\",\"arrowhead\":0,\"arrowwidth\":1},\"geo\":{\"bgcolor\":\"white\",\"landcolor\":\"#E5ECF6\",\"subunitcolor\":\"white\",\"showland\":true,\"showlakes\":true,\"lakecolor\":\"white\"},\"title\":{\"x\":0.05},\"mapbox\":{\"style\":\"light\"}}},\"xaxis\":{\"anchor\":\"y\",\"domain\":[0.0,1.0],\"title\":{\"text\":\"Job Title\"}},\"yaxis\":{\"anchor\":\"x\",\"domain\":[0.0,1.0],\"title\":{\"text\":\"Number of Employees\"}},\"legend\":{\"tracegroupgap\":0},\"title\":{\"text\":\"Number of Employees by Job Title\"},\"barmode\":\"relative\"},                        {\"responsive\": true}                    ).then(function(){\n",
       "                            \n",
       "var gd = document.getElementById('45e3af37-b714-45b1-9dae-18e4f50a7f2d');\n",
       "var x = new MutationObserver(function (mutations, observer) {{\n",
       "        var display = window.getComputedStyle(gd).display;\n",
       "        if (!display || display === 'none') {{\n",
       "            console.log([gd, 'removed!']);\n",
       "            Plotly.purge(gd);\n",
       "            observer.disconnect();\n",
       "        }}\n",
       "}});\n",
       "\n",
       "// Listen for the removal of the full notebook cells\n",
       "var notebookContainer = gd.closest('#notebook-container');\n",
       "if (notebookContainer) {{\n",
       "    x.observe(notebookContainer, {childList: true});\n",
       "}}\n",
       "\n",
       "// Listen for the clearing of the current output cell\n",
       "var outputEl = gd.closest('.output');\n",
       "if (outputEl) {{\n",
       "    x.observe(outputEl, {childList: true});\n",
       "}}\n",
       "\n",
       "                        })                };                });            </script>        </div>"
      ]
     },
     "metadata": {},
     "output_type": "display_data"
    }
   ],
   "source": [
    "#number of employees by job title\n",
    "emp_job = emp_attrition.groupby('Job_Title')['Employee_ID'].count().reset_index()\n",
    "emp_job.columns = ['Job_Title', 'Employee_Count']\n",
    "print(emp_job)\n",
    "\n",
    "fig1 = px.bar(emp_job, x='Job_Title', y='Employee_Count', title='Number of Employees by Job Title', \n",
    "              labels={'Job_Title': 'Job Title', 'Employee_Count': 'Number of Employees'})\n",
    "fig1.update_traces(marker_color='#ADD8E6')\n",
    "\n",
    "fig1.show()"
   ]
  },
  {
   "cell_type": "markdown",
   "id": "ce1f9d2d-1ccd-4d6e-b515-004c474007ce",
   "metadata": {},
   "source": [
    "Engineer job_title has higher number of employees"
   ]
  },
  {
   "cell_type": "code",
   "execution_count": 240,
   "id": "c0baead0-7ac6-4497-906d-8676874bc69d",
   "metadata": {},
   "outputs": [
    {
     "data": {
      "application/vnd.plotly.v1+json": {
       "config": {
        "plotlyServerURL": "https://plot.ly"
       },
       "data": [
        {
         "alignmentgroup": "True",
         "hovertemplate": "Job_Title=%{x}<br>Salary=%{y}<extra></extra>",
         "legendgroup": "",
         "marker": {
          "color": "#8D97FC"
         },
         "name": "",
         "notched": false,
         "offsetgroup": "",
         "orientation": "v",
         "showlegend": false,
         "type": "box",
         "x": [
          "Manager",
          "Engineer",
          "Analyst",
          "Manager",
          "Engineer",
          "HR Specialist",
          "HR Specialist",
          "Analyst",
          "Accountant",
          "Engineer",
          "HR Specialist",
          "Accountant",
          "Engineer",
          "Analyst",
          "Manager",
          "Accountant",
          "Accountant",
          "Accountant",
          "Manager",
          "Manager",
          "Manager",
          "HR Specialist",
          "Analyst",
          "HR Specialist",
          "Manager",
          "Engineer",
          "Analyst",
          "HR Specialist",
          "Accountant",
          "Analyst",
          "Analyst",
          "Analyst",
          "HR Specialist",
          "Accountant",
          "Accountant",
          "HR Specialist",
          "Analyst",
          "Accountant",
          "HR Specialist",
          "Accountant",
          "Analyst",
          "HR Specialist",
          "HR Specialist",
          "HR Specialist",
          "Engineer",
          "Accountant",
          "Accountant",
          "Manager",
          "Accountant",
          "HR Specialist",
          "HR Specialist",
          "HR Specialist",
          "HR Specialist",
          "Manager",
          "Accountant",
          "Accountant",
          "Engineer",
          "Accountant",
          "Engineer",
          "Analyst",
          "HR Specialist",
          "Accountant",
          "Engineer",
          "Accountant",
          "Accountant",
          "Analyst",
          "Accountant",
          "Analyst",
          "Analyst",
          "HR Specialist",
          "Analyst",
          "Engineer",
          "Engineer",
          "Analyst",
          "Manager",
          "Analyst",
          "Manager",
          "Accountant",
          "Manager",
          "Engineer",
          "Engineer",
          "Analyst",
          "Manager",
          "Analyst",
          "Analyst",
          "Analyst",
          "Analyst",
          "Engineer",
          "Accountant",
          "Engineer",
          "Engineer",
          "Engineer",
          "HR Specialist",
          "Analyst",
          "Analyst",
          "HR Specialist",
          "Accountant",
          "Engineer",
          "Manager",
          "Analyst",
          "Manager",
          "Engineer",
          "Manager",
          "Analyst",
          "Engineer",
          "Analyst",
          "Engineer",
          "Engineer",
          "Accountant",
          "Engineer",
          "Accountant",
          "Engineer",
          "Analyst",
          "HR Specialist",
          "Engineer",
          "Accountant",
          "Analyst",
          "Engineer",
          "HR Specialist",
          "Engineer",
          "HR Specialist",
          "Analyst",
          "Engineer",
          "HR Specialist",
          "Manager",
          "Engineer",
          "Engineer",
          "HR Specialist",
          "HR Specialist",
          "Analyst",
          "HR Specialist",
          "Manager",
          "Manager",
          "Analyst",
          "Analyst",
          "HR Specialist",
          "Analyst",
          "Manager",
          "HR Specialist",
          "Accountant",
          "Manager",
          "Engineer",
          "Manager",
          "Analyst",
          "HR Specialist",
          "Manager",
          "Engineer",
          "Analyst",
          "Engineer",
          "Analyst",
          "Engineer",
          "Engineer",
          "Accountant",
          "Manager",
          "Engineer",
          "Manager",
          "HR Specialist",
          "Engineer",
          "Engineer",
          "HR Specialist",
          "Manager",
          "Manager",
          "Manager",
          "Engineer",
          "Analyst",
          "Accountant",
          "Accountant",
          "Accountant",
          "Engineer",
          "HR Specialist",
          "Engineer",
          "Accountant",
          "Engineer",
          "Manager",
          "HR Specialist",
          "HR Specialist",
          "Analyst",
          "Manager",
          "Accountant",
          "Analyst",
          "Engineer",
          "Analyst",
          "Accountant",
          "Accountant",
          "HR Specialist",
          "HR Specialist",
          "Manager",
          "Manager",
          "Analyst",
          "Manager",
          "HR Specialist",
          "Manager",
          "Manager",
          "HR Specialist",
          "Manager",
          "Engineer",
          "HR Specialist",
          "Engineer",
          "HR Specialist",
          "Engineer",
          "Analyst",
          "HR Specialist",
          "Manager",
          "Accountant",
          "Engineer",
          "HR Specialist",
          "Engineer",
          "Analyst",
          "Engineer",
          "Analyst",
          "Analyst",
          "Manager",
          "Engineer",
          "Accountant",
          "HR Specialist",
          "Analyst",
          "Manager",
          "Engineer",
          "Accountant",
          "Analyst",
          "HR Specialist",
          "Engineer",
          "Engineer",
          "Engineer",
          "Manager",
          "Analyst",
          "HR Specialist",
          "HR Specialist",
          "Accountant",
          "Manager",
          "Manager",
          "Accountant",
          "Analyst",
          "Manager",
          "Manager",
          "Accountant",
          "Engineer",
          "Engineer",
          "HR Specialist",
          "Accountant",
          "Engineer",
          "Engineer",
          "Engineer",
          "Manager",
          "HR Specialist",
          "Analyst",
          "Accountant",
          "Analyst",
          "Manager",
          "Engineer",
          "HR Specialist",
          "Analyst",
          "Analyst",
          "Manager",
          "Engineer",
          "Analyst",
          "Analyst",
          "Analyst",
          "Manager",
          "Accountant",
          "Engineer",
          "HR Specialist",
          "Manager",
          "Manager",
          "Analyst",
          "Engineer",
          "HR Specialist",
          "Engineer",
          "Manager",
          "Manager",
          "Engineer",
          "Manager",
          "Accountant",
          "Analyst",
          "Engineer",
          "Manager",
          "Engineer",
          "Manager",
          "HR Specialist",
          "Analyst",
          "Engineer",
          "Engineer",
          "Engineer",
          "Engineer",
          "HR Specialist",
          "Manager",
          "Engineer",
          "Accountant",
          "Engineer",
          "Accountant",
          "Accountant",
          "Manager",
          "Engineer",
          "Analyst",
          "Manager",
          "HR Specialist",
          "Accountant",
          "Engineer",
          "Accountant",
          "Analyst",
          "HR Specialist",
          "Engineer",
          "Engineer",
          "Analyst",
          "Accountant",
          "Engineer",
          "Manager",
          "Accountant",
          "Manager",
          "HR Specialist",
          "HR Specialist",
          "Accountant",
          "Accountant",
          "Manager",
          "Manager",
          "Manager",
          "Manager",
          "HR Specialist",
          "Analyst",
          "HR Specialist",
          "Engineer",
          "HR Specialist",
          "HR Specialist",
          "HR Specialist",
          "HR Specialist",
          "Accountant",
          "HR Specialist",
          "Engineer",
          "Accountant",
          "Accountant",
          "Accountant",
          "Engineer",
          "Accountant",
          "HR Specialist",
          "Analyst",
          "Engineer",
          "HR Specialist",
          "Manager",
          "Accountant",
          "Analyst",
          "Manager",
          "Manager",
          "Manager",
          "Manager",
          "Manager",
          "Manager",
          "Manager",
          "Accountant",
          "Analyst",
          "Manager",
          "Manager",
          "Accountant",
          "Accountant",
          "Accountant",
          "Manager",
          "Analyst",
          "Accountant",
          "Analyst",
          "Accountant",
          "Engineer",
          "Analyst",
          "Manager",
          "Accountant",
          "Engineer",
          "Accountant",
          "HR Specialist",
          "Engineer",
          "Engineer",
          "Engineer",
          "HR Specialist",
          "Engineer",
          "Accountant",
          "HR Specialist",
          "Accountant",
          "HR Specialist",
          "Engineer",
          "HR Specialist",
          "Manager",
          "Engineer",
          "Engineer",
          "Accountant",
          "Manager",
          "Analyst",
          "Engineer",
          "Engineer",
          "Manager",
          "Analyst",
          "Analyst",
          "Engineer",
          "HR Specialist",
          "HR Specialist",
          "Accountant",
          "Accountant",
          "Manager",
          "HR Specialist",
          "Accountant",
          "Engineer",
          "Analyst",
          "Engineer",
          "Analyst",
          "Accountant",
          "Manager",
          "Manager",
          "Analyst",
          "Accountant",
          "Analyst",
          "Engineer",
          "Manager",
          "Accountant",
          "Engineer",
          "Analyst",
          "Manager",
          "Accountant",
          "Engineer",
          "Analyst",
          "Manager",
          "HR Specialist",
          "Engineer",
          "HR Specialist",
          "Manager",
          "Manager",
          "Manager",
          "Engineer",
          "Manager",
          "Accountant",
          "Manager",
          "Accountant",
          "HR Specialist",
          "Accountant",
          "Analyst",
          "Manager",
          "Analyst",
          "Accountant",
          "Analyst",
          "Analyst",
          "Engineer",
          "Engineer",
          "Accountant",
          "Accountant",
          "Manager",
          "HR Specialist",
          "Accountant",
          "Analyst",
          "Accountant",
          "Manager",
          "Analyst",
          "Analyst",
          "Analyst",
          "Accountant",
          "Accountant",
          "Manager",
          "Engineer",
          "HR Specialist",
          "Manager",
          "HR Specialist",
          "Analyst",
          "Manager",
          "Engineer",
          "Accountant",
          "Analyst",
          "HR Specialist",
          "Analyst",
          "Analyst",
          "Manager",
          "Accountant",
          "Manager",
          "Accountant",
          "Manager",
          "Accountant",
          "Engineer",
          "Accountant",
          "Engineer",
          "Manager",
          "Accountant",
          "Engineer",
          "HR Specialist",
          "Engineer",
          "Engineer",
          "Manager",
          "Analyst",
          "Engineer",
          "Accountant",
          "Manager",
          "Accountant",
          "Engineer",
          "Manager",
          "Analyst",
          "Analyst",
          "Accountant",
          "Manager",
          "Accountant",
          "Analyst",
          "Accountant",
          "HR Specialist",
          "Engineer",
          "Analyst",
          "HR Specialist",
          "Analyst",
          "Engineer",
          "Analyst",
          "Analyst",
          "Manager",
          "HR Specialist",
          "Accountant",
          "Analyst",
          "Engineer",
          "Analyst",
          "Engineer",
          "HR Specialist",
          "Accountant",
          "Analyst",
          "Accountant",
          "Accountant",
          "Engineer",
          "Analyst",
          "Manager",
          "Analyst",
          "Manager",
          "Manager",
          "HR Specialist",
          "HR Specialist",
          "Manager",
          "Analyst",
          "HR Specialist",
          "HR Specialist",
          "HR Specialist",
          "Engineer",
          "Manager",
          "Analyst",
          "HR Specialist",
          "Engineer",
          "Analyst",
          "Analyst",
          "Analyst",
          "Analyst",
          "Analyst",
          "HR Specialist",
          "Engineer",
          "Analyst",
          "Analyst",
          "Manager",
          "Accountant",
          "Analyst",
          "Engineer",
          "Manager",
          "Analyst",
          "Accountant",
          "Accountant",
          "Accountant",
          "Manager",
          "Manager",
          "Engineer",
          "Manager",
          "Engineer",
          "Accountant",
          "HR Specialist",
          "Accountant",
          "Manager",
          "Analyst",
          "Manager",
          "Engineer",
          "HR Specialist",
          "Manager",
          "Manager",
          "Analyst",
          "Accountant",
          "Engineer",
          "Engineer",
          "Engineer",
          "Accountant",
          "Manager",
          "HR Specialist",
          "HR Specialist",
          "Analyst",
          "Engineer",
          "Manager",
          "Analyst",
          "Accountant",
          "Accountant",
          "Analyst",
          "Analyst",
          "Accountant",
          "HR Specialist",
          "HR Specialist",
          "Engineer",
          "HR Specialist",
          "Accountant",
          "Engineer",
          "Analyst",
          "Engineer",
          "Engineer",
          "HR Specialist",
          "Accountant",
          "Manager",
          "Analyst",
          "Accountant",
          "Engineer",
          "HR Specialist",
          "Engineer",
          "Engineer",
          "HR Specialist",
          "Engineer",
          "HR Specialist",
          "Manager",
          "Analyst",
          "Engineer",
          "Analyst",
          "Analyst",
          "Manager",
          "Analyst",
          "Accountant",
          "Manager",
          "HR Specialist",
          "HR Specialist",
          "Engineer",
          "Accountant",
          "Manager",
          "Accountant",
          "Manager",
          "HR Specialist",
          "Analyst",
          "Accountant",
          "Engineer",
          "Accountant",
          "Manager",
          "HR Specialist",
          "Engineer",
          "Engineer",
          "Engineer",
          "Accountant",
          "Accountant",
          "Manager",
          "Analyst",
          "Engineer",
          "Engineer",
          "Analyst",
          "HR Specialist",
          "Accountant",
          "Engineer",
          "Manager",
          "Accountant",
          "Engineer",
          "Analyst",
          "Manager",
          "Manager",
          "Accountant",
          "Engineer",
          "Engineer",
          "Manager",
          "Analyst",
          "Engineer",
          "Analyst",
          "Analyst",
          "Engineer",
          "Analyst",
          "Accountant",
          "Engineer",
          "Engineer",
          "HR Specialist",
          "Engineer",
          "Manager",
          "Manager",
          "Analyst",
          "Engineer",
          "Engineer",
          "Accountant",
          "Accountant",
          "Engineer",
          "HR Specialist",
          "Analyst",
          "Manager",
          "Accountant",
          "Accountant",
          "Analyst",
          "Manager",
          "Analyst",
          "Manager",
          "Manager",
          "Manager",
          "Engineer",
          "Manager",
          "Engineer",
          "Manager",
          "HR Specialist",
          "Accountant",
          "HR Specialist",
          "Manager",
          "Engineer",
          "Analyst",
          "Engineer",
          "Manager",
          "HR Specialist",
          "Engineer",
          "HR Specialist",
          "Engineer",
          "Analyst",
          "Manager",
          "Accountant",
          "Accountant",
          "Manager",
          "Manager",
          "Engineer",
          "HR Specialist",
          "Manager",
          "HR Specialist",
          "Accountant",
          "Accountant",
          "Manager",
          "Engineer",
          "Manager",
          "Analyst",
          "HR Specialist",
          "Engineer",
          "Engineer",
          "Engineer",
          "Engineer",
          "Engineer",
          "Analyst",
          "Engineer",
          "Accountant",
          "Accountant",
          "HR Specialist",
          "Manager",
          "HR Specialist",
          "Accountant",
          "Analyst",
          "Manager",
          "Analyst",
          "Analyst",
          "Manager",
          "Accountant",
          "Engineer",
          "HR Specialist",
          "Accountant",
          "Analyst",
          "Accountant",
          "Accountant",
          "HR Specialist",
          "Accountant",
          "Analyst",
          "Engineer",
          "HR Specialist",
          "Manager",
          "Manager",
          "Accountant",
          "Accountant",
          "Accountant",
          "HR Specialist",
          "Accountant",
          "Accountant",
          "Manager",
          "Manager",
          "HR Specialist",
          "HR Specialist",
          "Engineer",
          "Accountant",
          "Engineer",
          "Manager",
          "Engineer",
          "HR Specialist",
          "Manager",
          "Manager",
          "Analyst",
          "Manager",
          "Engineer",
          "Analyst",
          "Manager",
          "Engineer",
          "Accountant",
          "HR Specialist",
          "Accountant",
          "Analyst",
          "Engineer",
          "Manager",
          "Analyst",
          "HR Specialist",
          "Engineer",
          "Engineer",
          "HR Specialist",
          "HR Specialist",
          "Accountant",
          "Manager",
          "Manager",
          "Analyst",
          "Manager",
          "Engineer",
          "Manager",
          "Manager",
          "Manager",
          "Analyst",
          "Engineer",
          "HR Specialist",
          "HR Specialist",
          "Engineer",
          "Accountant",
          "Manager",
          "Accountant",
          "Manager",
          "Accountant",
          "Engineer",
          "Analyst",
          "Analyst",
          "HR Specialist",
          "Accountant",
          "HR Specialist",
          "Manager",
          "HR Specialist",
          "Accountant",
          "Accountant",
          "Accountant",
          "Manager",
          "HR Specialist",
          "HR Specialist",
          "HR Specialist",
          "HR Specialist",
          "HR Specialist",
          "Engineer",
          "Engineer",
          "HR Specialist",
          "Accountant",
          "Analyst",
          "Analyst",
          "Engineer",
          "Manager",
          "Manager",
          "Engineer",
          "Accountant",
          "Manager",
          "Accountant",
          "HR Specialist",
          "Engineer",
          "Analyst",
          "Engineer",
          "HR Specialist",
          "Manager",
          "HR Specialist",
          "HR Specialist",
          "Accountant",
          "Accountant",
          "Analyst",
          "Manager",
          "Analyst",
          "Analyst",
          "Accountant",
          "Analyst",
          "Analyst",
          "Accountant",
          "HR Specialist",
          "HR Specialist",
          "Accountant",
          "Engineer",
          "HR Specialist",
          "Manager",
          "Accountant",
          "Engineer",
          "Analyst",
          "Analyst",
          "Accountant",
          "Analyst",
          "Accountant",
          "Manager",
          "Analyst",
          "Manager",
          "Accountant",
          "Analyst",
          "HR Specialist",
          "Accountant",
          "Manager",
          "Analyst",
          "HR Specialist",
          "Engineer",
          "Accountant",
          "Accountant",
          "Accountant",
          "Analyst",
          "Accountant",
          "HR Specialist",
          "HR Specialist",
          "Accountant",
          "Accountant",
          "Engineer",
          "Analyst",
          "Manager",
          "Accountant",
          "Manager",
          "Manager",
          "Accountant",
          "Manager",
          "HR Specialist",
          "Engineer",
          "Analyst",
          "Engineer",
          "HR Specialist",
          "Engineer",
          "Manager",
          "Manager",
          "Manager",
          "Engineer",
          "Engineer",
          "Manager",
          "HR Specialist",
          "Accountant",
          "Analyst",
          "HR Specialist",
          "Manager",
          "HR Specialist",
          "HR Specialist",
          "Engineer",
          "Accountant",
          "Accountant",
          "Analyst",
          "Engineer",
          "Accountant",
          "Accountant",
          "Analyst",
          "Analyst",
          "HR Specialist",
          "Accountant",
          "Engineer",
          "HR Specialist",
          "Manager",
          "HR Specialist",
          "Accountant",
          "Analyst",
          "Engineer",
          "Analyst",
          "Manager",
          "Manager",
          "Manager",
          "Engineer",
          "Accountant",
          "Accountant",
          "Accountant",
          "Manager",
          "Analyst",
          "Analyst",
          "HR Specialist",
          "Analyst",
          "Manager",
          "HR Specialist",
          "HR Specialist",
          "HR Specialist",
          "Analyst",
          "Accountant",
          "Engineer",
          "Accountant",
          "Analyst",
          "Accountant",
          "Analyst",
          "Manager",
          "HR Specialist",
          "Engineer",
          "Accountant",
          "Accountant",
          "Accountant",
          "HR Specialist",
          "Engineer",
          "Accountant",
          "Manager",
          "Engineer",
          "Manager",
          "Accountant",
          "Manager",
          "Accountant",
          "HR Specialist",
          "Engineer",
          "HR Specialist",
          "Analyst",
          "HR Specialist",
          "Analyst",
          "Analyst",
          "Manager",
          "HR Specialist",
          "Engineer",
          "Analyst",
          "Engineer",
          "Manager",
          "Accountant",
          "Analyst",
          "Accountant",
          "Manager",
          "HR Specialist",
          "Engineer",
          "Analyst",
          "Analyst",
          "HR Specialist",
          "Accountant",
          "Accountant",
          "Engineer",
          "Engineer",
          "Accountant",
          "Manager",
          "Analyst",
          "Analyst",
          "HR Specialist",
          "HR Specialist",
          "Manager",
          "Analyst",
          "HR Specialist",
          "HR Specialist"
         ],
         "x0": " ",
         "xaxis": "x",
         "y": [
          60132,
          79947,
          46958,
          40662,
          74307,
          97212,
          97865,
          50113,
          88747,
          43283,
          82510,
          55665,
          57951,
          31886,
          40548,
          39979,
          31340,
          79639,
          50307,
          99568,
          89409,
          94005,
          63445,
          99093,
          95910,
          80913,
          59231,
          68979,
          65901,
          85496,
          91627,
          91703,
          51252,
          63757,
          84288,
          86371,
          59546,
          80887,
          52658,
          70977,
          40055,
          99265,
          33670,
          85764,
          87567,
          44786,
          69612,
          45124,
          38871,
          34599,
          61224,
          31506,
          57428,
          34834,
          56938,
          62841,
          56230,
          98061,
          34647,
          30269,
          41737,
          71087,
          50921,
          89560,
          59060,
          46658,
          82313,
          91589,
          48184,
          58575,
          80456,
          72928,
          74105,
          43038,
          50000,
          49824,
          67588,
          30821,
          99801,
          48520,
          69674,
          66952,
          97606,
          59532,
          97663,
          71807,
          90011,
          91398,
          64897,
          78600,
          74424,
          40798,
          63948,
          52415,
          38085,
          32082,
          58364,
          40742,
          84407,
          76806,
          81919,
          70060,
          99321,
          93226,
          81389,
          38495,
          70941,
          99476,
          49523,
          60676,
          73359,
          51013,
          31553,
          65356,
          99328,
          47802,
          45532,
          97181,
          35521,
          98429,
          93166,
          54477,
          40012,
          37543,
          87607,
          97217,
          52961,
          38532,
          80112,
          74736,
          35031,
          61668,
          58508,
          62378,
          73980,
          78603,
          45278,
          50064,
          92394,
          40991,
          76164,
          37833,
          90927,
          86897,
          85229,
          35793,
          57650,
          70990,
          79792,
          81499,
          81233,
          39563,
          36755,
          81470,
          40127,
          78348,
          94455,
          83240,
          54977,
          54598,
          81682,
          58653,
          53838,
          79759,
          34808,
          88563,
          83237,
          31256,
          83418,
          43951,
          63891,
          94226,
          89030,
          57604,
          63395,
          65494,
          82445,
          75352,
          78972,
          62533,
          33221,
          73460,
          42799,
          44626,
          50467,
          62104,
          33232,
          60624,
          39672,
          80067,
          46544,
          69385,
          56338,
          51112,
          40223,
          32762,
          48449,
          65708,
          55484,
          95558,
          81643,
          79587,
          83416,
          87098,
          46780,
          71794,
          30773,
          43764,
          88219,
          72592,
          85608,
          65583,
          91789,
          99859,
          60286,
          53324,
          76479,
          80791,
          83385,
          76642,
          91402,
          85225,
          54559,
          99113,
          32849,
          78975,
          77459,
          88083,
          66740,
          73275,
          50184,
          80830,
          53625,
          55262,
          30935,
          54878,
          56322,
          99851,
          75106,
          88135,
          71466,
          43102,
          61580,
          96349,
          84618,
          68773,
          39162,
          66915,
          34112,
          97161,
          91779,
          87771,
          94728,
          45405,
          64406,
          55075,
          69509,
          31850,
          47534,
          85996,
          64345,
          32954,
          64213,
          88666,
          71088,
          43095,
          61200,
          96615,
          69501,
          38068,
          30859,
          54641,
          98610,
          86372,
          92828,
          97244,
          88353,
          54636,
          73863,
          35833,
          70714,
          42371,
          70764,
          48165,
          84159,
          64584,
          46116,
          47944,
          73713,
          69641,
          75176,
          67394,
          57381,
          37001,
          93742,
          36843,
          55467,
          95571,
          32747,
          46185,
          38604,
          85832,
          56461,
          59075,
          76410,
          71557,
          85613,
          81026,
          81995,
          55051,
          46767,
          43261,
          93469,
          93274,
          52963,
          71482,
          58220,
          92876,
          46434,
          39049,
          93674,
          87053,
          34512,
          59522,
          88569,
          94735,
          58062,
          52300,
          89623,
          77841,
          89157,
          79253,
          49834,
          42699,
          66868,
          42015,
          35610,
          31053,
          90843,
          65174,
          51874,
          50329,
          60973,
          69286,
          73505,
          92988,
          91629,
          73737,
          34192,
          37243,
          78476,
          72188,
          71440,
          72062,
          77656,
          78975,
          46454,
          82219,
          49610,
          41420,
          50645,
          44412,
          50656,
          45102,
          96293,
          34447,
          70513,
          63571,
          44560,
          56613,
          38562,
          49301,
          48784,
          31815,
          46467,
          37004,
          49158,
          81385,
          75317,
          69252,
          60839,
          33966,
          72481,
          58506,
          84131,
          57200,
          69582,
          86091,
          72604,
          38056,
          89766,
          83069,
          59173,
          62295,
          32272,
          40220,
          65922,
          45758,
          37334,
          57260,
          83920,
          98845,
          34669,
          81252,
          72256,
          77244,
          58627,
          35798,
          51421,
          93822,
          73509,
          98405,
          45758,
          47841,
          35265,
          99071,
          55071,
          31472,
          52874,
          91705,
          97650,
          54467,
          63124,
          76234,
          33931,
          51668,
          80690,
          66229,
          64140,
          50970,
          60858,
          48447,
          34152,
          32182,
          83201,
          64659,
          47406,
          39887,
          52122,
          96167,
          79419,
          34983,
          41908,
          68137,
          52386,
          60907,
          67919,
          90686,
          69158,
          38395,
          43501,
          38228,
          56690,
          80428,
          35568,
          99206,
          63229,
          61098,
          63277,
          47899,
          32252,
          83793,
          45710,
          93376,
          62429,
          46051,
          98551,
          98112,
          70785,
          83328,
          44251,
          42122,
          32476,
          37819,
          93647,
          84642,
          81179,
          60684,
          78586,
          36342,
          87748,
          52281,
          31475,
          50116,
          60563,
          63836,
          70312,
          87579,
          35273,
          53055,
          63425,
          91437,
          67147,
          85742,
          68187,
          90525,
          81642,
          42539,
          97250,
          33311,
          74148,
          38735,
          43794,
          73721,
          68051,
          87804,
          83172,
          69512,
          37456,
          66268,
          66239,
          44727,
          48599,
          61890,
          85073,
          34633,
          99566,
          31347,
          44704,
          99991,
          82078,
          94130,
          72752,
          99584,
          34172,
          66406,
          66024,
          41439,
          91504,
          94294,
          89725,
          31435,
          56769,
          93028,
          43791,
          48251,
          77213,
          94306,
          93791,
          51349,
          83381,
          31015,
          64407,
          42945,
          75542,
          67058,
          53211,
          35667,
          54380,
          99002,
          53633,
          96208,
          68372,
          75599,
          54308,
          65562,
          62728,
          85262,
          68662,
          59461,
          90263,
          57042,
          38343,
          94611,
          67607,
          48220,
          46446,
          58523,
          42706,
          38896,
          92936,
          46249,
          55141,
          89082,
          92977,
          35813,
          85800,
          94151,
          97101,
          64691,
          90009,
          45968,
          32193,
          96568,
          82011,
          80787,
          47600,
          35529,
          38691,
          92597,
          51575,
          60435,
          78199,
          82555,
          71559,
          55788,
          87535,
          56368,
          67056,
          35721,
          64692,
          35293,
          51316,
          75657,
          35963,
          72722,
          37800,
          32960,
          67201,
          97170,
          82856,
          65864,
          38981,
          87741,
          81235,
          75531,
          46324,
          48196,
          82067,
          50262,
          76960,
          90788,
          55180,
          68415,
          37796,
          37291,
          52160,
          86198,
          56794,
          48121,
          40747,
          75386,
          53097,
          91913,
          58666,
          93766,
          55216,
          52385,
          53084,
          31326,
          58556,
          64696,
          75754,
          97670,
          78446,
          69135,
          35597,
          52845,
          44713,
          64259,
          96848,
          77108,
          33619,
          42027,
          98956,
          91590,
          30957,
          37912,
          42217,
          64197,
          39839,
          86167,
          44302,
          99586,
          93970,
          35486,
          50319,
          69506,
          65409,
          76601,
          55574,
          98703,
          87689,
          63365,
          39883,
          81628,
          72043,
          69001,
          37113,
          74360,
          79792,
          48258,
          34471,
          99672,
          78851,
          44046,
          47473,
          49134,
          88384,
          37817,
          65839,
          66024,
          57216,
          47618,
          61327,
          70487,
          76520,
          51860,
          59104,
          94861,
          99361,
          39963,
          30706,
          39629,
          99241,
          45288,
          36830,
          52248,
          30532,
          66677,
          42179,
          81516,
          60560,
          72294,
          89446,
          80763,
          40362,
          56859,
          66066,
          38104,
          46263,
          66121,
          85641,
          54831,
          69001,
          76668,
          65587,
          50096,
          74143,
          56843,
          93351,
          77976,
          60095,
          86012,
          71174,
          42585,
          54532,
          56872,
          60146,
          42438,
          32573,
          87104,
          58453,
          72136,
          85195,
          93571,
          96110,
          38584,
          68549,
          91069,
          86923,
          56124,
          88048,
          37574,
          57209,
          83180,
          84814,
          63416,
          62614,
          80189,
          58015,
          68402,
          42938,
          43063,
          67793,
          60017,
          56633,
          97497,
          80647,
          36566,
          53466,
          74675,
          33757,
          51376,
          30394,
          51522,
          80031,
          59666,
          69170,
          53799,
          79181,
          49292,
          96750,
          39132,
          66661,
          38406,
          63301,
          39619,
          75992,
          68411,
          59859,
          51776,
          69246,
          37525,
          70411,
          88770,
          75826,
          73092,
          43496,
          41009,
          73232,
          90300,
          30194,
          92026,
          41972,
          64574,
          83462,
          56022,
          96098,
          85546,
          84317,
          43922,
          94820,
          98646,
          41035,
          50803,
          81927,
          96499,
          80233,
          76158,
          97965,
          88567,
          79354,
          70579,
          80344,
          48580,
          31035,
          60002,
          48501,
          30335,
          74975,
          56303,
          67747,
          58783,
          30099,
          50875,
          94871,
          54704,
          89084,
          50516,
          62501,
          95026,
          87852,
          82478,
          48533,
          83804,
          49259,
          81226,
          76223,
          88625,
          85150,
          75319,
          43997,
          48786,
          34457,
          68525,
          55540,
          81006,
          59352,
          42453,
          37246,
          98348,
          49977,
          93085,
          55399,
          43525,
          31816,
          64524,
          99501,
          52063,
          45784,
          92350,
          87016,
          56757,
          95104,
          52164,
          68280,
          35209,
          75131,
          74810,
          65682,
          65730,
          48299,
          80805,
          48126,
          45592,
          60283,
          80586,
          70805,
          63040,
          55096,
          88532,
          49746,
          32574,
          84212,
          86674,
          61487,
          30359,
          42829,
          85323,
          39711,
          57770,
          94407,
          67074,
          62861,
          62320,
          70299,
          72993,
          31774,
          58386,
          88638,
          55651,
          74369,
          69749,
          76417,
          96779,
          49699,
          57893,
          37520,
          92364,
          77127,
          60355,
          30262,
          88814,
          77259,
          87516,
          69919,
          99423,
          81306,
          57712,
          86404,
          69350,
          86611,
          94636,
          63884,
          84994,
          55417,
          66339,
          90845,
          44648,
          95332,
          83449,
          45156,
          32741,
          57973,
          85023,
          87163,
          66440,
          33042,
          67199,
          65798,
          33648,
          51468,
          64526,
          90433,
          46499,
          95529,
          53608,
          68459,
          35430,
          57886,
          30382,
          34234,
          57795,
          82983,
          39382,
          47576,
          48379,
          67033,
          86929,
          90878,
          79455,
          95330,
          92100,
          34442,
          78569,
          81636,
          76669,
          59042,
          39553,
          53320,
          33077,
          59110,
          32770,
          93794,
          96585,
          85864,
          68139,
          39036,
          32327,
          65638,
          78726,
          79044,
          47301,
          31507,
          71403,
          30181,
          64143,
          74383,
          73220
         ],
         "y0": " ",
         "yaxis": "y"
        }
       ],
       "layout": {
        "autosize": true,
        "boxmode": "group",
        "legend": {
         "tracegroupgap": 0
        },
        "template": {
         "data": {
          "bar": [
           {
            "error_x": {
             "color": "#2a3f5f"
            },
            "error_y": {
             "color": "#2a3f5f"
            },
            "marker": {
             "line": {
              "color": "#E5ECF6",
              "width": 0.5
             },
             "pattern": {
              "fillmode": "overlay",
              "size": 10,
              "solidity": 0.2
             }
            },
            "type": "bar"
           }
          ],
          "barpolar": [
           {
            "marker": {
             "line": {
              "color": "#E5ECF6",
              "width": 0.5
             },
             "pattern": {
              "fillmode": "overlay",
              "size": 10,
              "solidity": 0.2
             }
            },
            "type": "barpolar"
           }
          ],
          "carpet": [
           {
            "aaxis": {
             "endlinecolor": "#2a3f5f",
             "gridcolor": "white",
             "linecolor": "white",
             "minorgridcolor": "white",
             "startlinecolor": "#2a3f5f"
            },
            "baxis": {
             "endlinecolor": "#2a3f5f",
             "gridcolor": "white",
             "linecolor": "white",
             "minorgridcolor": "white",
             "startlinecolor": "#2a3f5f"
            },
            "type": "carpet"
           }
          ],
          "choropleth": [
           {
            "colorbar": {
             "outlinewidth": 0,
             "ticks": ""
            },
            "type": "choropleth"
           }
          ],
          "contour": [
           {
            "colorbar": {
             "outlinewidth": 0,
             "ticks": ""
            },
            "colorscale": [
             [
              0,
              "#0d0887"
             ],
             [
              0.1111111111111111,
              "#46039f"
             ],
             [
              0.2222222222222222,
              "#7201a8"
             ],
             [
              0.3333333333333333,
              "#9c179e"
             ],
             [
              0.4444444444444444,
              "#bd3786"
             ],
             [
              0.5555555555555556,
              "#d8576b"
             ],
             [
              0.6666666666666666,
              "#ed7953"
             ],
             [
              0.7777777777777778,
              "#fb9f3a"
             ],
             [
              0.8888888888888888,
              "#fdca26"
             ],
             [
              1,
              "#f0f921"
             ]
            ],
            "type": "contour"
           }
          ],
          "contourcarpet": [
           {
            "colorbar": {
             "outlinewidth": 0,
             "ticks": ""
            },
            "type": "contourcarpet"
           }
          ],
          "heatmap": [
           {
            "colorbar": {
             "outlinewidth": 0,
             "ticks": ""
            },
            "colorscale": [
             [
              0,
              "#0d0887"
             ],
             [
              0.1111111111111111,
              "#46039f"
             ],
             [
              0.2222222222222222,
              "#7201a8"
             ],
             [
              0.3333333333333333,
              "#9c179e"
             ],
             [
              0.4444444444444444,
              "#bd3786"
             ],
             [
              0.5555555555555556,
              "#d8576b"
             ],
             [
              0.6666666666666666,
              "#ed7953"
             ],
             [
              0.7777777777777778,
              "#fb9f3a"
             ],
             [
              0.8888888888888888,
              "#fdca26"
             ],
             [
              1,
              "#f0f921"
             ]
            ],
            "type": "heatmap"
           }
          ],
          "heatmapgl": [
           {
            "colorbar": {
             "outlinewidth": 0,
             "ticks": ""
            },
            "colorscale": [
             [
              0,
              "#0d0887"
             ],
             [
              0.1111111111111111,
              "#46039f"
             ],
             [
              0.2222222222222222,
              "#7201a8"
             ],
             [
              0.3333333333333333,
              "#9c179e"
             ],
             [
              0.4444444444444444,
              "#bd3786"
             ],
             [
              0.5555555555555556,
              "#d8576b"
             ],
             [
              0.6666666666666666,
              "#ed7953"
             ],
             [
              0.7777777777777778,
              "#fb9f3a"
             ],
             [
              0.8888888888888888,
              "#fdca26"
             ],
             [
              1,
              "#f0f921"
             ]
            ],
            "type": "heatmapgl"
           }
          ],
          "histogram": [
           {
            "marker": {
             "pattern": {
              "fillmode": "overlay",
              "size": 10,
              "solidity": 0.2
             }
            },
            "type": "histogram"
           }
          ],
          "histogram2d": [
           {
            "colorbar": {
             "outlinewidth": 0,
             "ticks": ""
            },
            "colorscale": [
             [
              0,
              "#0d0887"
             ],
             [
              0.1111111111111111,
              "#46039f"
             ],
             [
              0.2222222222222222,
              "#7201a8"
             ],
             [
              0.3333333333333333,
              "#9c179e"
             ],
             [
              0.4444444444444444,
              "#bd3786"
             ],
             [
              0.5555555555555556,
              "#d8576b"
             ],
             [
              0.6666666666666666,
              "#ed7953"
             ],
             [
              0.7777777777777778,
              "#fb9f3a"
             ],
             [
              0.8888888888888888,
              "#fdca26"
             ],
             [
              1,
              "#f0f921"
             ]
            ],
            "type": "histogram2d"
           }
          ],
          "histogram2dcontour": [
           {
            "colorbar": {
             "outlinewidth": 0,
             "ticks": ""
            },
            "colorscale": [
             [
              0,
              "#0d0887"
             ],
             [
              0.1111111111111111,
              "#46039f"
             ],
             [
              0.2222222222222222,
              "#7201a8"
             ],
             [
              0.3333333333333333,
              "#9c179e"
             ],
             [
              0.4444444444444444,
              "#bd3786"
             ],
             [
              0.5555555555555556,
              "#d8576b"
             ],
             [
              0.6666666666666666,
              "#ed7953"
             ],
             [
              0.7777777777777778,
              "#fb9f3a"
             ],
             [
              0.8888888888888888,
              "#fdca26"
             ],
             [
              1,
              "#f0f921"
             ]
            ],
            "type": "histogram2dcontour"
           }
          ],
          "mesh3d": [
           {
            "colorbar": {
             "outlinewidth": 0,
             "ticks": ""
            },
            "type": "mesh3d"
           }
          ],
          "parcoords": [
           {
            "line": {
             "colorbar": {
              "outlinewidth": 0,
              "ticks": ""
             }
            },
            "type": "parcoords"
           }
          ],
          "pie": [
           {
            "automargin": true,
            "type": "pie"
           }
          ],
          "scatter": [
           {
            "fillpattern": {
             "fillmode": "overlay",
             "size": 10,
             "solidity": 0.2
            },
            "type": "scatter"
           }
          ],
          "scatter3d": [
           {
            "line": {
             "colorbar": {
              "outlinewidth": 0,
              "ticks": ""
             }
            },
            "marker": {
             "colorbar": {
              "outlinewidth": 0,
              "ticks": ""
             }
            },
            "type": "scatter3d"
           }
          ],
          "scattercarpet": [
           {
            "marker": {
             "colorbar": {
              "outlinewidth": 0,
              "ticks": ""
             }
            },
            "type": "scattercarpet"
           }
          ],
          "scattergeo": [
           {
            "marker": {
             "colorbar": {
              "outlinewidth": 0,
              "ticks": ""
             }
            },
            "type": "scattergeo"
           }
          ],
          "scattergl": [
           {
            "marker": {
             "colorbar": {
              "outlinewidth": 0,
              "ticks": ""
             }
            },
            "type": "scattergl"
           }
          ],
          "scattermapbox": [
           {
            "marker": {
             "colorbar": {
              "outlinewidth": 0,
              "ticks": ""
             }
            },
            "type": "scattermapbox"
           }
          ],
          "scatterpolar": [
           {
            "marker": {
             "colorbar": {
              "outlinewidth": 0,
              "ticks": ""
             }
            },
            "type": "scatterpolar"
           }
          ],
          "scatterpolargl": [
           {
            "marker": {
             "colorbar": {
              "outlinewidth": 0,
              "ticks": ""
             }
            },
            "type": "scatterpolargl"
           }
          ],
          "scatterternary": [
           {
            "marker": {
             "colorbar": {
              "outlinewidth": 0,
              "ticks": ""
             }
            },
            "type": "scatterternary"
           }
          ],
          "surface": [
           {
            "colorbar": {
             "outlinewidth": 0,
             "ticks": ""
            },
            "colorscale": [
             [
              0,
              "#0d0887"
             ],
             [
              0.1111111111111111,
              "#46039f"
             ],
             [
              0.2222222222222222,
              "#7201a8"
             ],
             [
              0.3333333333333333,
              "#9c179e"
             ],
             [
              0.4444444444444444,
              "#bd3786"
             ],
             [
              0.5555555555555556,
              "#d8576b"
             ],
             [
              0.6666666666666666,
              "#ed7953"
             ],
             [
              0.7777777777777778,
              "#fb9f3a"
             ],
             [
              0.8888888888888888,
              "#fdca26"
             ],
             [
              1,
              "#f0f921"
             ]
            ],
            "type": "surface"
           }
          ],
          "table": [
           {
            "cells": {
             "fill": {
              "color": "#EBF0F8"
             },
             "line": {
              "color": "white"
             }
            },
            "header": {
             "fill": {
              "color": "#C8D4E3"
             },
             "line": {
              "color": "white"
             }
            },
            "type": "table"
           }
          ]
         },
         "layout": {
          "annotationdefaults": {
           "arrowcolor": "#2a3f5f",
           "arrowhead": 0,
           "arrowwidth": 1
          },
          "autotypenumbers": "strict",
          "coloraxis": {
           "colorbar": {
            "outlinewidth": 0,
            "ticks": ""
           }
          },
          "colorscale": {
           "diverging": [
            [
             0,
             "#8e0152"
            ],
            [
             0.1,
             "#c51b7d"
            ],
            [
             0.2,
             "#de77ae"
            ],
            [
             0.3,
             "#f1b6da"
            ],
            [
             0.4,
             "#fde0ef"
            ],
            [
             0.5,
             "#f7f7f7"
            ],
            [
             0.6,
             "#e6f5d0"
            ],
            [
             0.7,
             "#b8e186"
            ],
            [
             0.8,
             "#7fbc41"
            ],
            [
             0.9,
             "#4d9221"
            ],
            [
             1,
             "#276419"
            ]
           ],
           "sequential": [
            [
             0,
             "#0d0887"
            ],
            [
             0.1111111111111111,
             "#46039f"
            ],
            [
             0.2222222222222222,
             "#7201a8"
            ],
            [
             0.3333333333333333,
             "#9c179e"
            ],
            [
             0.4444444444444444,
             "#bd3786"
            ],
            [
             0.5555555555555556,
             "#d8576b"
            ],
            [
             0.6666666666666666,
             "#ed7953"
            ],
            [
             0.7777777777777778,
             "#fb9f3a"
            ],
            [
             0.8888888888888888,
             "#fdca26"
            ],
            [
             1,
             "#f0f921"
            ]
           ],
           "sequentialminus": [
            [
             0,
             "#0d0887"
            ],
            [
             0.1111111111111111,
             "#46039f"
            ],
            [
             0.2222222222222222,
             "#7201a8"
            ],
            [
             0.3333333333333333,
             "#9c179e"
            ],
            [
             0.4444444444444444,
             "#bd3786"
            ],
            [
             0.5555555555555556,
             "#d8576b"
            ],
            [
             0.6666666666666666,
             "#ed7953"
            ],
            [
             0.7777777777777778,
             "#fb9f3a"
            ],
            [
             0.8888888888888888,
             "#fdca26"
            ],
            [
             1,
             "#f0f921"
            ]
           ]
          },
          "colorway": [
           "#636efa",
           "#EF553B",
           "#00cc96",
           "#ab63fa",
           "#FFA15A",
           "#19d3f3",
           "#FF6692",
           "#B6E880",
           "#FF97FF",
           "#FECB52"
          ],
          "font": {
           "color": "#2a3f5f"
          },
          "geo": {
           "bgcolor": "white",
           "lakecolor": "white",
           "landcolor": "#E5ECF6",
           "showlakes": true,
           "showland": true,
           "subunitcolor": "white"
          },
          "hoverlabel": {
           "align": "left"
          },
          "hovermode": "closest",
          "mapbox": {
           "style": "light"
          },
          "paper_bgcolor": "white",
          "plot_bgcolor": "#E5ECF6",
          "polar": {
           "angularaxis": {
            "gridcolor": "white",
            "linecolor": "white",
            "ticks": ""
           },
           "bgcolor": "#E5ECF6",
           "radialaxis": {
            "gridcolor": "white",
            "linecolor": "white",
            "ticks": ""
           }
          },
          "scene": {
           "xaxis": {
            "backgroundcolor": "#E5ECF6",
            "gridcolor": "white",
            "gridwidth": 2,
            "linecolor": "white",
            "showbackground": true,
            "ticks": "",
            "zerolinecolor": "white"
           },
           "yaxis": {
            "backgroundcolor": "#E5ECF6",
            "gridcolor": "white",
            "gridwidth": 2,
            "linecolor": "white",
            "showbackground": true,
            "ticks": "",
            "zerolinecolor": "white"
           },
           "zaxis": {
            "backgroundcolor": "#E5ECF6",
            "gridcolor": "white",
            "gridwidth": 2,
            "linecolor": "white",
            "showbackground": true,
            "ticks": "",
            "zerolinecolor": "white"
           }
          },
          "shapedefaults": {
           "line": {
            "color": "#2a3f5f"
           }
          },
          "ternary": {
           "aaxis": {
            "gridcolor": "white",
            "linecolor": "white",
            "ticks": ""
           },
           "baxis": {
            "gridcolor": "white",
            "linecolor": "white",
            "ticks": ""
           },
           "bgcolor": "#E5ECF6",
           "caxis": {
            "gridcolor": "white",
            "linecolor": "white",
            "ticks": ""
           }
          },
          "title": {
           "x": 0.05
          },
          "xaxis": {
           "automargin": true,
           "gridcolor": "white",
           "linecolor": "white",
           "ticks": "",
           "title": {
            "standoff": 15
           },
           "zerolinecolor": "white",
           "zerolinewidth": 2
          },
          "yaxis": {
           "automargin": true,
           "gridcolor": "white",
           "linecolor": "white",
           "ticks": "",
           "title": {
            "standoff": 15
           },
           "zerolinecolor": "white",
           "zerolinewidth": 2
          }
         }
        },
        "title": {
         "text": "Salary Distribution by Job_Title"
        },
        "xaxis": {
         "anchor": "y",
         "autorange": true,
         "domain": [
          0,
          1
         ],
         "range": [
          -0.5,
          4.5
         ],
         "title": {
          "text": "Job_Title"
         },
         "type": "category"
        },
        "yaxis": {
         "anchor": "x",
         "autorange": true,
         "domain": [
          0,
          1
         ],
         "range": [
          26216.11111111111,
          103873.88888888889
         ],
         "title": {
          "text": "Salary"
         },
         "type": "linear"
        }
       }
      },
      "image/png": "[encoded data removed]",
      "text/html": [
       "<div>                            <div id=\"b7d847dc-2d49-4a9f-9d15-62179d0de638\" class=\"plotly-graph-div\" style=\"height:525px; width:100%;\"></div>            <script type=\"text/javascript\">                require([\"plotly\"], function(Plotly) {                    window.PLOTLYENV=window.PLOTLYENV || {};                                    if (document.getElementById(\"b7d847dc-2d49-4a9f-9d15-62179d0de638\")) {                    Plotly.newPlot(                        \"b7d847dc-2d49-4a9f-9d15-62179d0de638\",                        [{\"alignmentgroup\":\"True\",\"hovertemplate\":\"Job_Title=%{x}<br>Salary=%{y}<extra></extra>\",\"legendgroup\":\"\",\"marker\":{\"color\":\"#8D97FC\"},\"name\":\"\",\"notched\":false,\"offsetgroup\":\"\",\"orientation\":\"v\",\"showlegend\":false,\"x\":[\"Manager\",\"Engineer\",\"Analyst\",\"Manager\",\"Engineer\",\"HR Specialist\",\"HR Specialist\",\"Analyst\",\"Accountant\",\"Engineer\",\"HR Specialist\",\"Accountant\",\"Engineer\",\"Analyst\",\"Manager\",\"Accountant\",\"Accountant\",\"Accountant\",\"Manager\",\"Manager\",\"Manager\",\"HR Specialist\",\"Analyst\",\"HR Specialist\",\"Manager\",\"Engineer\",\"Analyst\",\"HR Specialist\",\"Accountant\",\"Analyst\",\"Analyst\",\"Analyst\",\"HR Specialist\",\"Accountant\",\"Accountant\",\"HR Specialist\",\"Analyst\",\"Accountant\",\"HR Specialist\",\"Accountant\",\"Analyst\",\"HR Specialist\",\"HR Specialist\",\"HR Specialist\",\"Engineer\",\"Accountant\",\"Accountant\",\"Manager\",\"Accountant\",\"HR Specialist\",\"HR Specialist\",\"HR Specialist\",\"HR Specialist\",\"Manager\",\"Accountant\",\"Accountant\",\"Engineer\",\"Accountant\",\"Engineer\",\"Analyst\",\"HR Specialist\",\"Accountant\",\"Engineer\",\"Accountant\",\"Accountant\",\"Analyst\",\"Accountant\",\"Analyst\",\"Analyst\",\"HR Specialist\",\"Analyst\",\"Engineer\",\"Engineer\",\"Analyst\",\"Manager\",\"Analyst\",\"Manager\",\"Accountant\",\"Manager\",\"Engineer\",\"Engineer\",\"Analyst\",\"Manager\",\"Analyst\",\"Analyst\",\"Analyst\",\"Analyst\",\"Engineer\",\"Accountant\",\"Engineer\",\"Engineer\",\"Engineer\",\"HR Specialist\",\"Analyst\",\"Analyst\",\"HR Specialist\",\"Accountant\",\"Engineer\",\"Manager\",\"Analyst\",\"Manager\",\"Engineer\",\"Manager\",\"Analyst\",\"Engineer\",\"Analyst\",\"Engineer\",\"Engineer\",\"Accountant\",\"Engineer\",\"Accountant\",\"Engineer\",\"Analyst\",\"HR Specialist\",\"Engineer\",\"Accountant\",\"Analyst\",\"Engineer\",\"HR Specialist\",\"Engineer\",\"HR Specialist\",\"Analyst\",\"Engineer\",\"HR Specialist\",\"Manager\",\"Engineer\",\"Engineer\",\"HR Specialist\",\"HR Specialist\",\"Analyst\",\"HR Specialist\",\"Manager\",\"Manager\",\"Analyst\",\"Analyst\",\"HR Specialist\",\"Analyst\",\"Manager\",\"HR Specialist\",\"Accountant\",\"Manager\",\"Engineer\",\"Manager\",\"Analyst\",\"HR Specialist\",\"Manager\",\"Engineer\",\"Analyst\",\"Engineer\",\"Analyst\",\"Engineer\",\"Engineer\",\"Accountant\",\"Manager\",\"Engineer\",\"Manager\",\"HR Specialist\",\"Engineer\",\"Engineer\",\"HR Specialist\",\"Manager\",\"Manager\",\"Manager\",\"Engineer\",\"Analyst\",\"Accountant\",\"Accountant\",\"Accountant\",\"Engineer\",\"HR Specialist\",\"Engineer\",\"Accountant\",\"Engineer\",\"Manager\",\"HR Specialist\",\"HR Specialist\",\"Analyst\",\"Manager\",\"Accountant\",\"Analyst\",\"Engineer\",\"Analyst\",\"Accountant\",\"Accountant\",\"HR Specialist\",\"HR Specialist\",\"Manager\",\"Manager\",\"Analyst\",\"Manager\",\"HR Specialist\",\"Manager\",\"Manager\",\"HR Specialist\",\"Manager\",\"Engineer\",\"HR Specialist\",\"Engineer\",\"HR Specialist\",\"Engineer\",\"Analyst\",\"HR Specialist\",\"Manager\",\"Accountant\",\"Engineer\",\"HR Specialist\",\"Engineer\",\"Analyst\",\"Engineer\",\"Analyst\",\"Analyst\",\"Manager\",\"Engineer\",\"Accountant\",\"HR Specialist\",\"Analyst\",\"Manager\",\"Engineer\",\"Accountant\",\"Analyst\",\"HR Specialist\",\"Engineer\",\"Engineer\",\"Engineer\",\"Manager\",\"Analyst\",\"HR Specialist\",\"HR Specialist\",\"Accountant\",\"Manager\",\"Manager\",\"Accountant\",\"Analyst\",\"Manager\",\"Manager\",\"Accountant\",\"Engineer\",\"Engineer\",\"HR Specialist\",\"Accountant\",\"Engineer\",\"Engineer\",\"Engineer\",\"Manager\",\"HR Specialist\",\"Analyst\",\"Accountant\",\"Analyst\",\"Manager\",\"Engineer\",\"HR Specialist\",\"Analyst\",\"Analyst\",\"Manager\",\"Engineer\",\"Analyst\",\"Analyst\",\"Analyst\",\"Manager\",\"Accountant\",\"Engineer\",\"HR Specialist\",\"Manager\",\"Manager\",\"Analyst\",\"Engineer\",\"HR Specialist\",\"Engineer\",\"Manager\",\"Manager\",\"Engineer\",\"Manager\",\"Accountant\",\"Analyst\",\"Engineer\",\"Manager\",\"Engineer\",\"Manager\",\"HR Specialist\",\"Analyst\",\"Engineer\",\"Engineer\",\"Engineer\",\"Engineer\",\"HR Specialist\",\"Manager\",\"Engineer\",\"Accountant\",\"Engineer\",\"Accountant\",\"Accountant\",\"Manager\",\"Engineer\",\"Analyst\",\"Manager\",\"HR Specialist\",\"Accountant\",\"Engineer\",\"Accountant\",\"Analyst\",\"HR Specialist\",\"Engineer\",\"Engineer\",\"Analyst\",\"Accountant\",\"Engineer\",\"Manager\",\"Accountant\",\"Manager\",\"HR Specialist\",\"HR Specialist\",\"Accountant\",\"Accountant\",\"Manager\",\"Manager\",\"Manager\",\"Manager\",\"HR Specialist\",\"Analyst\",\"HR Specialist\",\"Engineer\",\"HR Specialist\",\"HR Specialist\",\"HR Specialist\",\"HR Specialist\",\"Accountant\",\"HR Specialist\",\"Engineer\",\"Accountant\",\"Accountant\",\"Accountant\",\"Engineer\",\"Accountant\",\"HR Specialist\",\"Analyst\",\"Engineer\",\"HR Specialist\",\"Manager\",\"Accountant\",\"Analyst\",\"Manager\",\"Manager\",\"Manager\",\"Manager\",\"Manager\",\"Manager\",\"Manager\",\"Accountant\",\"Analyst\",\"Manager\",\"Manager\",\"Accountant\",\"Accountant\",\"Accountant\",\"Manager\",\"Analyst\",\"Accountant\",\"Analyst\",\"Accountant\",\"Engineer\",\"Analyst\",\"Manager\",\"Accountant\",\"Engineer\",\"Accountant\",\"HR Specialist\",\"Engineer\",\"Engineer\",\"Engineer\",\"HR Specialist\",\"Engineer\",\"Accountant\",\"HR Specialist\",\"Accountant\",\"HR Specialist\",\"Engineer\",\"HR Specialist\",\"Manager\",\"Engineer\",\"Engineer\",\"Accountant\",\"Manager\",\"Analyst\",\"Engineer\",\"Engineer\",\"Manager\",\"Analyst\",\"Analyst\",\"Engineer\",\"HR Specialist\",\"HR Specialist\",\"Accountant\",\"Accountant\",\"Manager\",\"HR Specialist\",\"Accountant\",\"Engineer\",\"Analyst\",\"Engineer\",\"Analyst\",\"Accountant\",\"Manager\",\"Manager\",\"Analyst\",\"Accountant\",\"Analyst\",\"Engineer\",\"Manager\",\"Accountant\",\"Engineer\",\"Analyst\",\"Manager\",\"Accountant\",\"Engineer\",\"Analyst\",\"Manager\",\"HR Specialist\",\"Engineer\",\"HR Specialist\",\"Manager\",\"Manager\",\"Manager\",\"Engineer\",\"Manager\",\"Accountant\",\"Manager\",\"Accountant\",\"HR Specialist\",\"Accountant\",\"Analyst\",\"Manager\",\"Analyst\",\"Accountant\",\"Analyst\",\"Analyst\",\"Engineer\",\"Engineer\",\"Accountant\",\"Accountant\",\"Manager\",\"HR Specialist\",\"Accountant\",\"Analyst\",\"Accountant\",\"Manager\",\"Analyst\",\"Analyst\",\"Analyst\",\"Accountant\",\"Accountant\",\"Manager\",\"Engineer\",\"HR Specialist\",\"Manager\",\"HR Specialist\",\"Analyst\",\"Manager\",\"Engineer\",\"Accountant\",\"Analyst\",\"HR Specialist\",\"Analyst\",\"Analyst\",\"Manager\",\"Accountant\",\"Manager\",\"Accountant\",\"Manager\",\"Accountant\",\"Engineer\",\"Accountant\",\"Engineer\",\"Manager\",\"Accountant\",\"Engineer\",\"HR Specialist\",\"Engineer\",\"Engineer\",\"Manager\",\"Analyst\",\"Engineer\",\"Accountant\",\"Manager\",\"Accountant\",\"Engineer\",\"Manager\",\"Analyst\",\"Analyst\",\"Accountant\",\"Manager\",\"Accountant\",\"Analyst\",\"Accountant\",\"HR Specialist\",\"Engineer\",\"Analyst\",\"HR Specialist\",\"Analyst\",\"Engineer\",\"Analyst\",\"Analyst\",\"Manager\",\"HR Specialist\",\"Accountant\",\"Analyst\",\"Engineer\",\"Analyst\",\"Engineer\",\"HR Specialist\",\"Accountant\",\"Analyst\",\"Accountant\",\"Accountant\",\"Engineer\",\"Analyst\",\"Manager\",\"Analyst\",\"Manager\",\"Manager\",\"HR Specialist\",\"HR Specialist\",\"Manager\",\"Analyst\",\"HR Specialist\",\"HR Specialist\",\"HR Specialist\",\"Engineer\",\"Manager\",\"Analyst\",\"HR Specialist\",\"Engineer\",\"Analyst\",\"Analyst\",\"Analyst\",\"Analyst\",\"Analyst\",\"HR Specialist\",\"Engineer\",\"Analyst\",\"Analyst\",\"Manager\",\"Accountant\",\"Analyst\",\"Engineer\",\"Manager\",\"Analyst\",\"Accountant\",\"Accountant\",\"Accountant\",\"Manager\",\"Manager\",\"Engineer\",\"Manager\",\"Engineer\",\"Accountant\",\"HR Specialist\",\"Accountant\",\"Manager\",\"Analyst\",\"Manager\",\"Engineer\",\"HR Specialist\",\"Manager\",\"Manager\",\"Analyst\",\"Accountant\",\"Engineer\",\"Engineer\",\"Engineer\",\"Accountant\",\"Manager\",\"HR Specialist\",\"HR Specialist\",\"Analyst\",\"Engineer\",\"Manager\",\"Analyst\",\"Accountant\",\"Accountant\",\"Analyst\",\"Analyst\",\"Accountant\",\"HR Specialist\",\"HR Specialist\",\"Engineer\",\"HR Specialist\",\"Accountant\",\"Engineer\",\"Analyst\",\"Engineer\",\"Engineer\",\"HR Specialist\",\"Accountant\",\"Manager\",\"Analyst\",\"Accountant\",\"Engineer\",\"HR Specialist\",\"Engineer\",\"Engineer\",\"HR Specialist\",\"Engineer\",\"HR Specialist\",\"Manager\",\"Analyst\",\"Engineer\",\"Analyst\",\"Analyst\",\"Manager\",\"Analyst\",\"Accountant\",\"Manager\",\"HR Specialist\",\"HR Specialist\",\"Engineer\",\"Accountant\",\"Manager\",\"Accountant\",\"Manager\",\"HR Specialist\",\"Analyst\",\"Accountant\",\"Engineer\",\"Accountant\",\"Manager\",\"HR Specialist\",\"Engineer\",\"Engineer\",\"Engineer\",\"Accountant\",\"Accountant\",\"Manager\",\"Analyst\",\"Engineer\",\"Engineer\",\"Analyst\",\"HR Specialist\",\"Accountant\",\"Engineer\",\"Manager\",\"Accountant\",\"Engineer\",\"Analyst\",\"Manager\",\"Manager\",\"Accountant\",\"Engineer\",\"Engineer\",\"Manager\",\"Analyst\",\"Engineer\",\"Analyst\",\"Analyst\",\"Engineer\",\"Analyst\",\"Accountant\",\"Engineer\",\"Engineer\",\"HR Specialist\",\"Engineer\",\"Manager\",\"Manager\",\"Analyst\",\"Engineer\",\"Engineer\",\"Accountant\",\"Accountant\",\"Engineer\",\"HR Specialist\",\"Analyst\",\"Manager\",\"Accountant\",\"Accountant\",\"Analyst\",\"Manager\",\"Analyst\",\"Manager\",\"Manager\",\"Manager\",\"Engineer\",\"Manager\",\"Engineer\",\"Manager\",\"HR Specialist\",\"Accountant\",\"HR Specialist\",\"Manager\",\"Engineer\",\"Analyst\",\"Engineer\",\"Manager\",\"HR Specialist\",\"Engineer\",\"HR Specialist\",\"Engineer\",\"Analyst\",\"Manager\",\"Accountant\",\"Accountant\",\"Manager\",\"Manager\",\"Engineer\",\"HR Specialist\",\"Manager\",\"HR Specialist\",\"Accountant\",\"Accountant\",\"Manager\",\"Engineer\",\"Manager\",\"Analyst\",\"HR Specialist\",\"Engineer\",\"Engineer\",\"Engineer\",\"Engineer\",\"Engineer\",\"Analyst\",\"Engineer\",\"Accountant\",\"Accountant\",\"HR Specialist\",\"Manager\",\"HR Specialist\",\"Accountant\",\"Analyst\",\"Manager\",\"Analyst\",\"Analyst\",\"Manager\",\"Accountant\",\"Engineer\",\"HR Specialist\",\"Accountant\",\"Analyst\",\"Accountant\",\"Accountant\",\"HR Specialist\",\"Accountant\",\"Analyst\",\"Engineer\",\"HR Specialist\",\"Manager\",\"Manager\",\"Accountant\",\"Accountant\",\"Accountant\",\"HR Specialist\",\"Accountant\",\"Accountant\",\"Manager\",\"Manager\",\"HR Specialist\",\"HR Specialist\",\"Engineer\",\"Accountant\",\"Engineer\",\"Manager\",\"Engineer\",\"HR Specialist\",\"Manager\",\"Manager\",\"Analyst\",\"Manager\",\"Engineer\",\"Analyst\",\"Manager\",\"Engineer\",\"Accountant\",\"HR Specialist\",\"Accountant\",\"Analyst\",\"Engineer\",\"Manager\",\"Analyst\",\"HR Specialist\",\"Engineer\",\"Engineer\",\"HR Specialist\",\"HR Specialist\",\"Accountant\",\"Manager\",\"Manager\",\"Analyst\",\"Manager\",\"Engineer\",\"Manager\",\"Manager\",\"Manager\",\"Analyst\",\"Engineer\",\"HR Specialist\",\"HR Specialist\",\"Engineer\",\"Accountant\",\"Manager\",\"Accountant\",\"Manager\",\"Accountant\",\"Engineer\",\"Analyst\",\"Analyst\",\"HR Specialist\",\"Accountant\",\"HR Specialist\",\"Manager\",\"HR Specialist\",\"Accountant\",\"Accountant\",\"Accountant\",\"Manager\",\"HR Specialist\",\"HR Specialist\",\"HR Specialist\",\"HR Specialist\",\"HR Specialist\",\"Engineer\",\"Engineer\",\"HR Specialist\",\"Accountant\",\"Analyst\",\"Analyst\",\"Engineer\",\"Manager\",\"Manager\",\"Engineer\",\"Accountant\",\"Manager\",\"Accountant\",\"HR Specialist\",\"Engineer\",\"Analyst\",\"Engineer\",\"HR Specialist\",\"Manager\",\"HR Specialist\",\"HR Specialist\",\"Accountant\",\"Accountant\",\"Analyst\",\"Manager\",\"Analyst\",\"Analyst\",\"Accountant\",\"Analyst\",\"Analyst\",\"Accountant\",\"HR Specialist\",\"HR Specialist\",\"Accountant\",\"Engineer\",\"HR Specialist\",\"Manager\",\"Accountant\",\"Engineer\",\"Analyst\",\"Analyst\",\"Accountant\",\"Analyst\",\"Accountant\",\"Manager\",\"Analyst\",\"Manager\",\"Accountant\",\"Analyst\",\"HR Specialist\",\"Accountant\",\"Manager\",\"Analyst\",\"HR Specialist\",\"Engineer\",\"Accountant\",\"Accountant\",\"Accountant\",\"Analyst\",\"Accountant\",\"HR Specialist\",\"HR Specialist\",\"Accountant\",\"Accountant\",\"Engineer\",\"Analyst\",\"Manager\",\"Accountant\",\"Manager\",\"Manager\",\"Accountant\",\"Manager\",\"HR Specialist\",\"Engineer\",\"Analyst\",\"Engineer\",\"HR Specialist\",\"Engineer\",\"Manager\",\"Manager\",\"Manager\",\"Engineer\",\"Engineer\",\"Manager\",\"HR Specialist\",\"Accountant\",\"Analyst\",\"HR Specialist\",\"Manager\",\"HR Specialist\",\"HR Specialist\",\"Engineer\",\"Accountant\",\"Accountant\",\"Analyst\",\"Engineer\",\"Accountant\",\"Accountant\",\"Analyst\",\"Analyst\",\"HR Specialist\",\"Accountant\",\"Engineer\",\"HR Specialist\",\"Manager\",\"HR Specialist\",\"Accountant\",\"Analyst\",\"Engineer\",\"Analyst\",\"Manager\",\"Manager\",\"Manager\",\"Engineer\",\"Accountant\",\"Accountant\",\"Accountant\",\"Manager\",\"Analyst\",\"Analyst\",\"HR Specialist\",\"Analyst\",\"Manager\",\"HR Specialist\",\"HR Specialist\",\"HR Specialist\",\"Analyst\",\"Accountant\",\"Engineer\",\"Accountant\",\"Analyst\",\"Accountant\",\"Analyst\",\"Manager\",\"HR Specialist\",\"Engineer\",\"Accountant\",\"Accountant\",\"Accountant\",\"HR Specialist\",\"Engineer\",\"Accountant\",\"Manager\",\"Engineer\",\"Manager\",\"Accountant\",\"Manager\",\"Accountant\",\"HR Specialist\",\"Engineer\",\"HR Specialist\",\"Analyst\",\"HR Specialist\",\"Analyst\",\"Analyst\",\"Manager\",\"HR Specialist\",\"Engineer\",\"Analyst\",\"Engineer\",\"Manager\",\"Accountant\",\"Analyst\",\"Accountant\",\"Manager\",\"HR Specialist\",\"Engineer\",\"Analyst\",\"Analyst\",\"HR Specialist\",\"Accountant\",\"Accountant\",\"Engineer\",\"Engineer\",\"Accountant\",\"Manager\",\"Analyst\",\"Analyst\",\"HR Specialist\",\"HR Specialist\",\"Manager\",\"Analyst\",\"HR Specialist\",\"HR Specialist\"],\"x0\":\" \",\"xaxis\":\"x\",\"y\":[60132,79947,46958,40662,74307,97212,97865,50113,88747,43283,82510,55665,57951,31886,40548,39979,31340,79639,50307,99568,89409,94005,63445,99093,95910,80913,59231,68979,65901,85496,91627,91703,51252,63757,84288,86371,59546,80887,52658,70977,40055,99265,33670,85764,87567,44786,69612,45124,38871,34599,61224,31506,57428,34834,56938,62841,56230,98061,34647,30269,41737,71087,50921,89560,59060,46658,82313,91589,48184,58575,80456,72928,74105,43038,50000,49824,67588,30821,99801,48520,69674,66952,97606,59532,97663,71807,90011,91398,64897,78600,74424,40798,63948,52415,38085,32082,58364,40742,84407,76806,81919,70060,99321,93226,81389,38495,70941,99476,49523,60676,73359,51013,31553,65356,99328,47802,45532,97181,35521,98429,93166,54477,40012,37543,87607,97217,52961,38532,80112,74736,35031,61668,58508,62378,73980,78603,45278,50064,92394,40991,76164,37833,90927,86897,85229,35793,57650,70990,79792,81499,81233,39563,36755,81470,40127,78348,94455,83240,54977,54598,81682,58653,53838,79759,34808,88563,83237,31256,83418,43951,63891,94226,89030,57604,63395,65494,82445,75352,78972,62533,33221,73460,42799,44626,50467,62104,33232,60624,39672,80067,46544,69385,56338,51112,40223,32762,48449,65708,55484,95558,81643,79587,83416,87098,46780,71794,30773,43764,88219,72592,85608,65583,91789,99859,60286,53324,76479,80791,83385,76642,91402,85225,54559,99113,32849,78975,77459,88083,66740,73275,50184,80830,53625,55262,30935,54878,56322,99851,75106,88135,71466,43102,61580,96349,84618,68773,39162,66915,34112,97161,91779,87771,94728,45405,64406,55075,69509,31850,47534,85996,64345,32954,64213,88666,71088,43095,61200,96615,69501,38068,30859,54641,98610,86372,92828,97244,88353,54636,73863,35833,70714,42371,70764,48165,84159,64584,46116,47944,73713,69641,75176,67394,57381,37001,93742,36843,55467,95571,32747,46185,38604,85832,56461,59075,76410,71557,85613,81026,81995,55051,46767,43261,93469,93274,52963,71482,58220,92876,46434,39049,93674,87053,34512,59522,88569,94735,58062,52300,89623,77841,89157,79253,49834,42699,66868,42015,35610,31053,90843,65174,51874,50329,60973,69286,73505,92988,91629,73737,34192,37243,78476,72188,71440,72062,77656,78975,46454,82219,49610,41420,50645,44412,50656,45102,96293,34447,70513,63571,44560,56613,38562,49301,48784,31815,46467,37004,49158,81385,75317,69252,60839,33966,72481,58506,84131,57200,69582,86091,72604,38056,89766,83069,59173,62295,32272,40220,65922,45758,37334,57260,83920,98845,34669,81252,72256,77244,58627,35798,51421,93822,73509,98405,45758,47841,35265,99071,55071,31472,52874,91705,97650,54467,63124,76234,33931,51668,80690,66229,64140,50970,60858,48447,34152,32182,83201,64659,47406,39887,52122,96167,79419,34983,41908,68137,52386,60907,67919,90686,69158,38395,43501,38228,56690,80428,35568,99206,63229,61098,63277,47899,32252,83793,45710,93376,62429,46051,98551,98112,70785,83328,44251,42122,32476,37819,93647,84642,81179,60684,78586,36342,87748,52281,31475,50116,60563,63836,70312,87579,35273,53055,63425,91437,67147,85742,68187,90525,81642,42539,97250,33311,74148,38735,43794,73721,68051,87804,83172,69512,37456,66268,66239,44727,48599,61890,85073,34633,99566,31347,44704,99991,82078,94130,72752,99584,34172,66406,66024,41439,91504,94294,89725,31435,56769,93028,43791,48251,77213,94306,93791,51349,83381,31015,64407,42945,75542,67058,53211,35667,54380,99002,53633,96208,68372,75599,54308,65562,62728,85262,68662,59461,90263,57042,38343,94611,67607,48220,46446,58523,42706,38896,92936,46249,55141,89082,92977,35813,85800,94151,97101,64691,90009,45968,32193,96568,82011,80787,47600,35529,38691,92597,51575,60435,78199,82555,71559,55788,87535,56368,67056,35721,64692,35293,51316,75657,35963,72722,37800,32960,67201,97170,82856,65864,38981,87741,81235,75531,46324,48196,82067,50262,76960,90788,55180,68415,37796,37291,52160,86198,56794,48121,40747,75386,53097,91913,58666,93766,55216,52385,53084,31326,58556,64696,75754,97670,78446,69135,35597,52845,44713,64259,96848,77108,33619,42027,98956,91590,30957,37912,42217,64197,39839,86167,44302,99586,93970,35486,50319,69506,65409,76601,55574,98703,87689,63365,39883,81628,72043,69001,37113,74360,79792,48258,34471,99672,78851,44046,47473,49134,88384,37817,65839,66024,57216,47618,61327,70487,76520,51860,59104,94861,99361,39963,30706,39629,99241,45288,36830,52248,30532,66677,42179,81516,60560,72294,89446,80763,40362,56859,66066,38104,46263,66121,85641,54831,69001,76668,65587,50096,74143,56843,93351,77976,60095,86012,71174,42585,54532,56872,60146,42438,32573,87104,58453,72136,85195,93571,96110,38584,68549,91069,86923,56124,88048,37574,57209,83180,84814,63416,62614,80189,58015,68402,42938,43063,67793,60017,56633,97497,80647,36566,53466,74675,33757,51376,30394,51522,80031,59666,69170,53799,79181,49292,96750,39132,66661,38406,63301,39619,75992,68411,59859,51776,69246,37525,70411,88770,75826,73092,43496,41009,73232,90300,30194,92026,41972,64574,83462,56022,96098,85546,84317,43922,94820,98646,41035,50803,81927,96499,80233,76158,97965,88567,79354,70579,80344,48580,31035,60002,48501,30335,74975,56303,67747,58783,30099,50875,94871,54704,89084,50516,62501,95026,87852,82478,48533,83804,49259,81226,76223,88625,85150,75319,43997,48786,34457,68525,55540,81006,59352,42453,37246,98348,49977,93085,55399,43525,31816,64524,99501,52063,45784,92350,87016,56757,95104,52164,68280,35209,75131,74810,65682,65730,48299,80805,48126,45592,60283,80586,70805,63040,55096,88532,49746,32574,84212,86674,61487,30359,42829,85323,39711,57770,94407,67074,62861,62320,70299,72993,31774,58386,88638,55651,74369,69749,76417,96779,49699,57893,37520,92364,77127,60355,30262,88814,77259,87516,69919,99423,81306,57712,86404,69350,86611,94636,63884,84994,55417,66339,90845,44648,95332,83449,45156,32741,57973,85023,87163,66440,33042,67199,65798,33648,51468,64526,90433,46499,95529,53608,68459,35430,57886,30382,34234,57795,82983,39382,47576,48379,67033,86929,90878,79455,95330,92100,34442,78569,81636,76669,59042,39553,53320,33077,59110,32770,93794,96585,85864,68139,39036,32327,65638,78726,79044,47301,31507,71403,30181,64143,74383,73220],\"y0\":\" \",\"yaxis\":\"y\",\"type\":\"box\"}],                        {\"template\":{\"data\":{\"histogram2dcontour\":[{\"type\":\"histogram2dcontour\",\"colorbar\":{\"outlinewidth\":0,\"ticks\":\"\"},\"colorscale\":[[0.0,\"#0d0887\"],[0.1111111111111111,\"#46039f\"],[0.2222222222222222,\"#7201a8\"],[0.3333333333333333,\"#9c179e\"],[0.4444444444444444,\"#bd3786\"],[0.5555555555555556,\"#d8576b\"],[0.6666666666666666,\"#ed7953\"],[0.7777777777777778,\"#fb9f3a\"],[0.8888888888888888,\"#fdca26\"],[1.0,\"#f0f921\"]]}],\"choropleth\":[{\"type\":\"choropleth\",\"colorbar\":{\"outlinewidth\":0,\"ticks\":\"\"}}],\"histogram2d\":[{\"type\":\"histogram2d\",\"colorbar\":{\"outlinewidth\":0,\"ticks\":\"\"},\"colorscale\":[[0.0,\"#0d0887\"],[0.1111111111111111,\"#46039f\"],[0.2222222222222222,\"#7201a8\"],[0.3333333333333333,\"#9c179e\"],[0.4444444444444444,\"#bd3786\"],[0.5555555555555556,\"#d8576b\"],[0.6666666666666666,\"#ed7953\"],[0.7777777777777778,\"#fb9f3a\"],[0.8888888888888888,\"#fdca26\"],[1.0,\"#f0f921\"]]}],\"heatmap\":[{\"type\":\"heatmap\",\"colorbar\":{\"outlinewidth\":0,\"ticks\":\"\"},\"colorscale\":[[0.0,\"#0d0887\"],[0.1111111111111111,\"#46039f\"],[0.2222222222222222,\"#7201a8\"],[0.3333333333333333,\"#9c179e\"],[0.4444444444444444,\"#bd3786\"],[0.5555555555555556,\"#d8576b\"],[0.6666666666666666,\"#ed7953\"],[0.7777777777777778,\"#fb9f3a\"],[0.8888888888888888,\"#fdca26\"],[1.0,\"#f0f921\"]]}],\"heatmapgl\":[{\"type\":\"heatmapgl\",\"colorbar\":{\"outlinewidth\":0,\"ticks\":\"\"},\"colorscale\":[[0.0,\"#0d0887\"],[0.1111111111111111,\"#46039f\"],[0.2222222222222222,\"#7201a8\"],[0.3333333333333333,\"#9c179e\"],[0.4444444444444444,\"#bd3786\"],[0.5555555555555556,\"#d8576b\"],[0.6666666666666666,\"#ed7953\"],[0.7777777777777778,\"#fb9f3a\"],[0.8888888888888888,\"#fdca26\"],[1.0,\"#f0f921\"]]}],\"contourcarpet\":[{\"type\":\"contourcarpet\",\"colorbar\":{\"outlinewidth\":0,\"ticks\":\"\"}}],\"contour\":[{\"type\":\"contour\",\"colorbar\":{\"outlinewidth\":0,\"ticks\":\"\"},\"colorscale\":[[0.0,\"#0d0887\"],[0.1111111111111111,\"#46039f\"],[0.2222222222222222,\"#7201a8\"],[0.3333333333333333,\"#9c179e\"],[0.4444444444444444,\"#bd3786\"],[0.5555555555555556,\"#d8576b\"],[0.6666666666666666,\"#ed7953\"],[0.7777777777777778,\"#fb9f3a\"],[0.8888888888888888,\"#fdca26\"],[1.0,\"#f0f921\"]]}],\"surface\":[{\"type\":\"surface\",\"colorbar\":{\"outlinewidth\":0,\"ticks\":\"\"},\"colorscale\":[[0.0,\"#0d0887\"],[0.1111111111111111,\"#46039f\"],[0.2222222222222222,\"#7201a8\"],[0.3333333333333333,\"#9c179e\"],[0.4444444444444444,\"#bd3786\"],[0.5555555555555556,\"#d8576b\"],[0.6666666666666666,\"#ed7953\"],[0.7777777777777778,\"#fb9f3a\"],[0.8888888888888888,\"#fdca26\"],[1.0,\"#f0f921\"]]}],\"mesh3d\":[{\"type\":\"mesh3d\",\"colorbar\":{\"outlinewidth\":0,\"ticks\":\"\"}}],\"scatter\":[{\"fillpattern\":{\"fillmode\":\"overlay\",\"size\":10,\"solidity\":0.2},\"type\":\"scatter\"}],\"parcoords\":[{\"type\":\"parcoords\",\"line\":{\"colorbar\":{\"outlinewidth\":0,\"ticks\":\"\"}}}],\"scatterpolargl\":[{\"type\":\"scatterpolargl\",\"marker\":{\"colorbar\":{\"outlinewidth\":0,\"ticks\":\"\"}}}],\"bar\":[{\"error_x\":{\"color\":\"#2a3f5f\"},\"error_y\":{\"color\":\"#2a3f5f\"},\"marker\":{\"line\":{\"color\":\"#E5ECF6\",\"width\":0.5},\"pattern\":{\"fillmode\":\"overlay\",\"size\":10,\"solidity\":0.2}},\"type\":\"bar\"}],\"scattergeo\":[{\"type\":\"scattergeo\",\"marker\":{\"colorbar\":{\"outlinewidth\":0,\"ticks\":\"\"}}}],\"scatterpolar\":[{\"type\":\"scatterpolar\",\"marker\":{\"colorbar\":{\"outlinewidth\":0,\"ticks\":\"\"}}}],\"histogram\":[{\"marker\":{\"pattern\":{\"fillmode\":\"overlay\",\"size\":10,\"solidity\":0.2}},\"type\":\"histogram\"}],\"scattergl\":[{\"type\":\"scattergl\",\"marker\":{\"colorbar\":{\"outlinewidth\":0,\"ticks\":\"\"}}}],\"scatter3d\":[{\"type\":\"scatter3d\",\"line\":{\"colorbar\":{\"outlinewidth\":0,\"ticks\":\"\"}},\"marker\":{\"colorbar\":{\"outlinewidth\":0,\"ticks\":\"\"}}}],\"scattermapbox\":[{\"type\":\"scattermapbox\",\"marker\":{\"colorbar\":{\"outlinewidth\":0,\"ticks\":\"\"}}}],\"scatterternary\":[{\"type\":\"scatterternary\",\"marker\":{\"colorbar\":{\"outlinewidth\":0,\"ticks\":\"\"}}}],\"scattercarpet\":[{\"type\":\"scattercarpet\",\"marker\":{\"colorbar\":{\"outlinewidth\":0,\"ticks\":\"\"}}}],\"carpet\":[{\"aaxis\":{\"endlinecolor\":\"#2a3f5f\",\"gridcolor\":\"white\",\"linecolor\":\"white\",\"minorgridcolor\":\"white\",\"startlinecolor\":\"#2a3f5f\"},\"baxis\":{\"endlinecolor\":\"#2a3f5f\",\"gridcolor\":\"white\",\"linecolor\":\"white\",\"minorgridcolor\":\"white\",\"startlinecolor\":\"#2a3f5f\"},\"type\":\"carpet\"}],\"table\":[{\"cells\":{\"fill\":{\"color\":\"#EBF0F8\"},\"line\":{\"color\":\"white\"}},\"header\":{\"fill\":{\"color\":\"#C8D4E3\"},\"line\":{\"color\":\"white\"}},\"type\":\"table\"}],\"barpolar\":[{\"marker\":{\"line\":{\"color\":\"#E5ECF6\",\"width\":0.5},\"pattern\":{\"fillmode\":\"overlay\",\"size\":10,\"solidity\":0.2}},\"type\":\"barpolar\"}],\"pie\":[{\"automargin\":true,\"type\":\"pie\"}]},\"layout\":{\"autotypenumbers\":\"strict\",\"colorway\":[\"#636efa\",\"#EF553B\",\"#00cc96\",\"#ab63fa\",\"#FFA15A\",\"#19d3f3\",\"#FF6692\",\"#B6E880\",\"#FF97FF\",\"#FECB52\"],\"font\":{\"color\":\"#2a3f5f\"},\"hovermode\":\"closest\",\"hoverlabel\":{\"align\":\"left\"},\"paper_bgcolor\":\"white\",\"plot_bgcolor\":\"#E5ECF6\",\"polar\":{\"bgcolor\":\"#E5ECF6\",\"angularaxis\":{\"gridcolor\":\"white\",\"linecolor\":\"white\",\"ticks\":\"\"},\"radialaxis\":{\"gridcolor\":\"white\",\"linecolor\":\"white\",\"ticks\":\"\"}},\"ternary\":{\"bgcolor\":\"#E5ECF6\",\"aaxis\":{\"gridcolor\":\"white\",\"linecolor\":\"white\",\"ticks\":\"\"},\"baxis\":{\"gridcolor\":\"white\",\"linecolor\":\"white\",\"ticks\":\"\"},\"caxis\":{\"gridcolor\":\"white\",\"linecolor\":\"white\",\"ticks\":\"\"}},\"coloraxis\":{\"colorbar\":{\"outlinewidth\":0,\"ticks\":\"\"}},\"colorscale\":{\"sequential\":[[0.0,\"#0d0887\"],[0.1111111111111111,\"#46039f\"],[0.2222222222222222,\"#7201a8\"],[0.3333333333333333,\"#9c179e\"],[0.4444444444444444,\"#bd3786\"],[0.5555555555555556,\"#d8576b\"],[0.6666666666666666,\"#ed7953\"],[0.7777777777777778,\"#fb9f3a\"],[0.8888888888888888,\"#fdca26\"],[1.0,\"#f0f921\"]],\"sequentialminus\":[[0.0,\"#0d0887\"],[0.1111111111111111,\"#46039f\"],[0.2222222222222222,\"#7201a8\"],[0.3333333333333333,\"#9c179e\"],[0.4444444444444444,\"#bd3786\"],[0.5555555555555556,\"#d8576b\"],[0.6666666666666666,\"#ed7953\"],[0.7777777777777778,\"#fb9f3a\"],[0.8888888888888888,\"#fdca26\"],[1.0,\"#f0f921\"]],\"diverging\":[[0,\"#8e0152\"],[0.1,\"#c51b7d\"],[0.2,\"#de77ae\"],[0.3,\"#f1b6da\"],[0.4,\"#fde0ef\"],[0.5,\"#f7f7f7\"],[0.6,\"#e6f5d0\"],[0.7,\"#b8e186\"],[0.8,\"#7fbc41\"],[0.9,\"#4d9221\"],[1,\"#276419\"]]},\"xaxis\":{\"gridcolor\":\"white\",\"linecolor\":\"white\",\"ticks\":\"\",\"title\":{\"standoff\":15},\"zerolinecolor\":\"white\",\"automargin\":true,\"zerolinewidth\":2},\"yaxis\":{\"gridcolor\":\"white\",\"linecolor\":\"white\",\"ticks\":\"\",\"title\":{\"standoff\":15},\"zerolinecolor\":\"white\",\"automargin\":true,\"zerolinewidth\":2},\"scene\":{\"xaxis\":{\"backgroundcolor\":\"#E5ECF6\",\"gridcolor\":\"white\",\"linecolor\":\"white\",\"showbackground\":true,\"ticks\":\"\",\"zerolinecolor\":\"white\",\"gridwidth\":2},\"yaxis\":{\"backgroundcolor\":\"#E5ECF6\",\"gridcolor\":\"white\",\"linecolor\":\"white\",\"showbackground\":true,\"ticks\":\"\",\"zerolinecolor\":\"white\",\"gridwidth\":2},\"zaxis\":{\"backgroundcolor\":\"#E5ECF6\",\"gridcolor\":\"white\",\"linecolor\":\"white\",\"showbackground\":true,\"ticks\":\"\",\"zerolinecolor\":\"white\",\"gridwidth\":2}},\"shapedefaults\":{\"line\":{\"color\":\"#2a3f5f\"}},\"annotationdefaults\":{\"arrowcolor\":\"#2a3f5f\",\"arrowhead\":0,\"arrowwidth\":1},\"geo\":{\"bgcolor\":\"white\",\"landcolor\":\"#E5ECF6\",\"subunitcolor\":\"white\",\"showland\":true,\"showlakes\":true,\"lakecolor\":\"white\"},\"title\":{\"x\":0.05},\"mapbox\":{\"style\":\"light\"}}},\"xaxis\":{\"anchor\":\"y\",\"domain\":[0.0,1.0],\"title\":{\"text\":\"Job_Title\"}},\"yaxis\":{\"anchor\":\"x\",\"domain\":[0.0,1.0],\"title\":{\"text\":\"Salary\"}},\"legend\":{\"tracegroupgap\":0},\"title\":{\"text\":\"Salary Distribution by Job_Title\"},\"boxmode\":\"group\"},                        {\"responsive\": true}                    ).then(function(){\n",
       "                            \n",
       "var gd = document.getElementById('b7d847dc-2d49-4a9f-9d15-62179d0de638');\n",
       "var x = new MutationObserver(function (mutations, observer) {{\n",
       "        var display = window.getComputedStyle(gd).display;\n",
       "        if (!display || display === 'none') {{\n",
       "            console.log([gd, 'removed!']);\n",
       "            Plotly.purge(gd);\n",
       "            observer.disconnect();\n",
       "        }}\n",
       "}});\n",
       "\n",
       "// Listen for the removal of the full notebook cells\n",
       "var notebookContainer = gd.closest('#notebook-container');\n",
       "if (notebookContainer) {{\n",
       "    x.observe(notebookContainer, {childList: true});\n",
       "}}\n",
       "\n",
       "// Listen for the clearing of the current output cell\n",
       "var outputEl = gd.closest('.output');\n",
       "if (outputEl) {{\n",
       "    x.observe(outputEl, {childList: true});\n",
       "}}\n",
       "\n",
       "                        })                };                });            </script>        </div>"
      ]
     },
     "metadata": {},
     "output_type": "display_data"
    }
   ],
   "source": [
    "#Salary distribution by job_title\n",
    "fig4=px.box(emp_attrition,x='Job_Title', y='Salary', title='Salary Distribution by Job_Title')\n",
    "fig4.update_traces(marker_color='#8D97FC')\n",
    "fig4.show()"
   ]
  },
  {
   "cell_type": "markdown",
   "id": "b89696e9-dc3d-4bde-9b34-efeb5ea5bd07",
   "metadata": {},
   "source": [
    "All have similar min and max salary"
   ]
  },
  {
   "cell_type": "code",
   "execution_count": 247,
   "id": "abe0af7d-5fb8-4525-a1ab-d16df5e0dfa9",
   "metadata": {},
   "outputs": [
    {
     "data": {
      "application/vnd.plotly.v1+json": {
       "config": {
        "plotlyServerURL": "https://plot.ly"
       },
       "data": [
        {
         "alignmentgroup": "True",
         "bingroup": "x",
         "hovertemplate": "Attrition Status=0<br>Job Title=%{x}<br>count=%{y}<extra></extra>",
         "legendgroup": "0",
         "marker": {
          "color": "#636efa",
          "pattern": {
           "shape": ""
          }
         },
         "name": "0",
         "offsetgroup": "0",
         "orientation": "v",
         "showlegend": true,
         "type": "histogram",
         "x": [
          "Manager",
          "Engineer",
          "Manager",
          "Engineer",
          "HR Specialist",
          "HR Specialist",
          "Analyst",
          "Engineer",
          "Accountant",
          "Accountant",
          "Accountant",
          "Manager",
          "HR Specialist",
          "HR Specialist",
          "Manager",
          "Analyst",
          "HR Specialist",
          "Accountant",
          "HR Specialist",
          "HR Specialist",
          "Analyst",
          "Accountant",
          "Accountant",
          "Analyst",
          "HR Specialist",
          "Accountant",
          "Manager",
          "Accountant",
          "HR Specialist",
          "HR Specialist",
          "Accountant",
          "Engineer",
          "Accountant",
          "Engineer",
          "Accountant",
          "Analyst",
          "Analyst",
          "HR Specialist",
          "Engineer",
          "Engineer",
          "Analyst",
          "Analyst",
          "Accountant",
          "Engineer",
          "Engineer",
          "Analyst",
          "Analyst",
          "Analyst",
          "Engineer",
          "Engineer",
          "Engineer",
          "Analyst",
          "Analyst",
          "Accountant",
          "Engineer",
          "Manager",
          "Engineer",
          "Manager",
          "Analyst",
          "Engineer",
          "Accountant",
          "Accountant",
          "Engineer",
          "Accountant",
          "Engineer",
          "HR Specialist",
          "Analyst",
          "HR Specialist",
          "Manager",
          "Engineer",
          "Engineer",
          "HR Specialist",
          "HR Specialist",
          "Analyst",
          "Analyst",
          "Analyst",
          "HR Specialist",
          "Accountant",
          "Manager",
          "Manager",
          "Manager",
          "Analyst",
          "Engineer",
          "Engineer",
          "Engineer",
          "Engineer",
          "Manager",
          "Engineer",
          "Accountant",
          "Engineer",
          "Engineer",
          "Manager",
          "Analyst",
          "Analyst",
          "HR Specialist",
          "HR Specialist",
          "Manager",
          "HR Specialist",
          "Manager",
          "Manager",
          "HR Specialist",
          "Engineer",
          "HR Specialist",
          "Engineer",
          "HR Specialist",
          "Engineer",
          "HR Specialist",
          "Engineer",
          "Analyst",
          "Engineer",
          "Analyst",
          "Analyst",
          "Manager",
          "Engineer",
          "Accountant",
          "Analyst",
          "Manager",
          "Accountant",
          "Analyst",
          "Engineer",
          "Engineer",
          "HR Specialist",
          "HR Specialist",
          "Manager",
          "Manager",
          "Manager",
          "HR Specialist",
          "Engineer",
          "Accountant",
          "Engineer",
          "HR Specialist",
          "Analyst",
          "Analyst",
          "Manager",
          "Engineer",
          "Analyst",
          "Manager",
          "Engineer",
          "Analyst",
          "Engineer",
          "Engineer",
          "Manager",
          "Engineer",
          "Manager",
          "Engineer",
          "Manager",
          "Engineer",
          "HR Specialist",
          "Engineer",
          "Engineer",
          "Engineer",
          "Accountant",
          "Engineer",
          "Accountant",
          "Manager",
          "Analyst",
          "Manager",
          "HR Specialist",
          "Accountant",
          "Accountant",
          "Analyst",
          "Accountant",
          "Engineer",
          "Manager",
          "Manager",
          "Manager",
          "Manager",
          "Manager",
          "HR Specialist",
          "Engineer",
          "Accountant",
          "Accountant",
          "Accountant",
          "HR Specialist",
          "Analyst",
          "Manager",
          "Manager",
          "Manager",
          "Manager",
          "Accountant",
          "Accountant",
          "Manager",
          "Analyst",
          "Analyst",
          "Manager",
          "Accountant",
          "Accountant",
          "HR Specialist",
          "Engineer",
          "Accountant",
          "HR Specialist",
          "HR Specialist",
          "Manager",
          "Analyst",
          "Engineer",
          "Analyst",
          "Engineer",
          "HR Specialist",
          "Accountant",
          "Manager",
          "Engineer",
          "Analyst",
          "Manager",
          "Accountant",
          "Accountant",
          "Engineer",
          "Analyst",
          "Manager",
          "Accountant",
          "Manager",
          "Engineer",
          "Manager",
          "Accountant",
          "Manager",
          "Accountant",
          "Analyst",
          "Analyst",
          "Engineer",
          "Accountant",
          "HR Specialist",
          "Analyst",
          "Accountant",
          "Manager",
          "Analyst",
          "Manager",
          "Engineer",
          "HR Specialist",
          "Analyst",
          "Accountant",
          "Analyst",
          "Analyst",
          "Accountant",
          "Manager",
          "Accountant",
          "Manager",
          "Engineer",
          "Manager",
          "Manager",
          "Accountant",
          "Engineer",
          "Manager",
          "Analyst",
          "HR Specialist",
          "Engineer",
          "Analyst",
          "Analyst",
          "Engineer",
          "Analyst",
          "Engineer",
          "Analyst",
          "Analyst",
          "Accountant",
          "Accountant",
          "Engineer",
          "Manager",
          "Analyst",
          "Manager",
          "HR Specialist",
          "HR Specialist",
          "Analyst",
          "HR Specialist",
          "HR Specialist",
          "HR Specialist",
          "Manager",
          "Analyst",
          "Analyst",
          "Engineer",
          "Analyst",
          "Analyst",
          "Accountant",
          "Analyst",
          "Accountant",
          "Accountant",
          "Manager",
          "Manager",
          "Engineer",
          "Accountant",
          "HR Specialist",
          "Manager",
          "Analyst",
          "Engineer",
          "HR Specialist",
          "Accountant",
          "Engineer",
          "Engineer",
          "HR Specialist",
          "Analyst",
          "Engineer",
          "Analyst",
          "Accountant",
          "Analyst",
          "Engineer",
          "Analyst",
          "Engineer",
          "HR Specialist",
          "Accountant",
          "Manager",
          "Accountant",
          "HR Specialist",
          "HR Specialist",
          "Engineer",
          "Manager",
          "Engineer",
          "Manager",
          "Analyst",
          "Accountant",
          "Engineer",
          "Manager",
          "Engineer",
          "Engineer",
          "Engineer",
          "Accountant",
          "Accountant",
          "Manager",
          "Engineer",
          "Manager",
          "Analyst",
          "Manager",
          "Analyst",
          "Analyst",
          "Analyst",
          "Engineer",
          "Accountant",
          "Engineer",
          "Engineer",
          "Manager",
          "Analyst",
          "Engineer",
          "Engineer",
          "Accountant",
          "Engineer",
          "HR Specialist",
          "Analyst",
          "Manager",
          "Manager",
          "Manager",
          "Manager",
          "HR Specialist",
          "HR Specialist",
          "Manager",
          "Engineer",
          "Engineer",
          "HR Specialist",
          "Analyst",
          "Accountant",
          "Engineer",
          "HR Specialist",
          "Manager",
          "HR Specialist",
          "Accountant",
          "Accountant",
          "Engineer",
          "HR Specialist",
          "Engineer",
          "Engineer",
          "Engineer",
          "Engineer",
          "Analyst",
          "Engineer",
          "HR Specialist",
          "Accountant",
          "Analyst",
          "Manager",
          "Analyst",
          "Manager",
          "Accountant",
          "Engineer",
          "HR Specialist",
          "Analyst",
          "Accountant",
          "HR Specialist",
          "Analyst",
          "Engineer",
          "HR Specialist",
          "Manager",
          "Accountant",
          "Accountant",
          "HR Specialist",
          "Accountant",
          "Manager",
          "Manager",
          "HR Specialist",
          "Accountant",
          "Engineer",
          "Manager",
          "Manager",
          "Analyst",
          "Manager",
          "Manager",
          "Accountant",
          "Manager",
          "HR Specialist",
          "HR Specialist",
          "Accountant",
          "Manager",
          "Analyst",
          "Manager",
          "Manager",
          "Analyst",
          "HR Specialist",
          "HR Specialist",
          "Engineer",
          "Accountant",
          "Manager",
          "Accountant",
          "Analyst",
          "Analyst",
          "Accountant",
          "Manager",
          "HR Specialist",
          "Accountant",
          "Accountant",
          "Accountant",
          "HR Specialist",
          "HR Specialist",
          "Engineer",
          "Engineer",
          "Analyst",
          "Manager",
          "Engineer",
          "Accountant",
          "Engineer",
          "Analyst",
          "HR Specialist",
          "Manager",
          "Analyst",
          "Accountant",
          "HR Specialist",
          "Accountant",
          "Engineer",
          "Analyst",
          "Analyst",
          "Accountant",
          "Accountant",
          "Manager",
          "Accountant",
          "Analyst",
          "Accountant",
          "HR Specialist",
          "Engineer",
          "Accountant",
          "Accountant",
          "Accountant",
          "HR Specialist",
          "Accountant",
          "Manager",
          "Accountant",
          "Manager",
          "Manager",
          "Engineer",
          "Manager",
          "Manager",
          "HR Specialist",
          "HR Specialist",
          "Manager",
          "HR Specialist",
          "Accountant",
          "Accountant",
          "Analyst",
          "HR Specialist",
          "Engineer",
          "HR Specialist",
          "HR Specialist",
          "Analyst",
          "Engineer",
          "Analyst",
          "Engineer",
          "Accountant",
          "Accountant",
          "Accountant",
          "Manager",
          "Analyst",
          "Analyst",
          "HR Specialist",
          "Analyst",
          "HR Specialist",
          "HR Specialist",
          "Analyst",
          "Accountant",
          "Analyst",
          "Accountant",
          "Analyst",
          "Manager",
          "HR Specialist",
          "Accountant",
          "Engineer",
          "Accountant",
          "Manager",
          "Engineer",
          "Manager",
          "HR Specialist",
          "Analyst",
          "Analyst",
          "HR Specialist",
          "Engineer",
          "Engineer",
          "Manager",
          "Accountant",
          "Engineer",
          "Analyst",
          "Engineer",
          "Analyst",
          "HR Specialist",
          "HR Specialist",
          "Analyst"
         ],
         "xaxis": "x",
         "yaxis": "y"
        },
        {
         "alignmentgroup": "True",
         "bingroup": "x",
         "hovertemplate": "Attrition Status=1<br>Job Title=%{x}<br>count=%{y}<extra></extra>",
         "legendgroup": "1",
         "marker": {
          "color": "#EF553B",
          "pattern": {
           "shape": ""
          }
         },
         "name": "1",
         "offsetgroup": "1",
         "orientation": "v",
         "showlegend": true,
         "type": "histogram",
         "x": [
          "Analyst",
          "Accountant",
          "HR Specialist",
          "Engineer",
          "Analyst",
          "Manager",
          "Accountant",
          "Manager",
          "Manager",
          "Analyst",
          "Engineer",
          "Analyst",
          "Analyst",
          "Analyst",
          "Accountant",
          "Accountant",
          "HR Specialist",
          "HR Specialist",
          "HR Specialist",
          "Engineer",
          "Accountant",
          "HR Specialist",
          "HR Specialist",
          "Manager",
          "Accountant",
          "Accountant",
          "Engineer",
          "Analyst",
          "HR Specialist",
          "Accountant",
          "Accountant",
          "Analyst",
          "Analyst",
          "Manager",
          "Manager",
          "Manager",
          "Analyst",
          "Manager",
          "Analyst",
          "Accountant",
          "Engineer",
          "HR Specialist",
          "HR Specialist",
          "Analyst",
          "Manager",
          "Analyst",
          "Engineer",
          "Engineer",
          "Engineer",
          "Engineer",
          "Analyst",
          "HR Specialist",
          "Analyst",
          "Engineer",
          "HR Specialist",
          "Engineer",
          "HR Specialist",
          "Manager",
          "Manager",
          "Analyst",
          "HR Specialist",
          "Manager",
          "Engineer",
          "Analyst",
          "HR Specialist",
          "Engineer",
          "Analyst",
          "Accountant",
          "Manager",
          "Engineer",
          "Manager",
          "HR Specialist",
          "Engineer",
          "HR Specialist",
          "Manager",
          "Manager",
          "Analyst",
          "Accountant",
          "Accountant",
          "HR Specialist",
          "Engineer",
          "Accountant",
          "HR Specialist",
          "HR Specialist",
          "Manager",
          "Accountant",
          "Engineer",
          "Analyst",
          "Accountant",
          "Accountant",
          "Manager",
          "Manager",
          "Analyst",
          "Manager",
          "Engineer",
          "Analyst",
          "HR Specialist",
          "Manager",
          "Accountant",
          "HR Specialist",
          "Engineer",
          "HR Specialist",
          "Engineer",
          "Manager",
          "Analyst",
          "Accountant",
          "Manager",
          "Accountant",
          "Analyst",
          "Accountant",
          "Engineer",
          "Engineer",
          "Accountant",
          "Engineer",
          "Engineer",
          "Manager",
          "HR Specialist",
          "Analyst",
          "Analyst",
          "Manager",
          "Analyst",
          "Analyst",
          "Accountant",
          "HR Specialist",
          "Manager",
          "Manager",
          "HR Specialist",
          "Manager",
          "Accountant",
          "Analyst",
          "Manager",
          "Analyst",
          "Engineer",
          "Engineer",
          "HR Specialist",
          "Manager",
          "Accountant",
          "Engineer",
          "Engineer",
          "Analyst",
          "HR Specialist",
          "Engineer",
          "Engineer",
          "Accountant",
          "HR Specialist",
          "HR Specialist",
          "Accountant",
          "Accountant",
          "Manager",
          "HR Specialist",
          "Analyst",
          "HR Specialist",
          "Engineer",
          "HR Specialist",
          "HR Specialist",
          "HR Specialist",
          "Accountant",
          "HR Specialist",
          "Accountant",
          "Engineer",
          "Analyst",
          "Engineer",
          "HR Specialist",
          "Manager",
          "Accountant",
          "Manager",
          "Manager",
          "Manager",
          "Accountant",
          "Analyst",
          "Manager",
          "Manager",
          "Accountant",
          "Accountant",
          "Accountant",
          "Engineer",
          "Analyst",
          "Engineer",
          "HR Specialist",
          "Engineer",
          "Engineer",
          "Engineer",
          "HR Specialist",
          "Accountant",
          "Engineer",
          "Manager",
          "Engineer",
          "Engineer",
          "Accountant",
          "Engineer",
          "Manager",
          "Analyst",
          "HR Specialist",
          "Accountant",
          "HR Specialist",
          "Accountant",
          "Engineer",
          "Analyst",
          "Accountant",
          "Manager",
          "Analyst",
          "Analyst",
          "Engineer",
          "Manager",
          "Engineer",
          "Analyst",
          "Manager",
          "HR Specialist",
          "Engineer",
          "HR Specialist",
          "Manager",
          "Manager",
          "HR Specialist",
          "Accountant",
          "Manager",
          "Analyst",
          "Accountant",
          "Analyst",
          "Engineer",
          "Accountant",
          "Manager",
          "Accountant",
          "Analyst",
          "Analyst",
          "Accountant",
          "Accountant",
          "Manager",
          "HR Specialist",
          "Manager",
          "Engineer",
          "HR Specialist",
          "Analyst",
          "Manager",
          "Accountant",
          "Accountant",
          "Engineer",
          "Manager",
          "Accountant",
          "Engineer",
          "HR Specialist",
          "Engineer",
          "Engineer",
          "Analyst",
          "Engineer",
          "Accountant",
          "Analyst",
          "Analyst",
          "Accountant",
          "Manager",
          "Accountant",
          "Accountant",
          "HR Specialist",
          "Analyst",
          "Manager",
          "HR Specialist",
          "Accountant",
          "Analyst",
          "Engineer",
          "HR Specialist",
          "Accountant",
          "Analyst",
          "Manager",
          "Manager",
          "Engineer",
          "Analyst",
          "HR Specialist",
          "Engineer",
          "Analyst",
          "Analyst",
          "Analyst",
          "HR Specialist",
          "Manager",
          "Engineer",
          "Manager",
          "Analyst",
          "Accountant",
          "Engineer",
          "Manager",
          "Accountant",
          "Manager",
          "Manager",
          "Manager",
          "Analyst",
          "Engineer",
          "Accountant",
          "Manager",
          "HR Specialist",
          "Manager",
          "Accountant",
          "Analyst",
          "Accountant",
          "HR Specialist",
          "HR Specialist",
          "HR Specialist",
          "Accountant",
          "Engineer",
          "Engineer",
          "Analyst",
          "Engineer",
          "Engineer",
          "Engineer",
          "HR Specialist",
          "Analyst",
          "Analyst",
          "Analyst",
          "Manager",
          "HR Specialist",
          "HR Specialist",
          "Accountant",
          "Manager",
          "Accountant",
          "HR Specialist",
          "Analyst",
          "Accountant",
          "Accountant",
          "Manager",
          "HR Specialist",
          "Engineer",
          "Analyst",
          "Engineer",
          "Analyst",
          "HR Specialist",
          "Accountant",
          "Engineer",
          "Accountant",
          "Engineer",
          "Manager",
          "Manager",
          "Accountant",
          "Engineer",
          "Engineer",
          "Engineer",
          "Analyst",
          "HR Specialist",
          "Engineer",
          "Manager",
          "Accountant",
          "Accountant",
          "Accountant",
          "Analyst",
          "Manager",
          "Analyst",
          "Manager",
          "Manager",
          "Engineer",
          "Engineer",
          "Accountant",
          "Engineer",
          "Analyst",
          "Manager",
          "HR Specialist",
          "Engineer",
          "Manager",
          "Accountant",
          "Manager",
          "Manager",
          "Manager",
          "Manager",
          "Analyst",
          "Engineer",
          "Accountant",
          "Accountant",
          "Manager",
          "HR Specialist",
          "Analyst",
          "Accountant",
          "Accountant",
          "Accountant",
          "Manager",
          "Accountant",
          "Accountant",
          "HR Specialist",
          "Engineer",
          "Engineer",
          "Manager",
          "HR Specialist",
          "Engineer",
          "Analyst",
          "Engineer",
          "Accountant",
          "HR Specialist",
          "Analyst",
          "Engineer",
          "Analyst",
          "HR Specialist",
          "Engineer",
          "Engineer",
          "Manager",
          "Engineer",
          "Manager",
          "Manager",
          "Engineer",
          "Accountant",
          "Manager",
          "Engineer",
          "HR Specialist",
          "HR Specialist",
          "Manager",
          "HR Specialist",
          "HR Specialist",
          "HR Specialist",
          "HR Specialist",
          "Accountant",
          "Analyst",
          "Engineer",
          "Manager",
          "Manager",
          "Accountant",
          "HR Specialist",
          "Engineer",
          "Manager",
          "HR Specialist",
          "HR Specialist",
          "Accountant",
          "Accountant",
          "Analyst",
          "Analyst",
          "Analyst",
          "Accountant",
          "Analyst",
          "HR Specialist",
          "Engineer",
          "HR Specialist",
          "Manager",
          "Accountant",
          "Analyst",
          "Manager",
          "Analyst",
          "HR Specialist",
          "Manager",
          "Analyst",
          "Accountant",
          "Analyst",
          "HR Specialist",
          "Accountant",
          "Engineer",
          "Analyst",
          "Manager",
          "Accountant",
          "HR Specialist",
          "Analyst",
          "Engineer",
          "HR Specialist",
          "Engineer",
          "Manager",
          "Engineer",
          "Engineer",
          "Manager",
          "Accountant",
          "Analyst",
          "HR Specialist",
          "Engineer",
          "Analyst",
          "Engineer",
          "Accountant",
          "Accountant",
          "Analyst",
          "Accountant",
          "Manager",
          "Accountant",
          "Manager",
          "Manager",
          "Manager",
          "Manager",
          "HR Specialist",
          "Engineer",
          "Accountant",
          "Engineer",
          "Accountant",
          "Accountant",
          "HR Specialist",
          "Manager",
          "Accountant",
          "Accountant",
          "HR Specialist",
          "Engineer",
          "HR Specialist",
          "Analyst",
          "Manager",
          "Analyst",
          "Analyst",
          "Accountant",
          "Manager",
          "HR Specialist",
          "Analyst",
          "HR Specialist",
          "Accountant",
          "Accountant",
          "Engineer",
          "Accountant",
          "Manager",
          "Analyst",
          "Manager",
          "HR Specialist",
          "HR Specialist"
         ],
         "xaxis": "x",
         "yaxis": "y"
        }
       ],
       "layout": {
        "autosize": true,
        "barmode": "group",
        "legend": {
         "title": {
          "text": "Attrition Status"
         },
         "tracegroupgap": 0
        },
        "template": {
         "data": {
          "bar": [
           {
            "error_x": {
             "color": "#2a3f5f"
            },
            "error_y": {
             "color": "#2a3f5f"
            },
            "marker": {
             "line": {
              "color": "#E5ECF6",
              "width": 0.5
             },
             "pattern": {
              "fillmode": "overlay",
              "size": 10,
              "solidity": 0.2
             }
            },
            "type": "bar"
           }
          ],
          "barpolar": [
           {
            "marker": {
             "line": {
              "color": "#E5ECF6",
              "width": 0.5
             },
             "pattern": {
              "fillmode": "overlay",
              "size": 10,
              "solidity": 0.2
             }
            },
            "type": "barpolar"
           }
          ],
          "carpet": [
           {
            "aaxis": {
             "endlinecolor": "#2a3f5f",
             "gridcolor": "white",
             "linecolor": "white",
             "minorgridcolor": "white",
             "startlinecolor": "#2a3f5f"
            },
            "baxis": {
             "endlinecolor": "#2a3f5f",
             "gridcolor": "white",
             "linecolor": "white",
             "minorgridcolor": "white",
             "startlinecolor": "#2a3f5f"
            },
            "type": "carpet"
           }
          ],
          "choropleth": [
           {
            "colorbar": {
             "outlinewidth": 0,
             "ticks": ""
            },
            "type": "choropleth"
           }
          ],
          "contour": [
           {
            "colorbar": {
             "outlinewidth": 0,
             "ticks": ""
            },
            "colorscale": [
             [
              0,
              "#0d0887"
             ],
             [
              0.1111111111111111,
              "#46039f"
             ],
             [
              0.2222222222222222,
              "#7201a8"
             ],
             [
              0.3333333333333333,
              "#9c179e"
             ],
             [
              0.4444444444444444,
              "#bd3786"
             ],
             [
              0.5555555555555556,
              "#d8576b"
             ],
             [
              0.6666666666666666,
              "#ed7953"
             ],
             [
              0.7777777777777778,
              "#fb9f3a"
             ],
             [
              0.8888888888888888,
              "#fdca26"
             ],
             [
              1,
              "#f0f921"
             ]
            ],
            "type": "contour"
           }
          ],
          "contourcarpet": [
           {
            "colorbar": {
             "outlinewidth": 0,
             "ticks": ""
            },
            "type": "contourcarpet"
           }
          ],
          "heatmap": [
           {
            "colorbar": {
             "outlinewidth": 0,
             "ticks": ""
            },
            "colorscale": [
             [
              0,
              "#0d0887"
             ],
             [
              0.1111111111111111,
              "#46039f"
             ],
             [
              0.2222222222222222,
              "#7201a8"
             ],
             [
              0.3333333333333333,
              "#9c179e"
             ],
             [
              0.4444444444444444,
              "#bd3786"
             ],
             [
              0.5555555555555556,
              "#d8576b"
             ],
             [
              0.6666666666666666,
              "#ed7953"
             ],
             [
              0.7777777777777778,
              "#fb9f3a"
             ],
             [
              0.8888888888888888,
              "#fdca26"
             ],
             [
              1,
              "#f0f921"
             ]
            ],
            "type": "heatmap"
           }
          ],
          "heatmapgl": [
           {
            "colorbar": {
             "outlinewidth": 0,
             "ticks": ""
            },
            "colorscale": [
             [
              0,
              "#0d0887"
             ],
             [
              0.1111111111111111,
              "#46039f"
             ],
             [
              0.2222222222222222,
              "#7201a8"
             ],
             [
              0.3333333333333333,
              "#9c179e"
             ],
             [
              0.4444444444444444,
              "#bd3786"
             ],
             [
              0.5555555555555556,
              "#d8576b"
             ],
             [
              0.6666666666666666,
              "#ed7953"
             ],
             [
              0.7777777777777778,
              "#fb9f3a"
             ],
             [
              0.8888888888888888,
              "#fdca26"
             ],
             [
              1,
              "#f0f921"
             ]
            ],
            "type": "heatmapgl"
           }
          ],
          "histogram": [
           {
            "marker": {
             "pattern": {
              "fillmode": "overlay",
              "size": 10,
              "solidity": 0.2
             }
            },
            "type": "histogram"
           }
          ],
          "histogram2d": [
           {
            "colorbar": {
             "outlinewidth": 0,
             "ticks": ""
            },
            "colorscale": [
             [
              0,
              "#0d0887"
             ],
             [
              0.1111111111111111,
              "#46039f"
             ],
             [
              0.2222222222222222,
              "#7201a8"
             ],
             [
              0.3333333333333333,
              "#9c179e"
             ],
             [
              0.4444444444444444,
              "#bd3786"
             ],
             [
              0.5555555555555556,
              "#d8576b"
             ],
             [
              0.6666666666666666,
              "#ed7953"
             ],
             [
              0.7777777777777778,
              "#fb9f3a"
             ],
             [
              0.8888888888888888,
              "#fdca26"
             ],
             [
              1,
              "#f0f921"
             ]
            ],
            "type": "histogram2d"
           }
          ],
          "histogram2dcontour": [
           {
            "colorbar": {
             "outlinewidth": 0,
             "ticks": ""
            },
            "colorscale": [
             [
              0,
              "#0d0887"
             ],
             [
              0.1111111111111111,
              "#46039f"
             ],
             [
              0.2222222222222222,
              "#7201a8"
             ],
             [
              0.3333333333333333,
              "#9c179e"
             ],
             [
              0.4444444444444444,
              "#bd3786"
             ],
             [
              0.5555555555555556,
              "#d8576b"
             ],
             [
              0.6666666666666666,
              "#ed7953"
             ],
             [
              0.7777777777777778,
              "#fb9f3a"
             ],
             [
              0.8888888888888888,
              "#fdca26"
             ],
             [
              1,
              "#f0f921"
             ]
            ],
            "type": "histogram2dcontour"
           }
          ],
          "mesh3d": [
           {
            "colorbar": {
             "outlinewidth": 0,
             "ticks": ""
            },
            "type": "mesh3d"
           }
          ],
          "parcoords": [
           {
            "line": {
             "colorbar": {
              "outlinewidth": 0,
              "ticks": ""
             }
            },
            "type": "parcoords"
           }
          ],
          "pie": [
           {
            "automargin": true,
            "type": "pie"
           }
          ],
          "scatter": [
           {
            "fillpattern": {
             "fillmode": "overlay",
             "size": 10,
             "solidity": 0.2
            },
            "type": "scatter"
           }
          ],
          "scatter3d": [
           {
            "line": {
             "colorbar": {
              "outlinewidth": 0,
              "ticks": ""
             }
            },
            "marker": {
             "colorbar": {
              "outlinewidth": 0,
              "ticks": ""
             }
            },
            "type": "scatter3d"
           }
          ],
          "scattercarpet": [
           {
            "marker": {
             "colorbar": {
              "outlinewidth": 0,
              "ticks": ""
             }
            },
            "type": "scattercarpet"
           }
          ],
          "scattergeo": [
           {
            "marker": {
             "colorbar": {
              "outlinewidth": 0,
              "ticks": ""
             }
            },
            "type": "scattergeo"
           }
          ],
          "scattergl": [
           {
            "marker": {
             "colorbar": {
              "outlinewidth": 0,
              "ticks": ""
             }
            },
            "type": "scattergl"
           }
          ],
          "scattermapbox": [
           {
            "marker": {
             "colorbar": {
              "outlinewidth": 0,
              "ticks": ""
             }
            },
            "type": "scattermapbox"
           }
          ],
          "scatterpolar": [
           {
            "marker": {
             "colorbar": {
              "outlinewidth": 0,
              "ticks": ""
             }
            },
            "type": "scatterpolar"
           }
          ],
          "scatterpolargl": [
           {
            "marker": {
             "colorbar": {
              "outlinewidth": 0,
              "ticks": ""
             }
            },
            "type": "scatterpolargl"
           }
          ],
          "scatterternary": [
           {
            "marker": {
             "colorbar": {
              "outlinewidth": 0,
              "ticks": ""
             }
            },
            "type": "scatterternary"
           }
          ],
          "surface": [
           {
            "colorbar": {
             "outlinewidth": 0,
             "ticks": ""
            },
            "colorscale": [
             [
              0,
              "#0d0887"
             ],
             [
              0.1111111111111111,
              "#46039f"
             ],
             [
              0.2222222222222222,
              "#7201a8"
             ],
             [
              0.3333333333333333,
              "#9c179e"
             ],
             [
              0.4444444444444444,
              "#bd3786"
             ],
             [
              0.5555555555555556,
              "#d8576b"
             ],
             [
              0.6666666666666666,
              "#ed7953"
             ],
             [
              0.7777777777777778,
              "#fb9f3a"
             ],
             [
              0.8888888888888888,
              "#fdca26"
             ],
             [
              1,
              "#f0f921"
             ]
            ],
            "type": "surface"
           }
          ],
          "table": [
           {
            "cells": {
             "fill": {
              "color": "#EBF0F8"
             },
             "line": {
              "color": "white"
             }
            },
            "header": {
             "fill": {
              "color": "#C8D4E3"
             },
             "line": {
              "color": "white"
             }
            },
            "type": "table"
           }
          ]
         },
         "layout": {
          "annotationdefaults": {
           "arrowcolor": "#2a3f5f",
           "arrowhead": 0,
           "arrowwidth": 1
          },
          "autotypenumbers": "strict",
          "coloraxis": {
           "colorbar": {
            "outlinewidth": 0,
            "ticks": ""
           }
          },
          "colorscale": {
           "diverging": [
            [
             0,
             "#8e0152"
            ],
            [
             0.1,
             "#c51b7d"
            ],
            [
             0.2,
             "#de77ae"
            ],
            [
             0.3,
             "#f1b6da"
            ],
            [
             0.4,
             "#fde0ef"
            ],
            [
             0.5,
             "#f7f7f7"
            ],
            [
             0.6,
             "#e6f5d0"
            ],
            [
             0.7,
             "#b8e186"
            ],
            [
             0.8,
             "#7fbc41"
            ],
            [
             0.9,
             "#4d9221"
            ],
            [
             1,
             "#276419"
            ]
           ],
           "sequential": [
            [
             0,
             "#0d0887"
            ],
            [
             0.1111111111111111,
             "#46039f"
            ],
            [
             0.2222222222222222,
             "#7201a8"
            ],
            [
             0.3333333333333333,
             "#9c179e"
            ],
            [
             0.4444444444444444,
             "#bd3786"
            ],
            [
             0.5555555555555556,
             "#d8576b"
            ],
            [
             0.6666666666666666,
             "#ed7953"
            ],
            [
             0.7777777777777778,
             "#fb9f3a"
            ],
            [
             0.8888888888888888,
             "#fdca26"
            ],
            [
             1,
             "#f0f921"
            ]
           ],
           "sequentialminus": [
            [
             0,
             "#0d0887"
            ],
            [
             0.1111111111111111,
             "#46039f"
            ],
            [
             0.2222222222222222,
             "#7201a8"
            ],
            [
             0.3333333333333333,
             "#9c179e"
            ],
            [
             0.4444444444444444,
             "#bd3786"
            ],
            [
             0.5555555555555556,
             "#d8576b"
            ],
            [
             0.6666666666666666,
             "#ed7953"
            ],
            [
             0.7777777777777778,
             "#fb9f3a"
            ],
            [
             0.8888888888888888,
             "#fdca26"
            ],
            [
             1,
             "#f0f921"
            ]
           ]
          },
          "colorway": [
           "#636efa",
           "#EF553B",
           "#00cc96",
           "#ab63fa",
           "#FFA15A",
           "#19d3f3",
           "#FF6692",
           "#B6E880",
           "#FF97FF",
           "#FECB52"
          ],
          "font": {
           "color": "#2a3f5f"
          },
          "geo": {
           "bgcolor": "white",
           "lakecolor": "white",
           "landcolor": "#E5ECF6",
           "showlakes": true,
           "showland": true,
           "subunitcolor": "white"
          },
          "hoverlabel": {
           "align": "left"
          },
          "hovermode": "closest",
          "mapbox": {
           "style": "light"
          },
          "paper_bgcolor": "white",
          "plot_bgcolor": "#E5ECF6",
          "polar": {
           "angularaxis": {
            "gridcolor": "white",
            "linecolor": "white",
            "ticks": ""
           },
           "bgcolor": "#E5ECF6",
           "radialaxis": {
            "gridcolor": "white",
            "linecolor": "white",
            "ticks": ""
           }
          },
          "scene": {
           "xaxis": {
            "backgroundcolor": "#E5ECF6",
            "gridcolor": "white",
            "gridwidth": 2,
            "linecolor": "white",
            "showbackground": true,
            "ticks": "",
            "zerolinecolor": "white"
           },
           "yaxis": {
            "backgroundcolor": "#E5ECF6",
            "gridcolor": "white",
            "gridwidth": 2,
            "linecolor": "white",
            "showbackground": true,
            "ticks": "",
            "zerolinecolor": "white"
           },
           "zaxis": {
            "backgroundcolor": "#E5ECF6",
            "gridcolor": "white",
            "gridwidth": 2,
            "linecolor": "white",
            "showbackground": true,
            "ticks": "",
            "zerolinecolor": "white"
           }
          },
          "shapedefaults": {
           "line": {
            "color": "#2a3f5f"
           }
          },
          "ternary": {
           "aaxis": {
            "gridcolor": "white",
            "linecolor": "white",
            "ticks": ""
           },
           "baxis": {
            "gridcolor": "white",
            "linecolor": "white",
            "ticks": ""
           },
           "bgcolor": "#E5ECF6",
           "caxis": {
            "gridcolor": "white",
            "linecolor": "white",
            "ticks": ""
           }
          },
          "title": {
           "x": 0.05
          },
          "xaxis": {
           "automargin": true,
           "gridcolor": "white",
           "linecolor": "white",
           "ticks": "",
           "title": {
            "standoff": 15
           },
           "zerolinecolor": "white",
           "zerolinewidth": 2
          },
          "yaxis": {
           "automargin": true,
           "gridcolor": "white",
           "linecolor": "white",
           "ticks": "",
           "title": {
            "standoff": 15
           },
           "zerolinecolor": "white",
           "zerolinewidth": 2
          }
         }
        },
        "title": {
         "text": "Job Title by Attrition Status"
        },
        "xaxis": {
         "anchor": "y",
         "autorange": true,
         "domain": [
          0,
          1
         ],
         "range": [
          -0.5,
          4.5
         ],
         "title": {
          "text": "Job Title"
         },
         "type": "category"
        },
        "yaxis": {
         "anchor": "x",
         "autorange": true,
         "domain": [
          0,
          1
         ],
         "range": [
          0,
          118.94736842105263
         ],
         "title": {
          "text": "count"
         }
        }
       }
      },
      "image/png": "[encoded data removed]",
      "text/html": [
       "<div>                            <div id=\"d5520945-a380-4efa-89f8-91fae1638718\" class=\"plotly-graph-div\" style=\"height:525px; width:100%;\"></div>            <script type=\"text/javascript\">                require([\"plotly\"], function(Plotly) {                    window.PLOTLYENV=window.PLOTLYENV || {};                                    if (document.getElementById(\"d5520945-a380-4efa-89f8-91fae1638718\")) {                    Plotly.newPlot(                        \"d5520945-a380-4efa-89f8-91fae1638718\",                        [{\"alignmentgroup\":\"True\",\"bingroup\":\"x\",\"hovertemplate\":\"Attrition Status=0<br>Job Title=%{x}<br>count=%{y}<extra></extra>\",\"legendgroup\":\"0\",\"marker\":{\"color\":\"#636efa\",\"pattern\":{\"shape\":\"\"}},\"name\":\"0\",\"offsetgroup\":\"0\",\"orientation\":\"v\",\"showlegend\":true,\"x\":[\"Manager\",\"Engineer\",\"Manager\",\"Engineer\",\"HR Specialist\",\"HR Specialist\",\"Analyst\",\"Engineer\",\"Accountant\",\"Accountant\",\"Accountant\",\"Manager\",\"HR Specialist\",\"HR Specialist\",\"Manager\",\"Analyst\",\"HR Specialist\",\"Accountant\",\"HR Specialist\",\"HR Specialist\",\"Analyst\",\"Accountant\",\"Accountant\",\"Analyst\",\"HR Specialist\",\"Accountant\",\"Manager\",\"Accountant\",\"HR Specialist\",\"HR Specialist\",\"Accountant\",\"Engineer\",\"Accountant\",\"Engineer\",\"Accountant\",\"Analyst\",\"Analyst\",\"HR Specialist\",\"Engineer\",\"Engineer\",\"Analyst\",\"Analyst\",\"Accountant\",\"Engineer\",\"Engineer\",\"Analyst\",\"Analyst\",\"Analyst\",\"Engineer\",\"Engineer\",\"Engineer\",\"Analyst\",\"Analyst\",\"Accountant\",\"Engineer\",\"Manager\",\"Engineer\",\"Manager\",\"Analyst\",\"Engineer\",\"Accountant\",\"Accountant\",\"Engineer\",\"Accountant\",\"Engineer\",\"HR Specialist\",\"Analyst\",\"HR Specialist\",\"Manager\",\"Engineer\",\"Engineer\",\"HR Specialist\",\"HR Specialist\",\"Analyst\",\"Analyst\",\"Analyst\",\"HR Specialist\",\"Accountant\",\"Manager\",\"Manager\",\"Manager\",\"Analyst\",\"Engineer\",\"Engineer\",\"Engineer\",\"Engineer\",\"Manager\",\"Engineer\",\"Accountant\",\"Engineer\",\"Engineer\",\"Manager\",\"Analyst\",\"Analyst\",\"HR Specialist\",\"HR Specialist\",\"Manager\",\"HR Specialist\",\"Manager\",\"Manager\",\"HR Specialist\",\"Engineer\",\"HR Specialist\",\"Engineer\",\"HR Specialist\",\"Engineer\",\"HR Specialist\",\"Engineer\",\"Analyst\",\"Engineer\",\"Analyst\",\"Analyst\",\"Manager\",\"Engineer\",\"Accountant\",\"Analyst\",\"Manager\",\"Accountant\",\"Analyst\",\"Engineer\",\"Engineer\",\"HR Specialist\",\"HR Specialist\",\"Manager\",\"Manager\",\"Manager\",\"HR Specialist\",\"Engineer\",\"Accountant\",\"Engineer\",\"HR Specialist\",\"Analyst\",\"Analyst\",\"Manager\",\"Engineer\",\"Analyst\",\"Manager\",\"Engineer\",\"Analyst\",\"Engineer\",\"Engineer\",\"Manager\",\"Engineer\",\"Manager\",\"Engineer\",\"Manager\",\"Engineer\",\"HR Specialist\",\"Engineer\",\"Engineer\",\"Engineer\",\"Accountant\",\"Engineer\",\"Accountant\",\"Manager\",\"Analyst\",\"Manager\",\"HR Specialist\",\"Accountant\",\"Accountant\",\"Analyst\",\"Accountant\",\"Engineer\",\"Manager\",\"Manager\",\"Manager\",\"Manager\",\"Manager\",\"HR Specialist\",\"Engineer\",\"Accountant\",\"Accountant\",\"Accountant\",\"HR Specialist\",\"Analyst\",\"Manager\",\"Manager\",\"Manager\",\"Manager\",\"Accountant\",\"Accountant\",\"Manager\",\"Analyst\",\"Analyst\",\"Manager\",\"Accountant\",\"Accountant\",\"HR Specialist\",\"Engineer\",\"Accountant\",\"HR Specialist\",\"HR Specialist\",\"Manager\",\"Analyst\",\"Engineer\",\"Analyst\",\"Engineer\",\"HR Specialist\",\"Accountant\",\"Manager\",\"Engineer\",\"Analyst\",\"Manager\",\"Accountant\",\"Accountant\",\"Engineer\",\"Analyst\",\"Manager\",\"Accountant\",\"Manager\",\"Engineer\",\"Manager\",\"Accountant\",\"Manager\",\"Accountant\",\"Analyst\",\"Analyst\",\"Engineer\",\"Accountant\",\"HR Specialist\",\"Analyst\",\"Accountant\",\"Manager\",\"Analyst\",\"Manager\",\"Engineer\",\"HR Specialist\",\"Analyst\",\"Accountant\",\"Analyst\",\"Analyst\",\"Accountant\",\"Manager\",\"Accountant\",\"Manager\",\"Engineer\",\"Manager\",\"Manager\",\"Accountant\",\"Engineer\",\"Manager\",\"Analyst\",\"HR Specialist\",\"Engineer\",\"Analyst\",\"Analyst\",\"Engineer\",\"Analyst\",\"Engineer\",\"Analyst\",\"Analyst\",\"Accountant\",\"Accountant\",\"Engineer\",\"Manager\",\"Analyst\",\"Manager\",\"HR Specialist\",\"HR Specialist\",\"Analyst\",\"HR Specialist\",\"HR Specialist\",\"HR Specialist\",\"Manager\",\"Analyst\",\"Analyst\",\"Engineer\",\"Analyst\",\"Analyst\",\"Accountant\",\"Analyst\",\"Accountant\",\"Accountant\",\"Manager\",\"Manager\",\"Engineer\",\"Accountant\",\"HR Specialist\",\"Manager\",\"Analyst\",\"Engineer\",\"HR Specialist\",\"Accountant\",\"Engineer\",\"Engineer\",\"HR Specialist\",\"Analyst\",\"Engineer\",\"Analyst\",\"Accountant\",\"Analyst\",\"Engineer\",\"Analyst\",\"Engineer\",\"HR Specialist\",\"Accountant\",\"Manager\",\"Accountant\",\"HR Specialist\",\"HR Specialist\",\"Engineer\",\"Manager\",\"Engineer\",\"Manager\",\"Analyst\",\"Accountant\",\"Engineer\",\"Manager\",\"Engineer\",\"Engineer\",\"Engineer\",\"Accountant\",\"Accountant\",\"Manager\",\"Engineer\",\"Manager\",\"Analyst\",\"Manager\",\"Analyst\",\"Analyst\",\"Analyst\",\"Engineer\",\"Accountant\",\"Engineer\",\"Engineer\",\"Manager\",\"Analyst\",\"Engineer\",\"Engineer\",\"Accountant\",\"Engineer\",\"HR Specialist\",\"Analyst\",\"Manager\",\"Manager\",\"Manager\",\"Manager\",\"HR Specialist\",\"HR Specialist\",\"Manager\",\"Engineer\",\"Engineer\",\"HR Specialist\",\"Analyst\",\"Accountant\",\"Engineer\",\"HR Specialist\",\"Manager\",\"HR Specialist\",\"Accountant\",\"Accountant\",\"Engineer\",\"HR Specialist\",\"Engineer\",\"Engineer\",\"Engineer\",\"Engineer\",\"Analyst\",\"Engineer\",\"HR Specialist\",\"Accountant\",\"Analyst\",\"Manager\",\"Analyst\",\"Manager\",\"Accountant\",\"Engineer\",\"HR Specialist\",\"Analyst\",\"Accountant\",\"HR Specialist\",\"Analyst\",\"Engineer\",\"HR Specialist\",\"Manager\",\"Accountant\",\"Accountant\",\"HR Specialist\",\"Accountant\",\"Manager\",\"Manager\",\"HR Specialist\",\"Accountant\",\"Engineer\",\"Manager\",\"Manager\",\"Analyst\",\"Manager\",\"Manager\",\"Accountant\",\"Manager\",\"HR Specialist\",\"HR Specialist\",\"Accountant\",\"Manager\",\"Analyst\",\"Manager\",\"Manager\",\"Analyst\",\"HR Specialist\",\"HR Specialist\",\"Engineer\",\"Accountant\",\"Manager\",\"Accountant\",\"Analyst\",\"Analyst\",\"Accountant\",\"Manager\",\"HR Specialist\",\"Accountant\",\"Accountant\",\"Accountant\",\"HR Specialist\",\"HR Specialist\",\"Engineer\",\"Engineer\",\"Analyst\",\"Manager\",\"Engineer\",\"Accountant\",\"Engineer\",\"Analyst\",\"HR Specialist\",\"Manager\",\"Analyst\",\"Accountant\",\"HR Specialist\",\"Accountant\",\"Engineer\",\"Analyst\",\"Analyst\",\"Accountant\",\"Accountant\",\"Manager\",\"Accountant\",\"Analyst\",\"Accountant\",\"HR Specialist\",\"Engineer\",\"Accountant\",\"Accountant\",\"Accountant\",\"HR Specialist\",\"Accountant\",\"Manager\",\"Accountant\",\"Manager\",\"Manager\",\"Engineer\",\"Manager\",\"Manager\",\"HR Specialist\",\"HR Specialist\",\"Manager\",\"HR Specialist\",\"Accountant\",\"Accountant\",\"Analyst\",\"HR Specialist\",\"Engineer\",\"HR Specialist\",\"HR Specialist\",\"Analyst\",\"Engineer\",\"Analyst\",\"Engineer\",\"Accountant\",\"Accountant\",\"Accountant\",\"Manager\",\"Analyst\",\"Analyst\",\"HR Specialist\",\"Analyst\",\"HR Specialist\",\"HR Specialist\",\"Analyst\",\"Accountant\",\"Analyst\",\"Accountant\",\"Analyst\",\"Manager\",\"HR Specialist\",\"Accountant\",\"Engineer\",\"Accountant\",\"Manager\",\"Engineer\",\"Manager\",\"HR Specialist\",\"Analyst\",\"Analyst\",\"HR Specialist\",\"Engineer\",\"Engineer\",\"Manager\",\"Accountant\",\"Engineer\",\"Analyst\",\"Engineer\",\"Analyst\",\"HR Specialist\",\"HR Specialist\",\"Analyst\"],\"xaxis\":\"x\",\"yaxis\":\"y\",\"type\":\"histogram\"},{\"alignmentgroup\":\"True\",\"bingroup\":\"x\",\"hovertemplate\":\"Attrition Status=1<br>Job Title=%{x}<br>count=%{y}<extra></extra>\",\"legendgroup\":\"1\",\"marker\":{\"color\":\"#EF553B\",\"pattern\":{\"shape\":\"\"}},\"name\":\"1\",\"offsetgroup\":\"1\",\"orientation\":\"v\",\"showlegend\":true,\"x\":[\"Analyst\",\"Accountant\",\"HR Specialist\",\"Engineer\",\"Analyst\",\"Manager\",\"Accountant\",\"Manager\",\"Manager\",\"Analyst\",\"Engineer\",\"Analyst\",\"Analyst\",\"Analyst\",\"Accountant\",\"Accountant\",\"HR Specialist\",\"HR Specialist\",\"HR Specialist\",\"Engineer\",\"Accountant\",\"HR Specialist\",\"HR Specialist\",\"Manager\",\"Accountant\",\"Accountant\",\"Engineer\",\"Analyst\",\"HR Specialist\",\"Accountant\",\"Accountant\",\"Analyst\",\"Analyst\",\"Manager\",\"Manager\",\"Manager\",\"Analyst\",\"Manager\",\"Analyst\",\"Accountant\",\"Engineer\",\"HR Specialist\",\"HR Specialist\",\"Analyst\",\"Manager\",\"Analyst\",\"Engineer\",\"Engineer\",\"Engineer\",\"Engineer\",\"Analyst\",\"HR Specialist\",\"Analyst\",\"Engineer\",\"HR Specialist\",\"Engineer\",\"HR Specialist\",\"Manager\",\"Manager\",\"Analyst\",\"HR Specialist\",\"Manager\",\"Engineer\",\"Analyst\",\"HR Specialist\",\"Engineer\",\"Analyst\",\"Accountant\",\"Manager\",\"Engineer\",\"Manager\",\"HR Specialist\",\"Engineer\",\"HR Specialist\",\"Manager\",\"Manager\",\"Analyst\",\"Accountant\",\"Accountant\",\"HR Specialist\",\"Engineer\",\"Accountant\",\"HR Specialist\",\"HR Specialist\",\"Manager\",\"Accountant\",\"Engineer\",\"Analyst\",\"Accountant\",\"Accountant\",\"Manager\",\"Manager\",\"Analyst\",\"Manager\",\"Engineer\",\"Analyst\",\"HR Specialist\",\"Manager\",\"Accountant\",\"HR Specialist\",\"Engineer\",\"HR Specialist\",\"Engineer\",\"Manager\",\"Analyst\",\"Accountant\",\"Manager\",\"Accountant\",\"Analyst\",\"Accountant\",\"Engineer\",\"Engineer\",\"Accountant\",\"Engineer\",\"Engineer\",\"Manager\",\"HR Specialist\",\"Analyst\",\"Analyst\",\"Manager\",\"Analyst\",\"Analyst\",\"Accountant\",\"HR Specialist\",\"Manager\",\"Manager\",\"HR Specialist\",\"Manager\",\"Accountant\",\"Analyst\",\"Manager\",\"Analyst\",\"Engineer\",\"Engineer\",\"HR Specialist\",\"Manager\",\"Accountant\",\"Engineer\",\"Engineer\",\"Analyst\",\"HR Specialist\",\"Engineer\",\"Engineer\",\"Accountant\",\"HR Specialist\",\"HR Specialist\",\"Accountant\",\"Accountant\",\"Manager\",\"HR Specialist\",\"Analyst\",\"HR Specialist\",\"Engineer\",\"HR Specialist\",\"HR Specialist\",\"HR Specialist\",\"Accountant\",\"HR Specialist\",\"Accountant\",\"Engineer\",\"Analyst\",\"Engineer\",\"HR Specialist\",\"Manager\",\"Accountant\",\"Manager\",\"Manager\",\"Manager\",\"Accountant\",\"Analyst\",\"Manager\",\"Manager\",\"Accountant\",\"Accountant\",\"Accountant\",\"Engineer\",\"Analyst\",\"Engineer\",\"HR Specialist\",\"Engineer\",\"Engineer\",\"Engineer\",\"HR Specialist\",\"Accountant\",\"Engineer\",\"Manager\",\"Engineer\",\"Engineer\",\"Accountant\",\"Engineer\",\"Manager\",\"Analyst\",\"HR Specialist\",\"Accountant\",\"HR Specialist\",\"Accountant\",\"Engineer\",\"Analyst\",\"Accountant\",\"Manager\",\"Analyst\",\"Analyst\",\"Engineer\",\"Manager\",\"Engineer\",\"Analyst\",\"Manager\",\"HR Specialist\",\"Engineer\",\"HR Specialist\",\"Manager\",\"Manager\",\"HR Specialist\",\"Accountant\",\"Manager\",\"Analyst\",\"Accountant\",\"Analyst\",\"Engineer\",\"Accountant\",\"Manager\",\"Accountant\",\"Analyst\",\"Analyst\",\"Accountant\",\"Accountant\",\"Manager\",\"HR Specialist\",\"Manager\",\"Engineer\",\"HR Specialist\",\"Analyst\",\"Manager\",\"Accountant\",\"Accountant\",\"Engineer\",\"Manager\",\"Accountant\",\"Engineer\",\"HR Specialist\",\"Engineer\",\"Engineer\",\"Analyst\",\"Engineer\",\"Accountant\",\"Analyst\",\"Analyst\",\"Accountant\",\"Manager\",\"Accountant\",\"Accountant\",\"HR Specialist\",\"Analyst\",\"Manager\",\"HR Specialist\",\"Accountant\",\"Analyst\",\"Engineer\",\"HR Specialist\",\"Accountant\",\"Analyst\",\"Manager\",\"Manager\",\"Engineer\",\"Analyst\",\"HR Specialist\",\"Engineer\",\"Analyst\",\"Analyst\",\"Analyst\",\"HR Specialist\",\"Manager\",\"Engineer\",\"Manager\",\"Analyst\",\"Accountant\",\"Engineer\",\"Manager\",\"Accountant\",\"Manager\",\"Manager\",\"Manager\",\"Analyst\",\"Engineer\",\"Accountant\",\"Manager\",\"HR Specialist\",\"Manager\",\"Accountant\",\"Analyst\",\"Accountant\",\"HR Specialist\",\"HR Specialist\",\"HR Specialist\",\"Accountant\",\"Engineer\",\"Engineer\",\"Analyst\",\"Engineer\",\"Engineer\",\"Engineer\",\"HR Specialist\",\"Analyst\",\"Analyst\",\"Analyst\",\"Manager\",\"HR Specialist\",\"HR Specialist\",\"Accountant\",\"Manager\",\"Accountant\",\"HR Specialist\",\"Analyst\",\"Accountant\",\"Accountant\",\"Manager\",\"HR Specialist\",\"Engineer\",\"Analyst\",\"Engineer\",\"Analyst\",\"HR Specialist\",\"Accountant\",\"Engineer\",\"Accountant\",\"Engineer\",\"Manager\",\"Manager\",\"Accountant\",\"Engineer\",\"Engineer\",\"Engineer\",\"Analyst\",\"HR Specialist\",\"Engineer\",\"Manager\",\"Accountant\",\"Accountant\",\"Accountant\",\"Analyst\",\"Manager\",\"Analyst\",\"Manager\",\"Manager\",\"Engineer\",\"Engineer\",\"Accountant\",\"Engineer\",\"Analyst\",\"Manager\",\"HR Specialist\",\"Engineer\",\"Manager\",\"Accountant\",\"Manager\",\"Manager\",\"Manager\",\"Manager\",\"Analyst\",\"Engineer\",\"Accountant\",\"Accountant\",\"Manager\",\"HR Specialist\",\"Analyst\",\"Accountant\",\"Accountant\",\"Accountant\",\"Manager\",\"Accountant\",\"Accountant\",\"HR Specialist\",\"Engineer\",\"Engineer\",\"Manager\",\"HR Specialist\",\"Engineer\",\"Analyst\",\"Engineer\",\"Accountant\",\"HR Specialist\",\"Analyst\",\"Engineer\",\"Analyst\",\"HR Specialist\",\"Engineer\",\"Engineer\",\"Manager\",\"Engineer\",\"Manager\",\"Manager\",\"Engineer\",\"Accountant\",\"Manager\",\"Engineer\",\"HR Specialist\",\"HR Specialist\",\"Manager\",\"HR Specialist\",\"HR Specialist\",\"HR Specialist\",\"HR Specialist\",\"Accountant\",\"Analyst\",\"Engineer\",\"Manager\",\"Manager\",\"Accountant\",\"HR Specialist\",\"Engineer\",\"Manager\",\"HR Specialist\",\"HR Specialist\",\"Accountant\",\"Accountant\",\"Analyst\",\"Analyst\",\"Analyst\",\"Accountant\",\"Analyst\",\"HR Specialist\",\"Engineer\",\"HR Specialist\",\"Manager\",\"Accountant\",\"Analyst\",\"Manager\",\"Analyst\",\"HR Specialist\",\"Manager\",\"Analyst\",\"Accountant\",\"Analyst\",\"HR Specialist\",\"Accountant\",\"Engineer\",\"Analyst\",\"Manager\",\"Accountant\",\"HR Specialist\",\"Analyst\",\"Engineer\",\"HR Specialist\",\"Engineer\",\"Manager\",\"Engineer\",\"Engineer\",\"Manager\",\"Accountant\",\"Analyst\",\"HR Specialist\",\"Engineer\",\"Analyst\",\"Engineer\",\"Accountant\",\"Accountant\",\"Analyst\",\"Accountant\",\"Manager\",\"Accountant\",\"Manager\",\"Manager\",\"Manager\",\"Manager\",\"HR Specialist\",\"Engineer\",\"Accountant\",\"Engineer\",\"Accountant\",\"Accountant\",\"HR Specialist\",\"Manager\",\"Accountant\",\"Accountant\",\"HR Specialist\",\"Engineer\",\"HR Specialist\",\"Analyst\",\"Manager\",\"Analyst\",\"Analyst\",\"Accountant\",\"Manager\",\"HR Specialist\",\"Analyst\",\"HR Specialist\",\"Accountant\",\"Accountant\",\"Engineer\",\"Accountant\",\"Manager\",\"Analyst\",\"Manager\",\"HR Specialist\",\"HR Specialist\"],\"xaxis\":\"x\",\"yaxis\":\"y\",\"type\":\"histogram\"}],                        {\"template\":{\"data\":{\"histogram2dcontour\":[{\"type\":\"histogram2dcontour\",\"colorbar\":{\"outlinewidth\":0,\"ticks\":\"\"},\"colorscale\":[[0.0,\"#0d0887\"],[0.1111111111111111,\"#46039f\"],[0.2222222222222222,\"#7201a8\"],[0.3333333333333333,\"#9c179e\"],[0.4444444444444444,\"#bd3786\"],[0.5555555555555556,\"#d8576b\"],[0.6666666666666666,\"#ed7953\"],[0.7777777777777778,\"#fb9f3a\"],[0.8888888888888888,\"#fdca26\"],[1.0,\"#f0f921\"]]}],\"choropleth\":[{\"type\":\"choropleth\",\"colorbar\":{\"outlinewidth\":0,\"ticks\":\"\"}}],\"histogram2d\":[{\"type\":\"histogram2d\",\"colorbar\":{\"outlinewidth\":0,\"ticks\":\"\"},\"colorscale\":[[0.0,\"#0d0887\"],[0.1111111111111111,\"#46039f\"],[0.2222222222222222,\"#7201a8\"],[0.3333333333333333,\"#9c179e\"],[0.4444444444444444,\"#bd3786\"],[0.5555555555555556,\"#d8576b\"],[0.6666666666666666,\"#ed7953\"],[0.7777777777777778,\"#fb9f3a\"],[0.8888888888888888,\"#fdca26\"],[1.0,\"#f0f921\"]]}],\"heatmap\":[{\"type\":\"heatmap\",\"colorbar\":{\"outlinewidth\":0,\"ticks\":\"\"},\"colorscale\":[[0.0,\"#0d0887\"],[0.1111111111111111,\"#46039f\"],[0.2222222222222222,\"#7201a8\"],[0.3333333333333333,\"#9c179e\"],[0.4444444444444444,\"#bd3786\"],[0.5555555555555556,\"#d8576b\"],[0.6666666666666666,\"#ed7953\"],[0.7777777777777778,\"#fb9f3a\"],[0.8888888888888888,\"#fdca26\"],[1.0,\"#f0f921\"]]}],\"heatmapgl\":[{\"type\":\"heatmapgl\",\"colorbar\":{\"outlinewidth\":0,\"ticks\":\"\"},\"colorscale\":[[0.0,\"#0d0887\"],[0.1111111111111111,\"#46039f\"],[0.2222222222222222,\"#7201a8\"],[0.3333333333333333,\"#9c179e\"],[0.4444444444444444,\"#bd3786\"],[0.5555555555555556,\"#d8576b\"],[0.6666666666666666,\"#ed7953\"],[0.7777777777777778,\"#fb9f3a\"],[0.8888888888888888,\"#fdca26\"],[1.0,\"#f0f921\"]]}],\"contourcarpet\":[{\"type\":\"contourcarpet\",\"colorbar\":{\"outlinewidth\":0,\"ticks\":\"\"}}],\"contour\":[{\"type\":\"contour\",\"colorbar\":{\"outlinewidth\":0,\"ticks\":\"\"},\"colorscale\":[[0.0,\"#0d0887\"],[0.1111111111111111,\"#46039f\"],[0.2222222222222222,\"#7201a8\"],[0.3333333333333333,\"#9c179e\"],[0.4444444444444444,\"#bd3786\"],[0.5555555555555556,\"#d8576b\"],[0.6666666666666666,\"#ed7953\"],[0.7777777777777778,\"#fb9f3a\"],[0.8888888888888888,\"#fdca26\"],[1.0,\"#f0f921\"]]}],\"surface\":[{\"type\":\"surface\",\"colorbar\":{\"outlinewidth\":0,\"ticks\":\"\"},\"colorscale\":[[0.0,\"#0d0887\"],[0.1111111111111111,\"#46039f\"],[0.2222222222222222,\"#7201a8\"],[0.3333333333333333,\"#9c179e\"],[0.4444444444444444,\"#bd3786\"],[0.5555555555555556,\"#d8576b\"],[0.6666666666666666,\"#ed7953\"],[0.7777777777777778,\"#fb9f3a\"],[0.8888888888888888,\"#fdca26\"],[1.0,\"#f0f921\"]]}],\"mesh3d\":[{\"type\":\"mesh3d\",\"colorbar\":{\"outlinewidth\":0,\"ticks\":\"\"}}],\"scatter\":[{\"fillpattern\":{\"fillmode\":\"overlay\",\"size\":10,\"solidity\":0.2},\"type\":\"scatter\"}],\"parcoords\":[{\"type\":\"parcoords\",\"line\":{\"colorbar\":{\"outlinewidth\":0,\"ticks\":\"\"}}}],\"scatterpolargl\":[{\"type\":\"scatterpolargl\",\"marker\":{\"colorbar\":{\"outlinewidth\":0,\"ticks\":\"\"}}}],\"bar\":[{\"error_x\":{\"color\":\"#2a3f5f\"},\"error_y\":{\"color\":\"#2a3f5f\"},\"marker\":{\"line\":{\"color\":\"#E5ECF6\",\"width\":0.5},\"pattern\":{\"fillmode\":\"overlay\",\"size\":10,\"solidity\":0.2}},\"type\":\"bar\"}],\"scattergeo\":[{\"type\":\"scattergeo\",\"marker\":{\"colorbar\":{\"outlinewidth\":0,\"ticks\":\"\"}}}],\"scatterpolar\":[{\"type\":\"scatterpolar\",\"marker\":{\"colorbar\":{\"outlinewidth\":0,\"ticks\":\"\"}}}],\"histogram\":[{\"marker\":{\"pattern\":{\"fillmode\":\"overlay\",\"size\":10,\"solidity\":0.2}},\"type\":\"histogram\"}],\"scattergl\":[{\"type\":\"scattergl\",\"marker\":{\"colorbar\":{\"outlinewidth\":0,\"ticks\":\"\"}}}],\"scatter3d\":[{\"type\":\"scatter3d\",\"line\":{\"colorbar\":{\"outlinewidth\":0,\"ticks\":\"\"}},\"marker\":{\"colorbar\":{\"outlinewidth\":0,\"ticks\":\"\"}}}],\"scattermapbox\":[{\"type\":\"scattermapbox\",\"marker\":{\"colorbar\":{\"outlinewidth\":0,\"ticks\":\"\"}}}],\"scatterternary\":[{\"type\":\"scatterternary\",\"marker\":{\"colorbar\":{\"outlinewidth\":0,\"ticks\":\"\"}}}],\"scattercarpet\":[{\"type\":\"scattercarpet\",\"marker\":{\"colorbar\":{\"outlinewidth\":0,\"ticks\":\"\"}}}],\"carpet\":[{\"aaxis\":{\"endlinecolor\":\"#2a3f5f\",\"gridcolor\":\"white\",\"linecolor\":\"white\",\"minorgridcolor\":\"white\",\"startlinecolor\":\"#2a3f5f\"},\"baxis\":{\"endlinecolor\":\"#2a3f5f\",\"gridcolor\":\"white\",\"linecolor\":\"white\",\"minorgridcolor\":\"white\",\"startlinecolor\":\"#2a3f5f\"},\"type\":\"carpet\"}],\"table\":[{\"cells\":{\"fill\":{\"color\":\"#EBF0F8\"},\"line\":{\"color\":\"white\"}},\"header\":{\"fill\":{\"color\":\"#C8D4E3\"},\"line\":{\"color\":\"white\"}},\"type\":\"table\"}],\"barpolar\":[{\"marker\":{\"line\":{\"color\":\"#E5ECF6\",\"width\":0.5},\"pattern\":{\"fillmode\":\"overlay\",\"size\":10,\"solidity\":0.2}},\"type\":\"barpolar\"}],\"pie\":[{\"automargin\":true,\"type\":\"pie\"}]},\"layout\":{\"autotypenumbers\":\"strict\",\"colorway\":[\"#636efa\",\"#EF553B\",\"#00cc96\",\"#ab63fa\",\"#FFA15A\",\"#19d3f3\",\"#FF6692\",\"#B6E880\",\"#FF97FF\",\"#FECB52\"],\"font\":{\"color\":\"#2a3f5f\"},\"hovermode\":\"closest\",\"hoverlabel\":{\"align\":\"left\"},\"paper_bgcolor\":\"white\",\"plot_bgcolor\":\"#E5ECF6\",\"polar\":{\"bgcolor\":\"#E5ECF6\",\"angularaxis\":{\"gridcolor\":\"white\",\"linecolor\":\"white\",\"ticks\":\"\"},\"radialaxis\":{\"gridcolor\":\"white\",\"linecolor\":\"white\",\"ticks\":\"\"}},\"ternary\":{\"bgcolor\":\"#E5ECF6\",\"aaxis\":{\"gridcolor\":\"white\",\"linecolor\":\"white\",\"ticks\":\"\"},\"baxis\":{\"gridcolor\":\"white\",\"linecolor\":\"white\",\"ticks\":\"\"},\"caxis\":{\"gridcolor\":\"white\",\"linecolor\":\"white\",\"ticks\":\"\"}},\"coloraxis\":{\"colorbar\":{\"outlinewidth\":0,\"ticks\":\"\"}},\"colorscale\":{\"sequential\":[[0.0,\"#0d0887\"],[0.1111111111111111,\"#46039f\"],[0.2222222222222222,\"#7201a8\"],[0.3333333333333333,\"#9c179e\"],[0.4444444444444444,\"#bd3786\"],[0.5555555555555556,\"#d8576b\"],[0.6666666666666666,\"#ed7953\"],[0.7777777777777778,\"#fb9f3a\"],[0.8888888888888888,\"#fdca26\"],[1.0,\"#f0f921\"]],\"sequentialminus\":[[0.0,\"#0d0887\"],[0.1111111111111111,\"#46039f\"],[0.2222222222222222,\"#7201a8\"],[0.3333333333333333,\"#9c179e\"],[0.4444444444444444,\"#bd3786\"],[0.5555555555555556,\"#d8576b\"],[0.6666666666666666,\"#ed7953\"],[0.7777777777777778,\"#fb9f3a\"],[0.8888888888888888,\"#fdca26\"],[1.0,\"#f0f921\"]],\"diverging\":[[0,\"#8e0152\"],[0.1,\"#c51b7d\"],[0.2,\"#de77ae\"],[0.3,\"#f1b6da\"],[0.4,\"#fde0ef\"],[0.5,\"#f7f7f7\"],[0.6,\"#e6f5d0\"],[0.7,\"#b8e186\"],[0.8,\"#7fbc41\"],[0.9,\"#4d9221\"],[1,\"#276419\"]]},\"xaxis\":{\"gridcolor\":\"white\",\"linecolor\":\"white\",\"ticks\":\"\",\"title\":{\"standoff\":15},\"zerolinecolor\":\"white\",\"automargin\":true,\"zerolinewidth\":2},\"yaxis\":{\"gridcolor\":\"white\",\"linecolor\":\"white\",\"ticks\":\"\",\"title\":{\"standoff\":15},\"zerolinecolor\":\"white\",\"automargin\":true,\"zerolinewidth\":2},\"scene\":{\"xaxis\":{\"backgroundcolor\":\"#E5ECF6\",\"gridcolor\":\"white\",\"linecolor\":\"white\",\"showbackground\":true,\"ticks\":\"\",\"zerolinecolor\":\"white\",\"gridwidth\":2},\"yaxis\":{\"backgroundcolor\":\"#E5ECF6\",\"gridcolor\":\"white\",\"linecolor\":\"white\",\"showbackground\":true,\"ticks\":\"\",\"zerolinecolor\":\"white\",\"gridwidth\":2},\"zaxis\":{\"backgroundcolor\":\"#E5ECF6\",\"gridcolor\":\"white\",\"linecolor\":\"white\",\"showbackground\":true,\"ticks\":\"\",\"zerolinecolor\":\"white\",\"gridwidth\":2}},\"shapedefaults\":{\"line\":{\"color\":\"#2a3f5f\"}},\"annotationdefaults\":{\"arrowcolor\":\"#2a3f5f\",\"arrowhead\":0,\"arrowwidth\":1},\"geo\":{\"bgcolor\":\"white\",\"landcolor\":\"#E5ECF6\",\"subunitcolor\":\"white\",\"showland\":true,\"showlakes\":true,\"lakecolor\":\"white\"},\"title\":{\"x\":0.05},\"mapbox\":{\"style\":\"light\"}}},\"xaxis\":{\"anchor\":\"y\",\"domain\":[0.0,1.0],\"title\":{\"text\":\"Job Title\"}},\"yaxis\":{\"anchor\":\"x\",\"domain\":[0.0,1.0],\"title\":{\"text\":\"count\"}},\"legend\":{\"title\":{\"text\":\"Attrition Status\"},\"tracegroupgap\":0},\"title\":{\"text\":\"Job Title by Attrition Status\"},\"barmode\":\"group\"},                        {\"responsive\": true}                    ).then(function(){\n",
       "                            \n",
       "var gd = document.getElementById('d5520945-a380-4efa-89f8-91fae1638718');\n",
       "var x = new MutationObserver(function (mutations, observer) {{\n",
       "        var display = window.getComputedStyle(gd).display;\n",
       "        if (!display || display === 'none') {{\n",
       "            console.log([gd, 'removed!']);\n",
       "            Plotly.purge(gd);\n",
       "            observer.disconnect();\n",
       "        }}\n",
       "}});\n",
       "\n",
       "// Listen for the removal of the full notebook cells\n",
       "var notebookContainer = gd.closest('#notebook-container');\n",
       "if (notebookContainer) {{\n",
       "    x.observe(notebookContainer, {childList: true});\n",
       "}}\n",
       "\n",
       "// Listen for the clearing of the current output cell\n",
       "var outputEl = gd.closest('.output');\n",
       "if (outputEl) {{\n",
       "    x.observe(outputEl, {childList: true});\n",
       "}}\n",
       "\n",
       "                        })                };                });            </script>        </div>"
      ]
     },
     "metadata": {},
     "output_type": "display_data"
    }
   ],
   "source": [
    "fig5 = px.histogram(emp_attrition, x='Job_Title', color='Attrition', barmode='group',\n",
    "                   title='Job Title by Attrition Status',\n",
    "                   labels={'Job_Title': 'Job Title', 'count': 'Number of Employees', 'Attrition': 'Attrition Status'})\n",
    "fig5.show()"
   ]
  },
  {
   "cell_type": "markdown",
   "id": "9a42ffff-d985-4b56-9256-440793f66f40",
   "metadata": {},
   "source": [
    "HR specialist has min attrition whereas Accountant has higher attrition rate "
   ]
  },
  {
   "cell_type": "code",
   "execution_count": 245,
   "id": "6f790598-964f-4730-8199-de92e6e7e1a9",
   "metadata": {},
   "outputs": [
    {
     "data": {
      "application/vnd.plotly.v1+json": {
       "config": {
        "plotlyServerURL": "https://plot.ly"
       },
       "data": [
        {
         "alignmentgroup": "True",
         "hovertemplate": "Job_Title=%{x}<br>Average_Monthly_Hours=%{y}<extra></extra>",
         "legendgroup": "",
         "marker": {
          "color": "#8D97FC"
         },
         "name": "",
         "notched": false,
         "offsetgroup": "",
         "orientation": "v",
         "showlegend": false,
         "type": "box",
         "x": [
          "Manager",
          "Engineer",
          "Analyst",
          "Manager",
          "Engineer",
          "HR Specialist",
          "HR Specialist",
          "Analyst",
          "Accountant",
          "Engineer",
          "HR Specialist",
          "Accountant",
          "Engineer",
          "Analyst",
          "Manager",
          "Accountant",
          "Accountant",
          "Accountant",
          "Manager",
          "Manager",
          "Manager",
          "HR Specialist",
          "Analyst",
          "HR Specialist",
          "Manager",
          "Engineer",
          "Analyst",
          "HR Specialist",
          "Accountant",
          "Analyst",
          "Analyst",
          "Analyst",
          "HR Specialist",
          "Accountant",
          "Accountant",
          "HR Specialist",
          "Analyst",
          "Accountant",
          "HR Specialist",
          "Accountant",
          "Analyst",
          "HR Specialist",
          "HR Specialist",
          "HR Specialist",
          "Engineer",
          "Accountant",
          "Accountant",
          "Manager",
          "Accountant",
          "HR Specialist",
          "HR Specialist",
          "HR Specialist",
          "HR Specialist",
          "Manager",
          "Accountant",
          "Accountant",
          "Engineer",
          "Accountant",
          "Engineer",
          "Analyst",
          "HR Specialist",
          "Accountant",
          "Engineer",
          "Accountant",
          "Accountant",
          "Analyst",
          "Accountant",
          "Analyst",
          "Analyst",
          "HR Specialist",
          "Analyst",
          "Engineer",
          "Engineer",
          "Analyst",
          "Manager",
          "Analyst",
          "Manager",
          "Accountant",
          "Manager",
          "Engineer",
          "Engineer",
          "Analyst",
          "Manager",
          "Analyst",
          "Analyst",
          "Analyst",
          "Analyst",
          "Engineer",
          "Accountant",
          "Engineer",
          "Engineer",
          "Engineer",
          "HR Specialist",
          "Analyst",
          "Analyst",
          "HR Specialist",
          "Accountant",
          "Engineer",
          "Manager",
          "Analyst",
          "Manager",
          "Engineer",
          "Manager",
          "Analyst",
          "Engineer",
          "Analyst",
          "Engineer",
          "Engineer",
          "Accountant",
          "Engineer",
          "Accountant",
          "Engineer",
          "Analyst",
          "HR Specialist",
          "Engineer",
          "Accountant",
          "Analyst",
          "Engineer",
          "HR Specialist",
          "Engineer",
          "HR Specialist",
          "Analyst",
          "Engineer",
          "HR Specialist",
          "Manager",
          "Engineer",
          "Engineer",
          "HR Specialist",
          "HR Specialist",
          "Analyst",
          "HR Specialist",
          "Manager",
          "Manager",
          "Analyst",
          "Analyst",
          "HR Specialist",
          "Analyst",
          "Manager",
          "HR Specialist",
          "Accountant",
          "Manager",
          "Engineer",
          "Manager",
          "Analyst",
          "HR Specialist",
          "Manager",
          "Engineer",
          "Analyst",
          "Engineer",
          "Analyst",
          "Engineer",
          "Engineer",
          "Accountant",
          "Manager",
          "Engineer",
          "Manager",
          "HR Specialist",
          "Engineer",
          "Engineer",
          "HR Specialist",
          "Manager",
          "Manager",
          "Manager",
          "Engineer",
          "Analyst",
          "Accountant",
          "Accountant",
          "Accountant",
          "Engineer",
          "HR Specialist",
          "Engineer",
          "Accountant",
          "Engineer",
          "Manager",
          "HR Specialist",
          "HR Specialist",
          "Analyst",
          "Manager",
          "Accountant",
          "Analyst",
          "Engineer",
          "Analyst",
          "Accountant",
          "Accountant",
          "HR Specialist",
          "HR Specialist",
          "Manager",
          "Manager",
          "Analyst",
          "Manager",
          "HR Specialist",
          "Manager",
          "Manager",
          "HR Specialist",
          "Manager",
          "Engineer",
          "HR Specialist",
          "Engineer",
          "HR Specialist",
          "Engineer",
          "Analyst",
          "HR Specialist",
          "Manager",
          "Accountant",
          "Engineer",
          "HR Specialist",
          "Engineer",
          "Analyst",
          "Engineer",
          "Analyst",
          "Analyst",
          "Manager",
          "Engineer",
          "Accountant",
          "HR Specialist",
          "Analyst",
          "Manager",
          "Engineer",
          "Accountant",
          "Analyst",
          "HR Specialist",
          "Engineer",
          "Engineer",
          "Engineer",
          "Manager",
          "Analyst",
          "HR Specialist",
          "HR Specialist",
          "Accountant",
          "Manager",
          "Manager",
          "Accountant",
          "Analyst",
          "Manager",
          "Manager",
          "Accountant",
          "Engineer",
          "Engineer",
          "HR Specialist",
          "Accountant",
          "Engineer",
          "Engineer",
          "Engineer",
          "Manager",
          "HR Specialist",
          "Analyst",
          "Accountant",
          "Analyst",
          "Manager",
          "Engineer",
          "HR Specialist",
          "Analyst",
          "Analyst",
          "Manager",
          "Engineer",
          "Analyst",
          "Analyst",
          "Analyst",
          "Manager",
          "Accountant",
          "Engineer",
          "HR Specialist",
          "Manager",
          "Manager",
          "Analyst",
          "Engineer",
          "HR Specialist",
          "Engineer",
          "Manager",
          "Manager",
          "Engineer",
          "Manager",
          "Accountant",
          "Analyst",
          "Engineer",
          "Manager",
          "Engineer",
          "Manager",
          "HR Specialist",
          "Analyst",
          "Engineer",
          "Engineer",
          "Engineer",
          "Engineer",
          "HR Specialist",
          "Manager",
          "Engineer",
          "Accountant",
          "Engineer",
          "Accountant",
          "Accountant",
          "Manager",
          "Engineer",
          "Analyst",
          "Manager",
          "HR Specialist",
          "Accountant",
          "Engineer",
          "Accountant",
          "Analyst",
          "HR Specialist",
          "Engineer",
          "Engineer",
          "Analyst",
          "Accountant",
          "Engineer",
          "Manager",
          "Accountant",
          "Manager",
          "HR Specialist",
          "HR Specialist",
          "Accountant",
          "Accountant",
          "Manager",
          "Manager",
          "Manager",
          "Manager",
          "HR Specialist",
          "Analyst",
          "HR Specialist",
          "Engineer",
          "HR Specialist",
          "HR Specialist",
          "HR Specialist",
          "HR Specialist",
          "Accountant",
          "HR Specialist",
          "Engineer",
          "Accountant",
          "Accountant",
          "Accountant",
          "Engineer",
          "Accountant",
          "HR Specialist",
          "Analyst",
          "Engineer",
          "HR Specialist",
          "Manager",
          "Accountant",
          "Analyst",
          "Manager",
          "Manager",
          "Manager",
          "Manager",
          "Manager",
          "Manager",
          "Manager",
          "Accountant",
          "Analyst",
          "Manager",
          "Manager",
          "Accountant",
          "Accountant",
          "Accountant",
          "Manager",
          "Analyst",
          "Accountant",
          "Analyst",
          "Accountant",
          "Engineer",
          "Analyst",
          "Manager",
          "Accountant",
          "Engineer",
          "Accountant",
          "HR Specialist",
          "Engineer",
          "Engineer",
          "Engineer",
          "HR Specialist",
          "Engineer",
          "Accountant",
          "HR Specialist",
          "Accountant",
          "HR Specialist",
          "Engineer",
          "HR Specialist",
          "Manager",
          "Engineer",
          "Engineer",
          "Accountant",
          "Manager",
          "Analyst",
          "Engineer",
          "Engineer",
          "Manager",
          "Analyst",
          "Analyst",
          "Engineer",
          "HR Specialist",
          "HR Specialist",
          "Accountant",
          "Accountant",
          "Manager",
          "HR Specialist",
          "Accountant",
          "Engineer",
          "Analyst",
          "Engineer",
          "Analyst",
          "Accountant",
          "Manager",
          "Manager",
          "Analyst",
          "Accountant",
          "Analyst",
          "Engineer",
          "Manager",
          "Accountant",
          "Engineer",
          "Analyst",
          "Manager",
          "Accountant",
          "Engineer",
          "Analyst",
          "Manager",
          "HR Specialist",
          "Engineer",
          "HR Specialist",
          "Manager",
          "Manager",
          "Manager",
          "Engineer",
          "Manager",
          "Accountant",
          "Manager",
          "Accountant",
          "HR Specialist",
          "Accountant",
          "Analyst",
          "Manager",
          "Analyst",
          "Accountant",
          "Analyst",
          "Analyst",
          "Engineer",
          "Engineer",
          "Accountant",
          "Accountant",
          "Manager",
          "HR Specialist",
          "Accountant",
          "Analyst",
          "Accountant",
          "Manager",
          "Analyst",
          "Analyst",
          "Analyst",
          "Accountant",
          "Accountant",
          "Manager",
          "Engineer",
          "HR Specialist",
          "Manager",
          "HR Specialist",
          "Analyst",
          "Manager",
          "Engineer",
          "Accountant",
          "Analyst",
          "HR Specialist",
          "Analyst",
          "Analyst",
          "Manager",
          "Accountant",
          "Manager",
          "Accountant",
          "Manager",
          "Accountant",
          "Engineer",
          "Accountant",
          "Engineer",
          "Manager",
          "Accountant",
          "Engineer",
          "HR Specialist",
          "Engineer",
          "Engineer",
          "Manager",
          "Analyst",
          "Engineer",
          "Accountant",
          "Manager",
          "Accountant",
          "Engineer",
          "Manager",
          "Analyst",
          "Analyst",
          "Accountant",
          "Manager",
          "Accountant",
          "Analyst",
          "Accountant",
          "HR Specialist",
          "Engineer",
          "Analyst",
          "HR Specialist",
          "Analyst",
          "Engineer",
          "Analyst",
          "Analyst",
          "Manager",
          "HR Specialist",
          "Accountant",
          "Analyst",
          "Engineer",
          "Analyst",
          "Engineer",
          "HR Specialist",
          "Accountant",
          "Analyst",
          "Accountant",
          "Accountant",
          "Engineer",
          "Analyst",
          "Manager",
          "Analyst",
          "Manager",
          "Manager",
          "HR Specialist",
          "HR Specialist",
          "Manager",
          "Analyst",
          "HR Specialist",
          "HR Specialist",
          "HR Specialist",
          "Engineer",
          "Manager",
          "Analyst",
          "HR Specialist",
          "Engineer",
          "Analyst",
          "Analyst",
          "Analyst",
          "Analyst",
          "Analyst",
          "HR Specialist",
          "Engineer",
          "Analyst",
          "Analyst",
          "Manager",
          "Accountant",
          "Analyst",
          "Engineer",
          "Manager",
          "Analyst",
          "Accountant",
          "Accountant",
          "Accountant",
          "Manager",
          "Manager",
          "Engineer",
          "Manager",
          "Engineer",
          "Accountant",
          "HR Specialist",
          "Accountant",
          "Manager",
          "Analyst",
          "Manager",
          "Engineer",
          "HR Specialist",
          "Manager",
          "Manager",
          "Analyst",
          "Accountant",
          "Engineer",
          "Engineer",
          "Engineer",
          "Accountant",
          "Manager",
          "HR Specialist",
          "HR Specialist",
          "Analyst",
          "Engineer",
          "Manager",
          "Analyst",
          "Accountant",
          "Accountant",
          "Analyst",
          "Analyst",
          "Accountant",
          "HR Specialist",
          "HR Specialist",
          "Engineer",
          "HR Specialist",
          "Accountant",
          "Engineer",
          "Analyst",
          "Engineer",
          "Engineer",
          "HR Specialist",
          "Accountant",
          "Manager",
          "Analyst",
          "Accountant",
          "Engineer",
          "HR Specialist",
          "Engineer",
          "Engineer",
          "HR Specialist",
          "Engineer",
          "HR Specialist",
          "Manager",
          "Analyst",
          "Engineer",
          "Analyst",
          "Analyst",
          "Manager",
          "Analyst",
          "Accountant",
          "Manager",
          "HR Specialist",
          "HR Specialist",
          "Engineer",
          "Accountant",
          "Manager",
          "Accountant",
          "Manager",
          "HR Specialist",
          "Analyst",
          "Accountant",
          "Engineer",
          "Accountant",
          "Manager",
          "HR Specialist",
          "Engineer",
          "Engineer",
          "Engineer",
          "Accountant",
          "Accountant",
          "Manager",
          "Analyst",
          "Engineer",
          "Engineer",
          "Analyst",
          "HR Specialist",
          "Accountant",
          "Engineer",
          "Manager",
          "Accountant",
          "Engineer",
          "Analyst",
          "Manager",
          "Manager",
          "Accountant",
          "Engineer",
          "Engineer",
          "Manager",
          "Analyst",
          "Engineer",
          "Analyst",
          "Analyst",
          "Engineer",
          "Analyst",
          "Accountant",
          "Engineer",
          "Engineer",
          "HR Specialist",
          "Engineer",
          "Manager",
          "Manager",
          "Analyst",
          "Engineer",
          "Engineer",
          "Accountant",
          "Accountant",
          "Engineer",
          "HR Specialist",
          "Analyst",
          "Manager",
          "Accountant",
          "Accountant",
          "Analyst",
          "Manager",
          "Analyst",
          "Manager",
          "Manager",
          "Manager",
          "Engineer",
          "Manager",
          "Engineer",
          "Manager",
          "HR Specialist",
          "Accountant",
          "HR Specialist",
          "Manager",
          "Engineer",
          "Analyst",
          "Engineer",
          "Manager",
          "HR Specialist",
          "Engineer",
          "HR Specialist",
          "Engineer",
          "Analyst",
          "Manager",
          "Accountant",
          "Accountant",
          "Manager",
          "Manager",
          "Engineer",
          "HR Specialist",
          "Manager",
          "HR Specialist",
          "Accountant",
          "Accountant",
          "Manager",
          "Engineer",
          "Manager",
          "Analyst",
          "HR Specialist",
          "Engineer",
          "Engineer",
          "Engineer",
          "Engineer",
          "Engineer",
          "Analyst",
          "Engineer",
          "Accountant",
          "Accountant",
          "HR Specialist",
          "Manager",
          "HR Specialist",
          "Accountant",
          "Analyst",
          "Manager",
          "Analyst",
          "Analyst",
          "Manager",
          "Accountant",
          "Engineer",
          "HR Specialist",
          "Accountant",
          "Analyst",
          "Accountant",
          "Accountant",
          "HR Specialist",
          "Accountant",
          "Analyst",
          "Engineer",
          "HR Specialist",
          "Manager",
          "Manager",
          "Accountant",
          "Accountant",
          "Accountant",
          "HR Specialist",
          "Accountant",
          "Accountant",
          "Manager",
          "Manager",
          "HR Specialist",
          "HR Specialist",
          "Engineer",
          "Accountant",
          "Engineer",
          "Manager",
          "Engineer",
          "HR Specialist",
          "Manager",
          "Manager",
          "Analyst",
          "Manager",
          "Engineer",
          "Analyst",
          "Manager",
          "Engineer",
          "Accountant",
          "HR Specialist",
          "Accountant",
          "Analyst",
          "Engineer",
          "Manager",
          "Analyst",
          "HR Specialist",
          "Engineer",
          "Engineer",
          "HR Specialist",
          "HR Specialist",
          "Accountant",
          "Manager",
          "Manager",
          "Analyst",
          "Manager",
          "Engineer",
          "Manager",
          "Manager",
          "Manager",
          "Analyst",
          "Engineer",
          "HR Specialist",
          "HR Specialist",
          "Engineer",
          "Accountant",
          "Manager",
          "Accountant",
          "Manager",
          "Accountant",
          "Engineer",
          "Analyst",
          "Analyst",
          "HR Specialist",
          "Accountant",
          "HR Specialist",
          "Manager",
          "HR Specialist",
          "Accountant",
          "Accountant",
          "Accountant",
          "Manager",
          "HR Specialist",
          "HR Specialist",
          "HR Specialist",
          "HR Specialist",
          "HR Specialist",
          "Engineer",
          "Engineer",
          "HR Specialist",
          "Accountant",
          "Analyst",
          "Analyst",
          "Engineer",
          "Manager",
          "Manager",
          "Engineer",
          "Accountant",
          "Manager",
          "Accountant",
          "HR Specialist",
          "Engineer",
          "Analyst",
          "Engineer",
          "HR Specialist",
          "Manager",
          "HR Specialist",
          "HR Specialist",
          "Accountant",
          "Accountant",
          "Analyst",
          "Manager",
          "Analyst",
          "Analyst",
          "Accountant",
          "Analyst",
          "Analyst",
          "Accountant",
          "HR Specialist",
          "HR Specialist",
          "Accountant",
          "Engineer",
          "HR Specialist",
          "Manager",
          "Accountant",
          "Engineer",
          "Analyst",
          "Analyst",
          "Accountant",
          "Analyst",
          "Accountant",
          "Manager",
          "Analyst",
          "Manager",
          "Accountant",
          "Analyst",
          "HR Specialist",
          "Accountant",
          "Manager",
          "Analyst",
          "HR Specialist",
          "Engineer",
          "Accountant",
          "Accountant",
          "Accountant",
          "Analyst",
          "Accountant",
          "HR Specialist",
          "HR Specialist",
          "Accountant",
          "Accountant",
          "Engineer",
          "Analyst",
          "Manager",
          "Accountant",
          "Manager",
          "Manager",
          "Accountant",
          "Manager",
          "HR Specialist",
          "Engineer",
          "Analyst",
          "Engineer",
          "HR Specialist",
          "Engineer",
          "Manager",
          "Manager",
          "Manager",
          "Engineer",
          "Engineer",
          "Manager",
          "HR Specialist",
          "Accountant",
          "Analyst",
          "HR Specialist",
          "Manager",
          "HR Specialist",
          "HR Specialist",
          "Engineer",
          "Accountant",
          "Accountant",
          "Analyst",
          "Engineer",
          "Accountant",
          "Accountant",
          "Analyst",
          "Analyst",
          "HR Specialist",
          "Accountant",
          "Engineer",
          "HR Specialist",
          "Manager",
          "HR Specialist",
          "Accountant",
          "Analyst",
          "Engineer",
          "Analyst",
          "Manager",
          "Manager",
          "Manager",
          "Engineer",
          "Accountant",
          "Accountant",
          "Accountant",
          "Manager",
          "Analyst",
          "Analyst",
          "HR Specialist",
          "Analyst",
          "Manager",
          "HR Specialist",
          "HR Specialist",
          "HR Specialist",
          "Analyst",
          "Accountant",
          "Engineer",
          "Accountant",
          "Analyst",
          "Accountant",
          "Analyst",
          "Manager",
          "HR Specialist",
          "Engineer",
          "Accountant",
          "Accountant",
          "Accountant",
          "HR Specialist",
          "Engineer",
          "Accountant",
          "Manager",
          "Engineer",
          "Manager",
          "Accountant",
          "Manager",
          "Accountant",
          "HR Specialist",
          "Engineer",
          "HR Specialist",
          "Analyst",
          "HR Specialist",
          "Analyst",
          "Analyst",
          "Manager",
          "HR Specialist",
          "Engineer",
          "Analyst",
          "Engineer",
          "Manager",
          "Accountant",
          "Analyst",
          "Accountant",
          "Manager",
          "HR Specialist",
          "Engineer",
          "Analyst",
          "Analyst",
          "HR Specialist",
          "Accountant",
          "Accountant",
          "Engineer",
          "Engineer",
          "Accountant",
          "Manager",
          "Analyst",
          "Analyst",
          "HR Specialist",
          "HR Specialist",
          "Manager",
          "Analyst",
          "HR Specialist",
          "HR Specialist"
         ],
         "x0": " ",
         "xaxis": "x",
         "y": [
          151,
          221,
          184,
          242,
          229,
          237,
          155,
          171,
          177,
          170,
          178,
          158,
          180,
          249,
          242,
          199,
          222,
          169,
          193,
          154,
          211,
          172,
          191,
          216,
          160,
          162,
          224,
          156,
          183,
          194,
          191,
          203,
          237,
          172,
          154,
          212,
          220,
          247,
          247,
          201,
          222,
          161,
          162,
          214,
          226,
          153,
          186,
          177,
          200,
          217,
          228,
          223,
          209,
          233,
          229,
          249,
          238,
          236,
          173,
          196,
          195,
          160,
          214,
          214,
          220,
          165,
          245,
          202,
          212,
          165,
          168,
          154,
          168,
          185,
          225,
          226,
          184,
          178,
          190,
          218,
          227,
          192,
          153,
          167,
          173,
          204,
          218,
          157,
          163,
          237,
          196,
          238,
          158,
          214,
          211,
          200,
          176,
          194,
          201,
          225,
          150,
          165,
          244,
          187,
          161,
          209,
          207,
          182,
          211,
          244,
          209,
          154,
          224,
          201,
          160,
          189,
          222,
          226,
          169,
          239,
          199,
          246,
          207,
          178,
          184,
          232,
          218,
          154,
          235,
          154,
          218,
          165,
          210,
          201,
          161,
          240,
          245,
          238,
          247,
          200,
          194,
          238,
          156,
          190,
          175,
          202,
          241,
          199,
          217,
          203,
          243,
          249,
          181,
          200,
          243,
          159,
          211,
          240,
          215,
          167,
          249,
          225,
          187,
          206,
          151,
          200,
          190,
          156,
          232,
          165,
          190,
          162,
          188,
          243,
          163,
          236,
          225,
          171,
          156,
          218,
          212,
          215,
          224,
          200,
          237,
          242,
          245,
          169,
          192,
          184,
          153,
          190,
          242,
          177,
          168,
          186,
          178,
          188,
          243,
          219,
          171,
          171,
          169,
          165,
          213,
          186,
          168,
          169,
          210,
          160,
          245,
          186,
          223,
          153,
          242,
          219,
          151,
          217,
          239,
          172,
          228,
          166,
          185,
          150,
          231,
          169,
          195,
          193,
          212,
          202,
          248,
          172,
          188,
          160,
          225,
          229,
          224,
          150,
          232,
          202,
          165,
          150,
          166,
          206,
          158,
          236,
          164,
          204,
          220,
          213,
          167,
          200,
          216,
          171,
          211,
          219,
          241,
          202,
          151,
          199,
          191,
          151,
          174,
          159,
          159,
          186,
          207,
          210,
          249,
          195,
          181,
          166,
          178,
          181,
          171,
          187,
          184,
          211,
          192,
          185,
          226,
          170,
          174,
          163,
          192,
          206,
          242,
          237,
          176,
          187,
          169,
          233,
          226,
          248,
          247,
          169,
          234,
          152,
          241,
          215,
          246,
          155,
          170,
          233,
          162,
          246,
          206,
          151,
          197,
          211,
          239,
          236,
          185,
          216,
          174,
          225,
          206,
          154,
          201,
          228,
          213,
          248,
          181,
          238,
          241,
          208,
          152,
          186,
          156,
          167,
          207,
          164,
          176,
          190,
          245,
          178,
          227,
          216,
          167,
          207,
          195,
          156,
          151,
          246,
          221,
          157,
          150,
          241,
          153,
          178,
          196,
          155,
          221,
          229,
          154,
          183,
          207,
          220,
          167,
          160,
          206,
          150,
          225,
          192,
          156,
          155,
          234,
          194,
          200,
          191,
          213,
          213,
          187,
          168,
          180,
          175,
          245,
          247,
          159,
          166,
          211,
          229,
          247,
          209,
          214,
          193,
          219,
          190,
          153,
          213,
          220,
          219,
          151,
          243,
          158,
          220,
          184,
          205,
          214,
          204,
          179,
          206,
          243,
          157,
          212,
          225,
          215,
          151,
          218,
          186,
          187,
          167,
          197,
          215,
          188,
          155,
          215,
          155,
          156,
          170,
          195,
          223,
          175,
          171,
          182,
          196,
          194,
          195,
          213,
          225,
          161,
          249,
          222,
          192,
          162,
          159,
          229,
          249,
          172,
          226,
          223,
          233,
          189,
          234,
          199,
          243,
          182,
          161,
          237,
          183,
          227,
          204,
          233,
          194,
          162,
          181,
          233,
          171,
          229,
          184,
          233,
          246,
          221,
          152,
          153,
          237,
          233,
          232,
          209,
          150,
          180,
          215,
          190,
          248,
          165,
          155,
          211,
          161,
          205,
          203,
          233,
          204,
          237,
          215,
          211,
          230,
          170,
          178,
          213,
          202,
          213,
          170,
          215,
          220,
          153,
          189,
          229,
          198,
          195,
          182,
          231,
          164,
          232,
          177,
          164,
          183,
          201,
          160,
          238,
          166,
          169,
          220,
          162,
          246,
          170,
          205,
          239,
          221,
          219,
          232,
          204,
          211,
          227,
          249,
          234,
          156,
          245,
          219,
          227,
          189,
          235,
          217,
          217,
          186,
          222,
          202,
          152,
          232,
          162,
          184,
          178,
          195,
          151,
          232,
          172,
          156,
          229,
          168,
          186,
          230,
          161,
          223,
          205,
          203,
          194,
          185,
          222,
          194,
          174,
          226,
          195,
          198,
          223,
          232,
          240,
          232,
          216,
          175,
          169,
          245,
          178,
          185,
          214,
          169,
          242,
          223,
          246,
          207,
          161,
          235,
          228,
          245,
          212,
          227,
          244,
          175,
          183,
          180,
          223,
          221,
          228,
          173,
          150,
          176,
          186,
          216,
          168,
          242,
          207,
          223,
          216,
          170,
          230,
          223,
          248,
          204,
          249,
          248,
          241,
          183,
          161,
          196,
          241,
          150,
          241,
          175,
          191,
          230,
          243,
          228,
          165,
          216,
          194,
          203,
          193,
          170,
          155,
          158,
          240,
          249,
          229,
          198,
          216,
          221,
          226,
          173,
          183,
          221,
          228,
          221,
          217,
          157,
          173,
          163,
          175,
          150,
          225,
          214,
          184,
          210,
          248,
          220,
          200,
          210,
          154,
          222,
          230,
          213,
          187,
          170,
          167,
          157,
          163,
          215,
          173,
          214,
          233,
          202,
          238,
          239,
          150,
          184,
          245,
          238,
          239,
          201,
          213,
          230,
          155,
          218,
          150,
          168,
          159,
          237,
          178,
          160,
          236,
          169,
          177,
          235,
          173,
          240,
          177,
          182,
          190,
          218,
          169,
          229,
          165,
          173,
          239,
          179,
          160,
          248,
          160,
          214,
          165,
          218,
          217,
          152,
          156,
          203,
          193,
          183,
          177,
          186,
          181,
          224,
          167,
          242,
          247,
          216,
          181,
          184,
          238,
          242,
          167,
          187,
          195,
          208,
          178,
          214,
          161,
          159,
          192,
          210,
          203,
          173,
          235,
          227,
          199,
          151,
          202,
          248,
          211,
          218,
          154,
          246,
          161,
          243,
          202,
          176,
          153,
          210,
          240,
          192,
          193,
          246,
          209,
          172,
          161,
          164,
          183,
          166,
          216,
          163,
          225,
          229,
          227,
          152,
          222,
          202,
          243,
          222,
          205,
          152,
          230,
          221,
          158,
          179,
          195,
          195,
          233,
          153,
          239,
          217,
          241,
          158,
          241,
          242,
          171,
          156,
          189,
          152,
          192,
          239,
          167,
          235,
          191,
          210,
          188,
          248,
          179,
          189,
          169,
          223,
          196,
          171,
          166,
          221,
          196,
          216,
          198,
          163,
          208,
          165,
          238,
          169,
          159,
          232,
          211,
          214,
          242,
          228,
          205,
          193,
          155,
          206,
          239,
          222,
          218,
          168,
          165,
          158,
          176,
          183,
          189,
          175,
          248,
          202,
          200,
          229,
          211,
          221,
          246,
          196,
          188,
          205,
          228,
          222,
          231,
          214,
          175,
          152,
          180,
          174,
          213,
          213,
          228,
          153,
          210,
          248,
          226,
          246,
          235,
          230,
          176,
          233,
          196,
          240,
          152,
          221,
          228,
          216,
          242,
          242,
          182,
          182,
          207,
          190,
          219,
          243,
          222,
          228,
          150,
          219,
          239,
          215,
          201,
          239,
          222,
          191,
          155,
          180,
          187,
          198,
          190,
          227,
          204,
          156,
          184,
          165,
          168,
          170,
          187,
          197,
          208,
          233,
          241,
          241,
          241,
          152,
          183,
          219,
          235,
          157,
          153,
          153,
          237,
          228,
          188,
          211,
          209,
          168,
          240,
          228,
          202,
          159,
          212,
          241,
          168,
          152,
          188,
          180,
          195,
          202,
          151,
          233,
          203,
          249,
          155,
          175,
          215,
          228,
          150,
          180,
          194,
          209,
          216,
          214,
          246,
          244,
          192,
          165,
          229,
          234,
          193,
          182,
          243,
          169,
          152,
          167,
          158,
          209,
          185,
          179,
          173,
          185,
          195,
          235,
          192,
          164,
          177,
          249,
          206,
          156,
          207,
          157,
          216,
          164,
          242,
          235,
          198,
          173,
          210,
          216,
          194,
          211,
          221,
          210,
          182,
          243,
          176,
          193,
          186,
          239,
          154,
          206,
          241,
          159
         ],
         "y0": " ",
         "yaxis": "y"
        }
       ],
       "layout": {
        "autosize": true,
        "boxmode": "group",
        "legend": {
         "tracegroupgap": 0
        },
        "template": {
         "data": {
          "bar": [
           {
            "error_x": {
             "color": "#2a3f5f"
            },
            "error_y": {
             "color": "#2a3f5f"
            },
            "marker": {
             "line": {
              "color": "#E5ECF6",
              "width": 0.5
             },
             "pattern": {
              "fillmode": "overlay",
              "size": 10,
              "solidity": 0.2
             }
            },
            "type": "bar"
           }
          ],
          "barpolar": [
           {
            "marker": {
             "line": {
              "color": "#E5ECF6",
              "width": 0.5
             },
             "pattern": {
              "fillmode": "overlay",
              "size": 10,
              "solidity": 0.2
             }
            },
            "type": "barpolar"
           }
          ],
          "carpet": [
           {
            "aaxis": {
             "endlinecolor": "#2a3f5f",
             "gridcolor": "white",
             "linecolor": "white",
             "minorgridcolor": "white",
             "startlinecolor": "#2a3f5f"
            },
            "baxis": {
             "endlinecolor": "#2a3f5f",
             "gridcolor": "white",
             "linecolor": "white",
             "minorgridcolor": "white",
             "startlinecolor": "#2a3f5f"
            },
            "type": "carpet"
           }
          ],
          "choropleth": [
           {
            "colorbar": {
             "outlinewidth": 0,
             "ticks": ""
            },
            "type": "choropleth"
           }
          ],
          "contour": [
           {
            "colorbar": {
             "outlinewidth": 0,
             "ticks": ""
            },
            "colorscale": [
             [
              0,
              "#0d0887"
             ],
             [
              0.1111111111111111,
              "#46039f"
             ],
             [
              0.2222222222222222,
              "#7201a8"
             ],
             [
              0.3333333333333333,
              "#9c179e"
             ],
             [
              0.4444444444444444,
              "#bd3786"
             ],
             [
              0.5555555555555556,
              "#d8576b"
             ],
             [
              0.6666666666666666,
              "#ed7953"
             ],
             [
              0.7777777777777778,
              "#fb9f3a"
             ],
             [
              0.8888888888888888,
              "#fdca26"
             ],
             [
              1,
              "#f0f921"
             ]
            ],
            "type": "contour"
           }
          ],
          "contourcarpet": [
           {
            "colorbar": {
             "outlinewidth": 0,
             "ticks": ""
            },
            "type": "contourcarpet"
           }
          ],
          "heatmap": [
           {
            "colorbar": {
             "outlinewidth": 0,
             "ticks": ""
            },
            "colorscale": [
             [
              0,
              "#0d0887"
             ],
             [
              0.1111111111111111,
              "#46039f"
             ],
             [
              0.2222222222222222,
              "#7201a8"
             ],
             [
              0.3333333333333333,
              "#9c179e"
             ],
             [
              0.4444444444444444,
              "#bd3786"
             ],
             [
              0.5555555555555556,
              "#d8576b"
             ],
             [
              0.6666666666666666,
              "#ed7953"
             ],
             [
              0.7777777777777778,
              "#fb9f3a"
             ],
             [
              0.8888888888888888,
              "#fdca26"
             ],
             [
              1,
              "#f0f921"
             ]
            ],
            "type": "heatmap"
           }
          ],
          "heatmapgl": [
           {
            "colorbar": {
             "outlinewidth": 0,
             "ticks": ""
            },
            "colorscale": [
             [
              0,
              "#0d0887"
             ],
             [
              0.1111111111111111,
              "#46039f"
             ],
             [
              0.2222222222222222,
              "#7201a8"
             ],
             [
              0.3333333333333333,
              "#9c179e"
             ],
             [
              0.4444444444444444,
              "#bd3786"
             ],
             [
              0.5555555555555556,
              "#d8576b"
             ],
             [
              0.6666666666666666,
              "#ed7953"
             ],
             [
              0.7777777777777778,
              "#fb9f3a"
             ],
             [
              0.8888888888888888,
              "#fdca26"
             ],
             [
              1,
              "#f0f921"
             ]
            ],
            "type": "heatmapgl"
           }
          ],
          "histogram": [
           {
            "marker": {
             "pattern": {
              "fillmode": "overlay",
              "size": 10,
              "solidity": 0.2
             }
            },
            "type": "histogram"
           }
          ],
          "histogram2d": [
           {
            "colorbar": {
             "outlinewidth": 0,
             "ticks": ""
            },
            "colorscale": [
             [
              0,
              "#0d0887"
             ],
             [
              0.1111111111111111,
              "#46039f"
             ],
             [
              0.2222222222222222,
              "#7201a8"
             ],
             [
              0.3333333333333333,
              "#9c179e"
             ],
             [
              0.4444444444444444,
              "#bd3786"
             ],
             [
              0.5555555555555556,
              "#d8576b"
             ],
             [
              0.6666666666666666,
              "#ed7953"
             ],
             [
              0.7777777777777778,
              "#fb9f3a"
             ],
             [
              0.8888888888888888,
              "#fdca26"
             ],
             [
              1,
              "#f0f921"
             ]
            ],
            "type": "histogram2d"
           }
          ],
          "histogram2dcontour": [
           {
            "colorbar": {
             "outlinewidth": 0,
             "ticks": ""
            },
            "colorscale": [
             [
              0,
              "#0d0887"
             ],
             [
              0.1111111111111111,
              "#46039f"
             ],
             [
              0.2222222222222222,
              "#7201a8"
             ],
             [
              0.3333333333333333,
              "#9c179e"
             ],
             [
              0.4444444444444444,
              "#bd3786"
             ],
             [
              0.5555555555555556,
              "#d8576b"
             ],
             [
              0.6666666666666666,
              "#ed7953"
             ],
             [
              0.7777777777777778,
              "#fb9f3a"
             ],
             [
              0.8888888888888888,
              "#fdca26"
             ],
             [
              1,
              "#f0f921"
             ]
            ],
            "type": "histogram2dcontour"
           }
          ],
          "mesh3d": [
           {
            "colorbar": {
             "outlinewidth": 0,
             "ticks": ""
            },
            "type": "mesh3d"
           }
          ],
          "parcoords": [
           {
            "line": {
             "colorbar": {
              "outlinewidth": 0,
              "ticks": ""
             }
            },
            "type": "parcoords"
           }
          ],
          "pie": [
           {
            "automargin": true,
            "type": "pie"
           }
          ],
          "scatter": [
           {
            "fillpattern": {
             "fillmode": "overlay",
             "size": 10,
             "solidity": 0.2
            },
            "type": "scatter"
           }
          ],
          "scatter3d": [
           {
            "line": {
             "colorbar": {
              "outlinewidth": 0,
              "ticks": ""
             }
            },
            "marker": {
             "colorbar": {
              "outlinewidth": 0,
              "ticks": ""
             }
            },
            "type": "scatter3d"
           }
          ],
          "scattercarpet": [
           {
            "marker": {
             "colorbar": {
              "outlinewidth": 0,
              "ticks": ""
             }
            },
            "type": "scattercarpet"
           }
          ],
          "scattergeo": [
           {
            "marker": {
             "colorbar": {
              "outlinewidth": 0,
              "ticks": ""
             }
            },
            "type": "scattergeo"
           }
          ],
          "scattergl": [
           {
            "marker": {
             "colorbar": {
              "outlinewidth": 0,
              "ticks": ""
             }
            },
            "type": "scattergl"
           }
          ],
          "scattermapbox": [
           {
            "marker": {
             "colorbar": {
              "outlinewidth": 0,
              "ticks": ""
             }
            },
            "type": "scattermapbox"
           }
          ],
          "scatterpolar": [
           {
            "marker": {
             "colorbar": {
              "outlinewidth": 0,
              "ticks": ""
             }
            },
            "type": "scatterpolar"
           }
          ],
          "scatterpolargl": [
           {
            "marker": {
             "colorbar": {
              "outlinewidth": 0,
              "ticks": ""
             }
            },
            "type": "scatterpolargl"
           }
          ],
          "scatterternary": [
           {
            "marker": {
             "colorbar": {
              "outlinewidth": 0,
              "ticks": ""
             }
            },
            "type": "scatterternary"
           }
          ],
          "surface": [
           {
            "colorbar": {
             "outlinewidth": 0,
             "ticks": ""
            },
            "colorscale": [
             [
              0,
              "#0d0887"
             ],
             [
              0.1111111111111111,
              "#46039f"
             ],
             [
              0.2222222222222222,
              "#7201a8"
             ],
             [
              0.3333333333333333,
              "#9c179e"
             ],
             [
              0.4444444444444444,
              "#bd3786"
             ],
             [
              0.5555555555555556,
              "#d8576b"
             ],
             [
              0.6666666666666666,
              "#ed7953"
             ],
             [
              0.7777777777777778,
              "#fb9f3a"
             ],
             [
              0.8888888888888888,
              "#fdca26"
             ],
             [
              1,
              "#f0f921"
             ]
            ],
            "type": "surface"
           }
          ],
          "table": [
           {
            "cells": {
             "fill": {
              "color": "#EBF0F8"
             },
             "line": {
              "color": "white"
             }
            },
            "header": {
             "fill": {
              "color": "#C8D4E3"
             },
             "line": {
              "color": "white"
             }
            },
            "type": "table"
           }
          ]
         },
         "layout": {
          "annotationdefaults": {
           "arrowcolor": "#2a3f5f",
           "arrowhead": 0,
           "arrowwidth": 1
          },
          "autotypenumbers": "strict",
          "coloraxis": {
           "colorbar": {
            "outlinewidth": 0,
            "ticks": ""
           }
          },
          "colorscale": {
           "diverging": [
            [
             0,
             "#8e0152"
            ],
            [
             0.1,
             "#c51b7d"
            ],
            [
             0.2,
             "#de77ae"
            ],
            [
             0.3,
             "#f1b6da"
            ],
            [
             0.4,
             "#fde0ef"
            ],
            [
             0.5,
             "#f7f7f7"
            ],
            [
             0.6,
             "#e6f5d0"
            ],
            [
             0.7,
             "#b8e186"
            ],
            [
             0.8,
             "#7fbc41"
            ],
            [
             0.9,
             "#4d9221"
            ],
            [
             1,
             "#276419"
            ]
           ],
           "sequential": [
            [
             0,
             "#0d0887"
            ],
            [
             0.1111111111111111,
             "#46039f"
            ],
            [
             0.2222222222222222,
             "#7201a8"
            ],
            [
             0.3333333333333333,
             "#9c179e"
            ],
            [
             0.4444444444444444,
             "#bd3786"
            ],
            [
             0.5555555555555556,
             "#d8576b"
            ],
            [
             0.6666666666666666,
             "#ed7953"
            ],
            [
             0.7777777777777778,
             "#fb9f3a"
            ],
            [
             0.8888888888888888,
             "#fdca26"
            ],
            [
             1,
             "#f0f921"
            ]
           ],
           "sequentialminus": [
            [
             0,
             "#0d0887"
            ],
            [
             0.1111111111111111,
             "#46039f"
            ],
            [
             0.2222222222222222,
             "#7201a8"
            ],
            [
             0.3333333333333333,
             "#9c179e"
            ],
            [
             0.4444444444444444,
             "#bd3786"
            ],
            [
             0.5555555555555556,
             "#d8576b"
            ],
            [
             0.6666666666666666,
             "#ed7953"
            ],
            [
             0.7777777777777778,
             "#fb9f3a"
            ],
            [
             0.8888888888888888,
             "#fdca26"
            ],
            [
             1,
             "#f0f921"
            ]
           ]
          },
          "colorway": [
           "#636efa",
           "#EF553B",
           "#00cc96",
           "#ab63fa",
           "#FFA15A",
           "#19d3f3",
           "#FF6692",
           "#B6E880",
           "#FF97FF",
           "#FECB52"
          ],
          "font": {
           "color": "#2a3f5f"
          },
          "geo": {
           "bgcolor": "white",
           "lakecolor": "white",
           "landcolor": "#E5ECF6",
           "showlakes": true,
           "showland": true,
           "subunitcolor": "white"
          },
          "hoverlabel": {
           "align": "left"
          },
          "hovermode": "closest",
          "mapbox": {
           "style": "light"
          },
          "paper_bgcolor": "white",
          "plot_bgcolor": "#E5ECF6",
          "polar": {
           "angularaxis": {
            "gridcolor": "white",
            "linecolor": "white",
            "ticks": ""
           },
           "bgcolor": "#E5ECF6",
           "radialaxis": {
            "gridcolor": "white",
            "linecolor": "white",
            "ticks": ""
           }
          },
          "scene": {
           "xaxis": {
            "backgroundcolor": "#E5ECF6",
            "gridcolor": "white",
            "gridwidth": 2,
            "linecolor": "white",
            "showbackground": true,
            "ticks": "",
            "zerolinecolor": "white"
           },
           "yaxis": {
            "backgroundcolor": "#E5ECF6",
            "gridcolor": "white",
            "gridwidth": 2,
            "linecolor": "white",
            "showbackground": true,
            "ticks": "",
            "zerolinecolor": "white"
           },
           "zaxis": {
            "backgroundcolor": "#E5ECF6",
            "gridcolor": "white",
            "gridwidth": 2,
            "linecolor": "white",
            "showbackground": true,
            "ticks": "",
            "zerolinecolor": "white"
           }
          },
          "shapedefaults": {
           "line": {
            "color": "#2a3f5f"
           }
          },
          "ternary": {
           "aaxis": {
            "gridcolor": "white",
            "linecolor": "white",
            "ticks": ""
           },
           "baxis": {
            "gridcolor": "white",
            "linecolor": "white",
            "ticks": ""
           },
           "bgcolor": "#E5ECF6",
           "caxis": {
            "gridcolor": "white",
            "linecolor": "white",
            "ticks": ""
           }
          },
          "title": {
           "x": 0.05
          },
          "xaxis": {
           "automargin": true,
           "gridcolor": "white",
           "linecolor": "white",
           "ticks": "",
           "title": {
            "standoff": 15
           },
           "zerolinecolor": "white",
           "zerolinewidth": 2
          },
          "yaxis": {
           "automargin": true,
           "gridcolor": "white",
           "linecolor": "white",
           "ticks": "",
           "title": {
            "standoff": 15
           },
           "zerolinecolor": "white",
           "zerolinewidth": 2
          }
         }
        },
        "title": {
         "text": "Average_Monthly_Hours by Job_Title"
        },
        "xaxis": {
         "anchor": "y",
         "autorange": true,
         "domain": [
          0,
          1
         ],
         "range": [
          -0.5,
          4.5
         ],
         "title": {
          "text": "Job_Title"
         },
         "type": "category"
        },
        "yaxis": {
         "anchor": "x",
         "autorange": true,
         "domain": [
          0,
          1
         ],
         "range": [
          144.5,
          254.5
         ],
         "title": {
          "text": "Average_Monthly_Hours"
         },
         "type": "linear"
        }
       }
      },
      "image/png": "[encoded data removed]",
      "text/html": [
       "<div>                            <div id=\"9e6e9586-ab83-426a-bd5d-a86f9f0194c0\" class=\"plotly-graph-div\" style=\"height:525px; width:100%;\"></div>            <script type=\"text/javascript\">                require([\"plotly\"], function(Plotly) {                    window.PLOTLYENV=window.PLOTLYENV || {};                                    if (document.getElementById(\"9e6e9586-ab83-426a-bd5d-a86f9f0194c0\")) {                    Plotly.newPlot(                        \"9e6e9586-ab83-426a-bd5d-a86f9f0194c0\",                        [{\"alignmentgroup\":\"True\",\"hovertemplate\":\"Job_Title=%{x}<br>Average_Monthly_Hours=%{y}<extra></extra>\",\"legendgroup\":\"\",\"marker\":{\"color\":\"#8D97FC\"},\"name\":\"\",\"notched\":false,\"offsetgroup\":\"\",\"orientation\":\"v\",\"showlegend\":false,\"x\":[\"Manager\",\"Engineer\",\"Analyst\",\"Manager\",\"Engineer\",\"HR Specialist\",\"HR Specialist\",\"Analyst\",\"Accountant\",\"Engineer\",\"HR Specialist\",\"Accountant\",\"Engineer\",\"Analyst\",\"Manager\",\"Accountant\",\"Accountant\",\"Accountant\",\"Manager\",\"Manager\",\"Manager\",\"HR Specialist\",\"Analyst\",\"HR Specialist\",\"Manager\",\"Engineer\",\"Analyst\",\"HR Specialist\",\"Accountant\",\"Analyst\",\"Analyst\",\"Analyst\",\"HR Specialist\",\"Accountant\",\"Accountant\",\"HR Specialist\",\"Analyst\",\"Accountant\",\"HR Specialist\",\"Accountant\",\"Analyst\",\"HR Specialist\",\"HR Specialist\",\"HR Specialist\",\"Engineer\",\"Accountant\",\"Accountant\",\"Manager\",\"Accountant\",\"HR Specialist\",\"HR Specialist\",\"HR Specialist\",\"HR Specialist\",\"Manager\",\"Accountant\",\"Accountant\",\"Engineer\",\"Accountant\",\"Engineer\",\"Analyst\",\"HR Specialist\",\"Accountant\",\"Engineer\",\"Accountant\",\"Accountant\",\"Analyst\",\"Accountant\",\"Analyst\",\"Analyst\",\"HR Specialist\",\"Analyst\",\"Engineer\",\"Engineer\",\"Analyst\",\"Manager\",\"Analyst\",\"Manager\",\"Accountant\",\"Manager\",\"Engineer\",\"Engineer\",\"Analyst\",\"Manager\",\"Analyst\",\"Analyst\",\"Analyst\",\"Analyst\",\"Engineer\",\"Accountant\",\"Engineer\",\"Engineer\",\"Engineer\",\"HR Specialist\",\"Analyst\",\"Analyst\",\"HR Specialist\",\"Accountant\",\"Engineer\",\"Manager\",\"Analyst\",\"Manager\",\"Engineer\",\"Manager\",\"Analyst\",\"Engineer\",\"Analyst\",\"Engineer\",\"Engineer\",\"Accountant\",\"Engineer\",\"Accountant\",\"Engineer\",\"Analyst\",\"HR Specialist\",\"Engineer\",\"Accountant\",\"Analyst\",\"Engineer\",\"HR Specialist\",\"Engineer\",\"HR Specialist\",\"Analyst\",\"Engineer\",\"HR Specialist\",\"Manager\",\"Engineer\",\"Engineer\",\"HR Specialist\",\"HR Specialist\",\"Analyst\",\"HR Specialist\",\"Manager\",\"Manager\",\"Analyst\",\"Analyst\",\"HR Specialist\",\"Analyst\",\"Manager\",\"HR Specialist\",\"Accountant\",\"Manager\",\"Engineer\",\"Manager\",\"Analyst\",\"HR Specialist\",\"Manager\",\"Engineer\",\"Analyst\",\"Engineer\",\"Analyst\",\"Engineer\",\"Engineer\",\"Accountant\",\"Manager\",\"Engineer\",\"Manager\",\"HR Specialist\",\"Engineer\",\"Engineer\",\"HR Specialist\",\"Manager\",\"Manager\",\"Manager\",\"Engineer\",\"Analyst\",\"Accountant\",\"Accountant\",\"Accountant\",\"Engineer\",\"HR Specialist\",\"Engineer\",\"Accountant\",\"Engineer\",\"Manager\",\"HR Specialist\",\"HR Specialist\",\"Analyst\",\"Manager\",\"Accountant\",\"Analyst\",\"Engineer\",\"Analyst\",\"Accountant\",\"Accountant\",\"HR Specialist\",\"HR Specialist\",\"Manager\",\"Manager\",\"Analyst\",\"Manager\",\"HR Specialist\",\"Manager\",\"Manager\",\"HR Specialist\",\"Manager\",\"Engineer\",\"HR Specialist\",\"Engineer\",\"HR Specialist\",\"Engineer\",\"Analyst\",\"HR Specialist\",\"Manager\",\"Accountant\",\"Engineer\",\"HR Specialist\",\"Engineer\",\"Analyst\",\"Engineer\",\"Analyst\",\"Analyst\",\"Manager\",\"Engineer\",\"Accountant\",\"HR Specialist\",\"Analyst\",\"Manager\",\"Engineer\",\"Accountant\",\"Analyst\",\"HR Specialist\",\"Engineer\",\"Engineer\",\"Engineer\",\"Manager\",\"Analyst\",\"HR Specialist\",\"HR Specialist\",\"Accountant\",\"Manager\",\"Manager\",\"Accountant\",\"Analyst\",\"Manager\",\"Manager\",\"Accountant\",\"Engineer\",\"Engineer\",\"HR Specialist\",\"Accountant\",\"Engineer\",\"Engineer\",\"Engineer\",\"Manager\",\"HR Specialist\",\"Analyst\",\"Accountant\",\"Analyst\",\"Manager\",\"Engineer\",\"HR Specialist\",\"Analyst\",\"Analyst\",\"Manager\",\"Engineer\",\"Analyst\",\"Analyst\",\"Analyst\",\"Manager\",\"Accountant\",\"Engineer\",\"HR Specialist\",\"Manager\",\"Manager\",\"Analyst\",\"Engineer\",\"HR Specialist\",\"Engineer\",\"Manager\",\"Manager\",\"Engineer\",\"Manager\",\"Accountant\",\"Analyst\",\"Engineer\",\"Manager\",\"Engineer\",\"Manager\",\"HR Specialist\",\"Analyst\",\"Engineer\",\"Engineer\",\"Engineer\",\"Engineer\",\"HR Specialist\",\"Manager\",\"Engineer\",\"Accountant\",\"Engineer\",\"Accountant\",\"Accountant\",\"Manager\",\"Engineer\",\"Analyst\",\"Manager\",\"HR Specialist\",\"Accountant\",\"Engineer\",\"Accountant\",\"Analyst\",\"HR Specialist\",\"Engineer\",\"Engineer\",\"Analyst\",\"Accountant\",\"Engineer\",\"Manager\",\"Accountant\",\"Manager\",\"HR Specialist\",\"HR Specialist\",\"Accountant\",\"Accountant\",\"Manager\",\"Manager\",\"Manager\",\"Manager\",\"HR Specialist\",\"Analyst\",\"HR Specialist\",\"Engineer\",\"HR Specialist\",\"HR Specialist\",\"HR Specialist\",\"HR Specialist\",\"Accountant\",\"HR Specialist\",\"Engineer\",\"Accountant\",\"Accountant\",\"Accountant\",\"Engineer\",\"Accountant\",\"HR Specialist\",\"Analyst\",\"Engineer\",\"HR Specialist\",\"Manager\",\"Accountant\",\"Analyst\",\"Manager\",\"Manager\",\"Manager\",\"Manager\",\"Manager\",\"Manager\",\"Manager\",\"Accountant\",\"Analyst\",\"Manager\",\"Manager\",\"Accountant\",\"Accountant\",\"Accountant\",\"Manager\",\"Analyst\",\"Accountant\",\"Analyst\",\"Accountant\",\"Engineer\",\"Analyst\",\"Manager\",\"Accountant\",\"Engineer\",\"Accountant\",\"HR Specialist\",\"Engineer\",\"Engineer\",\"Engineer\",\"HR Specialist\",\"Engineer\",\"Accountant\",\"HR Specialist\",\"Accountant\",\"HR Specialist\",\"Engineer\",\"HR Specialist\",\"Manager\",\"Engineer\",\"Engineer\",\"Accountant\",\"Manager\",\"Analyst\",\"Engineer\",\"Engineer\",\"Manager\",\"Analyst\",\"Analyst\",\"Engineer\",\"HR Specialist\",\"HR Specialist\",\"Accountant\",\"Accountant\",\"Manager\",\"HR Specialist\",\"Accountant\",\"Engineer\",\"Analyst\",\"Engineer\",\"Analyst\",\"Accountant\",\"Manager\",\"Manager\",\"Analyst\",\"Accountant\",\"Analyst\",\"Engineer\",\"Manager\",\"Accountant\",\"Engineer\",\"Analyst\",\"Manager\",\"Accountant\",\"Engineer\",\"Analyst\",\"Manager\",\"HR Specialist\",\"Engineer\",\"HR Specialist\",\"Manager\",\"Manager\",\"Manager\",\"Engineer\",\"Manager\",\"Accountant\",\"Manager\",\"Accountant\",\"HR Specialist\",\"Accountant\",\"Analyst\",\"Manager\",\"Analyst\",\"Accountant\",\"Analyst\",\"Analyst\",\"Engineer\",\"Engineer\",\"Accountant\",\"Accountant\",\"Manager\",\"HR Specialist\",\"Accountant\",\"Analyst\",\"Accountant\",\"Manager\",\"Analyst\",\"Analyst\",\"Analyst\",\"Accountant\",\"Accountant\",\"Manager\",\"Engineer\",\"HR Specialist\",\"Manager\",\"HR Specialist\",\"Analyst\",\"Manager\",\"Engineer\",\"Accountant\",\"Analyst\",\"HR Specialist\",\"Analyst\",\"Analyst\",\"Manager\",\"Accountant\",\"Manager\",\"Accountant\",\"Manager\",\"Accountant\",\"Engineer\",\"Accountant\",\"Engineer\",\"Manager\",\"Accountant\",\"Engineer\",\"HR Specialist\",\"Engineer\",\"Engineer\",\"Manager\",\"Analyst\",\"Engineer\",\"Accountant\",\"Manager\",\"Accountant\",\"Engineer\",\"Manager\",\"Analyst\",\"Analyst\",\"Accountant\",\"Manager\",\"Accountant\",\"Analyst\",\"Accountant\",\"HR Specialist\",\"Engineer\",\"Analyst\",\"HR Specialist\",\"Analyst\",\"Engineer\",\"Analyst\",\"Analyst\",\"Manager\",\"HR Specialist\",\"Accountant\",\"Analyst\",\"Engineer\",\"Analyst\",\"Engineer\",\"HR Specialist\",\"Accountant\",\"Analyst\",\"Accountant\",\"Accountant\",\"Engineer\",\"Analyst\",\"Manager\",\"Analyst\",\"Manager\",\"Manager\",\"HR Specialist\",\"HR Specialist\",\"Manager\",\"Analyst\",\"HR Specialist\",\"HR Specialist\",\"HR Specialist\",\"Engineer\",\"Manager\",\"Analyst\",\"HR Specialist\",\"Engineer\",\"Analyst\",\"Analyst\",\"Analyst\",\"Analyst\",\"Analyst\",\"HR Specialist\",\"Engineer\",\"Analyst\",\"Analyst\",\"Manager\",\"Accountant\",\"Analyst\",\"Engineer\",\"Manager\",\"Analyst\",\"Accountant\",\"Accountant\",\"Accountant\",\"Manager\",\"Manager\",\"Engineer\",\"Manager\",\"Engineer\",\"Accountant\",\"HR Specialist\",\"Accountant\",\"Manager\",\"Analyst\",\"Manager\",\"Engineer\",\"HR Specialist\",\"Manager\",\"Manager\",\"Analyst\",\"Accountant\",\"Engineer\",\"Engineer\",\"Engineer\",\"Accountant\",\"Manager\",\"HR Specialist\",\"HR Specialist\",\"Analyst\",\"Engineer\",\"Manager\",\"Analyst\",\"Accountant\",\"Accountant\",\"Analyst\",\"Analyst\",\"Accountant\",\"HR Specialist\",\"HR Specialist\",\"Engineer\",\"HR Specialist\",\"Accountant\",\"Engineer\",\"Analyst\",\"Engineer\",\"Engineer\",\"HR Specialist\",\"Accountant\",\"Manager\",\"Analyst\",\"Accountant\",\"Engineer\",\"HR Specialist\",\"Engineer\",\"Engineer\",\"HR Specialist\",\"Engineer\",\"HR Specialist\",\"Manager\",\"Analyst\",\"Engineer\",\"Analyst\",\"Analyst\",\"Manager\",\"Analyst\",\"Accountant\",\"Manager\",\"HR Specialist\",\"HR Specialist\",\"Engineer\",\"Accountant\",\"Manager\",\"Accountant\",\"Manager\",\"HR Specialist\",\"Analyst\",\"Accountant\",\"Engineer\",\"Accountant\",\"Manager\",\"HR Specialist\",\"Engineer\",\"Engineer\",\"Engineer\",\"Accountant\",\"Accountant\",\"Manager\",\"Analyst\",\"Engineer\",\"Engineer\",\"Analyst\",\"HR Specialist\",\"Accountant\",\"Engineer\",\"Manager\",\"Accountant\",\"Engineer\",\"Analyst\",\"Manager\",\"Manager\",\"Accountant\",\"Engineer\",\"Engineer\",\"Manager\",\"Analyst\",\"Engineer\",\"Analyst\",\"Analyst\",\"Engineer\",\"Analyst\",\"Accountant\",\"Engineer\",\"Engineer\",\"HR Specialist\",\"Engineer\",\"Manager\",\"Manager\",\"Analyst\",\"Engineer\",\"Engineer\",\"Accountant\",\"Accountant\",\"Engineer\",\"HR Specialist\",\"Analyst\",\"Manager\",\"Accountant\",\"Accountant\",\"Analyst\",\"Manager\",\"Analyst\",\"Manager\",\"Manager\",\"Manager\",\"Engineer\",\"Manager\",\"Engineer\",\"Manager\",\"HR Specialist\",\"Accountant\",\"HR Specialist\",\"Manager\",\"Engineer\",\"Analyst\",\"Engineer\",\"Manager\",\"HR Specialist\",\"Engineer\",\"HR Specialist\",\"Engineer\",\"Analyst\",\"Manager\",\"Accountant\",\"Accountant\",\"Manager\",\"Manager\",\"Engineer\",\"HR Specialist\",\"Manager\",\"HR Specialist\",\"Accountant\",\"Accountant\",\"Manager\",\"Engineer\",\"Manager\",\"Analyst\",\"HR Specialist\",\"Engineer\",\"Engineer\",\"Engineer\",\"Engineer\",\"Engineer\",\"Analyst\",\"Engineer\",\"Accountant\",\"Accountant\",\"HR Specialist\",\"Manager\",\"HR Specialist\",\"Accountant\",\"Analyst\",\"Manager\",\"Analyst\",\"Analyst\",\"Manager\",\"Accountant\",\"Engineer\",\"HR Specialist\",\"Accountant\",\"Analyst\",\"Accountant\",\"Accountant\",\"HR Specialist\",\"Accountant\",\"Analyst\",\"Engineer\",\"HR Specialist\",\"Manager\",\"Manager\",\"Accountant\",\"Accountant\",\"Accountant\",\"HR Specialist\",\"Accountant\",\"Accountant\",\"Manager\",\"Manager\",\"HR Specialist\",\"HR Specialist\",\"Engineer\",\"Accountant\",\"Engineer\",\"Manager\",\"Engineer\",\"HR Specialist\",\"Manager\",\"Manager\",\"Analyst\",\"Manager\",\"Engineer\",\"Analyst\",\"Manager\",\"Engineer\",\"Accountant\",\"HR Specialist\",\"Accountant\",\"Analyst\",\"Engineer\",\"Manager\",\"Analyst\",\"HR Specialist\",\"Engineer\",\"Engineer\",\"HR Specialist\",\"HR Specialist\",\"Accountant\",\"Manager\",\"Manager\",\"Analyst\",\"Manager\",\"Engineer\",\"Manager\",\"Manager\",\"Manager\",\"Analyst\",\"Engineer\",\"HR Specialist\",\"HR Specialist\",\"Engineer\",\"Accountant\",\"Manager\",\"Accountant\",\"Manager\",\"Accountant\",\"Engineer\",\"Analyst\",\"Analyst\",\"HR Specialist\",\"Accountant\",\"HR Specialist\",\"Manager\",\"HR Specialist\",\"Accountant\",\"Accountant\",\"Accountant\",\"Manager\",\"HR Specialist\",\"HR Specialist\",\"HR Specialist\",\"HR Specialist\",\"HR Specialist\",\"Engineer\",\"Engineer\",\"HR Specialist\",\"Accountant\",\"Analyst\",\"Analyst\",\"Engineer\",\"Manager\",\"Manager\",\"Engineer\",\"Accountant\",\"Manager\",\"Accountant\",\"HR Specialist\",\"Engineer\",\"Analyst\",\"Engineer\",\"HR Specialist\",\"Manager\",\"HR Specialist\",\"HR Specialist\",\"Accountant\",\"Accountant\",\"Analyst\",\"Manager\",\"Analyst\",\"Analyst\",\"Accountant\",\"Analyst\",\"Analyst\",\"Accountant\",\"HR Specialist\",\"HR Specialist\",\"Accountant\",\"Engineer\",\"HR Specialist\",\"Manager\",\"Accountant\",\"Engineer\",\"Analyst\",\"Analyst\",\"Accountant\",\"Analyst\",\"Accountant\",\"Manager\",\"Analyst\",\"Manager\",\"Accountant\",\"Analyst\",\"HR Specialist\",\"Accountant\",\"Manager\",\"Analyst\",\"HR Specialist\",\"Engineer\",\"Accountant\",\"Accountant\",\"Accountant\",\"Analyst\",\"Accountant\",\"HR Specialist\",\"HR Specialist\",\"Accountant\",\"Accountant\",\"Engineer\",\"Analyst\",\"Manager\",\"Accountant\",\"Manager\",\"Manager\",\"Accountant\",\"Manager\",\"HR Specialist\",\"Engineer\",\"Analyst\",\"Engineer\",\"HR Specialist\",\"Engineer\",\"Manager\",\"Manager\",\"Manager\",\"Engineer\",\"Engineer\",\"Manager\",\"HR Specialist\",\"Accountant\",\"Analyst\",\"HR Specialist\",\"Manager\",\"HR Specialist\",\"HR Specialist\",\"Engineer\",\"Accountant\",\"Accountant\",\"Analyst\",\"Engineer\",\"Accountant\",\"Accountant\",\"Analyst\",\"Analyst\",\"HR Specialist\",\"Accountant\",\"Engineer\",\"HR Specialist\",\"Manager\",\"HR Specialist\",\"Accountant\",\"Analyst\",\"Engineer\",\"Analyst\",\"Manager\",\"Manager\",\"Manager\",\"Engineer\",\"Accountant\",\"Accountant\",\"Accountant\",\"Manager\",\"Analyst\",\"Analyst\",\"HR Specialist\",\"Analyst\",\"Manager\",\"HR Specialist\",\"HR Specialist\",\"HR Specialist\",\"Analyst\",\"Accountant\",\"Engineer\",\"Accountant\",\"Analyst\",\"Accountant\",\"Analyst\",\"Manager\",\"HR Specialist\",\"Engineer\",\"Accountant\",\"Accountant\",\"Accountant\",\"HR Specialist\",\"Engineer\",\"Accountant\",\"Manager\",\"Engineer\",\"Manager\",\"Accountant\",\"Manager\",\"Accountant\",\"HR Specialist\",\"Engineer\",\"HR Specialist\",\"Analyst\",\"HR Specialist\",\"Analyst\",\"Analyst\",\"Manager\",\"HR Specialist\",\"Engineer\",\"Analyst\",\"Engineer\",\"Manager\",\"Accountant\",\"Analyst\",\"Accountant\",\"Manager\",\"HR Specialist\",\"Engineer\",\"Analyst\",\"Analyst\",\"HR Specialist\",\"Accountant\",\"Accountant\",\"Engineer\",\"Engineer\",\"Accountant\",\"Manager\",\"Analyst\",\"Analyst\",\"HR Specialist\",\"HR Specialist\",\"Manager\",\"Analyst\",\"HR Specialist\",\"HR Specialist\"],\"x0\":\" \",\"xaxis\":\"x\",\"y\":[151,221,184,242,229,237,155,171,177,170,178,158,180,249,242,199,222,169,193,154,211,172,191,216,160,162,224,156,183,194,191,203,237,172,154,212,220,247,247,201,222,161,162,214,226,153,186,177,200,217,228,223,209,233,229,249,238,236,173,196,195,160,214,214,220,165,245,202,212,165,168,154,168,185,225,226,184,178,190,218,227,192,153,167,173,204,218,157,163,237,196,238,158,214,211,200,176,194,201,225,150,165,244,187,161,209,207,182,211,244,209,154,224,201,160,189,222,226,169,239,199,246,207,178,184,232,218,154,235,154,218,165,210,201,161,240,245,238,247,200,194,238,156,190,175,202,241,199,217,203,243,249,181,200,243,159,211,240,215,167,249,225,187,206,151,200,190,156,232,165,190,162,188,243,163,236,225,171,156,218,212,215,224,200,237,242,245,169,192,184,153,190,242,177,168,186,178,188,243,219,171,171,169,165,213,186,168,169,210,160,245,186,223,153,242,219,151,217,239,172,228,166,185,150,231,169,195,193,212,202,248,172,188,160,225,229,224,150,232,202,165,150,166,206,158,236,164,204,220,213,167,200,216,171,211,219,241,202,151,199,191,151,174,159,159,186,207,210,249,195,181,166,178,181,171,187,184,211,192,185,226,170,174,163,192,206,242,237,176,187,169,233,226,248,247,169,234,152,241,215,246,155,170,233,162,246,206,151,197,211,239,236,185,216,174,225,206,154,201,228,213,248,181,238,241,208,152,186,156,167,207,164,176,190,245,178,227,216,167,207,195,156,151,246,221,157,150,241,153,178,196,155,221,229,154,183,207,220,167,160,206,150,225,192,156,155,234,194,200,191,213,213,187,168,180,175,245,247,159,166,211,229,247,209,214,193,219,190,153,213,220,219,151,243,158,220,184,205,214,204,179,206,243,157,212,225,215,151,218,186,187,167,197,215,188,155,215,155,156,170,195,223,175,171,182,196,194,195,213,225,161,249,222,192,162,159,229,249,172,226,223,233,189,234,199,243,182,161,237,183,227,204,233,194,162,181,233,171,229,184,233,246,221,152,153,237,233,232,209,150,180,215,190,248,165,155,211,161,205,203,233,204,237,215,211,230,170,178,213,202,213,170,215,220,153,189,229,198,195,182,231,164,232,177,164,183,201,160,238,166,169,220,162,246,170,205,239,221,219,232,204,211,227,249,234,156,245,219,227,189,235,217,217,186,222,202,152,232,162,184,178,195,151,232,172,156,229,168,186,230,161,223,205,203,194,185,222,194,174,226,195,198,223,232,240,232,216,175,169,245,178,185,214,169,242,223,246,207,161,235,228,245,212,227,244,175,183,180,223,221,228,173,150,176,186,216,168,242,207,223,216,170,230,223,248,204,249,248,241,183,161,196,241,150,241,175,191,230,243,228,165,216,194,203,193,170,155,158,240,249,229,198,216,221,226,173,183,221,228,221,217,157,173,163,175,150,225,214,184,210,248,220,200,210,154,222,230,213,187,170,167,157,163,215,173,214,233,202,238,239,150,184,245,238,239,201,213,230,155,218,150,168,159,237,178,160,236,169,177,235,173,240,177,182,190,218,169,229,165,173,239,179,160,248,160,214,165,218,217,152,156,203,193,183,177,186,181,224,167,242,247,216,181,184,238,242,167,187,195,208,178,214,161,159,192,210,203,173,235,227,199,151,202,248,211,218,154,246,161,243,202,176,153,210,240,192,193,246,209,172,161,164,183,166,216,163,225,229,227,152,222,202,243,222,205,152,230,221,158,179,195,195,233,153,239,217,241,158,241,242,171,156,189,152,192,239,167,235,191,210,188,248,179,189,169,223,196,171,166,221,196,216,198,163,208,165,238,169,159,232,211,214,242,228,205,193,155,206,239,222,218,168,165,158,176,183,189,175,248,202,200,229,211,221,246,196,188,205,228,222,231,214,175,152,180,174,213,213,228,153,210,248,226,246,235,230,176,233,196,240,152,221,228,216,242,242,182,182,207,190,219,243,222,228,150,219,239,215,201,239,222,191,155,180,187,198,190,227,204,156,184,165,168,170,187,197,208,233,241,241,241,152,183,219,235,157,153,153,237,228,188,211,209,168,240,228,202,159,212,241,168,152,188,180,195,202,151,233,203,249,155,175,215,228,150,180,194,209,216,214,246,244,192,165,229,234,193,182,243,169,152,167,158,209,185,179,173,185,195,235,192,164,177,249,206,156,207,157,216,164,242,235,198,173,210,216,194,211,221,210,182,243,176,193,186,239,154,206,241,159],\"y0\":\" \",\"yaxis\":\"y\",\"type\":\"box\"}],                        {\"template\":{\"data\":{\"histogram2dcontour\":[{\"type\":\"histogram2dcontour\",\"colorbar\":{\"outlinewidth\":0,\"ticks\":\"\"},\"colorscale\":[[0.0,\"#0d0887\"],[0.1111111111111111,\"#46039f\"],[0.2222222222222222,\"#7201a8\"],[0.3333333333333333,\"#9c179e\"],[0.4444444444444444,\"#bd3786\"],[0.5555555555555556,\"#d8576b\"],[0.6666666666666666,\"#ed7953\"],[0.7777777777777778,\"#fb9f3a\"],[0.8888888888888888,\"#fdca26\"],[1.0,\"#f0f921\"]]}],\"choropleth\":[{\"type\":\"choropleth\",\"colorbar\":{\"outlinewidth\":0,\"ticks\":\"\"}}],\"histogram2d\":[{\"type\":\"histogram2d\",\"colorbar\":{\"outlinewidth\":0,\"ticks\":\"\"},\"colorscale\":[[0.0,\"#0d0887\"],[0.1111111111111111,\"#46039f\"],[0.2222222222222222,\"#7201a8\"],[0.3333333333333333,\"#9c179e\"],[0.4444444444444444,\"#bd3786\"],[0.5555555555555556,\"#d8576b\"],[0.6666666666666666,\"#ed7953\"],[0.7777777777777778,\"#fb9f3a\"],[0.8888888888888888,\"#fdca26\"],[1.0,\"#f0f921\"]]}],\"heatmap\":[{\"type\":\"heatmap\",\"colorbar\":{\"outlinewidth\":0,\"ticks\":\"\"},\"colorscale\":[[0.0,\"#0d0887\"],[0.1111111111111111,\"#46039f\"],[0.2222222222222222,\"#7201a8\"],[0.3333333333333333,\"#9c179e\"],[0.4444444444444444,\"#bd3786\"],[0.5555555555555556,\"#d8576b\"],[0.6666666666666666,\"#ed7953\"],[0.7777777777777778,\"#fb9f3a\"],[0.8888888888888888,\"#fdca26\"],[1.0,\"#f0f921\"]]}],\"heatmapgl\":[{\"type\":\"heatmapgl\",\"colorbar\":{\"outlinewidth\":0,\"ticks\":\"\"},\"colorscale\":[[0.0,\"#0d0887\"],[0.1111111111111111,\"#46039f\"],[0.2222222222222222,\"#7201a8\"],[0.3333333333333333,\"#9c179e\"],[0.4444444444444444,\"#bd3786\"],[0.5555555555555556,\"#d8576b\"],[0.6666666666666666,\"#ed7953\"],[0.7777777777777778,\"#fb9f3a\"],[0.8888888888888888,\"#fdca26\"],[1.0,\"#f0f921\"]]}],\"contourcarpet\":[{\"type\":\"contourcarpet\",\"colorbar\":{\"outlinewidth\":0,\"ticks\":\"\"}}],\"contour\":[{\"type\":\"contour\",\"colorbar\":{\"outlinewidth\":0,\"ticks\":\"\"},\"colorscale\":[[0.0,\"#0d0887\"],[0.1111111111111111,\"#46039f\"],[0.2222222222222222,\"#7201a8\"],[0.3333333333333333,\"#9c179e\"],[0.4444444444444444,\"#bd3786\"],[0.5555555555555556,\"#d8576b\"],[0.6666666666666666,\"#ed7953\"],[0.7777777777777778,\"#fb9f3a\"],[0.8888888888888888,\"#fdca26\"],[1.0,\"#f0f921\"]]}],\"surface\":[{\"type\":\"surface\",\"colorbar\":{\"outlinewidth\":0,\"ticks\":\"\"},\"colorscale\":[[0.0,\"#0d0887\"],[0.1111111111111111,\"#46039f\"],[0.2222222222222222,\"#7201a8\"],[0.3333333333333333,\"#9c179e\"],[0.4444444444444444,\"#bd3786\"],[0.5555555555555556,\"#d8576b\"],[0.6666666666666666,\"#ed7953\"],[0.7777777777777778,\"#fb9f3a\"],[0.8888888888888888,\"#fdca26\"],[1.0,\"#f0f921\"]]}],\"mesh3d\":[{\"type\":\"mesh3d\",\"colorbar\":{\"outlinewidth\":0,\"ticks\":\"\"}}],\"scatter\":[{\"fillpattern\":{\"fillmode\":\"overlay\",\"size\":10,\"solidity\":0.2},\"type\":\"scatter\"}],\"parcoords\":[{\"type\":\"parcoords\",\"line\":{\"colorbar\":{\"outlinewidth\":0,\"ticks\":\"\"}}}],\"scatterpolargl\":[{\"type\":\"scatterpolargl\",\"marker\":{\"colorbar\":{\"outlinewidth\":0,\"ticks\":\"\"}}}],\"bar\":[{\"error_x\":{\"color\":\"#2a3f5f\"},\"error_y\":{\"color\":\"#2a3f5f\"},\"marker\":{\"line\":{\"color\":\"#E5ECF6\",\"width\":0.5},\"pattern\":{\"fillmode\":\"overlay\",\"size\":10,\"solidity\":0.2}},\"type\":\"bar\"}],\"scattergeo\":[{\"type\":\"scattergeo\",\"marker\":{\"colorbar\":{\"outlinewidth\":0,\"ticks\":\"\"}}}],\"scatterpolar\":[{\"type\":\"scatterpolar\",\"marker\":{\"colorbar\":{\"outlinewidth\":0,\"ticks\":\"\"}}}],\"histogram\":[{\"marker\":{\"pattern\":{\"fillmode\":\"overlay\",\"size\":10,\"solidity\":0.2}},\"type\":\"histogram\"}],\"scattergl\":[{\"type\":\"scattergl\",\"marker\":{\"colorbar\":{\"outlinewidth\":0,\"ticks\":\"\"}}}],\"scatter3d\":[{\"type\":\"scatter3d\",\"line\":{\"colorbar\":{\"outlinewidth\":0,\"ticks\":\"\"}},\"marker\":{\"colorbar\":{\"outlinewidth\":0,\"ticks\":\"\"}}}],\"scattermapbox\":[{\"type\":\"scattermapbox\",\"marker\":{\"colorbar\":{\"outlinewidth\":0,\"ticks\":\"\"}}}],\"scatterternary\":[{\"type\":\"scatterternary\",\"marker\":{\"colorbar\":{\"outlinewidth\":0,\"ticks\":\"\"}}}],\"scattercarpet\":[{\"type\":\"scattercarpet\",\"marker\":{\"colorbar\":{\"outlinewidth\":0,\"ticks\":\"\"}}}],\"carpet\":[{\"aaxis\":{\"endlinecolor\":\"#2a3f5f\",\"gridcolor\":\"white\",\"linecolor\":\"white\",\"minorgridcolor\":\"white\",\"startlinecolor\":\"#2a3f5f\"},\"baxis\":{\"endlinecolor\":\"#2a3f5f\",\"gridcolor\":\"white\",\"linecolor\":\"white\",\"minorgridcolor\":\"white\",\"startlinecolor\":\"#2a3f5f\"},\"type\":\"carpet\"}],\"table\":[{\"cells\":{\"fill\":{\"color\":\"#EBF0F8\"},\"line\":{\"color\":\"white\"}},\"header\":{\"fill\":{\"color\":\"#C8D4E3\"},\"line\":{\"color\":\"white\"}},\"type\":\"table\"}],\"barpolar\":[{\"marker\":{\"line\":{\"color\":\"#E5ECF6\",\"width\":0.5},\"pattern\":{\"fillmode\":\"overlay\",\"size\":10,\"solidity\":0.2}},\"type\":\"barpolar\"}],\"pie\":[{\"automargin\":true,\"type\":\"pie\"}]},\"layout\":{\"autotypenumbers\":\"strict\",\"colorway\":[\"#636efa\",\"#EF553B\",\"#00cc96\",\"#ab63fa\",\"#FFA15A\",\"#19d3f3\",\"#FF6692\",\"#B6E880\",\"#FF97FF\",\"#FECB52\"],\"font\":{\"color\":\"#2a3f5f\"},\"hovermode\":\"closest\",\"hoverlabel\":{\"align\":\"left\"},\"paper_bgcolor\":\"white\",\"plot_bgcolor\":\"#E5ECF6\",\"polar\":{\"bgcolor\":\"#E5ECF6\",\"angularaxis\":{\"gridcolor\":\"white\",\"linecolor\":\"white\",\"ticks\":\"\"},\"radialaxis\":{\"gridcolor\":\"white\",\"linecolor\":\"white\",\"ticks\":\"\"}},\"ternary\":{\"bgcolor\":\"#E5ECF6\",\"aaxis\":{\"gridcolor\":\"white\",\"linecolor\":\"white\",\"ticks\":\"\"},\"baxis\":{\"gridcolor\":\"white\",\"linecolor\":\"white\",\"ticks\":\"\"},\"caxis\":{\"gridcolor\":\"white\",\"linecolor\":\"white\",\"ticks\":\"\"}},\"coloraxis\":{\"colorbar\":{\"outlinewidth\":0,\"ticks\":\"\"}},\"colorscale\":{\"sequential\":[[0.0,\"#0d0887\"],[0.1111111111111111,\"#46039f\"],[0.2222222222222222,\"#7201a8\"],[0.3333333333333333,\"#9c179e\"],[0.4444444444444444,\"#bd3786\"],[0.5555555555555556,\"#d8576b\"],[0.6666666666666666,\"#ed7953\"],[0.7777777777777778,\"#fb9f3a\"],[0.8888888888888888,\"#fdca26\"],[1.0,\"#f0f921\"]],\"sequentialminus\":[[0.0,\"#0d0887\"],[0.1111111111111111,\"#46039f\"],[0.2222222222222222,\"#7201a8\"],[0.3333333333333333,\"#9c179e\"],[0.4444444444444444,\"#bd3786\"],[0.5555555555555556,\"#d8576b\"],[0.6666666666666666,\"#ed7953\"],[0.7777777777777778,\"#fb9f3a\"],[0.8888888888888888,\"#fdca26\"],[1.0,\"#f0f921\"]],\"diverging\":[[0,\"#8e0152\"],[0.1,\"#c51b7d\"],[0.2,\"#de77ae\"],[0.3,\"#f1b6da\"],[0.4,\"#fde0ef\"],[0.5,\"#f7f7f7\"],[0.6,\"#e6f5d0\"],[0.7,\"#b8e186\"],[0.8,\"#7fbc41\"],[0.9,\"#4d9221\"],[1,\"#276419\"]]},\"xaxis\":{\"gridcolor\":\"white\",\"linecolor\":\"white\",\"ticks\":\"\",\"title\":{\"standoff\":15},\"zerolinecolor\":\"white\",\"automargin\":true,\"zerolinewidth\":2},\"yaxis\":{\"gridcolor\":\"white\",\"linecolor\":\"white\",\"ticks\":\"\",\"title\":{\"standoff\":15},\"zerolinecolor\":\"white\",\"automargin\":true,\"zerolinewidth\":2},\"scene\":{\"xaxis\":{\"backgroundcolor\":\"#E5ECF6\",\"gridcolor\":\"white\",\"linecolor\":\"white\",\"showbackground\":true,\"ticks\":\"\",\"zerolinecolor\":\"white\",\"gridwidth\":2},\"yaxis\":{\"backgroundcolor\":\"#E5ECF6\",\"gridcolor\":\"white\",\"linecolor\":\"white\",\"showbackground\":true,\"ticks\":\"\",\"zerolinecolor\":\"white\",\"gridwidth\":2},\"zaxis\":{\"backgroundcolor\":\"#E5ECF6\",\"gridcolor\":\"white\",\"linecolor\":\"white\",\"showbackground\":true,\"ticks\":\"\",\"zerolinecolor\":\"white\",\"gridwidth\":2}},\"shapedefaults\":{\"line\":{\"color\":\"#2a3f5f\"}},\"annotationdefaults\":{\"arrowcolor\":\"#2a3f5f\",\"arrowhead\":0,\"arrowwidth\":1},\"geo\":{\"bgcolor\":\"white\",\"landcolor\":\"#E5ECF6\",\"subunitcolor\":\"white\",\"showland\":true,\"showlakes\":true,\"lakecolor\":\"white\"},\"title\":{\"x\":0.05},\"mapbox\":{\"style\":\"light\"}}},\"xaxis\":{\"anchor\":\"y\",\"domain\":[0.0,1.0],\"title\":{\"text\":\"Job_Title\"}},\"yaxis\":{\"anchor\":\"x\",\"domain\":[0.0,1.0],\"title\":{\"text\":\"Average_Monthly_Hours\"}},\"legend\":{\"tracegroupgap\":0},\"title\":{\"text\":\"Average_Monthly_Hours by Job_Title\"},\"boxmode\":\"group\"},                        {\"responsive\": true}                    ).then(function(){\n",
       "                            \n",
       "var gd = document.getElementById('9e6e9586-ab83-426a-bd5d-a86f9f0194c0');\n",
       "var x = new MutationObserver(function (mutations, observer) {{\n",
       "        var display = window.getComputedStyle(gd).display;\n",
       "        if (!display || display === 'none') {{\n",
       "            console.log([gd, 'removed!']);\n",
       "            Plotly.purge(gd);\n",
       "            observer.disconnect();\n",
       "        }}\n",
       "}});\n",
       "\n",
       "// Listen for the removal of the full notebook cells\n",
       "var notebookContainer = gd.closest('#notebook-container');\n",
       "if (notebookContainer) {{\n",
       "    x.observe(notebookContainer, {childList: true});\n",
       "}}\n",
       "\n",
       "// Listen for the clearing of the current output cell\n",
       "var outputEl = gd.closest('.output');\n",
       "if (outputEl) {{\n",
       "    x.observe(outputEl, {childList: true});\n",
       "}}\n",
       "\n",
       "                        })                };                });            </script>        </div>"
      ]
     },
     "metadata": {},
     "output_type": "display_data"
    }
   ],
   "source": [
    "fig6=monthly_hour_job=px.box(emp_attrition, x='Job_Title', y='Average_Monthly_Hours',title='Average_Monthly_Hours by Job_Title')\n",
    "fig6.update_traces(marker_color='#8D97FC')\n",
    "fig6.show()"
   ]
  },
  {
   "cell_type": "markdown",
   "id": "c93f667e-58a3-43e1-bb84-bbcb2d979062",
   "metadata": {},
   "source": [
    "In that the min and max hour rate was similar but Analyst min hour is 151"
   ]
  },
  {
   "cell_type": "code",
   "execution_count": 254,
   "id": "4a1900f4-4710-4045-88b0-6ff20a1018ce",
   "metadata": {},
   "outputs": [
    {
     "data": {
      "application/vnd.plotly.v1+json": {
       "config": {
        "plotlyServerURL": "https://plot.ly"
       },
       "data": [
        {
         "alignmentgroup": "True",
         "hovertemplate": "Years_at_Company=%{x}<br>Salary=%{y}<extra></extra>",
         "legendgroup": "",
         "marker": {
          "color": "#8D97FC"
         },
         "name": "",
         "notched": false,
         "offsetgroup": "",
         "orientation": "v",
         "showlegend": false,
         "type": "box",
         "x": [
          9,
          10,
          8,
          1,
          10,
          10,
          5,
          8,
          6,
          7,
          5,
          3,
          1,
          7,
          9,
          10,
          5,
          9,
          8,
          5,
          10,
          4,
          9,
          9,
          4,
          9,
          6,
          6,
          8,
          3,
          6,
          10,
          8,
          1,
          6,
          7,
          3,
          5,
          9,
          5,
          10,
          6,
          7,
          7,
          3,
          1,
          7,
          1,
          8,
          5,
          5,
          7,
          3,
          8,
          2,
          6,
          4,
          5,
          9,
          10,
          5,
          8,
          9,
          8,
          6,
          6,
          9,
          8,
          3,
          5,
          6,
          8,
          5,
          7,
          8,
          8,
          6,
          2,
          4,
          6,
          8,
          3,
          5,
          3,
          1,
          1,
          1,
          10,
          8,
          7,
          3,
          6,
          10,
          1,
          6,
          1,
          5,
          5,
          2,
          5,
          4,
          10,
          4,
          7,
          8,
          7,
          2,
          6,
          2,
          2,
          4,
          1,
          3,
          1,
          5,
          10,
          2,
          6,
          6,
          4,
          4,
          10,
          3,
          9,
          7,
          2,
          2,
          5,
          10,
          9,
          7,
          9,
          5,
          9,
          8,
          3,
          5,
          5,
          1,
          6,
          8,
          6,
          5,
          6,
          9,
          10,
          5,
          7,
          1,
          8,
          4,
          3,
          4,
          4,
          7,
          6,
          6,
          2,
          7,
          7,
          9,
          5,
          5,
          10,
          6,
          4,
          8,
          1,
          3,
          6,
          8,
          3,
          8,
          3,
          3,
          6,
          6,
          7,
          6,
          3,
          10,
          10,
          9,
          3,
          4,
          9,
          9,
          9,
          1,
          4,
          7,
          10,
          1,
          8,
          4,
          10,
          9,
          7,
          6,
          9,
          9,
          10,
          5,
          8,
          4,
          3,
          5,
          4,
          8,
          8,
          3,
          4,
          8,
          6,
          1,
          8,
          4,
          2,
          9,
          3,
          6,
          6,
          4,
          8,
          7,
          6,
          5,
          1,
          4,
          1,
          10,
          6,
          9,
          2,
          9,
          5,
          5,
          4,
          5,
          9,
          9,
          2,
          6,
          2,
          5,
          10,
          7,
          6,
          2,
          7,
          7,
          3,
          1,
          8,
          8,
          3,
          7,
          10,
          6,
          2,
          4,
          8,
          4,
          9,
          3,
          4,
          10,
          1,
          3,
          6,
          6,
          8,
          7,
          3,
          3,
          7,
          6,
          4,
          10,
          2,
          3,
          3,
          6,
          9,
          9,
          10,
          2,
          6,
          2,
          2,
          9,
          2,
          4,
          5,
          8,
          3,
          7,
          2,
          5,
          2,
          3,
          8,
          9,
          8,
          3,
          3,
          9,
          8,
          4,
          1,
          10,
          6,
          5,
          3,
          1,
          1,
          4,
          1,
          5,
          2,
          2,
          9,
          2,
          4,
          7,
          4,
          2,
          8,
          9,
          8,
          7,
          3,
          4,
          2,
          2,
          10,
          5,
          1,
          10,
          1,
          6,
          2,
          1,
          7,
          2,
          9,
          10,
          8,
          2,
          9,
          7,
          4,
          2,
          2,
          9,
          10,
          7,
          5,
          10,
          1,
          7,
          1,
          3,
          2,
          2,
          2,
          9,
          7,
          1,
          5,
          2,
          10,
          7,
          8,
          10,
          9,
          5,
          6,
          9,
          10,
          7,
          4,
          7,
          2,
          10,
          1,
          3,
          5,
          5,
          4,
          8,
          7,
          6,
          6,
          6,
          4,
          7,
          1,
          2,
          4,
          7,
          4,
          2,
          2,
          3,
          10,
          2,
          4,
          10,
          1,
          6,
          5,
          9,
          1,
          7,
          10,
          5,
          10,
          1,
          5,
          7,
          7,
          4,
          8,
          7,
          8,
          4,
          5,
          5,
          5,
          2,
          1,
          4,
          8,
          4,
          5,
          9,
          1,
          7,
          3,
          3,
          8,
          8,
          1,
          4,
          5,
          9,
          7,
          9,
          9,
          10,
          1,
          4,
          2,
          4,
          4,
          3,
          10,
          6,
          4,
          6,
          2,
          4,
          9,
          4,
          1,
          2,
          6,
          10,
          10,
          3,
          1,
          8,
          4,
          10,
          6,
          6,
          6,
          8,
          3,
          7,
          7,
          10,
          5,
          6,
          9,
          2,
          1,
          2,
          9,
          7,
          8,
          1,
          1,
          7,
          5,
          5,
          3,
          4,
          5,
          1,
          2,
          8,
          1,
          10,
          6,
          7,
          8,
          3,
          4,
          4,
          10,
          10,
          7,
          1,
          10,
          6,
          4,
          1,
          1,
          8,
          7,
          2,
          7,
          2,
          8,
          7,
          5,
          1,
          7,
          1,
          2,
          1,
          7,
          3,
          4,
          7,
          3,
          8,
          5,
          5,
          2,
          9,
          8,
          7,
          10,
          4,
          6,
          8,
          7,
          8,
          4,
          10,
          1,
          6,
          9,
          2,
          6,
          8,
          6,
          10,
          7,
          8,
          7,
          6,
          7,
          8,
          3,
          5,
          9,
          10,
          5,
          8,
          1,
          6,
          2,
          4,
          8,
          1,
          2,
          2,
          3,
          10,
          10,
          4,
          3,
          2,
          7,
          1,
          8,
          9,
          4,
          8,
          10,
          7,
          9,
          7,
          1,
          4,
          6,
          9,
          4,
          2,
          6,
          3,
          3,
          3,
          6,
          2,
          3,
          7,
          4,
          3,
          8,
          1,
          6,
          7,
          1,
          3,
          9,
          9,
          10,
          3,
          9,
          8,
          2,
          7,
          7,
          8,
          4,
          10,
          7,
          3,
          6,
          2,
          8,
          8,
          4,
          5,
          5,
          3,
          4,
          9,
          2,
          3,
          2,
          6,
          9,
          3,
          9,
          1,
          2,
          5,
          3,
          5,
          7,
          6,
          3,
          8,
          10,
          10,
          10,
          4,
          10,
          10,
          9,
          5,
          7,
          5,
          7,
          10,
          1,
          6,
          4,
          3,
          4,
          10,
          1,
          8,
          5,
          2,
          4,
          5,
          6,
          1,
          5,
          10,
          1,
          2,
          6,
          5,
          6,
          10,
          9,
          4,
          1,
          7,
          4,
          10,
          5,
          7,
          6,
          7,
          7,
          9,
          9,
          10,
          7,
          3,
          7,
          5,
          9,
          10,
          10,
          2,
          1,
          10,
          3,
          4,
          3,
          7,
          1,
          10,
          5,
          9,
          4,
          5,
          5,
          4,
          1,
          9,
          3,
          5,
          4,
          8,
          2,
          1,
          9,
          8,
          1,
          10,
          10,
          1,
          6,
          5,
          8,
          3,
          8,
          8,
          2,
          5,
          3,
          5,
          10,
          10,
          6,
          9,
          6,
          4,
          10,
          1,
          7,
          4,
          5,
          9,
          10,
          3,
          10,
          4,
          7,
          6,
          5,
          7,
          5,
          5,
          6,
          5,
          2,
          3,
          9,
          9,
          10,
          2,
          10,
          5,
          8,
          8,
          6,
          7,
          10,
          2,
          3,
          2,
          3,
          7,
          6,
          6,
          2,
          5,
          7,
          7,
          8,
          6,
          8,
          9,
          9,
          10,
          6,
          10,
          10,
          8,
          8,
          3,
          8,
          5,
          6,
          9,
          10,
          3,
          8,
          7,
          9,
          8,
          2,
          2,
          2,
          7,
          4,
          9,
          10,
          8,
          4,
          10,
          9,
          3,
          9,
          2,
          2,
          5,
          7,
          1,
          7,
          2,
          7,
          10,
          3,
          5,
          1,
          6,
          3,
          8,
          1,
          5,
          10,
          3,
          6,
          5,
          9,
          6,
          5,
          10,
          9,
          4,
          5,
          10,
          6,
          8,
          8,
          3,
          7,
          2,
          7,
          6,
          5,
          6,
          5,
          7,
          1,
          7,
          2,
          10,
          7,
          8,
          9,
          4,
          6,
          7,
          7,
          4,
          8,
          7,
          3,
          1,
          3,
          8,
          6,
          3,
          2,
          5,
          1,
          5,
          8,
          6,
          4,
          9,
          5,
          6,
          7,
          5,
          1,
          2,
          7,
          7,
          8,
          3,
          9,
          3,
          6,
          8,
          1,
          8,
          1,
          7,
          4,
          1,
          8,
          9,
          3,
          4,
          2,
          4,
          1,
          2,
          2,
          3,
          7,
          6,
          5,
          7,
          8,
          5,
          2,
          4,
          10,
          10,
          9,
          7,
          3,
          5,
          5,
          5,
          8,
          8,
          5,
          5,
          6,
          9,
          7,
          9,
          8,
          8,
          4,
          3,
          9,
          8,
          4,
          4,
          8,
          9,
          8,
          6,
          5,
          9,
          7,
          3,
          5,
          10,
          4,
          3,
          9,
          1,
          9,
          1,
          2,
          5,
          10,
          8,
          4,
          1,
          8,
          9,
          2,
          8,
          5,
          2,
          3,
          1,
          3,
          2,
          1
         ],
         "x0": " ",
         "xaxis": "x",
         "y": [
          60132,
          79947,
          46958,
          40662,
          74307,
          97212,
          97865,
          50113,
          88747,
          43283,
          82510,
          55665,
          57951,
          31886,
          40548,
          39979,
          31340,
          79639,
          50307,
          99568,
          89409,
          94005,
          63445,
          99093,
          95910,
          80913,
          59231,
          68979,
          65901,
          85496,
          91627,
          91703,
          51252,
          63757,
          84288,
          86371,
          59546,
          80887,
          52658,
          70977,
          40055,
          99265,
          33670,
          85764,
          87567,
          44786,
          69612,
          45124,
          38871,
          34599,
          61224,
          31506,
          57428,
          34834,
          56938,
          62841,
          56230,
          98061,
          34647,
          30269,
          41737,
          71087,
          50921,
          89560,
          59060,
          46658,
          82313,
          91589,
          48184,
          58575,
          80456,
          72928,
          74105,
          43038,
          50000,
          49824,
          67588,
          30821,
          99801,
          48520,
          69674,
          66952,
          97606,
          59532,
          97663,
          71807,
          90011,
          91398,
          64897,
          78600,
          74424,
          40798,
          63948,
          52415,
          38085,
          32082,
          58364,
          40742,
          84407,
          76806,
          81919,
          70060,
          99321,
          93226,
          81389,
          38495,
          70941,
          99476,
          49523,
          60676,
          73359,
          51013,
          31553,
          65356,
          99328,
          47802,
          45532,
          97181,
          35521,
          98429,
          93166,
          54477,
          40012,
          37543,
          87607,
          97217,
          52961,
          38532,
          80112,
          74736,
          35031,
          61668,
          58508,
          62378,
          73980,
          78603,
          45278,
          50064,
          92394,
          40991,
          76164,
          37833,
          90927,
          86897,
          85229,
          35793,
          57650,
          70990,
          79792,
          81499,
          81233,
          39563,
          36755,
          81470,
          40127,
          78348,
          94455,
          83240,
          54977,
          54598,
          81682,
          58653,
          53838,
          79759,
          34808,
          88563,
          83237,
          31256,
          83418,
          43951,
          63891,
          94226,
          89030,
          57604,
          63395,
          65494,
          82445,
          75352,
          78972,
          62533,
          33221,
          73460,
          42799,
          44626,
          50467,
          62104,
          33232,
          60624,
          39672,
          80067,
          46544,
          69385,
          56338,
          51112,
          40223,
          32762,
          48449,
          65708,
          55484,
          95558,
          81643,
          79587,
          83416,
          87098,
          46780,
          71794,
          30773,
          43764,
          88219,
          72592,
          85608,
          65583,
          91789,
          99859,
          60286,
          53324,
          76479,
          80791,
          83385,
          76642,
          91402,
          85225,
          54559,
          99113,
          32849,
          78975,
          77459,
          88083,
          66740,
          73275,
          50184,
          80830,
          53625,
          55262,
          30935,
          54878,
          56322,
          99851,
          75106,
          88135,
          71466,
          43102,
          61580,
          96349,
          84618,
          68773,
          39162,
          66915,
          34112,
          97161,
          91779,
          87771,
          94728,
          45405,
          64406,
          55075,
          69509,
          31850,
          47534,
          85996,
          64345,
          32954,
          64213,
          88666,
          71088,
          43095,
          61200,
          96615,
          69501,
          38068,
          30859,
          54641,
          98610,
          86372,
          92828,
          97244,
          88353,
          54636,
          73863,
          35833,
          70714,
          42371,
          70764,
          48165,
          84159,
          64584,
          46116,
          47944,
          73713,
          69641,
          75176,
          67394,
          57381,
          37001,
          93742,
          36843,
          55467,
          95571,
          32747,
          46185,
          38604,
          85832,
          56461,
          59075,
          76410,
          71557,
          85613,
          81026,
          81995,
          55051,
          46767,
          43261,
          93469,
          93274,
          52963,
          71482,
          58220,
          92876,
          46434,
          39049,
          93674,
          87053,
          34512,
          59522,
          88569,
          94735,
          58062,
          52300,
          89623,
          77841,
          89157,
          79253,
          49834,
          42699,
          66868,
          42015,
          35610,
          31053,
          90843,
          65174,
          51874,
          50329,
          60973,
          69286,
          73505,
          92988,
          91629,
          73737,
          34192,
          37243,
          78476,
          72188,
          71440,
          72062,
          77656,
          78975,
          46454,
          82219,
          49610,
          41420,
          50645,
          44412,
          50656,
          45102,
          96293,
          34447,
          70513,
          63571,
          44560,
          56613,
          38562,
          49301,
          48784,
          31815,
          46467,
          37004,
          49158,
          81385,
          75317,
          69252,
          60839,
          33966,
          72481,
          58506,
          84131,
          57200,
          69582,
          86091,
          72604,
          38056,
          89766,
          83069,
          59173,
          62295,
          32272,
          40220,
          65922,
          45758,
          37334,
          57260,
          83920,
          98845,
          34669,
          81252,
          72256,
          77244,
          58627,
          35798,
          51421,
          93822,
          73509,
          98405,
          45758,
          47841,
          35265,
          99071,
          55071,
          31472,
          52874,
          91705,
          97650,
          54467,
          63124,
          76234,
          33931,
          51668,
          80690,
          66229,
          64140,
          50970,
          60858,
          48447,
          34152,
          32182,
          83201,
          64659,
          47406,
          39887,
          52122,
          96167,
          79419,
          34983,
          41908,
          68137,
          52386,
          60907,
          67919,
          90686,
          69158,
          38395,
          43501,
          38228,
          56690,
          80428,
          35568,
          99206,
          63229,
          61098,
          63277,
          47899,
          32252,
          83793,
          45710,
          93376,
          62429,
          46051,
          98551,
          98112,
          70785,
          83328,
          44251,
          42122,
          32476,
          37819,
          93647,
          84642,
          81179,
          60684,
          78586,
          36342,
          87748,
          52281,
          31475,
          50116,
          60563,
          63836,
          70312,
          87579,
          35273,
          53055,
          63425,
          91437,
          67147,
          85742,
          68187,
          90525,
          81642,
          42539,
          97250,
          33311,
          74148,
          38735,
          43794,
          73721,
          68051,
          87804,
          83172,
          69512,
          37456,
          66268,
          66239,
          44727,
          48599,
          61890,
          85073,
          34633,
          99566,
          31347,
          44704,
          99991,
          82078,
          94130,
          72752,
          99584,
          34172,
          66406,
          66024,
          41439,
          91504,
          94294,
          89725,
          31435,
          56769,
          93028,
          43791,
          48251,
          77213,
          94306,
          93791,
          51349,
          83381,
          31015,
          64407,
          42945,
          75542,
          67058,
          53211,
          35667,
          54380,
          99002,
          53633,
          96208,
          68372,
          75599,
          54308,
          65562,
          62728,
          85262,
          68662,
          59461,
          90263,
          57042,
          38343,
          94611,
          67607,
          48220,
          46446,
          58523,
          42706,
          38896,
          92936,
          46249,
          55141,
          89082,
          92977,
          35813,
          85800,
          94151,
          97101,
          64691,
          90009,
          45968,
          32193,
          96568,
          82011,
          80787,
          47600,
          35529,
          38691,
          92597,
          51575,
          60435,
          78199,
          82555,
          71559,
          55788,
          87535,
          56368,
          67056,
          35721,
          64692,
          35293,
          51316,
          75657,
          35963,
          72722,
          37800,
          32960,
          67201,
          97170,
          82856,
          65864,
          38981,
          87741,
          81235,
          75531,
          46324,
          48196,
          82067,
          50262,
          76960,
          90788,
          55180,
          68415,
          37796,
          37291,
          52160,
          86198,
          56794,
          48121,
          40747,
          75386,
          53097,
          91913,
          58666,
          93766,
          55216,
          52385,
          53084,
          31326,
          58556,
          64696,
          75754,
          97670,
          78446,
          69135,
          35597,
          52845,
          44713,
          64259,
          96848,
          77108,
          33619,
          42027,
          98956,
          91590,
          30957,
          37912,
          42217,
          64197,
          39839,
          86167,
          44302,
          99586,
          93970,
          35486,
          50319,
          69506,
          65409,
          76601,
          55574,
          98703,
          87689,
          63365,
          39883,
          81628,
          72043,
          69001,
          37113,
          74360,
          79792,
          48258,
          34471,
          99672,
          78851,
          44046,
          47473,
          49134,
          88384,
          37817,
          65839,
          66024,
          57216,
          47618,
          61327,
          70487,
          76520,
          51860,
          59104,
          94861,
          99361,
          39963,
          30706,
          39629,
          99241,
          45288,
          36830,
          52248,
          30532,
          66677,
          42179,
          81516,
          60560,
          72294,
          89446,
          80763,
          40362,
          56859,
          66066,
          38104,
          46263,
          66121,
          85641,
          54831,
          69001,
          76668,
          65587,
          50096,
          74143,
          56843,
          93351,
          77976,
          60095,
          86012,
          71174,
          42585,
          54532,
          56872,
          60146,
          42438,
          32573,
          87104,
          58453,
          72136,
          85195,
          93571,
          96110,
          38584,
          68549,
          91069,
          86923,
          56124,
          88048,
          37574,
          57209,
          83180,
          84814,
          63416,
          62614,
          80189,
          58015,
          68402,
          42938,
          43063,
          67793,
          60017,
          56633,
          97497,
          80647,
          36566,
          53466,
          74675,
          33757,
          51376,
          30394,
          51522,
          80031,
          59666,
          69170,
          53799,
          79181,
          49292,
          96750,
          39132,
          66661,
          38406,
          63301,
          39619,
          75992,
          68411,
          59859,
          51776,
          69246,
          37525,
          70411,
          88770,
          75826,
          73092,
          43496,
          41009,
          73232,
          90300,
          30194,
          92026,
          41972,
          64574,
          83462,
          56022,
          96098,
          85546,
          84317,
          43922,
          94820,
          98646,
          41035,
          50803,
          81927,
          96499,
          80233,
          76158,
          97965,
          88567,
          79354,
          70579,
          80344,
          48580,
          31035,
          60002,
          48501,
          30335,
          74975,
          56303,
          67747,
          58783,
          30099,
          50875,
          94871,
          54704,
          89084,
          50516,
          62501,
          95026,
          87852,
          82478,
          48533,
          83804,
          49259,
          81226,
          76223,
          88625,
          85150,
          75319,
          43997,
          48786,
          34457,
          68525,
          55540,
          81006,
          59352,
          42453,
          37246,
          98348,
          49977,
          93085,
          55399,
          43525,
          31816,
          64524,
          99501,
          52063,
          45784,
          92350,
          87016,
          56757,
          95104,
          52164,
          68280,
          35209,
          75131,
          74810,
          65682,
          65730,
          48299,
          80805,
          48126,
          45592,
          60283,
          80586,
          70805,
          63040,
          55096,
          88532,
          49746,
          32574,
          84212,
          86674,
          61487,
          30359,
          42829,
          85323,
          39711,
          57770,
          94407,
          67074,
          62861,
          62320,
          70299,
          72993,
          31774,
          58386,
          88638,
          55651,
          74369,
          69749,
          76417,
          96779,
          49699,
          57893,
          37520,
          92364,
          77127,
          60355,
          30262,
          88814,
          77259,
          87516,
          69919,
          99423,
          81306,
          57712,
          86404,
          69350,
          86611,
          94636,
          63884,
          84994,
          55417,
          66339,
          90845,
          44648,
          95332,
          83449,
          45156,
          32741,
          57973,
          85023,
          87163,
          66440,
          33042,
          67199,
          65798,
          33648,
          51468,
          64526,
          90433,
          46499,
          95529,
          53608,
          68459,
          35430,
          57886,
          30382,
          34234,
          57795,
          82983,
          39382,
          47576,
          48379,
          67033,
          86929,
          90878,
          79455,
          95330,
          92100,
          34442,
          78569,
          81636,
          76669,
          59042,
          39553,
          53320,
          33077,
          59110,
          32770,
          93794,
          96585,
          85864,
          68139,
          39036,
          32327,
          65638,
          78726,
          79044,
          47301,
          31507,
          71403,
          30181,
          64143,
          74383,
          73220
         ],
         "y0": " ",
         "yaxis": "y"
        }
       ],
       "layout": {
        "autosize": true,
        "boxmode": "group",
        "legend": {
         "tracegroupgap": 0
        },
        "template": {
         "data": {
          "bar": [
           {
            "error_x": {
             "color": "#2a3f5f"
            },
            "error_y": {
             "color": "#2a3f5f"
            },
            "marker": {
             "line": {
              "color": "#E5ECF6",
              "width": 0.5
             },
             "pattern": {
              "fillmode": "overlay",
              "size": 10,
              "solidity": 0.2
             }
            },
            "type": "bar"
           }
          ],
          "barpolar": [
           {
            "marker": {
             "line": {
              "color": "#E5ECF6",
              "width": 0.5
             },
             "pattern": {
              "fillmode": "overlay",
              "size": 10,
              "solidity": 0.2
             }
            },
            "type": "barpolar"
           }
          ],
          "carpet": [
           {
            "aaxis": {
             "endlinecolor": "#2a3f5f",
             "gridcolor": "white",
             "linecolor": "white",
             "minorgridcolor": "white",
             "startlinecolor": "#2a3f5f"
            },
            "baxis": {
             "endlinecolor": "#2a3f5f",
             "gridcolor": "white",
             "linecolor": "white",
             "minorgridcolor": "white",
             "startlinecolor": "#2a3f5f"
            },
            "type": "carpet"
           }
          ],
          "choropleth": [
           {
            "colorbar": {
             "outlinewidth": 0,
             "ticks": ""
            },
            "type": "choropleth"
           }
          ],
          "contour": [
           {
            "colorbar": {
             "outlinewidth": 0,
             "ticks": ""
            },
            "colorscale": [
             [
              0,
              "#0d0887"
             ],
             [
              0.1111111111111111,
              "#46039f"
             ],
             [
              0.2222222222222222,
              "#7201a8"
             ],
             [
              0.3333333333333333,
              "#9c179e"
             ],
             [
              0.4444444444444444,
              "#bd3786"
             ],
             [
              0.5555555555555556,
              "#d8576b"
             ],
             [
              0.6666666666666666,
              "#ed7953"
             ],
             [
              0.7777777777777778,
              "#fb9f3a"
             ],
             [
              0.8888888888888888,
              "#fdca26"
             ],
             [
              1,
              "#f0f921"
             ]
            ],
            "type": "contour"
           }
          ],
          "contourcarpet": [
           {
            "colorbar": {
             "outlinewidth": 0,
             "ticks": ""
            },
            "type": "contourcarpet"
           }
          ],
          "heatmap": [
           {
            "colorbar": {
             "outlinewidth": 0,
             "ticks": ""
            },
            "colorscale": [
             [
              0,
              "#0d0887"
             ],
             [
              0.1111111111111111,
              "#46039f"
             ],
             [
              0.2222222222222222,
              "#7201a8"
             ],
             [
              0.3333333333333333,
              "#9c179e"
             ],
             [
              0.4444444444444444,
              "#bd3786"
             ],
             [
              0.5555555555555556,
              "#d8576b"
             ],
             [
              0.6666666666666666,
              "#ed7953"
             ],
             [
              0.7777777777777778,
              "#fb9f3a"
             ],
             [
              0.8888888888888888,
              "#fdca26"
             ],
             [
              1,
              "#f0f921"
             ]
            ],
            "type": "heatmap"
           }
          ],
          "heatmapgl": [
           {
            "colorbar": {
             "outlinewidth": 0,
             "ticks": ""
            },
            "colorscale": [
             [
              0,
              "#0d0887"
             ],
             [
              0.1111111111111111,
              "#46039f"
             ],
             [
              0.2222222222222222,
              "#7201a8"
             ],
             [
              0.3333333333333333,
              "#9c179e"
             ],
             [
              0.4444444444444444,
              "#bd3786"
             ],
             [
              0.5555555555555556,
              "#d8576b"
             ],
             [
              0.6666666666666666,
              "#ed7953"
             ],
             [
              0.7777777777777778,
              "#fb9f3a"
             ],
             [
              0.8888888888888888,
              "#fdca26"
             ],
             [
              1,
              "#f0f921"
             ]
            ],
            "type": "heatmapgl"
           }
          ],
          "histogram": [
           {
            "marker": {
             "pattern": {
              "fillmode": "overlay",
              "size": 10,
              "solidity": 0.2
             }
            },
            "type": "histogram"
           }
          ],
          "histogram2d": [
           {
            "colorbar": {
             "outlinewidth": 0,
             "ticks": ""
            },
            "colorscale": [
             [
              0,
              "#0d0887"
             ],
             [
              0.1111111111111111,
              "#46039f"
             ],
             [
              0.2222222222222222,
              "#7201a8"
             ],
             [
              0.3333333333333333,
              "#9c179e"
             ],
             [
              0.4444444444444444,
              "#bd3786"
             ],
             [
              0.5555555555555556,
              "#d8576b"
             ],
             [
              0.6666666666666666,
              "#ed7953"
             ],
             [
              0.7777777777777778,
              "#fb9f3a"
             ],
             [
              0.8888888888888888,
              "#fdca26"
             ],
             [
              1,
              "#f0f921"
             ]
            ],
            "type": "histogram2d"
           }
          ],
          "histogram2dcontour": [
           {
            "colorbar": {
             "outlinewidth": 0,
             "ticks": ""
            },
            "colorscale": [
             [
              0,
              "#0d0887"
             ],
             [
              0.1111111111111111,
              "#46039f"
             ],
             [
              0.2222222222222222,
              "#7201a8"
             ],
             [
              0.3333333333333333,
              "#9c179e"
             ],
             [
              0.4444444444444444,
              "#bd3786"
             ],
             [
              0.5555555555555556,
              "#d8576b"
             ],
             [
              0.6666666666666666,
              "#ed7953"
             ],
             [
              0.7777777777777778,
              "#fb9f3a"
             ],
             [
              0.8888888888888888,
              "#fdca26"
             ],
             [
              1,
              "#f0f921"
             ]
            ],
            "type": "histogram2dcontour"
           }
          ],
          "mesh3d": [
           {
            "colorbar": {
             "outlinewidth": 0,
             "ticks": ""
            },
            "type": "mesh3d"
           }
          ],
          "parcoords": [
           {
            "line": {
             "colorbar": {
              "outlinewidth": 0,
              "ticks": ""
             }
            },
            "type": "parcoords"
           }
          ],
          "pie": [
           {
            "automargin": true,
            "type": "pie"
           }
          ],
          "scatter": [
           {
            "fillpattern": {
             "fillmode": "overlay",
             "size": 10,
             "solidity": 0.2
            },
            "type": "scatter"
           }
          ],
          "scatter3d": [
           {
            "line": {
             "colorbar": {
              "outlinewidth": 0,
              "ticks": ""
             }
            },
            "marker": {
             "colorbar": {
              "outlinewidth": 0,
              "ticks": ""
             }
            },
            "type": "scatter3d"
           }
          ],
          "scattercarpet": [
           {
            "marker": {
             "colorbar": {
              "outlinewidth": 0,
              "ticks": ""
             }
            },
            "type": "scattercarpet"
           }
          ],
          "scattergeo": [
           {
            "marker": {
             "colorbar": {
              "outlinewidth": 0,
              "ticks": ""
             }
            },
            "type": "scattergeo"
           }
          ],
          "scattergl": [
           {
            "marker": {
             "colorbar": {
              "outlinewidth": 0,
              "ticks": ""
             }
            },
            "type": "scattergl"
           }
          ],
          "scattermapbox": [
           {
            "marker": {
             "colorbar": {
              "outlinewidth": 0,
              "ticks": ""
             }
            },
            "type": "scattermapbox"
           }
          ],
          "scatterpolar": [
           {
            "marker": {
             "colorbar": {
              "outlinewidth": 0,
              "ticks": ""
             }
            },
            "type": "scatterpolar"
           }
          ],
          "scatterpolargl": [
           {
            "marker": {
             "colorbar": {
              "outlinewidth": 0,
              "ticks": ""
             }
            },
            "type": "scatterpolargl"
           }
          ],
          "scatterternary": [
           {
            "marker": {
             "colorbar": {
              "outlinewidth": 0,
              "ticks": ""
             }
            },
            "type": "scatterternary"
           }
          ],
          "surface": [
           {
            "colorbar": {
             "outlinewidth": 0,
             "ticks": ""
            },
            "colorscale": [
             [
              0,
              "#0d0887"
             ],
             [
              0.1111111111111111,
              "#46039f"
             ],
             [
              0.2222222222222222,
              "#7201a8"
             ],
             [
              0.3333333333333333,
              "#9c179e"
             ],
             [
              0.4444444444444444,
              "#bd3786"
             ],
             [
              0.5555555555555556,
              "#d8576b"
             ],
             [
              0.6666666666666666,
              "#ed7953"
             ],
             [
              0.7777777777777778,
              "#fb9f3a"
             ],
             [
              0.8888888888888888,
              "#fdca26"
             ],
             [
              1,
              "#f0f921"
             ]
            ],
            "type": "surface"
           }
          ],
          "table": [
           {
            "cells": {
             "fill": {
              "color": "#EBF0F8"
             },
             "line": {
              "color": "white"
             }
            },
            "header": {
             "fill": {
              "color": "#C8D4E3"
             },
             "line": {
              "color": "white"
             }
            },
            "type": "table"
           }
          ]
         },
         "layout": {
          "annotationdefaults": {
           "arrowcolor": "#2a3f5f",
           "arrowhead": 0,
           "arrowwidth": 1
          },
          "autotypenumbers": "strict",
          "coloraxis": {
           "colorbar": {
            "outlinewidth": 0,
            "ticks": ""
           }
          },
          "colorscale": {
           "diverging": [
            [
             0,
             "#8e0152"
            ],
            [
             0.1,
             "#c51b7d"
            ],
            [
             0.2,
             "#de77ae"
            ],
            [
             0.3,
             "#f1b6da"
            ],
            [
             0.4,
             "#fde0ef"
            ],
            [
             0.5,
             "#f7f7f7"
            ],
            [
             0.6,
             "#e6f5d0"
            ],
            [
             0.7,
             "#b8e186"
            ],
            [
             0.8,
             "#7fbc41"
            ],
            [
             0.9,
             "#4d9221"
            ],
            [
             1,
             "#276419"
            ]
           ],
           "sequential": [
            [
             0,
             "#0d0887"
            ],
            [
             0.1111111111111111,
             "#46039f"
            ],
            [
             0.2222222222222222,
             "#7201a8"
            ],
            [
             0.3333333333333333,
             "#9c179e"
            ],
            [
             0.4444444444444444,
             "#bd3786"
            ],
            [
             0.5555555555555556,
             "#d8576b"
            ],
            [
             0.6666666666666666,
             "#ed7953"
            ],
            [
             0.7777777777777778,
             "#fb9f3a"
            ],
            [
             0.8888888888888888,
             "#fdca26"
            ],
            [
             1,
             "#f0f921"
            ]
           ],
           "sequentialminus": [
            [
             0,
             "#0d0887"
            ],
            [
             0.1111111111111111,
             "#46039f"
            ],
            [
             0.2222222222222222,
             "#7201a8"
            ],
            [
             0.3333333333333333,
             "#9c179e"
            ],
            [
             0.4444444444444444,
             "#bd3786"
            ],
            [
             0.5555555555555556,
             "#d8576b"
            ],
            [
             0.6666666666666666,
             "#ed7953"
            ],
            [
             0.7777777777777778,
             "#fb9f3a"
            ],
            [
             0.8888888888888888,
             "#fdca26"
            ],
            [
             1,
             "#f0f921"
            ]
           ]
          },
          "colorway": [
           "#636efa",
           "#EF553B",
           "#00cc96",
           "#ab63fa",
           "#FFA15A",
           "#19d3f3",
           "#FF6692",
           "#B6E880",
           "#FF97FF",
           "#FECB52"
          ],
          "font": {
           "color": "#2a3f5f"
          },
          "geo": {
           "bgcolor": "white",
           "lakecolor": "white",
           "landcolor": "#E5ECF6",
           "showlakes": true,
           "showland": true,
           "subunitcolor": "white"
          },
          "hoverlabel": {
           "align": "left"
          },
          "hovermode": "closest",
          "mapbox": {
           "style": "light"
          },
          "paper_bgcolor": "white",
          "plot_bgcolor": "#E5ECF6",
          "polar": {
           "angularaxis": {
            "gridcolor": "white",
            "linecolor": "white",
            "ticks": ""
           },
           "bgcolor": "#E5ECF6",
           "radialaxis": {
            "gridcolor": "white",
            "linecolor": "white",
            "ticks": ""
           }
          },
          "scene": {
           "xaxis": {
            "backgroundcolor": "#E5ECF6",
            "gridcolor": "white",
            "gridwidth": 2,
            "linecolor": "white",
            "showbackground": true,
            "ticks": "",
            "zerolinecolor": "white"
           },
           "yaxis": {
            "backgroundcolor": "#E5ECF6",
            "gridcolor": "white",
            "gridwidth": 2,
            "linecolor": "white",
            "showbackground": true,
            "ticks": "",
            "zerolinecolor": "white"
           },
           "zaxis": {
            "backgroundcolor": "#E5ECF6",
            "gridcolor": "white",
            "gridwidth": 2,
            "linecolor": "white",
            "showbackground": true,
            "ticks": "",
            "zerolinecolor": "white"
           }
          },
          "shapedefaults": {
           "line": {
            "color": "#2a3f5f"
           }
          },
          "ternary": {
           "aaxis": {
            "gridcolor": "white",
            "linecolor": "white",
            "ticks": ""
           },
           "baxis": {
            "gridcolor": "white",
            "linecolor": "white",
            "ticks": ""
           },
           "bgcolor": "#E5ECF6",
           "caxis": {
            "gridcolor": "white",
            "linecolor": "white",
            "ticks": ""
           }
          },
          "title": {
           "x": 0.05
          },
          "xaxis": {
           "automargin": true,
           "gridcolor": "white",
           "linecolor": "white",
           "ticks": "",
           "title": {
            "standoff": 15
           },
           "zerolinecolor": "white",
           "zerolinewidth": 2
          },
          "yaxis": {
           "automargin": true,
           "gridcolor": "white",
           "linecolor": "white",
           "ticks": "",
           "title": {
            "standoff": 15
           },
           "zerolinecolor": "white",
           "zerolinewidth": 2
          }
         }
        },
        "title": {
         "text": "Average_Monthly_Hours by Job_Title"
        },
        "xaxis": {
         "anchor": "y",
         "autorange": true,
         "domain": [
          0,
          1
         ],
         "range": [
          0.5,
          10.5
         ],
         "title": {
          "text": "Years_at_Company"
         },
         "type": "linear"
        },
        "yaxis": {
         "anchor": "x",
         "autorange": true,
         "domain": [
          0,
          1
         ],
         "range": [
          26216.11111111111,
          103873.88888888889
         ],
         "title": {
          "text": "Salary"
         },
         "type": "linear"
        }
       }
      },
      "image/png": "[encoded data removed]",
      "text/html": [
       "<div>                            <div id=\"16c3b32b-693d-4047-907a-099f286cf5e7\" class=\"plotly-graph-div\" style=\"height:525px; width:100%;\"></div>            <script type=\"text/javascript\">                require([\"plotly\"], function(Plotly) {                    window.PLOTLYENV=window.PLOTLYENV || {};                                    if (document.getElementById(\"16c3b32b-693d-4047-907a-099f286cf5e7\")) {                    Plotly.newPlot(                        \"16c3b32b-693d-4047-907a-099f286cf5e7\",                        [{\"alignmentgroup\":\"True\",\"hovertemplate\":\"Years_at_Company=%{x}<br>Salary=%{y}<extra></extra>\",\"legendgroup\":\"\",\"marker\":{\"color\":\"#8D97FC\"},\"name\":\"\",\"notched\":false,\"offsetgroup\":\"\",\"orientation\":\"v\",\"showlegend\":false,\"x\":[9,10,8,1,10,10,5,8,6,7,5,3,1,7,9,10,5,9,8,5,10,4,9,9,4,9,6,6,8,3,6,10,8,1,6,7,3,5,9,5,10,6,7,7,3,1,7,1,8,5,5,7,3,8,2,6,4,5,9,10,5,8,9,8,6,6,9,8,3,5,6,8,5,7,8,8,6,2,4,6,8,3,5,3,1,1,1,10,8,7,3,6,10,1,6,1,5,5,2,5,4,10,4,7,8,7,2,6,2,2,4,1,3,1,5,10,2,6,6,4,4,10,3,9,7,2,2,5,10,9,7,9,5,9,8,3,5,5,1,6,8,6,5,6,9,10,5,7,1,8,4,3,4,4,7,6,6,2,7,7,9,5,5,10,6,4,8,1,3,6,8,3,8,3,3,6,6,7,6,3,10,10,9,3,4,9,9,9,1,4,7,10,1,8,4,10,9,7,6,9,9,10,5,8,4,3,5,4,8,8,3,4,8,6,1,8,4,2,9,3,6,6,4,8,7,6,5,1,4,1,10,6,9,2,9,5,5,4,5,9,9,2,6,2,5,10,7,6,2,7,7,3,1,8,8,3,7,10,6,2,4,8,4,9,3,4,10,1,3,6,6,8,7,3,3,7,6,4,10,2,3,3,6,9,9,10,2,6,2,2,9,2,4,5,8,3,7,2,5,2,3,8,9,8,3,3,9,8,4,1,10,6,5,3,1,1,4,1,5,2,2,9,2,4,7,4,2,8,9,8,7,3,4,2,2,10,5,1,10,1,6,2,1,7,2,9,10,8,2,9,7,4,2,2,9,10,7,5,10,1,7,1,3,2,2,2,9,7,1,5,2,10,7,8,10,9,5,6,9,10,7,4,7,2,10,1,3,5,5,4,8,7,6,6,6,4,7,1,2,4,7,4,2,2,3,10,2,4,10,1,6,5,9,1,7,10,5,10,1,5,7,7,4,8,7,8,4,5,5,5,2,1,4,8,4,5,9,1,7,3,3,8,8,1,4,5,9,7,9,9,10,1,4,2,4,4,3,10,6,4,6,2,4,9,4,1,2,6,10,10,3,1,8,4,10,6,6,6,8,3,7,7,10,5,6,9,2,1,2,9,7,8,1,1,7,5,5,3,4,5,1,2,8,1,10,6,7,8,3,4,4,10,10,7,1,10,6,4,1,1,8,7,2,7,2,8,7,5,1,7,1,2,1,7,3,4,7,3,8,5,5,2,9,8,7,10,4,6,8,7,8,4,10,1,6,9,2,6,8,6,10,7,8,7,6,7,8,3,5,9,10,5,8,1,6,2,4,8,1,2,2,3,10,10,4,3,2,7,1,8,9,4,8,10,7,9,7,1,4,6,9,4,2,6,3,3,3,6,2,3,7,4,3,8,1,6,7,1,3,9,9,10,3,9,8,2,7,7,8,4,10,7,3,6,2,8,8,4,5,5,3,4,9,2,3,2,6,9,3,9,1,2,5,3,5,7,6,3,8,10,10,10,4,10,10,9,5,7,5,7,10,1,6,4,3,4,10,1,8,5,2,4,5,6,1,5,10,1,2,6,5,6,10,9,4,1,7,4,10,5,7,6,7,7,9,9,10,7,3,7,5,9,10,10,2,1,10,3,4,3,7,1,10,5,9,4,5,5,4,1,9,3,5,4,8,2,1,9,8,1,10,10,1,6,5,8,3,8,8,2,5,3,5,10,10,6,9,6,4,10,1,7,4,5,9,10,3,10,4,7,6,5,7,5,5,6,5,2,3,9,9,10,2,10,5,8,8,6,7,10,2,3,2,3,7,6,6,2,5,7,7,8,6,8,9,9,10,6,10,10,8,8,3,8,5,6,9,10,3,8,7,9,8,2,2,2,7,4,9,10,8,4,10,9,3,9,2,2,5,7,1,7,2,7,10,3,5,1,6,3,8,1,5,10,3,6,5,9,6,5,10,9,4,5,10,6,8,8,3,7,2,7,6,5,6,5,7,1,7,2,10,7,8,9,4,6,7,7,4,8,7,3,1,3,8,6,3,2,5,1,5,8,6,4,9,5,6,7,5,1,2,7,7,8,3,9,3,6,8,1,8,1,7,4,1,8,9,3,4,2,4,1,2,2,3,7,6,5,7,8,5,2,4,10,10,9,7,3,5,5,5,8,8,5,5,6,9,7,9,8,8,4,3,9,8,4,4,8,9,8,6,5,9,7,3,5,10,4,3,9,1,9,1,2,5,10,8,4,1,8,9,2,8,5,2,3,1,3,2,1],\"x0\":\" \",\"xaxis\":\"x\",\"y\":[60132,79947,46958,40662,74307,97212,97865,50113,88747,43283,82510,55665,57951,31886,40548,39979,31340,79639,50307,99568,89409,94005,63445,99093,95910,80913,59231,68979,65901,85496,91627,91703,51252,63757,84288,86371,59546,80887,52658,70977,40055,99265,33670,85764,87567,44786,69612,45124,38871,34599,61224,31506,57428,34834,56938,62841,56230,98061,34647,30269,41737,71087,50921,89560,59060,46658,82313,91589,48184,58575,80456,72928,74105,43038,50000,49824,67588,30821,99801,48520,69674,66952,97606,59532,97663,71807,90011,91398,64897,78600,74424,40798,63948,52415,38085,32082,58364,40742,84407,76806,81919,70060,99321,93226,81389,38495,70941,99476,49523,60676,73359,51013,31553,65356,99328,47802,45532,97181,35521,98429,93166,54477,40012,37543,87607,97217,52961,38532,80112,74736,35031,61668,58508,62378,73980,78603,45278,50064,92394,40991,76164,37833,90927,86897,85229,35793,57650,70990,79792,81499,81233,39563,36755,81470,40127,78348,94455,83240,54977,54598,81682,58653,53838,79759,34808,88563,83237,31256,83418,43951,63891,94226,89030,57604,63395,65494,82445,75352,78972,62533,33221,73460,42799,44626,50467,62104,33232,60624,39672,80067,46544,69385,56338,51112,40223,32762,48449,65708,55484,95558,81643,79587,83416,87098,46780,71794,30773,43764,88219,72592,85608,65583,91789,99859,60286,53324,76479,80791,83385,76642,91402,85225,54559,99113,32849,78975,77459,88083,66740,73275,50184,80830,53625,55262,30935,54878,56322,99851,75106,88135,71466,43102,61580,96349,84618,68773,39162,66915,34112,97161,91779,87771,94728,45405,64406,55075,69509,31850,47534,85996,64345,32954,64213,88666,71088,43095,61200,96615,69501,38068,30859,54641,98610,86372,92828,97244,88353,54636,73863,35833,70714,42371,70764,48165,84159,64584,46116,47944,73713,69641,75176,67394,57381,37001,93742,36843,55467,95571,32747,46185,38604,85832,56461,59075,76410,71557,85613,81026,81995,55051,46767,43261,93469,93274,52963,71482,58220,92876,46434,39049,93674,87053,34512,59522,88569,94735,58062,52300,89623,77841,89157,79253,49834,42699,66868,42015,35610,31053,90843,65174,51874,50329,60973,69286,73505,92988,91629,73737,34192,37243,78476,72188,71440,72062,77656,78975,46454,82219,49610,41420,50645,44412,50656,45102,96293,34447,70513,63571,44560,56613,38562,49301,48784,31815,46467,37004,49158,81385,75317,69252,60839,33966,72481,58506,84131,57200,69582,86091,72604,38056,89766,83069,59173,62295,32272,40220,65922,45758,37334,57260,83920,98845,34669,81252,72256,77244,58627,35798,51421,93822,73509,98405,45758,47841,35265,99071,55071,31472,52874,91705,97650,54467,63124,76234,33931,51668,80690,66229,64140,50970,60858,48447,34152,32182,83201,64659,47406,39887,52122,96167,79419,34983,41908,68137,52386,60907,67919,90686,69158,38395,43501,38228,56690,80428,35568,99206,63229,61098,63277,47899,32252,83793,45710,93376,62429,46051,98551,98112,70785,83328,44251,42122,32476,37819,93647,84642,81179,60684,78586,36342,87748,52281,31475,50116,60563,63836,70312,87579,35273,53055,63425,91437,67147,85742,68187,90525,81642,42539,97250,33311,74148,38735,43794,73721,68051,87804,83172,69512,37456,66268,66239,44727,48599,61890,85073,34633,99566,31347,44704,99991,82078,94130,72752,99584,34172,66406,66024,41439,91504,94294,89725,31435,56769,93028,43791,48251,77213,94306,93791,51349,83381,31015,64407,42945,75542,67058,53211,35667,54380,99002,53633,96208,68372,75599,54308,65562,62728,85262,68662,59461,90263,57042,38343,94611,67607,48220,46446,58523,42706,38896,92936,46249,55141,89082,92977,35813,85800,94151,97101,64691,90009,45968,32193,96568,82011,80787,47600,35529,38691,92597,51575,60435,78199,82555,71559,55788,87535,56368,67056,35721,64692,35293,51316,75657,35963,72722,37800,32960,67201,97170,82856,65864,38981,87741,81235,75531,46324,48196,82067,50262,76960,90788,55180,68415,37796,37291,52160,86198,56794,48121,40747,75386,53097,91913,58666,93766,55216,52385,53084,31326,58556,64696,75754,97670,78446,69135,35597,52845,44713,64259,96848,77108,33619,42027,98956,91590,30957,37912,42217,64197,39839,86167,44302,99586,93970,35486,50319,69506,65409,76601,55574,98703,87689,63365,39883,81628,72043,69001,37113,74360,79792,48258,34471,99672,78851,44046,47473,49134,88384,37817,65839,66024,57216,47618,61327,70487,76520,51860,59104,94861,99361,39963,30706,39629,99241,45288,36830,52248,30532,66677,42179,81516,60560,72294,89446,80763,40362,56859,66066,38104,46263,66121,85641,54831,69001,76668,65587,50096,74143,56843,93351,77976,60095,86012,71174,42585,54532,56872,60146,42438,32573,87104,58453,72136,85195,93571,96110,38584,68549,91069,86923,56124,88048,37574,57209,83180,84814,63416,62614,80189,58015,68402,42938,43063,67793,60017,56633,97497,80647,36566,53466,74675,33757,51376,30394,51522,80031,59666,69170,53799,79181,49292,96750,39132,66661,38406,63301,39619,75992,68411,59859,51776,69246,37525,70411,88770,75826,73092,43496,41009,73232,90300,30194,92026,41972,64574,83462,56022,96098,85546,84317,43922,94820,98646,41035,50803,81927,96499,80233,76158,97965,88567,79354,70579,80344,48580,31035,60002,48501,30335,74975,56303,67747,58783,30099,50875,94871,54704,89084,50516,62501,95026,87852,82478,48533,83804,49259,81226,76223,88625,85150,75319,43997,48786,34457,68525,55540,81006,59352,42453,37246,98348,49977,93085,55399,43525,31816,64524,99501,52063,45784,92350,87016,56757,95104,52164,68280,35209,75131,74810,65682,65730,48299,80805,48126,45592,60283,80586,70805,63040,55096,88532,49746,32574,84212,86674,61487,30359,42829,85323,39711,57770,94407,67074,62861,62320,70299,72993,31774,58386,88638,55651,74369,69749,76417,96779,49699,57893,37520,92364,77127,60355,30262,88814,77259,87516,69919,99423,81306,57712,86404,69350,86611,94636,63884,84994,55417,66339,90845,44648,95332,83449,45156,32741,57973,85023,87163,66440,33042,67199,65798,33648,51468,64526,90433,46499,95529,53608,68459,35430,57886,30382,34234,57795,82983,39382,47576,48379,67033,86929,90878,79455,95330,92100,34442,78569,81636,76669,59042,39553,53320,33077,59110,32770,93794,96585,85864,68139,39036,32327,65638,78726,79044,47301,31507,71403,30181,64143,74383,73220],\"y0\":\" \",\"yaxis\":\"y\",\"type\":\"box\"}],                        {\"template\":{\"data\":{\"histogram2dcontour\":[{\"type\":\"histogram2dcontour\",\"colorbar\":{\"outlinewidth\":0,\"ticks\":\"\"},\"colorscale\":[[0.0,\"#0d0887\"],[0.1111111111111111,\"#46039f\"],[0.2222222222222222,\"#7201a8\"],[0.3333333333333333,\"#9c179e\"],[0.4444444444444444,\"#bd3786\"],[0.5555555555555556,\"#d8576b\"],[0.6666666666666666,\"#ed7953\"],[0.7777777777777778,\"#fb9f3a\"],[0.8888888888888888,\"#fdca26\"],[1.0,\"#f0f921\"]]}],\"choropleth\":[{\"type\":\"choropleth\",\"colorbar\":{\"outlinewidth\":0,\"ticks\":\"\"}}],\"histogram2d\":[{\"type\":\"histogram2d\",\"colorbar\":{\"outlinewidth\":0,\"ticks\":\"\"},\"colorscale\":[[0.0,\"#0d0887\"],[0.1111111111111111,\"#46039f\"],[0.2222222222222222,\"#7201a8\"],[0.3333333333333333,\"#9c179e\"],[0.4444444444444444,\"#bd3786\"],[0.5555555555555556,\"#d8576b\"],[0.6666666666666666,\"#ed7953\"],[0.7777777777777778,\"#fb9f3a\"],[0.8888888888888888,\"#fdca26\"],[1.0,\"#f0f921\"]]}],\"heatmap\":[{\"type\":\"heatmap\",\"colorbar\":{\"outlinewidth\":0,\"ticks\":\"\"},\"colorscale\":[[0.0,\"#0d0887\"],[0.1111111111111111,\"#46039f\"],[0.2222222222222222,\"#7201a8\"],[0.3333333333333333,\"#9c179e\"],[0.4444444444444444,\"#bd3786\"],[0.5555555555555556,\"#d8576b\"],[0.6666666666666666,\"#ed7953\"],[0.7777777777777778,\"#fb9f3a\"],[0.8888888888888888,\"#fdca26\"],[1.0,\"#f0f921\"]]}],\"heatmapgl\":[{\"type\":\"heatmapgl\",\"colorbar\":{\"outlinewidth\":0,\"ticks\":\"\"},\"colorscale\":[[0.0,\"#0d0887\"],[0.1111111111111111,\"#46039f\"],[0.2222222222222222,\"#7201a8\"],[0.3333333333333333,\"#9c179e\"],[0.4444444444444444,\"#bd3786\"],[0.5555555555555556,\"#d8576b\"],[0.6666666666666666,\"#ed7953\"],[0.7777777777777778,\"#fb9f3a\"],[0.8888888888888888,\"#fdca26\"],[1.0,\"#f0f921\"]]}],\"contourcarpet\":[{\"type\":\"contourcarpet\",\"colorbar\":{\"outlinewidth\":0,\"ticks\":\"\"}}],\"contour\":[{\"type\":\"contour\",\"colorbar\":{\"outlinewidth\":0,\"ticks\":\"\"},\"colorscale\":[[0.0,\"#0d0887\"],[0.1111111111111111,\"#46039f\"],[0.2222222222222222,\"#7201a8\"],[0.3333333333333333,\"#9c179e\"],[0.4444444444444444,\"#bd3786\"],[0.5555555555555556,\"#d8576b\"],[0.6666666666666666,\"#ed7953\"],[0.7777777777777778,\"#fb9f3a\"],[0.8888888888888888,\"#fdca26\"],[1.0,\"#f0f921\"]]}],\"surface\":[{\"type\":\"surface\",\"colorbar\":{\"outlinewidth\":0,\"ticks\":\"\"},\"colorscale\":[[0.0,\"#0d0887\"],[0.1111111111111111,\"#46039f\"],[0.2222222222222222,\"#7201a8\"],[0.3333333333333333,\"#9c179e\"],[0.4444444444444444,\"#bd3786\"],[0.5555555555555556,\"#d8576b\"],[0.6666666666666666,\"#ed7953\"],[0.7777777777777778,\"#fb9f3a\"],[0.8888888888888888,\"#fdca26\"],[1.0,\"#f0f921\"]]}],\"mesh3d\":[{\"type\":\"mesh3d\",\"colorbar\":{\"outlinewidth\":0,\"ticks\":\"\"}}],\"scatter\":[{\"fillpattern\":{\"fillmode\":\"overlay\",\"size\":10,\"solidity\":0.2},\"type\":\"scatter\"}],\"parcoords\":[{\"type\":\"parcoords\",\"line\":{\"colorbar\":{\"outlinewidth\":0,\"ticks\":\"\"}}}],\"scatterpolargl\":[{\"type\":\"scatterpolargl\",\"marker\":{\"colorbar\":{\"outlinewidth\":0,\"ticks\":\"\"}}}],\"bar\":[{\"error_x\":{\"color\":\"#2a3f5f\"},\"error_y\":{\"color\":\"#2a3f5f\"},\"marker\":{\"line\":{\"color\":\"#E5ECF6\",\"width\":0.5},\"pattern\":{\"fillmode\":\"overlay\",\"size\":10,\"solidity\":0.2}},\"type\":\"bar\"}],\"scattergeo\":[{\"type\":\"scattergeo\",\"marker\":{\"colorbar\":{\"outlinewidth\":0,\"ticks\":\"\"}}}],\"scatterpolar\":[{\"type\":\"scatterpolar\",\"marker\":{\"colorbar\":{\"outlinewidth\":0,\"ticks\":\"\"}}}],\"histogram\":[{\"marker\":{\"pattern\":{\"fillmode\":\"overlay\",\"size\":10,\"solidity\":0.2}},\"type\":\"histogram\"}],\"scattergl\":[{\"type\":\"scattergl\",\"marker\":{\"colorbar\":{\"outlinewidth\":0,\"ticks\":\"\"}}}],\"scatter3d\":[{\"type\":\"scatter3d\",\"line\":{\"colorbar\":{\"outlinewidth\":0,\"ticks\":\"\"}},\"marker\":{\"colorbar\":{\"outlinewidth\":0,\"ticks\":\"\"}}}],\"scattermapbox\":[{\"type\":\"scattermapbox\",\"marker\":{\"colorbar\":{\"outlinewidth\":0,\"ticks\":\"\"}}}],\"scatterternary\":[{\"type\":\"scatterternary\",\"marker\":{\"colorbar\":{\"outlinewidth\":0,\"ticks\":\"\"}}}],\"scattercarpet\":[{\"type\":\"scattercarpet\",\"marker\":{\"colorbar\":{\"outlinewidth\":0,\"ticks\":\"\"}}}],\"carpet\":[{\"aaxis\":{\"endlinecolor\":\"#2a3f5f\",\"gridcolor\":\"white\",\"linecolor\":\"white\",\"minorgridcolor\":\"white\",\"startlinecolor\":\"#2a3f5f\"},\"baxis\":{\"endlinecolor\":\"#2a3f5f\",\"gridcolor\":\"white\",\"linecolor\":\"white\",\"minorgridcolor\":\"white\",\"startlinecolor\":\"#2a3f5f\"},\"type\":\"carpet\"}],\"table\":[{\"cells\":{\"fill\":{\"color\":\"#EBF0F8\"},\"line\":{\"color\":\"white\"}},\"header\":{\"fill\":{\"color\":\"#C8D4E3\"},\"line\":{\"color\":\"white\"}},\"type\":\"table\"}],\"barpolar\":[{\"marker\":{\"line\":{\"color\":\"#E5ECF6\",\"width\":0.5},\"pattern\":{\"fillmode\":\"overlay\",\"size\":10,\"solidity\":0.2}},\"type\":\"barpolar\"}],\"pie\":[{\"automargin\":true,\"type\":\"pie\"}]},\"layout\":{\"autotypenumbers\":\"strict\",\"colorway\":[\"#636efa\",\"#EF553B\",\"#00cc96\",\"#ab63fa\",\"#FFA15A\",\"#19d3f3\",\"#FF6692\",\"#B6E880\",\"#FF97FF\",\"#FECB52\"],\"font\":{\"color\":\"#2a3f5f\"},\"hovermode\":\"closest\",\"hoverlabel\":{\"align\":\"left\"},\"paper_bgcolor\":\"white\",\"plot_bgcolor\":\"#E5ECF6\",\"polar\":{\"bgcolor\":\"#E5ECF6\",\"angularaxis\":{\"gridcolor\":\"white\",\"linecolor\":\"white\",\"ticks\":\"\"},\"radialaxis\":{\"gridcolor\":\"white\",\"linecolor\":\"white\",\"ticks\":\"\"}},\"ternary\":{\"bgcolor\":\"#E5ECF6\",\"aaxis\":{\"gridcolor\":\"white\",\"linecolor\":\"white\",\"ticks\":\"\"},\"baxis\":{\"gridcolor\":\"white\",\"linecolor\":\"white\",\"ticks\":\"\"},\"caxis\":{\"gridcolor\":\"white\",\"linecolor\":\"white\",\"ticks\":\"\"}},\"coloraxis\":{\"colorbar\":{\"outlinewidth\":0,\"ticks\":\"\"}},\"colorscale\":{\"sequential\":[[0.0,\"#0d0887\"],[0.1111111111111111,\"#46039f\"],[0.2222222222222222,\"#7201a8\"],[0.3333333333333333,\"#9c179e\"],[0.4444444444444444,\"#bd3786\"],[0.5555555555555556,\"#d8576b\"],[0.6666666666666666,\"#ed7953\"],[0.7777777777777778,\"#fb9f3a\"],[0.8888888888888888,\"#fdca26\"],[1.0,\"#f0f921\"]],\"sequentialminus\":[[0.0,\"#0d0887\"],[0.1111111111111111,\"#46039f\"],[0.2222222222222222,\"#7201a8\"],[0.3333333333333333,\"#9c179e\"],[0.4444444444444444,\"#bd3786\"],[0.5555555555555556,\"#d8576b\"],[0.6666666666666666,\"#ed7953\"],[0.7777777777777778,\"#fb9f3a\"],[0.8888888888888888,\"#fdca26\"],[1.0,\"#f0f921\"]],\"diverging\":[[0,\"#8e0152\"],[0.1,\"#c51b7d\"],[0.2,\"#de77ae\"],[0.3,\"#f1b6da\"],[0.4,\"#fde0ef\"],[0.5,\"#f7f7f7\"],[0.6,\"#e6f5d0\"],[0.7,\"#b8e186\"],[0.8,\"#7fbc41\"],[0.9,\"#4d9221\"],[1,\"#276419\"]]},\"xaxis\":{\"gridcolor\":\"white\",\"linecolor\":\"white\",\"ticks\":\"\",\"title\":{\"standoff\":15},\"zerolinecolor\":\"white\",\"automargin\":true,\"zerolinewidth\":2},\"yaxis\":{\"gridcolor\":\"white\",\"linecolor\":\"white\",\"ticks\":\"\",\"title\":{\"standoff\":15},\"zerolinecolor\":\"white\",\"automargin\":true,\"zerolinewidth\":2},\"scene\":{\"xaxis\":{\"backgroundcolor\":\"#E5ECF6\",\"gridcolor\":\"white\",\"linecolor\":\"white\",\"showbackground\":true,\"ticks\":\"\",\"zerolinecolor\":\"white\",\"gridwidth\":2},\"yaxis\":{\"backgroundcolor\":\"#E5ECF6\",\"gridcolor\":\"white\",\"linecolor\":\"white\",\"showbackground\":true,\"ticks\":\"\",\"zerolinecolor\":\"white\",\"gridwidth\":2},\"zaxis\":{\"backgroundcolor\":\"#E5ECF6\",\"gridcolor\":\"white\",\"linecolor\":\"white\",\"showbackground\":true,\"ticks\":\"\",\"zerolinecolor\":\"white\",\"gridwidth\":2}},\"shapedefaults\":{\"line\":{\"color\":\"#2a3f5f\"}},\"annotationdefaults\":{\"arrowcolor\":\"#2a3f5f\",\"arrowhead\":0,\"arrowwidth\":1},\"geo\":{\"bgcolor\":\"white\",\"landcolor\":\"#E5ECF6\",\"subunitcolor\":\"white\",\"showland\":true,\"showlakes\":true,\"lakecolor\":\"white\"},\"title\":{\"x\":0.05},\"mapbox\":{\"style\":\"light\"}}},\"xaxis\":{\"anchor\":\"y\",\"domain\":[0.0,1.0],\"title\":{\"text\":\"Years_at_Company\"}},\"yaxis\":{\"anchor\":\"x\",\"domain\":[0.0,1.0],\"title\":{\"text\":\"Salary\"}},\"legend\":{\"tracegroupgap\":0},\"title\":{\"text\":\"Average_Monthly_Hours by Job_Title\"},\"boxmode\":\"group\"},                        {\"responsive\": true}                    ).then(function(){\n",
       "                            \n",
       "var gd = document.getElementById('16c3b32b-693d-4047-907a-099f286cf5e7');\n",
       "var x = new MutationObserver(function (mutations, observer) {{\n",
       "        var display = window.getComputedStyle(gd).display;\n",
       "        if (!display || display === 'none') {{\n",
       "            console.log([gd, 'removed!']);\n",
       "            Plotly.purge(gd);\n",
       "            observer.disconnect();\n",
       "        }}\n",
       "}});\n",
       "\n",
       "// Listen for the removal of the full notebook cells\n",
       "var notebookContainer = gd.closest('#notebook-container');\n",
       "if (notebookContainer) {{\n",
       "    x.observe(notebookContainer, {childList: true});\n",
       "}}\n",
       "\n",
       "// Listen for the clearing of the current output cell\n",
       "var outputEl = gd.closest('.output');\n",
       "if (outputEl) {{\n",
       "    x.observe(outputEl, {childList: true});\n",
       "}}\n",
       "\n",
       "                        })                };                });            </script>        </div>"
      ]
     },
     "metadata": {},
     "output_type": "display_data"
    }
   ],
   "source": [
    "fig6=monthly_hour_job=px.box(emp_attrition, x='Years_at_Company', y='Salary',title='Average_Monthly_Hours by Job_Title')\n",
    "fig6.update_traces(marker_color='#8D97FC')\n",
    "fig6.show()"
   ]
  },
  {
   "cell_type": "markdown",
   "id": "e2f580da-a22c-469d-ba57-b8dde13dd2ab",
   "metadata": {},
   "source": [
    "Not too much difference in salary all have approx similar max one is 98 and 99k whereas min is 30 or 31k. Matrix corr which we got bove i.e. also 0.03"
   ]
  },
  {
   "cell_type": "code",
   "execution_count": null,
   "id": "7202b3ff-3753-452f-8519-f0714e59a246",
   "metadata": {},
   "outputs": [],
   "source": []
  }
 ],
 "metadata": {
  "kernelspec": {
   "display_name": "Python 3 (ipykernel)",
   "language": "python",
   "name": "python3"
  },
  "language_info": {
   "codemirror_mode": {
    "name": "ipython",
    "version": 3
   },
   "file_extension": ".py",
   "mimetype": "text/x-python",
   "name": "python",
   "nbconvert_exporter": "python",
   "pygments_lexer": "ipython3",
   "version": "3.11.7"
  }
 },
 "nbformat": 4,
 "nbformat_minor": 5
}
